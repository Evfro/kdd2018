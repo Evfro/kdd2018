{
 "cells": [
  {
   "cell_type": "code",
   "execution_count": 1,
   "metadata": {
    "ExecuteTime": {
     "end_time": "2017-09-04T12:54:49.420372Z",
     "start_time": "2017-09-04T12:54:49.384075Z"
    },
    "code_folding": []
   },
   "outputs": [],
   "source": [
    "#imports\n",
    "from __future__ import division\n",
    "from contextlib import contextmanager\n",
    "from collections import namedtuple, defaultdict\n",
    "\n",
    "import pandas as pd\n",
    "import numpy as np\n",
    "import scipy as sp\n",
    "\n",
    "from polara.recommender.models import RecommenderModel, SVDModel, PopularityModel, RandomModel\n",
    "from polara.recommender.data import RecommenderData\n",
    "from polara.tools.printing import suppress_stdout\n",
    "from polara.lib.similarity import combine_similarity_data\n",
    "from evaluation import evaluate_hits\n",
    "from tools import get_ml_data\n",
    "\n",
    "from models_sparse import HybridSVD, FeatureSimilarityMixin\n",
    "\n",
    "from tqdm import tqdm_notebook\n",
    "\n",
    "%matplotlib inline\n",
    "%config InlineBackend.figure_format = 'retina'"
   ]
  },
  {
   "cell_type": "code",
   "execution_count": 2,
   "metadata": {
    "ExecuteTime": {
     "end_time": "2017-09-04T12:54:17.381069Z",
     "start_time": "2017-09-04T12:54:17.374795Z"
    }
   },
   "outputs": [],
   "source": [
    "class SimilarityDataModel(FeatureSimilarityMixin, RecommenderData): pass"
   ]
  },
  {
   "cell_type": "code",
   "execution_count": 3,
   "metadata": {
    "ExecuteTime": {
     "end_time": "2017-09-04T12:54:19.613111Z",
     "start_time": "2017-09-04T12:54:19.595016Z"
    },
    "code_folding": []
   },
   "outputs": [],
   "source": [
    "class ContentBased(RecommenderModel):\n",
    "    def __init__(self, *args, **kwargs):\n",
    "        super(ContentBased, self).__init__(*args, **kwargs)\n",
    "        self.method = 'CB'\n",
    "\n",
    "    def build(self, *args, **kwargs):\n",
    "        # use copy to prevent contaminating original data\n",
    "        self.item_similarity_matrix = self.data.item_similarity.copy()\n",
    "        self.item_similarity_matrix.setdiag(0) # exclude self-links\n",
    "        self.item_similarity_matrix.eliminate_zeros()\n",
    "        \n",
    "    def slice_recommendations(self, test_data, shape, start, stop, test_users=None):\n",
    "        test_matrix, slice_data = self.get_test_matrix(test_data, shape, (start, stop))\n",
    "        # test matrix is in CSR format\n",
    "        scores = self.item_similarity_matrix.dot(test_matrix.T).T\n",
    "        return scores, slice_data"
   ]
  },
  {
   "cell_type": "code",
   "execution_count": 4,
   "metadata": {
    "ExecuteTime": {
     "end_time": "2017-09-04T12:54:55.232102Z",
     "start_time": "2017-09-04T12:54:54.111600Z"
    }
   },
   "outputs": [],
   "source": [
    "file_path = 'datasets/ml-1m.zip'\n",
    "meta_path = 'datasets/meta_info_ml1m.csv'\n",
    "id_fixes_path = 'datasets/ml1m_sub.csv'\n",
    "\n",
    "data, genres, meta_info = get_ml_data(file_path, meta_path, id_fixes_path=id_fixes_path)"
   ]
  },
  {
   "cell_type": "code",
   "execution_count": 5,
   "metadata": {
    "ExecuteTime": {
     "end_time": "2017-09-04T12:55:09.496599Z",
     "start_time": "2017-09-04T12:55:09.450002Z"
    }
   },
   "outputs": [],
   "source": [
    "ml_data = data.query('rating>=4').assign(rating=1)"
   ]
  },
  {
   "cell_type": "code",
   "execution_count": 6,
   "metadata": {},
   "outputs": [
    {
     "data": {
      "text/plain": [
       "6038"
      ]
     },
     "execution_count": 6,
     "metadata": {},
     "output_type": "execute_result"
    }
   ],
   "source": [
    "ml_data.userid.nunique()"
   ]
  },
  {
   "cell_type": "code",
   "execution_count": 7,
   "metadata": {},
   "outputs": [
    {
     "data": {
      "text/plain": [
       "3532"
      ]
     },
     "execution_count": 7,
     "metadata": {},
     "output_type": "execute_result"
    }
   ],
   "source": [
    "ml_data.movieid.nunique()"
   ]
  },
  {
   "cell_type": "code",
   "execution_count": 8,
   "metadata": {},
   "outputs": [
    {
     "data": {
      "text/plain": [
       "2.697524961765369"
      ]
     },
     "execution_count": 8,
     "metadata": {},
     "output_type": "execute_result"
    }
   ],
   "source": [
    "100 * ml_data.shape[0] / (ml_data.userid.nunique()*ml_data.movieid.nunique())"
   ]
  },
  {
   "cell_type": "code",
   "execution_count": null,
   "metadata": {},
   "outputs": [],
   "source": []
  },
  {
   "cell_type": "code",
   "execution_count": 6,
   "metadata": {
    "ExecuteTime": {
     "end_time": "2017-09-04T12:55:56.949223Z",
     "start_time": "2017-09-04T12:55:54.955262Z"
    }
   },
   "outputs": [],
   "source": [
    "jw = 'jaccard-weighted'\n",
    "jd = 'jaccard'\n",
    "cs = 'cosine'\n",
    "tc = 'tfidf-cosine'\n",
    "\n",
    "sim_type = {'cast':jw}\n",
    "item_similarity = combine_similarity_data(meta_info[sim_type.keys()], similarity_type=sim_type, weights=None)"
   ]
  },
  {
   "cell_type": "code",
   "execution_count": 7,
   "metadata": {
    "ExecuteTime": {
     "end_time": "2017-09-04T12:55:59.424197Z",
     "start_time": "2017-09-04T12:55:59.418694Z"
    }
   },
   "outputs": [],
   "source": [
    "similarities = {'userid': None, 'movieid': item_similarity}\n",
    "sim_indices = {'userid': None, 'movieid': meta_info.index}"
   ]
  },
  {
   "cell_type": "markdown",
   "metadata": {
    "collapsed": true
   },
   "source": [
    "# Quick test"
   ]
  },
  {
   "cell_type": "code",
   "execution_count": 12,
   "metadata": {
    "ExecuteTime": {
     "end_time": "2017-09-04T12:56:24.926536Z",
     "start_time": "2017-09-04T12:56:24.855607Z"
    },
    "collapsed": true
   },
   "outputs": [],
   "source": [
    "data_model = SimilarityDataModel(similarities, sim_indices, ml_data, 'userid', 'movieid', 'rating', seed=42)"
   ]
  },
  {
   "cell_type": "code",
   "execution_count": 13,
   "metadata": {
    "ExecuteTime": {
     "end_time": "2017-09-04T12:56:25.949427Z",
     "start_time": "2017-09-04T12:56:25.943804Z"
    },
    "collapsed": true
   },
   "outputs": [],
   "source": [
    "data_model.holdout_size = 1\n",
    "data_model.random_holdout = True\n",
    "data_model.test_unseen_users = False\n",
    "data_model.test_sample = None\n",
    "data_model.verbose = True"
   ]
  },
  {
   "cell_type": "code",
   "execution_count": 14,
   "metadata": {
    "ExecuteTime": {
     "end_time": "2017-09-04T12:56:27.387343Z",
     "start_time": "2017-09-04T12:56:26.747392Z"
    }
   },
   "outputs": [
    {
     "name": "stdout",
     "output_type": "stream",
     "text": [
      "Preparing data...\n",
      "2 unique movieid's within 2 holdout interactions were filtered. Reason: not in the training data.\n",
      "1 unique userid's within 1 holdout interactions were filtered. Reason: not in the training data.\n"
     ]
    }
   ],
   "source": [
    "data_model.prepare()"
   ]
  },
  {
   "cell_type": "code",
   "execution_count": null,
   "metadata": {
    "collapsed": true
   },
   "outputs": [],
   "source": []
  },
  {
   "cell_type": "code",
   "execution_count": 15,
   "metadata": {
    "ExecuteTime": {
     "end_time": "2017-09-04T12:56:31.906521Z",
     "start_time": "2017-09-04T12:56:31.901898Z"
    },
    "collapsed": true
   },
   "outputs": [],
   "source": [
    "psvd = SVDModel(data_model)"
   ]
  },
  {
   "cell_type": "code",
   "execution_count": 16,
   "metadata": {
    "ExecuteTime": {
     "end_time": "2017-09-04T12:56:33.788901Z",
     "start_time": "2017-09-04T12:56:33.440309Z"
    }
   },
   "outputs": [
    {
     "name": "stdout",
     "output_type": "stream",
     "text": [
      "PureSVD training time: 0.191961050034s\n"
     ]
    }
   ],
   "source": [
    "psvd.build()"
   ]
  },
  {
   "cell_type": "code",
   "execution_count": 17,
   "metadata": {
    "ExecuteTime": {
     "end_time": "2017-09-04T12:56:43.587945Z",
     "start_time": "2017-09-04T12:56:43.321064Z"
    },
    "collapsed": true
   },
   "outputs": [],
   "source": [
    "psvd_hits = evaluate_hits(data_model.test.evalset, 'userid', 'movieid', psvd.recommendations)"
   ]
  },
  {
   "cell_type": "code",
   "execution_count": 18,
   "metadata": {
    "ExecuteTime": {
     "end_time": "2017-09-04T12:56:45.143072Z",
     "start_time": "2017-09-04T12:56:45.128623Z"
    }
   },
   "outputs": [
    {
     "data": {
      "text/plain": [
       "0.16182572614107885"
      ]
     },
     "execution_count": 18,
     "metadata": {},
     "output_type": "execute_result"
    }
   ],
   "source": [
    "psvd_hits.getnnz(axis=1).mean()"
   ]
  },
  {
   "cell_type": "code",
   "execution_count": null,
   "metadata": {
    "collapsed": true
   },
   "outputs": [],
   "source": []
  },
  {
   "cell_type": "code",
   "execution_count": 19,
   "metadata": {
    "ExecuteTime": {
     "end_time": "2017-09-04T12:57:00.312147Z",
     "start_time": "2017-09-04T12:57:00.306759Z"
    },
    "collapsed": true
   },
   "outputs": [],
   "source": [
    "hsvd = HybridSVD(data_model)"
   ]
  },
  {
   "cell_type": "code",
   "execution_count": 20,
   "metadata": {
    "ExecuteTime": {
     "end_time": "2017-09-04T12:57:06.810930Z",
     "start_time": "2017-09-04T12:57:01.705634Z"
    }
   },
   "outputs": [
    {
     "name": "stdout",
     "output_type": "stream",
     "text": [
      "Updating movieid similarity matrix\n",
      "Performing sparse Cholesky decomposition for movieid similarity\n",
      "HybridSVD training time: 2.8961379528s\n"
     ]
    }
   ],
   "source": [
    "hsvd.build()"
   ]
  },
  {
   "cell_type": "code",
   "execution_count": 21,
   "metadata": {
    "ExecuteTime": {
     "end_time": "2017-09-04T12:57:10.599048Z",
     "start_time": "2017-09-04T12:57:10.397611Z"
    },
    "collapsed": true
   },
   "outputs": [],
   "source": [
    "hsvd_hits = evaluate_hits(data_model.test.evalset, 'userid', 'movieid', hsvd.recommendations)"
   ]
  },
  {
   "cell_type": "code",
   "execution_count": 22,
   "metadata": {
    "ExecuteTime": {
     "end_time": "2017-09-04T12:57:12.120633Z",
     "start_time": "2017-09-04T12:57:12.110712Z"
    }
   },
   "outputs": [
    {
     "data": {
      "text/plain": [
       "0.15435684647302905"
      ]
     },
     "execution_count": 22,
     "metadata": {},
     "output_type": "execute_result"
    }
   ],
   "source": [
    "hsvd_hits.getnnz(axis=1).mean()"
   ]
  },
  {
   "cell_type": "code",
   "execution_count": null,
   "metadata": {
    "collapsed": true
   },
   "outputs": [],
   "source": [
    "cb = ContentBased(data_model)\n",
    "cb.build()"
   ]
  },
  {
   "cell_type": "code",
   "execution_count": 24,
   "metadata": {
    "ExecuteTime": {
     "end_time": "2017-09-04T12:57:26.940021Z",
     "start_time": "2017-09-04T12:57:24.820560Z"
    }
   },
   "outputs": [
    {
     "name": "stderr",
     "output_type": "stream",
     "text": [
      "/home/evfro/miniconda/envs/polara_env/lib/python2.7/site-packages/polara/recommender/models.py:380: FutureWarning: pandas.lib.fast_zip is deprecated and will be removed in a future version.\n",
      "  recs_idx = pd.lib.fast_zip(list(recs.nonzero())) #larger\n"
     ]
    }
   ],
   "source": [
    "cb_hits = evaluate_hits(data_model.test.evalset, 'userid', 'movieid', cb.recommendations)"
   ]
  },
  {
   "cell_type": "code",
   "execution_count": 25,
   "metadata": {
    "ExecuteTime": {
     "end_time": "2017-09-04T12:57:28.400840Z",
     "start_time": "2017-09-04T12:57:28.392594Z"
    }
   },
   "outputs": [
    {
     "data": {
      "text/plain": [
       "0.034024896265560163"
      ]
     },
     "execution_count": 25,
     "metadata": {},
     "output_type": "execute_result"
    }
   ],
   "source": [
    "cb_hits.getnnz(axis=1).mean()"
   ]
  },
  {
   "cell_type": "code",
   "execution_count": null,
   "metadata": {
    "collapsed": true
   },
   "outputs": [],
   "source": []
  },
  {
   "cell_type": "code",
   "execution_count": null,
   "metadata": {
    "collapsed": true
   },
   "outputs": [],
   "source": [
    "mpop = PopularityModel(data_model)\n",
    "mpop.build()"
   ]
  },
  {
   "cell_type": "code",
   "execution_count": 27,
   "metadata": {
    "ExecuteTime": {
     "end_time": "2017-09-04T12:57:46.619531Z",
     "start_time": "2017-09-04T12:57:46.476458Z"
    },
    "collapsed": true
   },
   "outputs": [],
   "source": [
    "mpop_hits = evaluate_hits(data_model.test.evalset, 'userid', 'movieid', mpop.recommendations)"
   ]
  },
  {
   "cell_type": "code",
   "execution_count": 28,
   "metadata": {
    "ExecuteTime": {
     "end_time": "2017-09-04T12:57:48.049294Z",
     "start_time": "2017-09-04T12:57:48.040510Z"
    }
   },
   "outputs": [
    {
     "data": {
      "text/plain": [
       "0.082987551867219914"
      ]
     },
     "execution_count": 28,
     "metadata": {},
     "output_type": "execute_result"
    }
   ],
   "source": [
    "mpop_hits.getnnz(axis=1).mean()"
   ]
  },
  {
   "cell_type": "code",
   "execution_count": null,
   "metadata": {
    "collapsed": true
   },
   "outputs": [],
   "source": []
  },
  {
   "cell_type": "code",
   "execution_count": 29,
   "metadata": {
    "ExecuteTime": {
     "end_time": "2017-09-04T12:57:50.735205Z",
     "start_time": "2017-09-04T12:57:50.729340Z"
    },
    "collapsed": true
   },
   "outputs": [],
   "source": [
    "rndm = RandomModel(data_model, seed=42)\n",
    "rndm.build()"
   ]
  },
  {
   "cell_type": "code",
   "execution_count": 30,
   "metadata": {
    "ExecuteTime": {
     "end_time": "2017-09-04T12:57:57.221061Z",
     "start_time": "2017-09-04T12:57:56.995607Z"
    }
   },
   "outputs": [
    {
     "data": {
      "text/plain": [
       "0.0024896265560165973"
      ]
     },
     "execution_count": 30,
     "metadata": {},
     "output_type": "execute_result"
    }
   ],
   "source": [
    "rndm_hits = evaluate_hits(data_model.test.evalset, 'userid', 'movieid', rndm.recommendations)\n",
    "rndm_hits.getnnz(axis=1).mean()"
   ]
  },
  {
   "cell_type": "markdown",
   "metadata": {},
   "source": [
    "# Experiments"
   ]
  },
  {
   "cell_type": "code",
   "execution_count": 33,
   "metadata": {
    "ExecuteTime": {
     "end_time": "2017-09-04T12:59:28.120518Z",
     "start_time": "2017-09-04T12:59:28.107861Z"
    },
    "code_folding": [
     0
    ],
    "collapsed": true
   },
   "outputs": [],
   "source": [
    "def replicate_models(constructor, n, *args, **kwargs):\n",
    "    config = kwargs.pop('config', [])\n",
    "    replicas = [constructor(*args, **kwargs) for i in xrange(n)]\n",
    "    try_set_config(replicas, config)\n",
    "    return replicas"
   ]
  },
  {
   "cell_type": "code",
   "execution_count": 128,
   "metadata": {
    "ExecuteTime": {
     "end_time": "2017-09-04T14:34:26.559275Z",
     "start_time": "2017-09-04T14:34:26.512760Z"
    },
    "code_folding": [
     0,
     6,
     20,
     24
    ],
    "collapsed": true
   },
   "outputs": [],
   "source": [
    "def build_models(models, config=None, verbose=False):\n",
    "    try_set_config(models, config)\n",
    "    for model in models:\n",
    "        model.verbose = verbose\n",
    "        model.build()\n",
    "\n",
    "def try_set_config(models, config, force=False):\n",
    "    if config is None:\n",
    "        return\n",
    "    for model, model_config in zip(models, config):\n",
    "        if not model_config:\n",
    "            continue\n",
    "        for k, v in model_config.iteritems():\n",
    "            if hasattr(model, k) or force:\n",
    "                setattr(model, k, v)\n",
    "            else:\n",
    "                if model.vebose:\n",
    "                    msg = 'Unable to set {} attribute for model {}'\n",
    "                    print msg.format(k, model)\n",
    "\n",
    "def set_models_attribute(models, attr_name, attr_val):\n",
    "    for model in models:\n",
    "        setattr(model, attr_name, attr_val)\n",
    "\n",
    "def validate_model_settings(models, config, attr_name, no_attr_action):\n",
    "    valid_models = []\n",
    "    valid_config = []\n",
    "    other_models = []\n",
    "    other_config = []\n",
    "    config = config or [None]*len(models)\n",
    "    for i, model in enumerate(models):\n",
    "        if not hasattr(model, attr_name):\n",
    "            if no_attr_action is 'ignore':\n",
    "                pass\n",
    "            elif no_attr_action is 'process':\n",
    "                other_models.append(model)\n",
    "                other_config.append(config[i])\n",
    "            elif no_attr_action is 'raise':\n",
    "                raise AttributeError('Model {} has no {} dependence'.format(attr_name, model.method))\n",
    "            else:\n",
    "                raise ValueError('Unrecognized value for no_rank argument.')\n",
    "        else:\n",
    "            valid_models.append(model)\n",
    "            valid_config.append(config[i])\n",
    "    return (valid_models, valid_config), (other_models, other_config)"
   ]
  },
  {
   "cell_type": "code",
   "execution_count": 37,
   "metadata": {
    "ExecuteTime": {
     "end_time": "2017-09-04T13:00:38.562826Z",
     "start_time": "2017-09-04T13:00:38.539189Z"
    },
    "code_folding": [],
    "collapsed": true
   },
   "outputs": [],
   "source": [
    "def evaluator(test_data, key, target):\n",
    "    def eval_func(model, metrics):\n",
    "        scores = {}\n",
    "        recommendations = model.recommendations[..., :model.topk]\n",
    "        hits = evaluate_hits(test_data, key, target, recommendations)\n",
    "        if 'HR' in metrics:\n",
    "            # calculate hit rate\n",
    "            hit_rate = hits.getnnz(axis=1).mean()\n",
    "            scores['HR'] = hit_rate\n",
    "        if 'MRR' in metrics:\n",
    "            # calculate hit reciprocal rank\n",
    "            hits.data = 1. / hits.data\n",
    "            scores['MRR'] = hits.max(axis=1).mean()\n",
    "        if 'COV' in metrics:\n",
    "            # assortment coverage\n",
    "            scores['COV'] = np.unique(recommendations).size\n",
    "        return scores\n",
    "    return eval_func\n",
    "\n",
    "def evaluate_models(models, metrics, eval_func):\n",
    "    res = {}\n",
    "    for model in models:\n",
    "        eval_func = eval_func or model.__class__.evaluate # breaks if model has custom evalute() method\n",
    "        res[model.method] = eval_func(model, metrics)\n",
    "    return res"
   ]
  },
  {
   "cell_type": "code",
   "execution_count": 133,
   "metadata": {
    "ExecuteTime": {
     "end_time": "2017-09-04T14:38:48.218170Z",
     "start_time": "2017-09-04T14:38:48.178925Z"
    },
    "code_folding": [],
    "collapsed": true
   },
   "outputs": [],
   "source": [
    "def run_cv_experiment(models, data_model, metrics, param_tuple, models_configuration=None, no_param_action='raise', verbose=False, folds=None):\n",
    "    cv_results = defaultdict(lambda: defaultdict(dict))\n",
    "    folds = folds or range(1, int(1 / data_model.test_ratio)+1)\n",
    "    data_model.verbose = verbose\n",
    "    param_name, param_vals = param_tuple\n",
    "    \n",
    "    param_vals_sorted = list(reversed(sorted(param_vals))) # avoids recomputations when possible\n",
    "    (valid_models, valid_config), (other_models, other_config) = validate_model_settings(models, models_configuration, param_name, no_param_action)\n",
    "        \n",
    "    for fold in tqdm_notebook(folds, desc='fold'):\n",
    "        data_model.test_fold = fold\n",
    "        data_model.prepare()\n",
    "\n",
    "        eval_func = evaluator(data_model.test.evalset, 'userid', 'movieid')\n",
    "            \n",
    "        if other_models:\n",
    "            build_models(other_models, config=other_config, verbose=verbose)\n",
    "            other_scores = evaluate_models(other_models, metrics, eval_func)\n",
    "            key = 'no_{}'.format(param_name)\n",
    "            cv_results[fold][key].update(other_scores)\n",
    "\n",
    "        set_models_attribute(valid_models, param_name, max(param_vals)) # avoids recomputations when possible\n",
    "        build_models(valid_models, config=valid_config, verbose=verbose)\n",
    "        for param_val in param_vals_sorted:\n",
    "            set_models_attribute(valid_models, param_name, param_val)\n",
    "            valid_scores = evaluate_models(valid_models, metrics, eval_func)\n",
    "            cv_results[fold][param_val] = valid_scores\n",
    "\n",
    "    return cv_results"
   ]
  },
  {
   "cell_type": "code",
   "execution_count": 150,
   "metadata": {
    "ExecuteTime": {
     "end_time": "2017-09-04T14:44:14.625602Z",
     "start_time": "2017-09-04T14:44:14.617303Z"
    },
    "code_folding": [
     0
    ],
    "collapsed": true
   },
   "outputs": [],
   "source": [
    "def get_results_dataframe(cv_results, param_tuple, folds=None):\n",
    "    df_from_dict = pd.DataFrame.from_dict\n",
    "    param_name, param_vals = param_tuple\n",
    "    param_vals = param_vals or ['no_{}'.format(param_name)]\n",
    "    result = pd.concat({(i, j): df_from_dict(cv_results[i][j]) for i, p in cv_results.iteritems() for j in p if j in param_vals}, names=['fold', param_name]).unstack()\n",
    "    return result"
   ]
  },
  {
   "cell_type": "code",
   "execution_count": 40,
   "metadata": {
    "ExecuteTime": {
     "end_time": "2017-09-04T13:00:58.426348Z",
     "start_time": "2017-09-04T13:00:58.329678Z"
    },
    "code_folding": [],
    "collapsed": true
   },
   "outputs": [],
   "source": [
    "seed = 42\n",
    "\n",
    "data_model = SimilarityDataModel(similarities, sim_indices, ml_data, 'userid', 'movieid', 'rating', seed=seed)\n",
    "data_model.holdout_size = 1\n",
    "data_model.random_holdout = True\n",
    "data_model.test_unseen_users = False\n",
    "data_model.test_sample = None"
   ]
  },
  {
   "cell_type": "code",
   "execution_count": 41,
   "metadata": {
    "ExecuteTime": {
     "end_time": "2017-09-04T13:01:04.702755Z",
     "start_time": "2017-09-04T13:01:04.692836Z"
    },
    "code_folding": [],
    "collapsed": true
   },
   "outputs": [],
   "source": [
    "# create recommenders\n",
    "cb = ContentBased(data_model)\n",
    "mpop = PopularityModel(data_model)\n",
    "rndm = RandomModel(data_model, seed=seed)\n",
    "psvd = SVDModel(data_model)"
   ]
  },
  {
   "cell_type": "code",
   "execution_count": 42,
   "metadata": {
    "ExecuteTime": {
     "end_time": "2017-09-04T13:01:08.860653Z",
     "start_time": "2017-09-04T13:01:08.843269Z"
    }
   },
   "outputs": [
    {
     "name": "stdout",
     "output_type": "stream",
     "text": [
      "MP RND CB PureSVD HybridSVD ($\\alpha=0.999$) HybridSVD ($\\alpha=0.5$) HybridSVD ($\\alpha=0.1$)\n"
     ]
    }
   ],
   "source": [
    "baselines = [mpop, rndm, cb]\n",
    "\n",
    "features_weights = [0.999, 0.5, 0.1]\n",
    "hybrid_config = [{'features_weight':w, 'method': r'HybridSVD ($\\alpha={}$)'.format(w)} for w in features_weights]\n",
    "hybrids = replicate_models(HybridSVD, len(features_weights), data_model, config=hybrid_config)\n",
    "\n",
    "models = baselines + [psvd] + hybrids\n",
    "models_config = [{'topk':10}]*len(models)\n",
    "\n",
    "for model in models:\n",
    "    print model.method,"
   ]
  },
  {
   "cell_type": "code",
   "execution_count": null,
   "metadata": {
    "ExecuteTime": {
     "start_time": "2017-09-04T12:12:41.945Z"
    }
   },
   "outputs": [
    {
     "data": {
      "application/vnd.jupyter.widget-view+json": {
       "model_id": "1a4ef23bc2304702bff584b0ea18403b",
       "version_major": 2,
       "version_minor": 0
      },
      "text/plain": [
       "A Jupyter Widget"
      ]
     },
     "metadata": {},
     "output_type": "display_data"
    }
   ],
   "source": [
    "metrics = 'HR MRR COV'.split()\n",
    "ranks = [1, 5, 10, 15, 20, 30, 50, 75, 100, 125, 150, 200, 300, 500, 750, 1000, 1250, 1500, 1750, 2000, 2500, 3000, 3200]\n",
    "\n",
    "cv_results = run_cv_experiment(models, data_model, metrics, ('rank', ranks), models_configuration=models_config, no_param_action='process', verbose=False)"
   ]
  },
  {
   "cell_type": "code",
   "execution_count": null,
   "metadata": {
    "collapsed": true
   },
   "outputs": [],
   "source": []
  },
  {
   "cell_type": "code",
   "execution_count": 345,
   "metadata": {
    "ExecuteTime": {
     "end_time": "2017-09-04T21:00:01.047076Z",
     "start_time": "2017-09-04T21:00:00.863263Z"
    },
    "collapsed": true
   },
   "outputs": [],
   "source": [
    "rank_cv_results = get_results_dataframe(cv_results, ('rank', ranks))\n",
    "base_cv_results = get_results_dataframe(cv_results, ('rank', None))"
   ]
  },
  {
   "cell_type": "code",
   "execution_count": 348,
   "metadata": {
    "ExecuteTime": {
     "end_time": "2017-09-04T21:01:02.122312Z",
     "start_time": "2017-09-04T21:01:02.107952Z"
    },
    "collapsed": true
   },
   "outputs": [],
   "source": [
    "rank_cv_results.to_csv('Standard_SVD_CV_results_ML.csv', index=True)"
   ]
  },
  {
   "cell_type": "code",
   "execution_count": 349,
   "metadata": {
    "ExecuteTime": {
     "end_time": "2017-09-04T21:01:03.530328Z",
     "start_time": "2017-09-04T21:01:03.520391Z"
    },
    "collapsed": true
   },
   "outputs": [],
   "source": [
    "base_cv_results.to_csv('Standard_Baseline_CV_results_ML.csv', index=True)"
   ]
  },
  {
   "cell_type": "code",
   "execution_count": null,
   "metadata": {
    "collapsed": true
   },
   "outputs": [],
   "source": []
  },
  {
   "cell_type": "code",
   "execution_count": 350,
   "metadata": {
    "ExecuteTime": {
     "end_time": "2017-09-04T21:01:39.132938Z",
     "start_time": "2017-09-04T21:01:37.939311Z"
    }
   },
   "outputs": [
    {
     "data": {
      "text/plain": [
       "<matplotlib.legend.Legend at 0x7fcde7414110>"
      ]
     },
     "execution_count": 350,
     "metadata": {},
     "output_type": "execute_result"
    },
    {
     "data": {
      "image/png": "[encoded data removed]",
      "text/plain": [
       "<matplotlib.figure.Figure at 0x7fcde78be050>"
      ]
     },
     "metadata": {
      "image/png": {
       "height": 265,
       "width": 380
      }
     },
     "output_type": "display_data"
    }
   ],
   "source": [
    "ax = rank_cv_results.xs('HR', 1, 1).mean(level='rank').plot(logx=True)\n",
    "\n",
    "linestyles = {'CB': '--', 'RND': ':', 'MP': ':'}\n",
    "colors = {'CB': '', 'RND': '', 'MP': ''}\n",
    "\n",
    "for col, data in base_cv_results.xs('HR', 1, 1).mean(level='rank').iteritems():\n",
    "    ax.hlines(y=data, xmin=1, xmax=3200, label=col, linestyles=linestyles[col])\n",
    "ax.legend()"
   ]
  },
  {
   "cell_type": "code",
   "execution_count": null,
   "metadata": {
    "collapsed": true
   },
   "outputs": [],
   "source": []
  },
  {
   "cell_type": "code",
   "execution_count": 351,
   "metadata": {
    "ExecuteTime": {
     "end_time": "2017-09-04T21:01:45.087039Z",
     "start_time": "2017-09-04T21:01:43.892951Z"
    }
   },
   "outputs": [
    {
     "data": {
      "text/plain": [
       "<matplotlib.legend.Legend at 0x7fcde71bbe50>"
      ]
     },
     "execution_count": 351,
     "metadata": {},
     "output_type": "execute_result"
    },
    {
     "data": {
      "image/png": "[encoded data removed]",
      "text/plain": [
       "<matplotlib.figure.Figure at 0x7fcd66a96050>"
      ]
     },
     "metadata": {
      "image/png": {
       "height": 265,
       "width": 380
      }
     },
     "output_type": "display_data"
    }
   ],
   "source": [
    "metric = 'MRR'\n",
    "ax = rank_cv_results.xs(metric, 1, 1).mean(level='rank').plot(logx=True)\n",
    "\n",
    "linestyles = {'CB': '--', 'RND': ':', 'MP': ':'}\n",
    "colors = {'CB': '', 'RND': '', 'MP': ''}\n",
    "\n",
    "for col, data in base_cv_results.xs(metric, 1, 1).mean(level='rank').iteritems():\n",
    "    ax.hlines(y=data, xmin=1, xmax=3200, label=col, linestyles=linestyles[col])\n",
    "ax.legend()"
   ]
  },
  {
   "cell_type": "markdown",
   "metadata": {},
   "source": [
    "# FM"
   ]
  },
  {
   "cell_type": "code",
   "execution_count": null,
   "metadata": {
    "ExecuteTime": {
     "start_time": "2017-09-04T12:44:55.859Z"
    },
    "code_folding": [],
    "collapsed": true
   },
   "outputs": [],
   "source": [
    "# %env OMP_NUM_THREADS=16\n",
    "from polara.tools.graphlab.glwrapper import GraphlabFactorization\n",
    "import graphlab as gl"
   ]
  },
  {
   "cell_type": "markdown",
   "metadata": {},
   "source": [
    "## Parameter search"
   ]
  },
  {
   "cell_type": "code",
   "execution_count": 186,
   "metadata": {
    "ExecuteTime": {
     "end_time": "2017-09-04T16:46:15.399843Z",
     "start_time": "2017-09-04T16:46:15.393654Z"
    },
    "collapsed": true
   },
   "outputs": [],
   "source": [
    "from sklearn.model_selection import ParameterGrid"
   ]
  },
  {
   "cell_type": "code",
   "execution_count": 187,
   "metadata": {
    "ExecuteTime": {
     "end_time": "2017-09-04T16:46:16.211941Z",
     "start_time": "2017-09-04T16:46:16.190515Z"
    },
    "code_folding": [],
    "collapsed": true
   },
   "outputs": [],
   "source": [
    "def run_parameter_search(model, data_model, metrics, params_grid, search_space_size=None, verbose=False, seed=None):\n",
    "    grid_results = {}\n",
    "    \n",
    "    data_model.verbose = verbose\n",
    "    data_model.update()\n",
    "    eval_func = evaluator(data_model.test.evalset, 'userid', 'movieid')\n",
    "    \n",
    "    if search_space_size:\n",
    "        random_state = np.random.RandomState(seed) if seed else np.random\n",
    "        param_choice = random_state.choice(len(params_grid), search_space_size, replace=False)\n",
    "    else:\n",
    "        param_choice = range(len(params_grid))\n",
    "\n",
    "    for p in tqdm_notebook(param_choice, desc='params'):\n",
    "        param_set = params_grid[p]\n",
    "        build_models([model], config=[param_set], verbose=verbose)\n",
    "\n",
    "        key = tuple([(''.join([s[0] for s in p.split('_')]), v) for p, v in param_set.iteritems()])\n",
    "        grid_results[key] = eval_func(model, metrics)\n",
    "    return grid_results"
   ]
  },
  {
   "cell_type": "code",
   "execution_count": 188,
   "metadata": {
    "ExecuteTime": {
     "end_time": "2017-09-04T16:46:21.121574Z",
     "start_time": "2017-09-04T16:46:21.117253Z"
    },
    "collapsed": true
   },
   "outputs": [],
   "source": [
    "seed = 42\n",
    "n_experiments = 120\n",
    "metrics = 'HR MRR COV'.split()"
   ]
  },
  {
   "cell_type": "markdown",
   "metadata": {
    "heading_collapsed": true
   },
   "source": [
    "### Exploration"
   ]
  },
  {
   "cell_type": "code",
   "execution_count": 189,
   "metadata": {
    "ExecuteTime": {
     "end_time": "2017-09-04T16:46:23.400787Z",
     "start_time": "2017-09-04T16:46:23.383188Z"
    },
    "code_folding": [],
    "hidden": true
   },
   "outputs": [
    {
     "data": {
      "text/plain": [
       "396000"
      ]
     },
     "execution_count": 189,
     "metadata": {},
     "output_type": "execute_result"
    }
   ],
   "source": [
    "params = {\n",
    "          'ranking_regularization': [0.001, 0.003, 0.01, 0.03, 0.1, 0.3],\n",
    "          'regularization':         [1e-10, 3e-10, 1e-9, 3e-9, 1e-8, 3e-8, 1e-7, 3e-7, 1e-6, 3e-6],\n",
    "          'linear_regularization':  [1e-10, 3e-10, 1e-9, 3e-9, 1e-8, 3e-8, 1e-7, 3e-7, 1e-6, 3e-6],\n",
    "          'sgd_step_size':          [0.01, 0.03, 0.01, 0.03, 0.1, 0.3],\n",
    "          'num_sampled_negative_examples': [None, 1, 5, 10, 15, 20, 30, 50, 70, 100],\n",
    "          'max_iterations': [40],\n",
    "          'rank': [1, 5, 10, 20, 30, 50, 75, 100, 150, 200, 250]\n",
    "         }\n",
    "\n",
    "params_grid = ParameterGrid(params)\n",
    "len(params_grid)"
   ]
  },
  {
   "cell_type": "code",
   "execution_count": 190,
   "metadata": {
    "ExecuteTime": {
     "end_time": "2017-09-04T16:46:25.361649Z",
     "start_time": "2017-09-04T16:46:25.350529Z"
    },
    "code_folding": [],
    "collapsed": true,
    "hidden": true
   },
   "outputs": [],
   "source": [
    "# base FM settings\n",
    "fm = GraphlabFactorization(data_model, item_side_info=meta_info[sim_type.keys()])\n",
    "fm.method = 'FM'\n",
    "fm.binary_target = True\n",
    "fm.solver = 'sgd'\n",
    "fm.ranking_optimization = True\n",
    "fm.verbose = False\n",
    "fm.seed = seed"
   ]
  },
  {
   "cell_type": "code",
   "execution_count": 191,
   "metadata": {
    "ExecuteTime": {
     "end_time": "2017-09-04T19:47:53.777117Z",
     "start_time": "2017-09-04T16:46:28.373837Z"
    },
    "hidden": true,
    "scrolled": true
   },
   "outputs": [
    {
     "data": {
      "application/vnd.jupyter.widget-view+json": {
       "model_id": "54c9a1f272d541a5bc690e209b0e8dd4",
       "version_major": 2,
       "version_minor": 0
      },
      "text/plain": [
       "A Jupyter Widget"
      ]
     },
     "metadata": {},
     "output_type": "display_data"
    },
    {
     "data": {
      "text/html": [
       "<pre>Recsys training: model = ranking_factorization_recommender</pre>"
      ],
      "text/plain": [
       "Recsys training: model = ranking_factorization_recommender"
      ]
     },
     "metadata": {},
     "output_type": "display_data"
    },
    {
     "name": "stdout",
     "output_type": "stream",
     "text": [
      "\n"
     ]
    },
    {
     "data": {
      "text/html": [
       "<pre>Recsys training: model = ranking_factorization_recommender</pre>"
      ],
      "text/plain": [
       "Recsys training: model = ranking_factorization_recommender"
      ]
     },
     "metadata": {},
     "output_type": "display_data"
    },
    {
     "data": {
      "text/html": [
       "<pre>Recsys training: model = ranking_factorization_recommender</pre>"
      ],
      "text/plain": [
       "Recsys training: model = ranking_factorization_recommender"
      ]
     },
     "metadata": {},
     "output_type": "display_data"
    },
    {
     "data": {
      "text/html": [
       "<pre>Recsys training: model = ranking_factorization_recommender</pre>"
      ],
      "text/plain": [
       "Recsys training: model = ranking_factorization_recommender"
      ]
     },
     "metadata": {},
     "output_type": "display_data"
    },
    {
     "data": {
      "text/html": [
       "<pre>Recsys training: model = ranking_factorization_recommender</pre>"
      ],
      "text/plain": [
       "Recsys training: model = ranking_factorization_recommender"
      ]
     },
     "metadata": {},
     "output_type": "display_data"
    },
    {
     "data": {
      "text/html": [
       "<pre>Recsys training: model = ranking_factorization_recommender</pre>"
      ],
      "text/plain": [
       "Recsys training: model = ranking_factorization_recommender"
      ]
     },
     "metadata": {},
     "output_type": "display_data"
    },
    {
     "data": {
      "text/html": [
       "<pre>Recsys training: model = ranking_factorization_recommender</pre>"
      ],
      "text/plain": [
       "Recsys training: model = ranking_factorization_recommender"
      ]
     },
     "metadata": {},
     "output_type": "display_data"
    },
    {
     "data": {
      "text/html": [
       "<pre>Recsys training: model = ranking_factorization_recommender</pre>"
      ],
      "text/plain": [
       "Recsys training: model = ranking_factorization_recommender"
      ]
     },
     "metadata": {},
     "output_type": "display_data"
    },
    {
     "data": {
      "text/html": [
       "<pre>Recsys training: model = ranking_factorization_recommender</pre>"
      ],
      "text/plain": [
       "Recsys training: model = ranking_factorization_recommender"
      ]
     },
     "metadata": {},
     "output_type": "display_data"
    },
    {
     "data": {
      "text/html": [
       "<pre>Recsys training: model = ranking_factorization_recommender</pre>"
      ],
      "text/plain": [
       "Recsys training: model = ranking_factorization_recommender"
      ]
     },
     "metadata": {},
     "output_type": "display_data"
    },
    {
     "data": {
      "text/html": [
       "<pre>Recsys training: model = ranking_factorization_recommender</pre>"
      ],
      "text/plain": [
       "Recsys training: model = ranking_factorization_recommender"
      ]
     },
     "metadata": {},
     "output_type": "display_data"
    },
    {
     "data": {
      "text/html": [
       "<pre>Recsys training: model = ranking_factorization_recommender</pre>"
      ],
      "text/plain": [
       "Recsys training: model = ranking_factorization_recommender"
      ]
     },
     "metadata": {},
     "output_type": "display_data"
    },
    {
     "data": {
      "text/html": [
       "<pre>Recsys training: model = ranking_factorization_recommender</pre>"
      ],
      "text/plain": [
       "Recsys training: model = ranking_factorization_recommender"
      ]
     },
     "metadata": {},
     "output_type": "display_data"
    },
    {
     "data": {
      "text/html": [
       "<pre>Recsys training: model = ranking_factorization_recommender</pre>"
      ],
      "text/plain": [
       "Recsys training: model = ranking_factorization_recommender"
      ]
     },
     "metadata": {},
     "output_type": "display_data"
    },
    {
     "data": {
      "text/html": [
       "<pre>Recsys training: model = ranking_factorization_recommender</pre>"
      ],
      "text/plain": [
       "Recsys training: model = ranking_factorization_recommender"
      ]
     },
     "metadata": {},
     "output_type": "display_data"
    },
    {
     "data": {
      "text/html": [
       "<pre>Recsys training: model = ranking_factorization_recommender</pre>"
      ],
      "text/plain": [
       "Recsys training: model = ranking_factorization_recommender"
      ]
     },
     "metadata": {},
     "output_type": "display_data"
    },
    {
     "data": {
      "text/html": [
       "<pre>Recsys training: model = ranking_factorization_recommender</pre>"
      ],
      "text/plain": [
       "Recsys training: model = ranking_factorization_recommender"
      ]
     },
     "metadata": {},
     "output_type": "display_data"
    },
    {
     "data": {
      "text/html": [
       "<pre>Recsys training: model = ranking_factorization_recommender</pre>"
      ],
      "text/plain": [
       "Recsys training: model = ranking_factorization_recommender"
      ]
     },
     "metadata": {},
     "output_type": "display_data"
    },
    {
     "data": {
      "text/html": [
       "<pre>Recsys training: model = ranking_factorization_recommender</pre>"
      ],
      "text/plain": [
       "Recsys training: model = ranking_factorization_recommender"
      ]
     },
     "metadata": {},
     "output_type": "display_data"
    },
    {
     "data": {
      "text/html": [
       "<pre>Recsys training: model = ranking_factorization_recommender</pre>"
      ],
      "text/plain": [
       "Recsys training: model = ranking_factorization_recommender"
      ]
     },
     "metadata": {},
     "output_type": "display_data"
    },
    {
     "data": {
      "text/html": [
       "<pre>Recsys training: model = ranking_factorization_recommender</pre>"
      ],
      "text/plain": [
       "Recsys training: model = ranking_factorization_recommender"
      ]
     },
     "metadata": {},
     "output_type": "display_data"
    },
    {
     "data": {
      "text/html": [
       "<pre>Recsys training: model = ranking_factorization_recommender</pre>"
      ],
      "text/plain": [
       "Recsys training: model = ranking_factorization_recommender"
      ]
     },
     "metadata": {},
     "output_type": "display_data"
    },
    {
     "data": {
      "text/html": [
       "<pre>Recsys training: model = ranking_factorization_recommender</pre>"
      ],
      "text/plain": [
       "Recsys training: model = ranking_factorization_recommender"
      ]
     },
     "metadata": {},
     "output_type": "display_data"
    },
    {
     "data": {
      "text/html": [
       "<pre>Recsys training: model = ranking_factorization_recommender</pre>"
      ],
      "text/plain": [
       "Recsys training: model = ranking_factorization_recommender"
      ]
     },
     "metadata": {},
     "output_type": "display_data"
    },
    {
     "data": {
      "text/html": [
       "<pre>Recsys training: model = ranking_factorization_recommender</pre>"
      ],
      "text/plain": [
       "Recsys training: model = ranking_factorization_recommender"
      ]
     },
     "metadata": {},
     "output_type": "display_data"
    },
    {
     "data": {
      "text/html": [
       "<pre>Recsys training: model = ranking_factorization_recommender</pre>"
      ],
      "text/plain": [
       "Recsys training: model = ranking_factorization_recommender"
      ]
     },
     "metadata": {},
     "output_type": "display_data"
    },
    {
     "data": {
      "text/html": [
       "<pre>Recsys training: model = ranking_factorization_recommender</pre>"
      ],
      "text/plain": [
       "Recsys training: model = ranking_factorization_recommender"
      ]
     },
     "metadata": {},
     "output_type": "display_data"
    },
    {
     "data": {
      "text/html": [
       "<pre>Recsys training: model = ranking_factorization_recommender</pre>"
      ],
      "text/plain": [
       "Recsys training: model = ranking_factorization_recommender"
      ]
     },
     "metadata": {},
     "output_type": "display_data"
    },
    {
     "data": {
      "text/html": [
       "<pre>Recsys training: model = ranking_factorization_recommender</pre>"
      ],
      "text/plain": [
       "Recsys training: model = ranking_factorization_recommender"
      ]
     },
     "metadata": {},
     "output_type": "display_data"
    },
    {
     "data": {
      "text/html": [
       "<pre>Recsys training: model = ranking_factorization_recommender</pre>"
      ],
      "text/plain": [
       "Recsys training: model = ranking_factorization_recommender"
      ]
     },
     "metadata": {},
     "output_type": "display_data"
    },
    {
     "data": {
      "text/html": [
       "<pre>Recsys training: model = ranking_factorization_recommender</pre>"
      ],
      "text/plain": [
       "Recsys training: model = ranking_factorization_recommender"
      ]
     },
     "metadata": {},
     "output_type": "display_data"
    },
    {
     "data": {
      "text/html": [
       "<pre>Recsys training: model = ranking_factorization_recommender</pre>"
      ],
      "text/plain": [
       "Recsys training: model = ranking_factorization_recommender"
      ]
     },
     "metadata": {},
     "output_type": "display_data"
    },
    {
     "data": {
      "text/html": [
       "<pre>Recsys training: model = ranking_factorization_recommender</pre>"
      ],
      "text/plain": [
       "Recsys training: model = ranking_factorization_recommender"
      ]
     },
     "metadata": {},
     "output_type": "display_data"
    },
    {
     "data": {
      "text/html": [
       "<pre>Recsys training: model = ranking_factorization_recommender</pre>"
      ],
      "text/plain": [
       "Recsys training: model = ranking_factorization_recommender"
      ]
     },
     "metadata": {},
     "output_type": "display_data"
    },
    {
     "data": {
      "text/html": [
       "<pre>Recsys training: model = ranking_factorization_recommender</pre>"
      ],
      "text/plain": [
       "Recsys training: model = ranking_factorization_recommender"
      ]
     },
     "metadata": {},
     "output_type": "display_data"
    },
    {
     "data": {
      "text/html": [
       "<pre>Recsys training: model = ranking_factorization_recommender</pre>"
      ],
      "text/plain": [
       "Recsys training: model = ranking_factorization_recommender"
      ]
     },
     "metadata": {},
     "output_type": "display_data"
    },
    {
     "data": {
      "text/html": [
       "<pre>Recsys training: model = ranking_factorization_recommender</pre>"
      ],
      "text/plain": [
       "Recsys training: model = ranking_factorization_recommender"
      ]
     },
     "metadata": {},
     "output_type": "display_data"
    },
    {
     "data": {
      "text/html": [
       "<pre>Recsys training: model = ranking_factorization_recommender</pre>"
      ],
      "text/plain": [
       "Recsys training: model = ranking_factorization_recommender"
      ]
     },
     "metadata": {},
     "output_type": "display_data"
    },
    {
     "data": {
      "text/html": [
       "<pre>Recsys training: model = ranking_factorization_recommender</pre>"
      ],
      "text/plain": [
       "Recsys training: model = ranking_factorization_recommender"
      ]
     },
     "metadata": {},
     "output_type": "display_data"
    },
    {
     "data": {
      "text/html": [
       "<pre>Recsys training: model = ranking_factorization_recommender</pre>"
      ],
      "text/plain": [
       "Recsys training: model = ranking_factorization_recommender"
      ]
     },
     "metadata": {},
     "output_type": "display_data"
    },
    {
     "data": {
      "text/html": [
       "<pre>Recsys training: model = ranking_factorization_recommender</pre>"
      ],
      "text/plain": [
       "Recsys training: model = ranking_factorization_recommender"
      ]
     },
     "metadata": {},
     "output_type": "display_data"
    },
    {
     "data": {
      "text/html": [
       "<pre>Recsys training: model = ranking_factorization_recommender</pre>"
      ],
      "text/plain": [
       "Recsys training: model = ranking_factorization_recommender"
      ]
     },
     "metadata": {},
     "output_type": "display_data"
    },
    {
     "data": {
      "text/html": [
       "<pre>Recsys training: model = ranking_factorization_recommender</pre>"
      ],
      "text/plain": [
       "Recsys training: model = ranking_factorization_recommender"
      ]
     },
     "metadata": {},
     "output_type": "display_data"
    },
    {
     "data": {
      "text/html": [
       "<pre>Recsys training: model = ranking_factorization_recommender</pre>"
      ],
      "text/plain": [
       "Recsys training: model = ranking_factorization_recommender"
      ]
     },
     "metadata": {},
     "output_type": "display_data"
    },
    {
     "data": {
      "text/html": [
       "<pre>Recsys training: model = ranking_factorization_recommender</pre>"
      ],
      "text/plain": [
       "Recsys training: model = ranking_factorization_recommender"
      ]
     },
     "metadata": {},
     "output_type": "display_data"
    },
    {
     "data": {
      "text/html": [
       "<pre>Recsys training: model = ranking_factorization_recommender</pre>"
      ],
      "text/plain": [
       "Recsys training: model = ranking_factorization_recommender"
      ]
     },
     "metadata": {},
     "output_type": "display_data"
    },
    {
     "data": {
      "text/html": [
       "<pre>Recsys training: model = ranking_factorization_recommender</pre>"
      ],
      "text/plain": [
       "Recsys training: model = ranking_factorization_recommender"
      ]
     },
     "metadata": {},
     "output_type": "display_data"
    },
    {
     "data": {
      "text/html": [
       "<pre>Recsys training: model = ranking_factorization_recommender</pre>"
      ],
      "text/plain": [
       "Recsys training: model = ranking_factorization_recommender"
      ]
     },
     "metadata": {},
     "output_type": "display_data"
    },
    {
     "data": {
      "text/html": [
       "<pre>Recsys training: model = ranking_factorization_recommender</pre>"
      ],
      "text/plain": [
       "Recsys training: model = ranking_factorization_recommender"
      ]
     },
     "metadata": {},
     "output_type": "display_data"
    },
    {
     "data": {
      "text/html": [
       "<pre>Recsys training: model = ranking_factorization_recommender</pre>"
      ],
      "text/plain": [
       "Recsys training: model = ranking_factorization_recommender"
      ]
     },
     "metadata": {},
     "output_type": "display_data"
    },
    {
     "data": {
      "text/html": [
       "<pre>Recsys training: model = ranking_factorization_recommender</pre>"
      ],
      "text/plain": [
       "Recsys training: model = ranking_factorization_recommender"
      ]
     },
     "metadata": {},
     "output_type": "display_data"
    },
    {
     "data": {
      "text/html": [
       "<pre>Recsys training: model = ranking_factorization_recommender</pre>"
      ],
      "text/plain": [
       "Recsys training: model = ranking_factorization_recommender"
      ]
     },
     "metadata": {},
     "output_type": "display_data"
    },
    {
     "data": {
      "text/html": [
       "<pre>Recsys training: model = ranking_factorization_recommender</pre>"
      ],
      "text/plain": [
       "Recsys training: model = ranking_factorization_recommender"
      ]
     },
     "metadata": {},
     "output_type": "display_data"
    },
    {
     "data": {
      "text/html": [
       "<pre>Recsys training: model = ranking_factorization_recommender</pre>"
      ],
      "text/plain": [
       "Recsys training: model = ranking_factorization_recommender"
      ]
     },
     "metadata": {},
     "output_type": "display_data"
    },
    {
     "data": {
      "text/html": [
       "<pre>Recsys training: model = ranking_factorization_recommender</pre>"
      ],
      "text/plain": [
       "Recsys training: model = ranking_factorization_recommender"
      ]
     },
     "metadata": {},
     "output_type": "display_data"
    },
    {
     "data": {
      "text/html": [
       "<pre>Recsys training: model = ranking_factorization_recommender</pre>"
      ],
      "text/plain": [
       "Recsys training: model = ranking_factorization_recommender"
      ]
     },
     "metadata": {},
     "output_type": "display_data"
    },
    {
     "data": {
      "text/html": [
       "<pre>Recsys training: model = ranking_factorization_recommender</pre>"
      ],
      "text/plain": [
       "Recsys training: model = ranking_factorization_recommender"
      ]
     },
     "metadata": {},
     "output_type": "display_data"
    },
    {
     "data": {
      "text/html": [
       "<pre>Recsys training: model = ranking_factorization_recommender</pre>"
      ],
      "text/plain": [
       "Recsys training: model = ranking_factorization_recommender"
      ]
     },
     "metadata": {},
     "output_type": "display_data"
    },
    {
     "data": {
      "text/html": [
       "<pre>Recsys training: model = ranking_factorization_recommender</pre>"
      ],
      "text/plain": [
       "Recsys training: model = ranking_factorization_recommender"
      ]
     },
     "metadata": {},
     "output_type": "display_data"
    },
    {
     "data": {
      "text/html": [
       "<pre>Recsys training: model = ranking_factorization_recommender</pre>"
      ],
      "text/plain": [
       "Recsys training: model = ranking_factorization_recommender"
      ]
     },
     "metadata": {},
     "output_type": "display_data"
    },
    {
     "data": {
      "text/html": [
       "<pre>Recsys training: model = ranking_factorization_recommender</pre>"
      ],
      "text/plain": [
       "Recsys training: model = ranking_factorization_recommender"
      ]
     },
     "metadata": {},
     "output_type": "display_data"
    },
    {
     "data": {
      "text/html": [
       "<pre>Recsys training: model = ranking_factorization_recommender</pre>"
      ],
      "text/plain": [
       "Recsys training: model = ranking_factorization_recommender"
      ]
     },
     "metadata": {},
     "output_type": "display_data"
    },
    {
     "data": {
      "text/html": [
       "<pre>Recsys training: model = ranking_factorization_recommender</pre>"
      ],
      "text/plain": [
       "Recsys training: model = ranking_factorization_recommender"
      ]
     },
     "metadata": {},
     "output_type": "display_data"
    },
    {
     "data": {
      "text/html": [
       "<pre>Recsys training: model = ranking_factorization_recommender</pre>"
      ],
      "text/plain": [
       "Recsys training: model = ranking_factorization_recommender"
      ]
     },
     "metadata": {},
     "output_type": "display_data"
    },
    {
     "data": {
      "text/html": [
       "<pre>Recsys training: model = ranking_factorization_recommender</pre>"
      ],
      "text/plain": [
       "Recsys training: model = ranking_factorization_recommender"
      ]
     },
     "metadata": {},
     "output_type": "display_data"
    },
    {
     "data": {
      "text/html": [
       "<pre>Recsys training: model = ranking_factorization_recommender</pre>"
      ],
      "text/plain": [
       "Recsys training: model = ranking_factorization_recommender"
      ]
     },
     "metadata": {},
     "output_type": "display_data"
    },
    {
     "data": {
      "text/html": [
       "<pre>Recsys training: model = ranking_factorization_recommender</pre>"
      ],
      "text/plain": [
       "Recsys training: model = ranking_factorization_recommender"
      ]
     },
     "metadata": {},
     "output_type": "display_data"
    },
    {
     "data": {
      "text/html": [
       "<pre>Recsys training: model = ranking_factorization_recommender</pre>"
      ],
      "text/plain": [
       "Recsys training: model = ranking_factorization_recommender"
      ]
     },
     "metadata": {},
     "output_type": "display_data"
    },
    {
     "data": {
      "text/html": [
       "<pre>Recsys training: model = ranking_factorization_recommender</pre>"
      ],
      "text/plain": [
       "Recsys training: model = ranking_factorization_recommender"
      ]
     },
     "metadata": {},
     "output_type": "display_data"
    },
    {
     "data": {
      "text/html": [
       "<pre>Recsys training: model = ranking_factorization_recommender</pre>"
      ],
      "text/plain": [
       "Recsys training: model = ranking_factorization_recommender"
      ]
     },
     "metadata": {},
     "output_type": "display_data"
    },
    {
     "data": {
      "text/html": [
       "<pre>Recsys training: model = ranking_factorization_recommender</pre>"
      ],
      "text/plain": [
       "Recsys training: model = ranking_factorization_recommender"
      ]
     },
     "metadata": {},
     "output_type": "display_data"
    },
    {
     "data": {
      "text/html": [
       "<pre>Recsys training: model = ranking_factorization_recommender</pre>"
      ],
      "text/plain": [
       "Recsys training: model = ranking_factorization_recommender"
      ]
     },
     "metadata": {},
     "output_type": "display_data"
    },
    {
     "data": {
      "text/html": [
       "<pre>Recsys training: model = ranking_factorization_recommender</pre>"
      ],
      "text/plain": [
       "Recsys training: model = ranking_factorization_recommender"
      ]
     },
     "metadata": {},
     "output_type": "display_data"
    },
    {
     "data": {
      "text/html": [
       "<pre>Recsys training: model = ranking_factorization_recommender</pre>"
      ],
      "text/plain": [
       "Recsys training: model = ranking_factorization_recommender"
      ]
     },
     "metadata": {},
     "output_type": "display_data"
    },
    {
     "data": {
      "text/html": [
       "<pre>Recsys training: model = ranking_factorization_recommender</pre>"
      ],
      "text/plain": [
       "Recsys training: model = ranking_factorization_recommender"
      ]
     },
     "metadata": {},
     "output_type": "display_data"
    },
    {
     "data": {
      "text/html": [
       "<pre>Recsys training: model = ranking_factorization_recommender</pre>"
      ],
      "text/plain": [
       "Recsys training: model = ranking_factorization_recommender"
      ]
     },
     "metadata": {},
     "output_type": "display_data"
    },
    {
     "data": {
      "text/html": [
       "<pre>Recsys training: model = ranking_factorization_recommender</pre>"
      ],
      "text/plain": [
       "Recsys training: model = ranking_factorization_recommender"
      ]
     },
     "metadata": {},
     "output_type": "display_data"
    },
    {
     "data": {
      "text/html": [
       "<pre>Recsys training: model = ranking_factorization_recommender</pre>"
      ],
      "text/plain": [
       "Recsys training: model = ranking_factorization_recommender"
      ]
     },
     "metadata": {},
     "output_type": "display_data"
    },
    {
     "data": {
      "text/html": [
       "<pre>Recsys training: model = ranking_factorization_recommender</pre>"
      ],
      "text/plain": [
       "Recsys training: model = ranking_factorization_recommender"
      ]
     },
     "metadata": {},
     "output_type": "display_data"
    },
    {
     "data": {
      "text/html": [
       "<pre>Recsys training: model = ranking_factorization_recommender</pre>"
      ],
      "text/plain": [
       "Recsys training: model = ranking_factorization_recommender"
      ]
     },
     "metadata": {},
     "output_type": "display_data"
    },
    {
     "data": {
      "text/html": [
       "<pre>Recsys training: model = ranking_factorization_recommender</pre>"
      ],
      "text/plain": [
       "Recsys training: model = ranking_factorization_recommender"
      ]
     },
     "metadata": {},
     "output_type": "display_data"
    },
    {
     "data": {
      "text/html": [
       "<pre>Recsys training: model = ranking_factorization_recommender</pre>"
      ],
      "text/plain": [
       "Recsys training: model = ranking_factorization_recommender"
      ]
     },
     "metadata": {},
     "output_type": "display_data"
    },
    {
     "data": {
      "text/html": [
       "<pre>Recsys training: model = ranking_factorization_recommender</pre>"
      ],
      "text/plain": [
       "Recsys training: model = ranking_factorization_recommender"
      ]
     },
     "metadata": {},
     "output_type": "display_data"
    },
    {
     "data": {
      "text/html": [
       "<pre>Recsys training: model = ranking_factorization_recommender</pre>"
      ],
      "text/plain": [
       "Recsys training: model = ranking_factorization_recommender"
      ]
     },
     "metadata": {},
     "output_type": "display_data"
    },
    {
     "data": {
      "text/html": [
       "<pre>Recsys training: model = ranking_factorization_recommender</pre>"
      ],
      "text/plain": [
       "Recsys training: model = ranking_factorization_recommender"
      ]
     },
     "metadata": {},
     "output_type": "display_data"
    },
    {
     "data": {
      "text/html": [
       "<pre>Recsys training: model = ranking_factorization_recommender</pre>"
      ],
      "text/plain": [
       "Recsys training: model = ranking_factorization_recommender"
      ]
     },
     "metadata": {},
     "output_type": "display_data"
    },
    {
     "data": {
      "text/html": [
       "<pre>Recsys training: model = ranking_factorization_recommender</pre>"
      ],
      "text/plain": [
       "Recsys training: model = ranking_factorization_recommender"
      ]
     },
     "metadata": {},
     "output_type": "display_data"
    },
    {
     "data": {
      "text/html": [
       "<pre>Recsys training: model = ranking_factorization_recommender</pre>"
      ],
      "text/plain": [
       "Recsys training: model = ranking_factorization_recommender"
      ]
     },
     "metadata": {},
     "output_type": "display_data"
    },
    {
     "data": {
      "text/html": [
       "<pre>Recsys training: model = ranking_factorization_recommender</pre>"
      ],
      "text/plain": [
       "Recsys training: model = ranking_factorization_recommender"
      ]
     },
     "metadata": {},
     "output_type": "display_data"
    },
    {
     "data": {
      "text/html": [
       "<pre>Recsys training: model = ranking_factorization_recommender</pre>"
      ],
      "text/plain": [
       "Recsys training: model = ranking_factorization_recommender"
      ]
     },
     "metadata": {},
     "output_type": "display_data"
    },
    {
     "data": {
      "text/html": [
       "<pre>Recsys training: model = ranking_factorization_recommender</pre>"
      ],
      "text/plain": [
       "Recsys training: model = ranking_factorization_recommender"
      ]
     },
     "metadata": {},
     "output_type": "display_data"
    },
    {
     "data": {
      "text/html": [
       "<pre>Recsys training: model = ranking_factorization_recommender</pre>"
      ],
      "text/plain": [
       "Recsys training: model = ranking_factorization_recommender"
      ]
     },
     "metadata": {},
     "output_type": "display_data"
    },
    {
     "data": {
      "text/html": [
       "<pre>Recsys training: model = ranking_factorization_recommender</pre>"
      ],
      "text/plain": [
       "Recsys training: model = ranking_factorization_recommender"
      ]
     },
     "metadata": {},
     "output_type": "display_data"
    },
    {
     "data": {
      "text/html": [
       "<pre>Recsys training: model = ranking_factorization_recommender</pre>"
      ],
      "text/plain": [
       "Recsys training: model = ranking_factorization_recommender"
      ]
     },
     "metadata": {},
     "output_type": "display_data"
    },
    {
     "data": {
      "text/html": [
       "<pre>Recsys training: model = ranking_factorization_recommender</pre>"
      ],
      "text/plain": [
       "Recsys training: model = ranking_factorization_recommender"
      ]
     },
     "metadata": {},
     "output_type": "display_data"
    },
    {
     "data": {
      "text/html": [
       "<pre>Recsys training: model = ranking_factorization_recommender</pre>"
      ],
      "text/plain": [
       "Recsys training: model = ranking_factorization_recommender"
      ]
     },
     "metadata": {},
     "output_type": "display_data"
    },
    {
     "data": {
      "text/html": [
       "<pre>Recsys training: model = ranking_factorization_recommender</pre>"
      ],
      "text/plain": [
       "Recsys training: model = ranking_factorization_recommender"
      ]
     },
     "metadata": {},
     "output_type": "display_data"
    },
    {
     "data": {
      "text/html": [
       "<pre>Recsys training: model = ranking_factorization_recommender</pre>"
      ],
      "text/plain": [
       "Recsys training: model = ranking_factorization_recommender"
      ]
     },
     "metadata": {},
     "output_type": "display_data"
    },
    {
     "data": {
      "text/html": [
       "<pre>Recsys training: model = ranking_factorization_recommender</pre>"
      ],
      "text/plain": [
       "Recsys training: model = ranking_factorization_recommender"
      ]
     },
     "metadata": {},
     "output_type": "display_data"
    },
    {
     "data": {
      "text/html": [
       "<pre>Recsys training: model = ranking_factorization_recommender</pre>"
      ],
      "text/plain": [
       "Recsys training: model = ranking_factorization_recommender"
      ]
     },
     "metadata": {},
     "output_type": "display_data"
    },
    {
     "data": {
      "text/html": [
       "<pre>Recsys training: model = ranking_factorization_recommender</pre>"
      ],
      "text/plain": [
       "Recsys training: model = ranking_factorization_recommender"
      ]
     },
     "metadata": {},
     "output_type": "display_data"
    },
    {
     "data": {
      "text/html": [
       "<pre>Recsys training: model = ranking_factorization_recommender</pre>"
      ],
      "text/plain": [
       "Recsys training: model = ranking_factorization_recommender"
      ]
     },
     "metadata": {},
     "output_type": "display_data"
    },
    {
     "data": {
      "text/html": [
       "<pre>Recsys training: model = ranking_factorization_recommender</pre>"
      ],
      "text/plain": [
       "Recsys training: model = ranking_factorization_recommender"
      ]
     },
     "metadata": {},
     "output_type": "display_data"
    },
    {
     "data": {
      "text/html": [
       "<pre>Recsys training: model = ranking_factorization_recommender</pre>"
      ],
      "text/plain": [
       "Recsys training: model = ranking_factorization_recommender"
      ]
     },
     "metadata": {},
     "output_type": "display_data"
    },
    {
     "data": {
      "text/html": [
       "<pre>Recsys training: model = ranking_factorization_recommender</pre>"
      ],
      "text/plain": [
       "Recsys training: model = ranking_factorization_recommender"
      ]
     },
     "metadata": {},
     "output_type": "display_data"
    },
    {
     "data": {
      "text/html": [
       "<pre>Recsys training: model = ranking_factorization_recommender</pre>"
      ],
      "text/plain": [
       "Recsys training: model = ranking_factorization_recommender"
      ]
     },
     "metadata": {},
     "output_type": "display_data"
    },
    {
     "data": {
      "text/html": [
       "<pre>Recsys training: model = ranking_factorization_recommender</pre>"
      ],
      "text/plain": [
       "Recsys training: model = ranking_factorization_recommender"
      ]
     },
     "metadata": {},
     "output_type": "display_data"
    },
    {
     "data": {
      "text/html": [
       "<pre>Recsys training: model = ranking_factorization_recommender</pre>"
      ],
      "text/plain": [
       "Recsys training: model = ranking_factorization_recommender"
      ]
     },
     "metadata": {},
     "output_type": "display_data"
    },
    {
     "data": {
      "text/html": [
       "<pre>Recsys training: model = ranking_factorization_recommender</pre>"
      ],
      "text/plain": [
       "Recsys training: model = ranking_factorization_recommender"
      ]
     },
     "metadata": {},
     "output_type": "display_data"
    },
    {
     "data": {
      "text/html": [
       "<pre>Recsys training: model = ranking_factorization_recommender</pre>"
      ],
      "text/plain": [
       "Recsys training: model = ranking_factorization_recommender"
      ]
     },
     "metadata": {},
     "output_type": "display_data"
    },
    {
     "data": {
      "text/html": [
       "<pre>Recsys training: model = ranking_factorization_recommender</pre>"
      ],
      "text/plain": [
       "Recsys training: model = ranking_factorization_recommender"
      ]
     },
     "metadata": {},
     "output_type": "display_data"
    },
    {
     "data": {
      "text/html": [
       "<pre>Recsys training: model = ranking_factorization_recommender</pre>"
      ],
      "text/plain": [
       "Recsys training: model = ranking_factorization_recommender"
      ]
     },
     "metadata": {},
     "output_type": "display_data"
    },
    {
     "data": {
      "text/html": [
       "<pre>Recsys training: model = ranking_factorization_recommender</pre>"
      ],
      "text/plain": [
       "Recsys training: model = ranking_factorization_recommender"
      ]
     },
     "metadata": {},
     "output_type": "display_data"
    },
    {
     "data": {
      "text/html": [
       "<pre>Recsys training: model = ranking_factorization_recommender</pre>"
      ],
      "text/plain": [
       "Recsys training: model = ranking_factorization_recommender"
      ]
     },
     "metadata": {},
     "output_type": "display_data"
    },
    {
     "data": {
      "text/html": [
       "<pre>Recsys training: model = ranking_factorization_recommender</pre>"
      ],
      "text/plain": [
       "Recsys training: model = ranking_factorization_recommender"
      ]
     },
     "metadata": {},
     "output_type": "display_data"
    },
    {
     "data": {
      "text/html": [
       "<pre>Recsys training: model = ranking_factorization_recommender</pre>"
      ],
      "text/plain": [
       "Recsys training: model = ranking_factorization_recommender"
      ]
     },
     "metadata": {},
     "output_type": "display_data"
    },
    {
     "data": {
      "text/html": [
       "<pre>Recsys training: model = ranking_factorization_recommender</pre>"
      ],
      "text/plain": [
       "Recsys training: model = ranking_factorization_recommender"
      ]
     },
     "metadata": {},
     "output_type": "display_data"
    },
    {
     "data": {
      "text/html": [
       "<pre>Recsys training: model = ranking_factorization_recommender</pre>"
      ],
      "text/plain": [
       "Recsys training: model = ranking_factorization_recommender"
      ]
     },
     "metadata": {},
     "output_type": "display_data"
    },
    {
     "data": {
      "text/html": [
       "<pre>Recsys training: model = ranking_factorization_recommender</pre>"
      ],
      "text/plain": [
       "Recsys training: model = ranking_factorization_recommender"
      ]
     },
     "metadata": {},
     "output_type": "display_data"
    },
    {
     "data": {
      "text/html": [
       "<pre>Recsys training: model = ranking_factorization_recommender</pre>"
      ],
      "text/plain": [
       "Recsys training: model = ranking_factorization_recommender"
      ]
     },
     "metadata": {},
     "output_type": "display_data"
    }
   ],
   "source": [
    "grid_results = run_parameter_search(fm, data_model, metrics, params_grid, n_experiments, verbose=False, seed=seed)"
   ]
  },
  {
   "cell_type": "code",
   "execution_count": 192,
   "metadata": {
    "ExecuteTime": {
     "end_time": "2017-09-04T19:47:53.799017Z",
     "start_time": "2017-09-04T19:47:53.779461Z"
    },
    "collapsed": true,
    "hidden": true
   },
   "outputs": [],
   "source": [
    "grid_results_df = pd.DataFrame.from_dict(grid_results, orient='index')"
   ]
  },
  {
   "cell_type": "code",
   "execution_count": 193,
   "metadata": {
    "ExecuteTime": {
     "end_time": "2017-09-04T19:47:53.810407Z",
     "start_time": "2017-09-04T19:47:53.801077Z"
    },
    "collapsed": true,
    "hidden": true
   },
   "outputs": [],
   "source": [
    "grid_results_df.to_csv('Random_Search_results_ML.csv', index=True)"
   ]
  },
  {
   "cell_type": "code",
   "execution_count": 196,
   "metadata": {
    "ExecuteTime": {
     "end_time": "2017-09-04T19:49:10.700932Z",
     "start_time": "2017-09-04T19:49:10.607868Z"
    },
    "hidden": true
   },
   "outputs": [
    {
     "data": {
      "text/html": [
       "<div>\n",
       "<style>\n",
       "    .dataframe thead tr:only-child th {\n",
       "        text-align: right;\n",
       "    }\n",
       "\n",
       "    .dataframe thead th {\n",
       "        text-align: left;\n",
       "    }\n",
       "\n",
       "    .dataframe tbody tr th {\n",
       "        vertical-align: top;\n",
       "    }\n",
       "</style>\n",
       "<table border=\"1\" class=\"dataframe\">\n",
       "  <thead>\n",
       "    <tr style=\"text-align: right;\">\n",
       "      <th></th>\n",
       "      <th></th>\n",
       "      <th></th>\n",
       "      <th></th>\n",
       "      <th></th>\n",
       "      <th></th>\n",
       "      <th></th>\n",
       "      <th>HR</th>\n",
       "      <th>MRR</th>\n",
       "      <th>COV</th>\n",
       "    </tr>\n",
       "  </thead>\n",
       "  <tbody>\n",
       "    <tr>\n",
       "      <th rowspan=\"3\" valign=\"top\">(sss, 0.1)</th>\n",
       "      <th>(r, 1e-09)</th>\n",
       "      <th>(rr, 0.1)</th>\n",
       "      <th>(r, 50)</th>\n",
       "      <th>(nsne, 50)</th>\n",
       "      <th>(lr, 3e-07)</th>\n",
       "      <th>(mi, 40)</th>\n",
       "      <td>0.177593</td>\n",
       "      <td>0.073662</td>\n",
       "      <td>790</td>\n",
       "    </tr>\n",
       "    <tr>\n",
       "      <th>(r, 3e-09)</th>\n",
       "      <th>(rr, 0.3)</th>\n",
       "      <th>(r, 75)</th>\n",
       "      <th>(nsne, 70)</th>\n",
       "      <th>(lr, 1e-08)</th>\n",
       "      <th>(mi, 40)</th>\n",
       "      <td>0.167635</td>\n",
       "      <td>0.073641</td>\n",
       "      <td>864</td>\n",
       "    </tr>\n",
       "    <tr>\n",
       "      <th>(r, 3e-08)</th>\n",
       "      <th>(rr, 0.01)</th>\n",
       "      <th>(r, 20)</th>\n",
       "      <th>(nsne, 100)</th>\n",
       "      <th>(lr, 3e-08)</th>\n",
       "      <th>(mi, 40)</th>\n",
       "      <td>0.192531</td>\n",
       "      <td>0.077671</td>\n",
       "      <td>587</td>\n",
       "    </tr>\n",
       "    <tr>\n",
       "      <th rowspan=\"7\" valign=\"top\">(sss, 0.3)</th>\n",
       "      <th>(r, 1e-10)</th>\n",
       "      <th>(rr, 0.3)</th>\n",
       "      <th>(r, 50)</th>\n",
       "      <th>(nsne, 5)</th>\n",
       "      <th>(lr, 1e-09)</th>\n",
       "      <th>(mi, 40)</th>\n",
       "      <td>0.184232</td>\n",
       "      <td>0.072670</td>\n",
       "      <td>863</td>\n",
       "    </tr>\n",
       "    <tr>\n",
       "      <th>(r, 3e-10)</th>\n",
       "      <th>(rr, 0.03)</th>\n",
       "      <th>(r, 20)</th>\n",
       "      <th>(nsne, 50)</th>\n",
       "      <th>(lr, 3e-09)</th>\n",
       "      <th>(mi, 40)</th>\n",
       "      <td>0.175934</td>\n",
       "      <td>0.073166</td>\n",
       "      <td>517</td>\n",
       "    </tr>\n",
       "    <tr>\n",
       "      <th rowspan=\"2\" valign=\"top\">(r, 1e-09)</th>\n",
       "      <th>(rr, 0.001)</th>\n",
       "      <th>(r, 50)</th>\n",
       "      <th>(nsne, 50)</th>\n",
       "      <th>(lr, 3e-08)</th>\n",
       "      <th>(mi, 40)</th>\n",
       "      <td>0.192531</td>\n",
       "      <td>0.080512</td>\n",
       "      <td>681</td>\n",
       "    </tr>\n",
       "    <tr>\n",
       "      <th>(rr, 0.03)</th>\n",
       "      <th>(r, 250)</th>\n",
       "      <th>(nsne, 5)</th>\n",
       "      <th>(lr, 3e-09)</th>\n",
       "      <th>(mi, 40)</th>\n",
       "      <td>0.187552</td>\n",
       "      <td>0.072575</td>\n",
       "      <td>902</td>\n",
       "    </tr>\n",
       "    <tr>\n",
       "      <th>(r, 1e-08)</th>\n",
       "      <th>(rr, 0.3)</th>\n",
       "      <th>(r, 20)</th>\n",
       "      <th>(nsne, 70)</th>\n",
       "      <th>(lr, 1e-06)</th>\n",
       "      <th>(mi, 40)</th>\n",
       "      <td>0.179253</td>\n",
       "      <td>0.078162</td>\n",
       "      <td>530</td>\n",
       "    </tr>\n",
       "    <tr>\n",
       "      <th>(r, 1e-07)</th>\n",
       "      <th>(rr, 0.01)</th>\n",
       "      <th>(r, 20)</th>\n",
       "      <th>(nsne, 20)</th>\n",
       "      <th>(lr, 1e-07)</th>\n",
       "      <th>(mi, 40)</th>\n",
       "      <td>0.190041</td>\n",
       "      <td>0.073767</td>\n",
       "      <td>538</td>\n",
       "    </tr>\n",
       "    <tr>\n",
       "      <th>(r, 3e-07)</th>\n",
       "      <th>(rr, 0.3)</th>\n",
       "      <th>(r, 250)</th>\n",
       "      <th>(nsne, 15)</th>\n",
       "      <th>(lr, 3e-10)</th>\n",
       "      <th>(mi, 40)</th>\n",
       "      <td>0.180913</td>\n",
       "      <td>0.076684</td>\n",
       "      <td>788</td>\n",
       "    </tr>\n",
       "  </tbody>\n",
       "</table>\n",
       "</div>"
      ],
      "text/plain": [
       "                                                                                   HR  \\\n",
       "(sss, 0.1) (r, 1e-09) (rr, 0.1)   (r, 50)  (nsne, 50)  (lr, 3e-07) (mi, 40)  0.177593   \n",
       "           (r, 3e-09) (rr, 0.3)   (r, 75)  (nsne, 70)  (lr, 1e-08) (mi, 40)  0.167635   \n",
       "           (r, 3e-08) (rr, 0.01)  (r, 20)  (nsne, 100) (lr, 3e-08) (mi, 40)  0.192531   \n",
       "(sss, 0.3) (r, 1e-10) (rr, 0.3)   (r, 50)  (nsne, 5)   (lr, 1e-09) (mi, 40)  0.184232   \n",
       "           (r, 3e-10) (rr, 0.03)  (r, 20)  (nsne, 50)  (lr, 3e-09) (mi, 40)  0.175934   \n",
       "           (r, 1e-09) (rr, 0.001) (r, 50)  (nsne, 50)  (lr, 3e-08) (mi, 40)  0.192531   \n",
       "                      (rr, 0.03)  (r, 250) (nsne, 5)   (lr, 3e-09) (mi, 40)  0.187552   \n",
       "           (r, 1e-08) (rr, 0.3)   (r, 20)  (nsne, 70)  (lr, 1e-06) (mi, 40)  0.179253   \n",
       "           (r, 1e-07) (rr, 0.01)  (r, 20)  (nsne, 20)  (lr, 1e-07) (mi, 40)  0.190041   \n",
       "           (r, 3e-07) (rr, 0.3)   (r, 250) (nsne, 15)  (lr, 3e-10) (mi, 40)  0.180913   \n",
       "\n",
       "                                                                                  MRR  \\\n",
       "(sss, 0.1) (r, 1e-09) (rr, 0.1)   (r, 50)  (nsne, 50)  (lr, 3e-07) (mi, 40)  0.073662   \n",
       "           (r, 3e-09) (rr, 0.3)   (r, 75)  (nsne, 70)  (lr, 1e-08) (mi, 40)  0.073641   \n",
       "           (r, 3e-08) (rr, 0.01)  (r, 20)  (nsne, 100) (lr, 3e-08) (mi, 40)  0.077671   \n",
       "(sss, 0.3) (r, 1e-10) (rr, 0.3)   (r, 50)  (nsne, 5)   (lr, 1e-09) (mi, 40)  0.072670   \n",
       "           (r, 3e-10) (rr, 0.03)  (r, 20)  (nsne, 50)  (lr, 3e-09) (mi, 40)  0.073166   \n",
       "           (r, 1e-09) (rr, 0.001) (r, 50)  (nsne, 50)  (lr, 3e-08) (mi, 40)  0.080512   \n",
       "                      (rr, 0.03)  (r, 250) (nsne, 5)   (lr, 3e-09) (mi, 40)  0.072575   \n",
       "           (r, 1e-08) (rr, 0.3)   (r, 20)  (nsne, 70)  (lr, 1e-06) (mi, 40)  0.078162   \n",
       "           (r, 1e-07) (rr, 0.01)  (r, 20)  (nsne, 20)  (lr, 1e-07) (mi, 40)  0.073767   \n",
       "           (r, 3e-07) (rr, 0.3)   (r, 250) (nsne, 15)  (lr, 3e-10) (mi, 40)  0.076684   \n",
       "\n",
       "                                                                             COV  \n",
       "(sss, 0.1) (r, 1e-09) (rr, 0.1)   (r, 50)  (nsne, 50)  (lr, 3e-07) (mi, 40)  790  \n",
       "           (r, 3e-09) (rr, 0.3)   (r, 75)  (nsne, 70)  (lr, 1e-08) (mi, 40)  864  \n",
       "           (r, 3e-08) (rr, 0.01)  (r, 20)  (nsne, 100) (lr, 3e-08) (mi, 40)  587  \n",
       "(sss, 0.3) (r, 1e-10) (rr, 0.3)   (r, 50)  (nsne, 5)   (lr, 1e-09) (mi, 40)  863  \n",
       "           (r, 3e-10) (rr, 0.03)  (r, 20)  (nsne, 50)  (lr, 3e-09) (mi, 40)  517  \n",
       "           (r, 1e-09) (rr, 0.001) (r, 50)  (nsne, 50)  (lr, 3e-08) (mi, 40)  681  \n",
       "                      (rr, 0.03)  (r, 250) (nsne, 5)   (lr, 3e-09) (mi, 40)  902  \n",
       "           (r, 1e-08) (rr, 0.3)   (r, 20)  (nsne, 70)  (lr, 1e-06) (mi, 40)  530  \n",
       "           (r, 1e-07) (rr, 0.01)  (r, 20)  (nsne, 20)  (lr, 1e-07) (mi, 40)  538  \n",
       "           (r, 3e-07) (rr, 0.3)   (r, 250) (nsne, 15)  (lr, 3e-10) (mi, 40)  788  "
      ]
     },
     "execution_count": 196,
     "metadata": {},
     "output_type": "execute_result"
    }
   ],
   "source": [
    "grid_results_df.loc[lambda x: x.MRR > 0.9*x.MRR.max()]"
   ]
  },
  {
   "cell_type": "code",
   "execution_count": 195,
   "metadata": {
    "ExecuteTime": {
     "end_time": "2017-09-04T19:47:54.607238Z",
     "start_time": "2017-09-04T19:47:54.064082Z"
    },
    "hidden": true
   },
   "outputs": [
    {
     "data": {
      "text/plain": [
       "<matplotlib.axes._subplots.AxesSubplot at 0x7fcde01b6a50>"
      ]
     },
     "execution_count": 195,
     "metadata": {},
     "output_type": "execute_result"
    },
    {
     "data": {
      "image/png": "[encoded data removed]",
      "text/plain": [
       "<matplotlib.figure.Figure at 0x7fcdaf761310>"
      ]
     },
     "metadata": {
      "image/png": {
       "height": 250,
       "width": 407
      }
     },
     "output_type": "display_data"
    }
   ],
   "source": [
    "grid_results_df[['HR', 'MRR']].reset_index(drop=True).plot(secondary_y='HR', ylim=(0, None))"
   ]
  },
  {
   "cell_type": "code",
   "execution_count": 200,
   "metadata": {
    "ExecuteTime": {
     "end_time": "2017-09-04T19:52:59.537884Z",
     "start_time": "2017-09-04T19:52:59.498089Z"
    },
    "hidden": true
   },
   "outputs": [
    {
     "data": {
      "text/html": [
       "<div>\n",
       "<style>\n",
       "    .dataframe thead tr:only-child th {\n",
       "        text-align: right;\n",
       "    }\n",
       "\n",
       "    .dataframe thead th {\n",
       "        text-align: left;\n",
       "    }\n",
       "\n",
       "    .dataframe tbody tr th {\n",
       "        vertical-align: top;\n",
       "    }\n",
       "</style>\n",
       "<table border=\"1\" class=\"dataframe\">\n",
       "  <thead>\n",
       "    <tr style=\"text-align: right;\">\n",
       "      <th></th>\n",
       "      <th></th>\n",
       "      <th></th>\n",
       "      <th></th>\n",
       "      <th></th>\n",
       "      <th></th>\n",
       "      <th></th>\n",
       "      <th>HR</th>\n",
       "      <th>MRR</th>\n",
       "      <th>COV</th>\n",
       "    </tr>\n",
       "  </thead>\n",
       "  <tbody>\n",
       "    <tr>\n",
       "      <th>(sss, 0.3)</th>\n",
       "      <th>(r, 1e-09)</th>\n",
       "      <th>(rr, 0.001)</th>\n",
       "      <th>(r, 50)</th>\n",
       "      <th>(nsne, 50)</th>\n",
       "      <th>(lr, 3e-08)</th>\n",
       "      <th>(mi, 40)</th>\n",
       "      <td>0.192531</td>\n",
       "      <td>0.080512</td>\n",
       "      <td>681</td>\n",
       "    </tr>\n",
       "  </tbody>\n",
       "</table>\n",
       "</div>"
      ],
      "text/plain": [
       "                                                                                 HR  \\\n",
       "(sss, 0.3) (r, 1e-09) (rr, 0.001) (r, 50) (nsne, 50) (lr, 3e-08) (mi, 40)  0.192531   \n",
       "\n",
       "                                                                                MRR  \\\n",
       "(sss, 0.3) (r, 1e-09) (rr, 0.001) (r, 50) (nsne, 50) (lr, 3e-08) (mi, 40)  0.080512   \n",
       "\n",
       "                                                                           COV  \n",
       "(sss, 0.3) (r, 1e-09) (rr, 0.001) (r, 50) (nsne, 50) (lr, 3e-08) (mi, 40)  681  "
      ]
     },
     "execution_count": 200,
     "metadata": {},
     "output_type": "execute_result"
    }
   ],
   "source": [
    "grid_results_df.loc[lambda x: x.MRR == x.MRR.max()]"
   ]
  },
  {
   "cell_type": "markdown",
   "metadata": {
    "heading_collapsed": true
   },
   "source": [
    "### Fine-tuning"
   ]
  },
  {
   "cell_type": "code",
   "execution_count": 352,
   "metadata": {
    "ExecuteTime": {
     "end_time": "2017-09-04T21:03:12.435670Z",
     "start_time": "2017-09-04T21:03:12.419349Z"
    },
    "hidden": true
   },
   "outputs": [
    {
     "data": {
      "text/plain": [
       "81"
      ]
     },
     "execution_count": 352,
     "metadata": {},
     "output_type": "execute_result"
    }
   ],
   "source": [
    "refined_params = {\n",
    "          'ranking_regularization': [0.0003, 0.001, 0.003],\n",
    "          'regularization':         [3e-10, 1e-9, 3e-9],\n",
    "          'linear_regularization':  [1e-8, 3e-8, 1e-7],\n",
    "          'sgd_step_size':          [0.3],\n",
    "          'num_sampled_negative_examples': [40, 50, 60],\n",
    "          'max_iterations': [40],\n",
    "          'rank': [50]\n",
    "         }\n",
    "refined_params_grid = ParameterGrid(refined_params)\n",
    "len(refined_params_grid)"
   ]
  },
  {
   "cell_type": "code",
   "execution_count": null,
   "metadata": {
    "ExecuteTime": {
     "start_time": "2017-09-04T18:04:03.302Z"
    },
    "hidden": true
   },
   "outputs": [
    {
     "data": {
      "application/vnd.jupyter.widget-view+json": {
       "model_id": "15fd2a5b4f684c62b27a60041730289d",
       "version_major": 2,
       "version_minor": 0
      },
      "text/plain": [
       "A Jupyter Widget"
      ]
     },
     "metadata": {},
     "output_type": "display_data"
    },
    {
     "data": {
      "text/html": [
       "<pre>Recsys training: model = ranking_factorization_recommender</pre>"
      ],
      "text/plain": [
       "Recsys training: model = ranking_factorization_recommender"
      ]
     },
     "metadata": {},
     "output_type": "display_data"
    },
    {
     "data": {
      "text/html": [
       "<pre>Recsys training: model = ranking_factorization_recommender</pre>"
      ],
      "text/plain": [
       "Recsys training: model = ranking_factorization_recommender"
      ]
     },
     "metadata": {},
     "output_type": "display_data"
    },
    {
     "data": {
      "text/html": [
       "<pre>Recsys training: model = ranking_factorization_recommender</pre>"
      ],
      "text/plain": [
       "Recsys training: model = ranking_factorization_recommender"
      ]
     },
     "metadata": {},
     "output_type": "display_data"
    },
    {
     "data": {
      "text/html": [
       "<pre>Recsys training: model = ranking_factorization_recommender</pre>"
      ],
      "text/plain": [
       "Recsys training: model = ranking_factorization_recommender"
      ]
     },
     "metadata": {},
     "output_type": "display_data"
    },
    {
     "data": {
      "text/html": [
       "<pre>Recsys training: model = ranking_factorization_recommender</pre>"
      ],
      "text/plain": [
       "Recsys training: model = ranking_factorization_recommender"
      ]
     },
     "metadata": {},
     "output_type": "display_data"
    },
    {
     "data": {
      "text/html": [
       "<pre>Recsys training: model = ranking_factorization_recommender</pre>"
      ],
      "text/plain": [
       "Recsys training: model = ranking_factorization_recommender"
      ]
     },
     "metadata": {},
     "output_type": "display_data"
    },
    {
     "data": {
      "text/html": [
       "<pre>Recsys training: model = ranking_factorization_recommender</pre>"
      ],
      "text/plain": [
       "Recsys training: model = ranking_factorization_recommender"
      ]
     },
     "metadata": {},
     "output_type": "display_data"
    },
    {
     "data": {
      "text/html": [
       "<pre>Recsys training: model = ranking_factorization_recommender</pre>"
      ],
      "text/plain": [
       "Recsys training: model = ranking_factorization_recommender"
      ]
     },
     "metadata": {},
     "output_type": "display_data"
    },
    {
     "data": {
      "text/html": [
       "<pre>Recsys training: model = ranking_factorization_recommender</pre>"
      ],
      "text/plain": [
       "Recsys training: model = ranking_factorization_recommender"
      ]
     },
     "metadata": {},
     "output_type": "display_data"
    },
    {
     "data": {
      "text/html": [
       "<pre>Recsys training: model = ranking_factorization_recommender</pre>"
      ],
      "text/plain": [
       "Recsys training: model = ranking_factorization_recommender"
      ]
     },
     "metadata": {},
     "output_type": "display_data"
    },
    {
     "data": {
      "text/html": [
       "<pre>Recsys training: model = ranking_factorization_recommender</pre>"
      ],
      "text/plain": [
       "Recsys training: model = ranking_factorization_recommender"
      ]
     },
     "metadata": {},
     "output_type": "display_data"
    },
    {
     "data": {
      "text/html": [
       "<pre>Recsys training: model = ranking_factorization_recommender</pre>"
      ],
      "text/plain": [
       "Recsys training: model = ranking_factorization_recommender"
      ]
     },
     "metadata": {},
     "output_type": "display_data"
    },
    {
     "data": {
      "text/html": [
       "<pre>Recsys training: model = ranking_factorization_recommender</pre>"
      ],
      "text/plain": [
       "Recsys training: model = ranking_factorization_recommender"
      ]
     },
     "metadata": {},
     "output_type": "display_data"
    },
    {
     "data": {
      "text/html": [
       "<pre>Recsys training: model = ranking_factorization_recommender</pre>"
      ],
      "text/plain": [
       "Recsys training: model = ranking_factorization_recommender"
      ]
     },
     "metadata": {},
     "output_type": "display_data"
    },
    {
     "data": {
      "text/html": [
       "<pre>Recsys training: model = ranking_factorization_recommender</pre>"
      ],
      "text/plain": [
       "Recsys training: model = ranking_factorization_recommender"
      ]
     },
     "metadata": {},
     "output_type": "display_data"
    },
    {
     "data": {
      "text/html": [
       "<pre>Recsys training: model = ranking_factorization_recommender</pre>"
      ],
      "text/plain": [
       "Recsys training: model = ranking_factorization_recommender"
      ]
     },
     "metadata": {},
     "output_type": "display_data"
    },
    {
     "data": {
      "text/html": [
       "<pre>Recsys training: model = ranking_factorization_recommender</pre>"
      ],
      "text/plain": [
       "Recsys training: model = ranking_factorization_recommender"
      ]
     },
     "metadata": {},
     "output_type": "display_data"
    },
    {
     "data": {
      "text/html": [
       "<pre>Recsys training: model = ranking_factorization_recommender</pre>"
      ],
      "text/plain": [
       "Recsys training: model = ranking_factorization_recommender"
      ]
     },
     "metadata": {},
     "output_type": "display_data"
    },
    {
     "data": {
      "text/html": [
       "<pre>Recsys training: model = ranking_factorization_recommender</pre>"
      ],
      "text/plain": [
       "Recsys training: model = ranking_factorization_recommender"
      ]
     },
     "metadata": {},
     "output_type": "display_data"
    },
    {
     "data": {
      "text/html": [
       "<pre>Recsys training: model = ranking_factorization_recommender</pre>"
      ],
      "text/plain": [
       "Recsys training: model = ranking_factorization_recommender"
      ]
     },
     "metadata": {},
     "output_type": "display_data"
    },
    {
     "data": {
      "text/html": [
       "<pre>Recsys training: model = ranking_factorization_recommender</pre>"
      ],
      "text/plain": [
       "Recsys training: model = ranking_factorization_recommender"
      ]
     },
     "metadata": {},
     "output_type": "display_data"
    },
    {
     "data": {
      "text/html": [
       "<pre>Recsys training: model = ranking_factorization_recommender</pre>"
      ],
      "text/plain": [
       "Recsys training: model = ranking_factorization_recommender"
      ]
     },
     "metadata": {},
     "output_type": "display_data"
    },
    {
     "data": {
      "text/html": [
       "<pre>Recsys training: model = ranking_factorization_recommender</pre>"
      ],
      "text/plain": [
       "Recsys training: model = ranking_factorization_recommender"
      ]
     },
     "metadata": {},
     "output_type": "display_data"
    },
    {
     "data": {
      "text/html": [
       "<pre>Recsys training: model = ranking_factorization_recommender</pre>"
      ],
      "text/plain": [
       "Recsys training: model = ranking_factorization_recommender"
      ]
     },
     "metadata": {},
     "output_type": "display_data"
    },
    {
     "data": {
      "text/html": [
       "<pre>Recsys training: model = ranking_factorization_recommender</pre>"
      ],
      "text/plain": [
       "Recsys training: model = ranking_factorization_recommender"
      ]
     },
     "metadata": {},
     "output_type": "display_data"
    },
    {
     "data": {
      "text/html": [
       "<pre>Recsys training: model = ranking_factorization_recommender</pre>"
      ],
      "text/plain": [
       "Recsys training: model = ranking_factorization_recommender"
      ]
     },
     "metadata": {},
     "output_type": "display_data"
    },
    {
     "data": {
      "text/html": [
       "<pre>Recsys training: model = ranking_factorization_recommender</pre>"
      ],
      "text/plain": [
       "Recsys training: model = ranking_factorization_recommender"
      ]
     },
     "metadata": {},
     "output_type": "display_data"
    },
    {
     "data": {
      "text/html": [
       "<pre>Recsys training: model = ranking_factorization_recommender</pre>"
      ],
      "text/plain": [
       "Recsys training: model = ranking_factorization_recommender"
      ]
     },
     "metadata": {},
     "output_type": "display_data"
    },
    {
     "data": {
      "text/html": [
       "<pre>Recsys training: model = ranking_factorization_recommender</pre>"
      ],
      "text/plain": [
       "Recsys training: model = ranking_factorization_recommender"
      ]
     },
     "metadata": {},
     "output_type": "display_data"
    },
    {
     "data": {
      "text/html": [
       "<pre>Recsys training: model = ranking_factorization_recommender</pre>"
      ],
      "text/plain": [
       "Recsys training: model = ranking_factorization_recommender"
      ]
     },
     "metadata": {},
     "output_type": "display_data"
    },
    {
     "data": {
      "text/html": [
       "<pre>Recsys training: model = ranking_factorization_recommender</pre>"
      ],
      "text/plain": [
       "Recsys training: model = ranking_factorization_recommender"
      ]
     },
     "metadata": {},
     "output_type": "display_data"
    },
    {
     "data": {
      "text/html": [
       "<pre>Recsys training: model = ranking_factorization_recommender</pre>"
      ],
      "text/plain": [
       "Recsys training: model = ranking_factorization_recommender"
      ]
     },
     "metadata": {},
     "output_type": "display_data"
    },
    {
     "data": {
      "text/html": [
       "<pre>Recsys training: model = ranking_factorization_recommender</pre>"
      ],
      "text/plain": [
       "Recsys training: model = ranking_factorization_recommender"
      ]
     },
     "metadata": {},
     "output_type": "display_data"
    },
    {
     "data": {
      "text/html": [
       "<pre>Recsys training: model = ranking_factorization_recommender</pre>"
      ],
      "text/plain": [
       "Recsys training: model = ranking_factorization_recommender"
      ]
     },
     "metadata": {},
     "output_type": "display_data"
    },
    {
     "data": {
      "text/html": [
       "<pre>Recsys training: model = ranking_factorization_recommender</pre>"
      ],
      "text/plain": [
       "Recsys training: model = ranking_factorization_recommender"
      ]
     },
     "metadata": {},
     "output_type": "display_data"
    },
    {
     "data": {
      "text/html": [
       "<pre>Recsys training: model = ranking_factorization_recommender</pre>"
      ],
      "text/plain": [
       "Recsys training: model = ranking_factorization_recommender"
      ]
     },
     "metadata": {},
     "output_type": "display_data"
    },
    {
     "data": {
      "text/html": [
       "<pre>Recsys training: model = ranking_factorization_recommender</pre>"
      ],
      "text/plain": [
       "Recsys training: model = ranking_factorization_recommender"
      ]
     },
     "metadata": {},
     "output_type": "display_data"
    },
    {
     "data": {
      "text/html": [
       "<pre>Recsys training: model = ranking_factorization_recommender</pre>"
      ],
      "text/plain": [
       "Recsys training: model = ranking_factorization_recommender"
      ]
     },
     "metadata": {},
     "output_type": "display_data"
    },
    {
     "data": {
      "text/html": [
       "<pre>Recsys training: model = ranking_factorization_recommender</pre>"
      ],
      "text/plain": [
       "Recsys training: model = ranking_factorization_recommender"
      ]
     },
     "metadata": {},
     "output_type": "display_data"
    },
    {
     "data": {
      "text/html": [
       "<pre>Recsys training: model = ranking_factorization_recommender</pre>"
      ],
      "text/plain": [
       "Recsys training: model = ranking_factorization_recommender"
      ]
     },
     "metadata": {},
     "output_type": "display_data"
    },
    {
     "data": {
      "text/html": [
       "<pre>Recsys training: model = ranking_factorization_recommender</pre>"
      ],
      "text/plain": [
       "Recsys training: model = ranking_factorization_recommender"
      ]
     },
     "metadata": {},
     "output_type": "display_data"
    },
    {
     "data": {
      "text/html": [
       "<pre>Recsys training: model = ranking_factorization_recommender</pre>"
      ],
      "text/plain": [
       "Recsys training: model = ranking_factorization_recommender"
      ]
     },
     "metadata": {},
     "output_type": "display_data"
    },
    {
     "data": {
      "text/html": [
       "<pre>Recsys training: model = ranking_factorization_recommender</pre>"
      ],
      "text/plain": [
       "Recsys training: model = ranking_factorization_recommender"
      ]
     },
     "metadata": {},
     "output_type": "display_data"
    },
    {
     "data": {
      "text/html": [
       "<pre>Recsys training: model = ranking_factorization_recommender</pre>"
      ],
      "text/plain": [
       "Recsys training: model = ranking_factorization_recommender"
      ]
     },
     "metadata": {},
     "output_type": "display_data"
    },
    {
     "data": {
      "text/html": [
       "<pre>Recsys training: model = ranking_factorization_recommender</pre>"
      ],
      "text/plain": [
       "Recsys training: model = ranking_factorization_recommender"
      ]
     },
     "metadata": {},
     "output_type": "display_data"
    },
    {
     "data": {
      "text/html": [
       "<pre>Recsys training: model = ranking_factorization_recommender</pre>"
      ],
      "text/plain": [
       "Recsys training: model = ranking_factorization_recommender"
      ]
     },
     "metadata": {},
     "output_type": "display_data"
    },
    {
     "data": {
      "text/html": [
       "<pre>Recsys training: model = ranking_factorization_recommender</pre>"
      ],
      "text/plain": [
       "Recsys training: model = ranking_factorization_recommender"
      ]
     },
     "metadata": {},
     "output_type": "display_data"
    },
    {
     "data": {
      "text/html": [
       "<pre>Recsys training: model = ranking_factorization_recommender</pre>"
      ],
      "text/plain": [
       "Recsys training: model = ranking_factorization_recommender"
      ]
     },
     "metadata": {},
     "output_type": "display_data"
    },
    {
     "data": {
      "text/html": [
       "<pre>Recsys training: model = ranking_factorization_recommender</pre>"
      ],
      "text/plain": [
       "Recsys training: model = ranking_factorization_recommender"
      ]
     },
     "metadata": {},
     "output_type": "display_data"
    },
    {
     "data": {
      "text/html": [
       "<pre>Recsys training: model = ranking_factorization_recommender</pre>"
      ],
      "text/plain": [
       "Recsys training: model = ranking_factorization_recommender"
      ]
     },
     "metadata": {},
     "output_type": "display_data"
    },
    {
     "data": {
      "text/html": [
       "<pre>Recsys training: model = ranking_factorization_recommender</pre>"
      ],
      "text/plain": [
       "Recsys training: model = ranking_factorization_recommender"
      ]
     },
     "metadata": {},
     "output_type": "display_data"
    },
    {
     "data": {
      "text/html": [
       "<pre>Recsys training: model = ranking_factorization_recommender</pre>"
      ],
      "text/plain": [
       "Recsys training: model = ranking_factorization_recommender"
      ]
     },
     "metadata": {},
     "output_type": "display_data"
    },
    {
     "data": {
      "text/html": [
       "<pre>Recsys training: model = ranking_factorization_recommender</pre>"
      ],
      "text/plain": [
       "Recsys training: model = ranking_factorization_recommender"
      ]
     },
     "metadata": {},
     "output_type": "display_data"
    },
    {
     "data": {
      "text/html": [
       "<pre>Recsys training: model = ranking_factorization_recommender</pre>"
      ],
      "text/plain": [
       "Recsys training: model = ranking_factorization_recommender"
      ]
     },
     "metadata": {},
     "output_type": "display_data"
    },
    {
     "data": {
      "text/html": [
       "<pre>Recsys training: model = ranking_factorization_recommender</pre>"
      ],
      "text/plain": [
       "Recsys training: model = ranking_factorization_recommender"
      ]
     },
     "metadata": {},
     "output_type": "display_data"
    },
    {
     "data": {
      "text/html": [
       "<pre>Recsys training: model = ranking_factorization_recommender</pre>"
      ],
      "text/plain": [
       "Recsys training: model = ranking_factorization_recommender"
      ]
     },
     "metadata": {},
     "output_type": "display_data"
    },
    {
     "data": {
      "text/html": [
       "<pre>Recsys training: model = ranking_factorization_recommender</pre>"
      ],
      "text/plain": [
       "Recsys training: model = ranking_factorization_recommender"
      ]
     },
     "metadata": {},
     "output_type": "display_data"
    },
    {
     "data": {
      "text/html": [
       "<pre>Recsys training: model = ranking_factorization_recommender</pre>"
      ],
      "text/plain": [
       "Recsys training: model = ranking_factorization_recommender"
      ]
     },
     "metadata": {},
     "output_type": "display_data"
    },
    {
     "data": {
      "text/html": [
       "<pre>Recsys training: model = ranking_factorization_recommender</pre>"
      ],
      "text/plain": [
       "Recsys training: model = ranking_factorization_recommender"
      ]
     },
     "metadata": {},
     "output_type": "display_data"
    },
    {
     "data": {
      "text/html": [
       "<pre>Recsys training: model = ranking_factorization_recommender</pre>"
      ],
      "text/plain": [
       "Recsys training: model = ranking_factorization_recommender"
      ]
     },
     "metadata": {},
     "output_type": "display_data"
    },
    {
     "data": {
      "text/html": [
       "<pre>Recsys training: model = ranking_factorization_recommender</pre>"
      ],
      "text/plain": [
       "Recsys training: model = ranking_factorization_recommender"
      ]
     },
     "metadata": {},
     "output_type": "display_data"
    },
    {
     "data": {
      "text/html": [
       "<pre>Recsys training: model = ranking_factorization_recommender</pre>"
      ],
      "text/plain": [
       "Recsys training: model = ranking_factorization_recommender"
      ]
     },
     "metadata": {},
     "output_type": "display_data"
    },
    {
     "data": {
      "text/html": [
       "<pre>Recsys training: model = ranking_factorization_recommender</pre>"
      ],
      "text/plain": [
       "Recsys training: model = ranking_factorization_recommender"
      ]
     },
     "metadata": {},
     "output_type": "display_data"
    },
    {
     "data": {
      "text/html": [
       "<pre>Recsys training: model = ranking_factorization_recommender</pre>"
      ],
      "text/plain": [
       "Recsys training: model = ranking_factorization_recommender"
      ]
     },
     "metadata": {},
     "output_type": "display_data"
    },
    {
     "data": {
      "text/html": [
       "<pre>Recsys training: model = ranking_factorization_recommender</pre>"
      ],
      "text/plain": [
       "Recsys training: model = ranking_factorization_recommender"
      ]
     },
     "metadata": {},
     "output_type": "display_data"
    }
   ],
   "source": [
    "grid_results_refined = run_parameter_search(fm, data_model, metrics, refined_params_grid, verbose=False, seed=seed)"
   ]
  },
  {
   "cell_type": "code",
   "execution_count": null,
   "metadata": {
    "collapsed": true,
    "hidden": true
   },
   "outputs": [],
   "source": [
    "grid_results_refined_df = pd.DataFrame.from_dict(grid_results_refined, orient='index')"
   ]
  },
  {
   "cell_type": "code",
   "execution_count": 361,
   "metadata": {
    "ExecuteTime": {
     "end_time": "2017-09-05T06:30:32.638233Z",
     "start_time": "2017-09-05T06:30:32.540466Z"
    },
    "hidden": true
   },
   "outputs": [
    {
     "data": {
      "text/html": [
       "<div>\n",
       "<style>\n",
       "    .dataframe thead tr:only-child th {\n",
       "        text-align: right;\n",
       "    }\n",
       "\n",
       "    .dataframe thead th {\n",
       "        text-align: left;\n",
       "    }\n",
       "\n",
       "    .dataframe tbody tr th {\n",
       "        vertical-align: top;\n",
       "    }\n",
       "</style>\n",
       "<table border=\"1\" class=\"dataframe\">\n",
       "  <thead>\n",
       "    <tr style=\"text-align: right;\">\n",
       "      <th></th>\n",
       "      <th></th>\n",
       "      <th></th>\n",
       "      <th></th>\n",
       "      <th></th>\n",
       "      <th></th>\n",
       "      <th></th>\n",
       "      <th>HR</th>\n",
       "      <th>MRR</th>\n",
       "      <th>COV</th>\n",
       "    </tr>\n",
       "  </thead>\n",
       "  <tbody>\n",
       "    <tr>\n",
       "      <th rowspan=\"9\" valign=\"top\">(sss, 0.3)</th>\n",
       "      <th rowspan=\"2\" valign=\"top\">(r, 3e-10)</th>\n",
       "      <th>(rr, 0.001)</th>\n",
       "      <th>(r, 50)</th>\n",
       "      <th>(nsne, 40)</th>\n",
       "      <th>(lr, 1e-07)</th>\n",
       "      <th>(mi, 40)</th>\n",
       "      <td>0.198340</td>\n",
       "      <td>0.079343</td>\n",
       "      <td>668</td>\n",
       "    </tr>\n",
       "    <tr>\n",
       "      <th>(rr, 0.003)</th>\n",
       "      <th>(r, 50)</th>\n",
       "      <th>(nsne, 60)</th>\n",
       "      <th>(lr, 1e-08)</th>\n",
       "      <th>(mi, 40)</th>\n",
       "      <td>0.189212</td>\n",
       "      <td>0.081886</td>\n",
       "      <td>725</td>\n",
       "    </tr>\n",
       "    <tr>\n",
       "      <th rowspan=\"5\" valign=\"top\">(r, 1e-09)</th>\n",
       "      <th rowspan=\"3\" valign=\"top\">(rr, 0.0003)</th>\n",
       "      <th rowspan=\"3\" valign=\"top\">(r, 50)</th>\n",
       "      <th rowspan=\"2\" valign=\"top\">(nsne, 40)</th>\n",
       "      <th>(lr, 3e-08)</th>\n",
       "      <th>(mi, 40)</th>\n",
       "      <td>0.186722</td>\n",
       "      <td>0.078110</td>\n",
       "      <td>683</td>\n",
       "    </tr>\n",
       "    <tr>\n",
       "      <th>(lr, 1e-07)</th>\n",
       "      <th>(mi, 40)</th>\n",
       "      <td>0.179253</td>\n",
       "      <td>0.078066</td>\n",
       "      <td>658</td>\n",
       "    </tr>\n",
       "    <tr>\n",
       "      <th>(nsne, 60)</th>\n",
       "      <th>(lr, 1e-07)</th>\n",
       "      <th>(mi, 40)</th>\n",
       "      <td>0.182573</td>\n",
       "      <td>0.079784</td>\n",
       "      <td>716</td>\n",
       "    </tr>\n",
       "    <tr>\n",
       "      <th>(rr, 0.001)</th>\n",
       "      <th>(r, 50)</th>\n",
       "      <th>(nsne, 60)</th>\n",
       "      <th>(lr, 3e-08)</th>\n",
       "      <th>(mi, 40)</th>\n",
       "      <td>0.193361</td>\n",
       "      <td>0.079425</td>\n",
       "      <td>759</td>\n",
       "    </tr>\n",
       "    <tr>\n",
       "      <th>(rr, 0.003)</th>\n",
       "      <th>(r, 50)</th>\n",
       "      <th>(nsne, 60)</th>\n",
       "      <th>(lr, 1e-07)</th>\n",
       "      <th>(mi, 40)</th>\n",
       "      <td>0.178423</td>\n",
       "      <td>0.078338</td>\n",
       "      <td>653</td>\n",
       "    </tr>\n",
       "    <tr>\n",
       "      <th rowspan=\"2\" valign=\"top\">(r, 3e-09)</th>\n",
       "      <th>(rr, 0.001)</th>\n",
       "      <th>(r, 50)</th>\n",
       "      <th>(nsne, 40)</th>\n",
       "      <th>(lr, 1e-08)</th>\n",
       "      <th>(mi, 40)</th>\n",
       "      <td>0.192531</td>\n",
       "      <td>0.080727</td>\n",
       "      <td>697</td>\n",
       "    </tr>\n",
       "    <tr>\n",
       "      <th>(rr, 0.003)</th>\n",
       "      <th>(r, 50)</th>\n",
       "      <th>(nsne, 50)</th>\n",
       "      <th>(lr, 3e-08)</th>\n",
       "      <th>(mi, 40)</th>\n",
       "      <td>0.168465</td>\n",
       "      <td>0.078238</td>\n",
       "      <td>642</td>\n",
       "    </tr>\n",
       "  </tbody>\n",
       "</table>\n",
       "</div>"
      ],
      "text/plain": [
       "                                                                                  HR  \\\n",
       "(sss, 0.3) (r, 3e-10) (rr, 0.001)  (r, 50) (nsne, 40) (lr, 1e-07) (mi, 40)  0.198340   \n",
       "                      (rr, 0.003)  (r, 50) (nsne, 60) (lr, 1e-08) (mi, 40)  0.189212   \n",
       "           (r, 1e-09) (rr, 0.0003) (r, 50) (nsne, 40) (lr, 3e-08) (mi, 40)  0.186722   \n",
       "                                                      (lr, 1e-07) (mi, 40)  0.179253   \n",
       "                                           (nsne, 60) (lr, 1e-07) (mi, 40)  0.182573   \n",
       "                      (rr, 0.001)  (r, 50) (nsne, 60) (lr, 3e-08) (mi, 40)  0.193361   \n",
       "                      (rr, 0.003)  (r, 50) (nsne, 60) (lr, 1e-07) (mi, 40)  0.178423   \n",
       "           (r, 3e-09) (rr, 0.001)  (r, 50) (nsne, 40) (lr, 1e-08) (mi, 40)  0.192531   \n",
       "                      (rr, 0.003)  (r, 50) (nsne, 50) (lr, 3e-08) (mi, 40)  0.168465   \n",
       "\n",
       "                                                                                 MRR  \\\n",
       "(sss, 0.3) (r, 3e-10) (rr, 0.001)  (r, 50) (nsne, 40) (lr, 1e-07) (mi, 40)  0.079343   \n",
       "                      (rr, 0.003)  (r, 50) (nsne, 60) (lr, 1e-08) (mi, 40)  0.081886   \n",
       "           (r, 1e-09) (rr, 0.0003) (r, 50) (nsne, 40) (lr, 3e-08) (mi, 40)  0.078110   \n",
       "                                                      (lr, 1e-07) (mi, 40)  0.078066   \n",
       "                                           (nsne, 60) (lr, 1e-07) (mi, 40)  0.079784   \n",
       "                      (rr, 0.001)  (r, 50) (nsne, 60) (lr, 3e-08) (mi, 40)  0.079425   \n",
       "                      (rr, 0.003)  (r, 50) (nsne, 60) (lr, 1e-07) (mi, 40)  0.078338   \n",
       "           (r, 3e-09) (rr, 0.001)  (r, 50) (nsne, 40) (lr, 1e-08) (mi, 40)  0.080727   \n",
       "                      (rr, 0.003)  (r, 50) (nsne, 50) (lr, 3e-08) (mi, 40)  0.078238   \n",
       "\n",
       "                                                                            COV  \n",
       "(sss, 0.3) (r, 3e-10) (rr, 0.001)  (r, 50) (nsne, 40) (lr, 1e-07) (mi, 40)  668  \n",
       "                      (rr, 0.003)  (r, 50) (nsne, 60) (lr, 1e-08) (mi, 40)  725  \n",
       "           (r, 1e-09) (rr, 0.0003) (r, 50) (nsne, 40) (lr, 3e-08) (mi, 40)  683  \n",
       "                                                      (lr, 1e-07) (mi, 40)  658  \n",
       "                                           (nsne, 60) (lr, 1e-07) (mi, 40)  716  \n",
       "                      (rr, 0.001)  (r, 50) (nsne, 60) (lr, 3e-08) (mi, 40)  759  \n",
       "                      (rr, 0.003)  (r, 50) (nsne, 60) (lr, 1e-07) (mi, 40)  653  \n",
       "           (r, 3e-09) (rr, 0.001)  (r, 50) (nsne, 40) (lr, 1e-08) (mi, 40)  697  \n",
       "                      (rr, 0.003)  (r, 50) (nsne, 50) (lr, 3e-08) (mi, 40)  642  "
      ]
     },
     "execution_count": 361,
     "metadata": {},
     "output_type": "execute_result"
    }
   ],
   "source": [
    "grid_results_refined_df.loc[lambda x: x.MRR > 0.95*x.MRR.max()]"
   ]
  },
  {
   "cell_type": "code",
   "execution_count": 362,
   "metadata": {
    "ExecuteTime": {
     "end_time": "2017-09-05T06:30:36.611917Z",
     "start_time": "2017-09-05T06:30:35.653541Z"
    },
    "hidden": true
   },
   "outputs": [
    {
     "data": {
      "text/plain": [
       "<matplotlib.axes._subplots.AxesSubplot at 0x7fcde6b7b490>"
      ]
     },
     "execution_count": 362,
     "metadata": {},
     "output_type": "execute_result"
    },
    {
     "data": {
      "image/png": "[encoded data removed]",
      "text/plain": [
       "<matplotlib.figure.Figure at 0x7fcde6bbc550>"
      ]
     },
     "metadata": {
      "image/png": {
       "height": 250,
       "width": 407
      }
     },
     "output_type": "display_data"
    }
   ],
   "source": [
    "grid_results_refined_df[['HR', 'MRR']].reset_index(drop=True).plot(secondary_y='HR', ylim=(0, None))"
   ]
  },
  {
   "cell_type": "code",
   "execution_count": 403,
   "metadata": {
    "ExecuteTime": {
     "end_time": "2017-09-05T07:26:32.106200Z",
     "start_time": "2017-09-05T07:26:32.071022Z"
    },
    "hidden": true
   },
   "outputs": [
    {
     "data": {
      "text/html": [
       "<div>\n",
       "<style>\n",
       "    .dataframe thead tr:only-child th {\n",
       "        text-align: right;\n",
       "    }\n",
       "\n",
       "    .dataframe thead th {\n",
       "        text-align: left;\n",
       "    }\n",
       "\n",
       "    .dataframe tbody tr th {\n",
       "        vertical-align: top;\n",
       "    }\n",
       "</style>\n",
       "<table border=\"1\" class=\"dataframe\">\n",
       "  <thead>\n",
       "    <tr style=\"text-align: right;\">\n",
       "      <th></th>\n",
       "      <th></th>\n",
       "      <th></th>\n",
       "      <th></th>\n",
       "      <th></th>\n",
       "      <th></th>\n",
       "      <th></th>\n",
       "      <th>HR</th>\n",
       "      <th>MRR</th>\n",
       "      <th>COV</th>\n",
       "    </tr>\n",
       "  </thead>\n",
       "  <tbody>\n",
       "    <tr>\n",
       "      <th rowspan=\"2\" valign=\"top\">(sss, 0.3)</th>\n",
       "      <th>(r, 3e-10)</th>\n",
       "      <th>(rr, 0.003)</th>\n",
       "      <th>(r, 50)</th>\n",
       "      <th>(nsne, 60)</th>\n",
       "      <th>(lr, 1e-08)</th>\n",
       "      <th>(mi, 40)</th>\n",
       "      <td>0.189212</td>\n",
       "      <td>0.081886</td>\n",
       "      <td>725</td>\n",
       "    </tr>\n",
       "    <tr>\n",
       "      <th>(r, 3e-09)</th>\n",
       "      <th>(rr, 0.001)</th>\n",
       "      <th>(r, 50)</th>\n",
       "      <th>(nsne, 40)</th>\n",
       "      <th>(lr, 1e-08)</th>\n",
       "      <th>(mi, 40)</th>\n",
       "      <td>0.192531</td>\n",
       "      <td>0.080727</td>\n",
       "      <td>697</td>\n",
       "    </tr>\n",
       "  </tbody>\n",
       "</table>\n",
       "</div>"
      ],
      "text/plain": [
       "                                                                                 HR  \\\n",
       "(sss, 0.3) (r, 3e-10) (rr, 0.003) (r, 50) (nsne, 60) (lr, 1e-08) (mi, 40)  0.189212   \n",
       "           (r, 3e-09) (rr, 0.001) (r, 50) (nsne, 40) (lr, 1e-08) (mi, 40)  0.192531   \n",
       "\n",
       "                                                                                MRR  \\\n",
       "(sss, 0.3) (r, 3e-10) (rr, 0.003) (r, 50) (nsne, 60) (lr, 1e-08) (mi, 40)  0.081886   \n",
       "           (r, 3e-09) (rr, 0.001) (r, 50) (nsne, 40) (lr, 1e-08) (mi, 40)  0.080727   \n",
       "\n",
       "                                                                           COV  \n",
       "(sss, 0.3) (r, 3e-10) (rr, 0.003) (r, 50) (nsne, 60) (lr, 1e-08) (mi, 40)  725  \n",
       "           (r, 3e-09) (rr, 0.001) (r, 50) (nsne, 40) (lr, 1e-08) (mi, 40)  697  "
      ]
     },
     "execution_count": 403,
     "metadata": {},
     "output_type": "execute_result"
    }
   ],
   "source": [
    "grid_results_refined_df.loc[lambda x: x.MRR > 0.08]"
   ]
  },
  {
   "cell_type": "markdown",
   "metadata": {},
   "source": [
    "### Final"
   ]
  },
  {
   "cell_type": "code",
   "execution_count": 398,
   "metadata": {
    "ExecuteTime": {
     "end_time": "2017-09-05T07:19:57.356431Z",
     "start_time": "2017-09-05T07:19:57.344809Z"
    },
    "collapsed": true
   },
   "outputs": [],
   "source": [
    "final_params = {\n",
    "          'ranking_regularization': 0.003,\n",
    "          'regularization':         3e-10,\n",
    "          'linear_regularization':  1e-8,\n",
    "          'sgd_step_size':          0.3,\n",
    "          'num_sampled_negative_examples': 60,\n",
    "          'max_iterations': 70, # increased for better results\n",
    "          'rank': 50,\n",
    "         }"
   ]
  },
  {
   "cell_type": "code",
   "execution_count": 399,
   "metadata": {
    "ExecuteTime": {
     "end_time": "2017-09-05T07:25:16.746738Z",
     "start_time": "2017-09-05T07:20:00.239832Z"
    },
    "scrolled": true
   },
   "outputs": [
    {
     "data": {
      "application/vnd.jupyter.widget-view+json": {
       "model_id": "a931ff7db46a4428be7b650e25abfd15",
       "version_major": 2,
       "version_minor": 0
      },
      "text/plain": [
       "A Jupyter Widget"
      ]
     },
     "metadata": {},
     "output_type": "display_data"
    },
    {
     "data": {
      "text/html": [
       "<pre>Recsys training: model = ranking_factorization_recommender</pre>"
      ],
      "text/plain": [
       "Recsys training: model = ranking_factorization_recommender"
      ]
     },
     "metadata": {},
     "output_type": "display_data"
    },
    {
     "data": {
      "text/html": [
       "<pre>Preparing data set.</pre>"
      ],
      "text/plain": [
       "Preparing data set."
      ]
     },
     "metadata": {},
     "output_type": "display_data"
    },
    {
     "data": {
      "text/html": [
       "<pre>    Data has 574072 observations with 6037 users and 3530 items.</pre>"
      ],
      "text/plain": [
       "    Data has 574072 observations with 6037 users and 3530 items."
      ]
     },
     "metadata": {},
     "output_type": "display_data"
    },
    {
     "data": {
      "text/html": [
       "<pre>    Data prepared in: 0.775751s</pre>"
      ],
      "text/plain": [
       "    Data prepared in: 0.775751s"
      ]
     },
     "metadata": {},
     "output_type": "display_data"
    },
    {
     "data": {
      "text/html": [
       "<pre>Training ranking_factorization_recommender for recommendations.</pre>"
      ],
      "text/plain": [
       "Training ranking_factorization_recommender for recommendations."
      ]
     },
     "metadata": {},
     "output_type": "display_data"
    },
    {
     "data": {
      "text/html": [
       "<pre>+--------------------------------+--------------------------------------------------+----------+</pre>"
      ],
      "text/plain": [
       "+--------------------------------+--------------------------------------------------+----------+"
      ]
     },
     "metadata": {},
     "output_type": "display_data"
    },
    {
     "data": {
      "text/html": [
       "<pre>| Parameter                      | Description                                      | Value    |</pre>"
      ],
      "text/plain": [
       "| Parameter                      | Description                                      | Value    |"
      ]
     },
     "metadata": {},
     "output_type": "display_data"
    },
    {
     "data": {
      "text/html": [
       "<pre>+--------------------------------+--------------------------------------------------+----------+</pre>"
      ],
      "text/plain": [
       "+--------------------------------+--------------------------------------------------+----------+"
      ]
     },
     "metadata": {},
     "output_type": "display_data"
    },
    {
     "data": {
      "text/html": [
       "<pre>| num_factors                    | Factor Dimension                                 | 50       |</pre>"
      ],
      "text/plain": [
       "| num_factors                    | Factor Dimension                                 | 50       |"
      ]
     },
     "metadata": {},
     "output_type": "display_data"
    },
    {
     "data": {
      "text/html": [
       "<pre>| regularization                 | L2 Regularization on Factors                     | 3e-10    |</pre>"
      ],
      "text/plain": [
       "| regularization                 | L2 Regularization on Factors                     | 3e-10    |"
      ]
     },
     "metadata": {},
     "output_type": "display_data"
    },
    {
     "data": {
      "text/html": [
       "<pre>| solver                         | Solver used for training                         | sgd      |</pre>"
      ],
      "text/plain": [
       "| solver                         | Solver used for training                         | sgd      |"
      ]
     },
     "metadata": {},
     "output_type": "display_data"
    },
    {
     "data": {
      "text/html": [
       "<pre>| linear_regularization          | L2 Regularization on Linear Coefficients         | 1e-08    |</pre>"
      ],
      "text/plain": [
       "| linear_regularization          | L2 Regularization on Linear Coefficients         | 1e-08    |"
      ]
     },
     "metadata": {},
     "output_type": "display_data"
    },
    {
     "data": {
      "text/html": [
       "<pre>| ranking_regularization         | Rank-based Regularization Weight                 | 0.003    |</pre>"
      ],
      "text/plain": [
       "| ranking_regularization         | Rank-based Regularization Weight                 | 0.003    |"
      ]
     },
     "metadata": {},
     "output_type": "display_data"
    },
    {
     "data": {
      "text/html": [
       "<pre>| num_sampled_negative_examples  | # Negative Samples Considered per Observation    | 60       |</pre>"
      ],
      "text/plain": [
       "| num_sampled_negative_examples  | # Negative Samples Considered per Observation    | 60       |"
      ]
     },
     "metadata": {},
     "output_type": "display_data"
    },
    {
     "data": {
      "text/html": [
       "<pre>| binary_target                  | Assume Binary Targets                            | True     |</pre>"
      ],
      "text/plain": [
       "| binary_target                  | Assume Binary Targets                            | True     |"
      ]
     },
     "metadata": {},
     "output_type": "display_data"
    },
    {
     "data": {
      "text/html": [
       "<pre>| side_data_factorization        | Assign Factors for Side Data                     | True     |</pre>"
      ],
      "text/plain": [
       "| side_data_factorization        | Assign Factors for Side Data                     | True     |"
      ]
     },
     "metadata": {},
     "output_type": "display_data"
    },
    {
     "data": {
      "text/html": [
       "<pre>| sgd_step_size                  | Starting SGD Step Size                           | 0.3      |</pre>"
      ],
      "text/plain": [
       "| sgd_step_size                  | Starting SGD Step Size                           | 0.3      |"
      ]
     },
     "metadata": {},
     "output_type": "display_data"
    },
    {
     "data": {
      "text/html": [
       "<pre>| max_iterations                 | Maximum Number of Iterations                     | 70       |</pre>"
      ],
      "text/plain": [
       "| max_iterations                 | Maximum Number of Iterations                     | 70       |"
      ]
     },
     "metadata": {},
     "output_type": "display_data"
    },
    {
     "data": {
      "text/html": [
       "<pre>+--------------------------------+--------------------------------------------------+----------+</pre>"
      ],
      "text/plain": [
       "+--------------------------------+--------------------------------------------------+----------+"
      ]
     },
     "metadata": {},
     "output_type": "display_data"
    },
    {
     "data": {
      "text/html": [
       "<pre>  Optimizing model using SGD (step size tuning: OFF).</pre>"
      ],
      "text/plain": [
       "  Optimizing model using SGD (step size tuning: OFF)."
      ]
     },
     "metadata": {},
     "output_type": "display_data"
    },
    {
     "data": {
      "text/html": [
       "<pre>Starting Optimization.</pre>"
      ],
      "text/plain": [
       "Starting Optimization."
      ]
     },
     "metadata": {},
     "output_type": "display_data"
    },
    {
     "data": {
      "text/html": [
       "<pre>+---------+--------------+-------------------+-----------------------------------+-------------+</pre>"
      ],
      "text/plain": [
       "+---------+--------------+-------------------+-----------------------------------+-------------+"
      ]
     },
     "metadata": {},
     "output_type": "display_data"
    },
    {
     "data": {
      "text/html": [
       "<pre>| Iter.   | Elapsed Time | Approx. Objective | Approx. Training Predictive Error | Step Size   |</pre>"
      ],
      "text/plain": [
       "| Iter.   | Elapsed Time | Approx. Objective | Approx. Training Predictive Error | Step Size   |"
      ]
     },
     "metadata": {},
     "output_type": "display_data"
    },
    {
     "data": {
      "text/html": [
       "<pre>+---------+--------------+-------------------+-----------------------------------+-------------+</pre>"
      ],
      "text/plain": [
       "+---------+--------------+-------------------+-----------------------------------+-------------+"
      ]
     },
     "metadata": {},
     "output_type": "display_data"
    },
    {
     "data": {
      "text/html": [
       "<pre>| Initial | 151us        | 1.62767           | 0.31328                           |             |</pre>"
      ],
      "text/plain": [
       "| Initial | 151us        | 1.62767           | 0.31328                           |             |"
      ]
     },
     "metadata": {},
     "output_type": "display_data"
    },
    {
     "data": {
      "text/html": [
       "<pre>+---------+--------------+-------------------+-----------------------------------+-------------+</pre>"
      ],
      "text/plain": [
       "+---------+--------------+-------------------+-----------------------------------+-------------+"
      ]
     },
     "metadata": {},
     "output_type": "display_data"
    },
    {
     "data": {
      "text/html": [
       "<pre>| 1       | 7.95s        | DIVERGED          | DIVERGED                          | 0.3         |</pre>"
      ],
      "text/plain": [
       "| 1       | 7.95s        | DIVERGED          | DIVERGED                          | 0.3         |"
      ]
     },
     "metadata": {},
     "output_type": "display_data"
    },
    {
     "data": {
      "text/html": [
       "<pre>| RESET   | 11.84s       | 1.62765           | 0.313251                          |             |</pre>"
      ],
      "text/plain": [
       "| RESET   | 11.84s       | 1.62765           | 0.313251                          |             |"
      ]
     },
     "metadata": {},
     "output_type": "display_data"
    },
    {
     "data": {
      "text/html": [
       "<pre>| 1       | 19.69s       | DIVERGED          | DIVERGED                          | 0.15        |</pre>"
      ],
      "text/plain": [
       "| 1       | 19.69s       | DIVERGED          | DIVERGED                          | 0.15        |"
      ]
     },
     "metadata": {},
     "output_type": "display_data"
    },
    {
     "data": {
      "text/html": [
       "<pre>| RESET   | 23.59s       | 1.62768           | 0.313276                          |             |</pre>"
      ],
      "text/plain": [
       "| RESET   | 23.59s       | 1.62768           | 0.313276                          |             |"
      ]
     },
     "metadata": {},
     "output_type": "display_data"
    },
    {
     "data": {
      "text/html": [
       "<pre>| 1       | 27.60s       | 1.31493           | 0.641861                          | 0.075       |</pre>"
      ],
      "text/plain": [
       "| 1       | 27.60s       | 1.31493           | 0.641861                          | 0.075       |"
      ]
     },
     "metadata": {},
     "output_type": "display_data"
    },
    {
     "data": {
      "text/html": [
       "<pre>| 2       | 31.61s       | 1.4184            | 0.706269                          | 0.0445953   |</pre>"
      ],
      "text/plain": [
       "| 2       | 31.61s       | 1.4184            | 0.706269                          | 0.0445953   |"
      ]
     },
     "metadata": {},
     "output_type": "display_data"
    },
    {
     "data": {
      "text/html": [
       "<pre>| 3       | 35.64s       | 1.38283           | 0.691102                          | 0.0329019   |</pre>"
      ],
      "text/plain": [
       "| 3       | 35.64s       | 1.38283           | 0.691102                          | 0.0329019   |"
      ]
     },
     "metadata": {},
     "output_type": "display_data"
    },
    {
     "data": {
      "text/html": [
       "<pre>| 4       | 39.66s       | 1.37335           | 0.68949                           | 0.0222976   |</pre>"
      ],
      "text/plain": [
       "| 4       | 39.66s       | 1.37335           | 0.68949                           | 0.0222976   |"
      ]
     },
     "metadata": {},
     "output_type": "display_data"
    },
    {
     "data": {
      "text/html": [
       "<pre>| 5       | 43.73s       | 1.36189           | 0.685791                          | 0.0158606   |</pre>"
      ],
      "text/plain": [
       "| 5       | 43.73s       | 1.36189           | 0.685791                          | 0.0158606   |"
      ]
     },
     "metadata": {},
     "output_type": "display_data"
    },
    {
     "data": {
      "text/html": [
       "<pre>| 6       | 47.78s       | 1.35102           | 0.680339                          | 0.0138335   |</pre>"
      ],
      "text/plain": [
       "| 6       | 47.78s       | 1.35102           | 0.680339                          | 0.0138335   |"
      ]
     },
     "metadata": {},
     "output_type": "display_data"
    },
    {
     "data": {
      "text/html": [
       "<pre>| 7       | 51.80s       | 1.34438           | 0.677448                          | 0.0123232   |</pre>"
      ],
      "text/plain": [
       "| 7       | 51.80s       | 1.34438           | 0.677448                          | 0.0123232   |"
      ]
     },
     "metadata": {},
     "output_type": "display_data"
    },
    {
     "data": {
      "text/html": [
       "<pre>| 8       | 55.87s       | 1.33747           | 0.674713                          | 0.0111488   |</pre>"
      ],
      "text/plain": [
       "| 8       | 55.87s       | 1.33747           | 0.674713                          | 0.0111488   |"
      ]
     },
     "metadata": {},
     "output_type": "display_data"
    },
    {
     "data": {
      "text/html": [
       "<pre>| 9       | 59.89s       | 1.33002           | 0.670876                          | 0.0102062   |</pre>"
      ],
      "text/plain": [
       "| 9       | 59.89s       | 1.33002           | 0.670876                          | 0.0102062   |"
      ]
     },
     "metadata": {},
     "output_type": "display_data"
    },
    {
     "data": {
      "text/html": [
       "<pre>| 10      | 1m 3s        | 1.32692           | 0.670415                          | 0.00943075  |</pre>"
      ],
      "text/plain": [
       "| 10      | 1m 3s        | 1.32692           | 0.670415                          | 0.00943075  |"
      ]
     },
     "metadata": {},
     "output_type": "display_data"
    },
    {
     "data": {
      "text/html": [
       "<pre>| 11      | 1m 8s        | 1.31898           | 0.666599                          | 0.00878015  |</pre>"
      ],
      "text/plain": [
       "| 11      | 1m 8s        | 1.31898           | 0.666599                          | 0.00878015  |"
      ]
     },
     "metadata": {},
     "output_type": "display_data"
    },
    {
     "data": {
      "text/html": [
       "<pre>| 12      | 1m 12s       | 1.3151            | 0.665147                          | 0.00822546  |</pre>"
      ],
      "text/plain": [
       "| 12      | 1m 12s       | 1.3151            | 0.665147                          | 0.00822546  |"
      ]
     },
     "metadata": {},
     "output_type": "display_data"
    },
    {
     "data": {
      "text/html": [
       "<pre>| 13      | 1m 16s       | 1.30853           | 0.662138                          | 0.0077462   |</pre>"
      ],
      "text/plain": [
       "| 13      | 1m 16s       | 1.30853           | 0.662138                          | 0.0077462   |"
      ]
     },
     "metadata": {},
     "output_type": "display_data"
    },
    {
     "data": {
      "text/html": [
       "<pre>| 14      | 1m 20s       | 1.30121           | 0.658559                          | 0.00732741  |</pre>"
      ],
      "text/plain": [
       "| 14      | 1m 20s       | 1.30121           | 0.658559                          | 0.00732741  |"
      ]
     },
     "metadata": {},
     "output_type": "display_data"
    },
    {
     "data": {
      "text/html": [
       "<pre>| 15      | 1m 24s       | 1.29477           | 0.655903                          | 0.00695789  |</pre>"
      ],
      "text/plain": [
       "| 15      | 1m 24s       | 1.29477           | 0.655903                          | 0.00695789  |"
      ]
     },
     "metadata": {},
     "output_type": "display_data"
    },
    {
     "data": {
      "text/html": [
       "<pre>| 16      | 1m 28s       | 1.29275           | 0.655674                          | 0.00662913  |</pre>"
      ],
      "text/plain": [
       "| 16      | 1m 28s       | 1.29275           | 0.655674                          | 0.00662913  |"
      ]
     },
     "metadata": {},
     "output_type": "display_data"
    },
    {
     "data": {
      "text/html": [
       "<pre>| 17      | 1m 32s       | 1.28676           | 0.653109                          | 0.00633446  |</pre>"
      ],
      "text/plain": [
       "| 17      | 1m 32s       | 1.28676           | 0.653109                          | 0.00633446  |"
      ]
     },
     "metadata": {},
     "output_type": "display_data"
    },
    {
     "data": {
      "text/html": [
       "<pre>| 18      | 1m 36s       | 1.28262           | 0.651259                          | 0.00606865  |</pre>"
      ],
      "text/plain": [
       "| 18      | 1m 36s       | 1.28262           | 0.651259                          | 0.00606865  |"
      ]
     },
     "metadata": {},
     "output_type": "display_data"
    },
    {
     "data": {
      "text/html": [
       "<pre>| 19      | 1m 40s       | 1.27926           | 0.649813                          | 0.00582748  |</pre>"
      ],
      "text/plain": [
       "| 19      | 1m 40s       | 1.27926           | 0.649813                          | 0.00582748  |"
      ]
     },
     "metadata": {},
     "output_type": "display_data"
    },
    {
     "data": {
      "text/html": [
       "<pre>| 20      | 1m 44s       | 1.27204           | 0.64667                           | 0.00560756  |</pre>"
      ],
      "text/plain": [
       "| 20      | 1m 44s       | 1.27204           | 0.64667                           | 0.00560756  |"
      ]
     },
     "metadata": {},
     "output_type": "display_data"
    },
    {
     "data": {
      "text/html": [
       "<pre>| 21      | 1m 48s       | 1.26949           | 0.645555                          | 0.00540607  |</pre>"
      ],
      "text/plain": [
       "| 21      | 1m 48s       | 1.26949           | 0.645555                          | 0.00540607  |"
      ]
     },
     "metadata": {},
     "output_type": "display_data"
    },
    {
     "data": {
      "text/html": [
       "<pre>| 22      | 1m 52s       | 1.26397           | 0.643266                          | 0.00522071  |</pre>"
      ],
      "text/plain": [
       "| 22      | 1m 52s       | 1.26397           | 0.643266                          | 0.00522071  |"
      ]
     },
     "metadata": {},
     "output_type": "display_data"
    },
    {
     "data": {
      "text/html": [
       "<pre>| 23      | 1m 56s       | 1.26125           | 0.641951                          | 0.00504952  |</pre>"
      ],
      "text/plain": [
       "| 23      | 1m 56s       | 1.26125           | 0.641951                          | 0.00504952  |"
      ]
     },
     "metadata": {},
     "output_type": "display_data"
    },
    {
     "data": {
      "text/html": [
       "<pre>| 24      | 2m 0s        | 1.25909           | 0.641434                          | 0.00489089  |</pre>"
      ],
      "text/plain": [
       "| 24      | 2m 0s        | 1.25909           | 0.641434                          | 0.00489089  |"
      ]
     },
     "metadata": {},
     "output_type": "display_data"
    },
    {
     "data": {
      "text/html": [
       "<pre>| 25      | 2m 4s        | 1.25507           | 0.639874                          | 0.00474342  |</pre>"
      ],
      "text/plain": [
       "| 25      | 2m 4s        | 1.25507           | 0.639874                          | 0.00474342  |"
      ]
     },
     "metadata": {},
     "output_type": "display_data"
    },
    {
     "data": {
      "text/html": [
       "<pre>| 26      | 2m 8s        | 1.25262           | 0.638953                          | 0.00460592  |</pre>"
      ],
      "text/plain": [
       "| 26      | 2m 8s        | 1.25262           | 0.638953                          | 0.00460592  |"
      ]
     },
     "metadata": {},
     "output_type": "display_data"
    },
    {
     "data": {
      "text/html": [
       "<pre>| 27      | 2m 12s       | 1.24743           | 0.636264                          | 0.00447737  |</pre>"
      ],
      "text/plain": [
       "| 27      | 2m 12s       | 1.24743           | 0.636264                          | 0.00447737  |"
      ]
     },
     "metadata": {},
     "output_type": "display_data"
    },
    {
     "data": {
      "text/html": [
       "<pre>| 28      | 2m 16s       | 1.24732           | 0.637251                          | 0.0043569   |</pre>"
      ],
      "text/plain": [
       "| 28      | 2m 16s       | 1.24732           | 0.637251                          | 0.0043569   |"
      ]
     },
     "metadata": {},
     "output_type": "display_data"
    },
    {
     "data": {
      "text/html": [
       "<pre>| 29      | 2m 20s       | 1.24252           | 0.634603                          | 0.00424373  |</pre>"
      ],
      "text/plain": [
       "| 29      | 2m 20s       | 1.24252           | 0.634603                          | 0.00424373  |"
      ]
     },
     "metadata": {},
     "output_type": "display_data"
    },
    {
     "data": {
      "text/html": [
       "<pre>| 30      | 2m 24s       | 1.24198           | 0.634846                          | 0.00413719  |</pre>"
      ],
      "text/plain": [
       "| 30      | 2m 24s       | 1.24198           | 0.634846                          | 0.00413719  |"
      ]
     },
     "metadata": {},
     "output_type": "display_data"
    },
    {
     "data": {
      "text/html": [
       "<pre>| 31      | 2m 28s       | 1.24049           | 0.634634                          | 0.00403669  |</pre>"
      ],
      "text/plain": [
       "| 31      | 2m 28s       | 1.24049           | 0.634634                          | 0.00403669  |"
      ]
     },
     "metadata": {},
     "output_type": "display_data"
    },
    {
     "data": {
      "text/html": [
       "<pre>| 32      | 2m 32s       | 1.23802           | 0.633531                          | 0.0039417   |</pre>"
      ],
      "text/plain": [
       "| 32      | 2m 32s       | 1.23802           | 0.633531                          | 0.0039417   |"
      ]
     },
     "metadata": {},
     "output_type": "display_data"
    },
    {
     "data": {
      "text/html": [
       "<pre>| 33      | 2m 36s       | 1.2363            | 0.633157                          | 0.00385177  |</pre>"
      ],
      "text/plain": [
       "| 33      | 2m 36s       | 1.2363            | 0.633157                          | 0.00385177  |"
      ]
     },
     "metadata": {},
     "output_type": "display_data"
    },
    {
     "data": {
      "text/html": [
       "<pre>| 34      | 2m 40s       | 1.23572           | 0.632957                          | 0.00376649  |</pre>"
      ],
      "text/plain": [
       "| 34      | 2m 40s       | 1.23572           | 0.632957                          | 0.00376649  |"
      ]
     },
     "metadata": {},
     "output_type": "display_data"
    },
    {
     "data": {
      "text/html": [
       "<pre>| 35      | 2m 45s       | 1.23391           | 0.632331                          | 0.00368549  |</pre>"
      ],
      "text/plain": [
       "| 35      | 2m 45s       | 1.23391           | 0.632331                          | 0.00368549  |"
      ]
     },
     "metadata": {},
     "output_type": "display_data"
    },
    {
     "data": {
      "text/html": [
       "<pre>| 36      | 2m 49s       | 1.23083           | 0.630942                          | 0.00360844  |</pre>"
      ],
      "text/plain": [
       "| 36      | 2m 49s       | 1.23083           | 0.630942                          | 0.00360844  |"
      ]
     },
     "metadata": {},
     "output_type": "display_data"
    },
    {
     "data": {
      "text/html": [
       "<pre>| 37      | 2m 53s       | 1.23008           | 0.630883                          | 0.00353505  |</pre>"
      ],
      "text/plain": [
       "| 37      | 2m 53s       | 1.23008           | 0.630883                          | 0.00353505  |"
      ]
     },
     "metadata": {},
     "output_type": "display_data"
    },
    {
     "data": {
      "text/html": [
       "<pre>| 38      | 2m 57s       | 1.22909           | 0.63079                           | 0.00346504  |</pre>"
      ],
      "text/plain": [
       "| 38      | 2m 57s       | 1.22909           | 0.63079                           | 0.00346504  |"
      ]
     },
     "metadata": {},
     "output_type": "display_data"
    },
    {
     "data": {
      "text/html": [
       "<pre>| 39      | 3m 1s        | 1.22684           | 0.629929                          | 0.00339819  |</pre>"
      ],
      "text/plain": [
       "| 39      | 3m 1s        | 1.22684           | 0.629929                          | 0.00339819  |"
      ]
     },
     "metadata": {},
     "output_type": "display_data"
    },
    {
     "data": {
      "text/html": [
       "<pre>| 40      | 3m 5s        | 1.22658           | 0.629819                          | 0.00333427  |</pre>"
      ],
      "text/plain": [
       "| 40      | 3m 5s        | 1.22658           | 0.629819                          | 0.00333427  |"
      ]
     },
     "metadata": {},
     "output_type": "display_data"
    },
    {
     "data": {
      "text/html": [
       "<pre>| 41      | 3m 9s        | 1.22536           | 0.629509                          | 0.00327309  |</pre>"
      ],
      "text/plain": [
       "| 41      | 3m 9s        | 1.22536           | 0.629509                          | 0.00327309  |"
      ]
     },
     "metadata": {},
     "output_type": "display_data"
    },
    {
     "data": {
      "text/html": [
       "<pre>| 42      | 3m 13s       | 1.22431           | 0.628828                          | 0.00321447  |</pre>"
      ],
      "text/plain": [
       "| 42      | 3m 13s       | 1.22431           | 0.628828                          | 0.00321447  |"
      ]
     },
     "metadata": {},
     "output_type": "display_data"
    },
    {
     "data": {
      "text/html": [
       "<pre>| 43      | 3m 17s       | 1.22306           | 0.628717                          | 0.00315824  |</pre>"
      ],
      "text/plain": [
       "| 43      | 3m 17s       | 1.22306           | 0.628717                          | 0.00315824  |"
      ]
     },
     "metadata": {},
     "output_type": "display_data"
    },
    {
     "data": {
      "text/html": [
       "<pre>| 44      | 3m 21s       | 1.22163           | 0.628104                          | 0.00310425  |</pre>"
      ],
      "text/plain": [
       "| 44      | 3m 21s       | 1.22163           | 0.628104                          | 0.00310425  |"
      ]
     },
     "metadata": {},
     "output_type": "display_data"
    },
    {
     "data": {
      "text/html": [
       "<pre>| 45      | 3m 25s       | 1.22158           | 0.628543                          | 0.00305237  |</pre>"
      ],
      "text/plain": [
       "| 45      | 3m 25s       | 1.22158           | 0.628543                          | 0.00305237  |"
      ]
     },
     "metadata": {},
     "output_type": "display_data"
    },
    {
     "data": {
      "text/html": [
       "<pre>| 46      | 3m 29s       | 1.22061           | 0.62799                           | 0.00300246  |</pre>"
      ],
      "text/plain": [
       "| 46      | 3m 29s       | 1.22061           | 0.62799                           | 0.00300246  |"
      ]
     },
     "metadata": {},
     "output_type": "display_data"
    },
    {
     "data": {
      "text/html": [
       "<pre>| 47      | 3m 33s       | 1.21887           | 0.627367                          | 0.00295442  |</pre>"
      ],
      "text/plain": [
       "| 47      | 3m 33s       | 1.21887           | 0.627367                          | 0.00295442  |"
      ]
     },
     "metadata": {},
     "output_type": "display_data"
    },
    {
     "data": {
      "text/html": [
       "<pre>| 48      | 3m 37s       | 1.21788           | 0.626956                          | 0.00290814  |</pre>"
      ],
      "text/plain": [
       "| 48      | 3m 37s       | 1.21788           | 0.626956                          | 0.00290814  |"
      ]
     },
     "metadata": {},
     "output_type": "display_data"
    },
    {
     "data": {
      "text/html": [
       "<pre>| 49      | 3m 41s       | 1.2176            | 0.627042                          | 0.00286351  |</pre>"
      ],
      "text/plain": [
       "| 49      | 3m 41s       | 1.2176            | 0.627042                          | 0.00286351  |"
      ]
     },
     "metadata": {},
     "output_type": "display_data"
    },
    {
     "data": {
      "text/html": [
       "<pre>| 50      | 3m 45s       | 1.21655           | 0.626608                          | 0.00282045  |</pre>"
      ],
      "text/plain": [
       "| 50      | 3m 45s       | 1.21655           | 0.626608                          | 0.00282045  |"
      ]
     },
     "metadata": {},
     "output_type": "display_data"
    },
    {
     "data": {
      "text/html": [
       "<pre>| 51      | 3m 49s       | 1.2156            | 0.626182                          | 0.00277887  |</pre>"
      ],
      "text/plain": [
       "| 51      | 3m 49s       | 1.2156            | 0.626182                          | 0.00277887  |"
      ]
     },
     "metadata": {},
     "output_type": "display_data"
    },
    {
     "data": {
      "text/html": [
       "<pre>| 52      | 3m 53s       | 1.21526           | 0.626379                          | 0.0027387   |</pre>"
      ],
      "text/plain": [
       "| 52      | 3m 53s       | 1.21526           | 0.626379                          | 0.0027387   |"
      ]
     },
     "metadata": {},
     "output_type": "display_data"
    },
    {
     "data": {
      "text/html": [
       "<pre>| 53      | 3m 57s       | 1.21264           | 0.625446                          | 0.00269985  |</pre>"
      ],
      "text/plain": [
       "| 53      | 3m 57s       | 1.21264           | 0.625446                          | 0.00269985  |"
      ]
     },
     "metadata": {},
     "output_type": "display_data"
    },
    {
     "data": {
      "text/html": [
       "<pre>| 54      | 4m 1s        | 1.21291           | 0.625331                          | 0.00266226  |</pre>"
      ],
      "text/plain": [
       "| 54      | 4m 1s        | 1.21291           | 0.625331                          | 0.00266226  |"
      ]
     },
     "metadata": {},
     "output_type": "display_data"
    },
    {
     "data": {
      "text/html": [
       "<pre>| 55      | 4m 5s        | 1.20989           | 0.62415                           | 0.00220809  |</pre>"
      ],
      "text/plain": [
       "| 55      | 4m 5s        | 1.20989           | 0.62415                           | 0.00220809  |"
      ]
     },
     "metadata": {},
     "output_type": "display_data"
    },
    {
     "data": {
      "text/html": [
       "<pre>| 56      | 4m 9s        | 1.20741           | 0.623296                          | 0.00183185  |</pre>"
      ],
      "text/plain": [
       "| 56      | 4m 9s        | 1.20741           | 0.623296                          | 0.00183185  |"
      ]
     },
     "metadata": {},
     "output_type": "display_data"
    },
    {
     "data": {
      "text/html": [
       "<pre>| 57      | 4m 13s       | 1.20577           | 0.622458                          | 0.00152008  |</pre>"
      ],
      "text/plain": [
       "| 57      | 4m 13s       | 1.20577           | 0.622458                          | 0.00152008  |"
      ]
     },
     "metadata": {},
     "output_type": "display_data"
    },
    {
     "data": {
      "text/html": [
       "<pre>| 58      | 4m 18s       | 1.2054            | 0.622525                          | 0.00150039  |</pre>"
      ],
      "text/plain": [
       "| 58      | 4m 18s       | 1.2054            | 0.622525                          | 0.00150039  |"
      ]
     },
     "metadata": {},
     "output_type": "display_data"
    },
    {
     "data": {
      "text/html": [
       "<pre>| 59      | 4m 22s       | 1.20446           | 0.621997                          | 0.00148127  |</pre>"
      ],
      "text/plain": [
       "| 59      | 4m 22s       | 1.20446           | 0.621997                          | 0.00148127  |"
      ]
     },
     "metadata": {},
     "output_type": "display_data"
    },
    {
     "data": {
      "text/html": [
       "<pre>| 60      | 4m 26s       | 1.20388           | 0.621897                          | 0.00146272  |</pre>"
      ],
      "text/plain": [
       "| 60      | 4m 26s       | 1.20388           | 0.621897                          | 0.00146272  |"
      ]
     },
     "metadata": {},
     "output_type": "display_data"
    },
    {
     "data": {
      "text/html": [
       "<pre>| 61      | 4m 30s       | 1.20294           | 0.621615                          | 0.0014447   |</pre>"
      ],
      "text/plain": [
       "| 61      | 4m 30s       | 1.20294           | 0.621615                          | 0.0014447   |"
      ]
     },
     "metadata": {},
     "output_type": "display_data"
    },
    {
     "data": {
      "text/html": [
       "<pre>| 62      | 4m 34s       | 1.20313           | 0.621519                          | 0.00142718  |</pre>"
      ],
      "text/plain": [
       "| 62      | 4m 34s       | 1.20313           | 0.621519                          | 0.00142718  |"
      ]
     },
     "metadata": {},
     "output_type": "display_data"
    },
    {
     "data": {
      "text/html": [
       "<pre>| 63      | 4m 38s       | 1.20106           | 0.620945                          | 0.0011858   |</pre>"
      ],
      "text/plain": [
       "| 63      | 4m 38s       | 1.20106           | 0.620945                          | 0.0011858   |"
      ]
     },
     "metadata": {},
     "output_type": "display_data"
    },
    {
     "data": {
      "text/html": [
       "<pre>| 64      | 4m 42s       | 1.19924           | 0.619923                          | 0.000985425 |</pre>"
      ],
      "text/plain": [
       "| 64      | 4m 42s       | 1.19924           | 0.619923                          | 0.000985425 |"
      ]
     },
     "metadata": {},
     "output_type": "display_data"
    },
    {
     "data": {
      "text/html": [
       "<pre>| 65      | 4m 46s       | 1.19771           | 0.619474                          | 0.000819061 |</pre>"
      ],
      "text/plain": [
       "| 65      | 4m 46s       | 1.19771           | 0.619474                          | 0.000819061 |"
      ]
     },
     "metadata": {},
     "output_type": "display_data"
    },
    {
     "data": {
      "text/html": [
       "<pre>| 66      | 4m 50s       | 1.19752           | 0.619092                          | 0.000809736 |</pre>"
      ],
      "text/plain": [
       "| 66      | 4m 50s       | 1.19752           | 0.619092                          | 0.000809736 |"
      ]
     },
     "metadata": {},
     "output_type": "display_data"
    },
    {
     "data": {
      "text/html": [
       "<pre>| 67      | 4m 54s       | 1.19712           | 0.619289                          | 0.000800655 |</pre>"
      ],
      "text/plain": [
       "| 67      | 4m 54s       | 1.19712           | 0.619289                          | 0.000800655 |"
      ]
     },
     "metadata": {},
     "output_type": "display_data"
    },
    {
     "data": {
      "text/html": [
       "<pre>| 68      | 4m 58s       | 1.19682           | 0.618971                          | 0.000791807 |</pre>"
      ],
      "text/plain": [
       "| 68      | 4m 58s       | 1.19682           | 0.618971                          | 0.000791807 |"
      ]
     },
     "metadata": {},
     "output_type": "display_data"
    },
    {
     "data": {
      "text/html": [
       "<pre>| 69      | 5m 2s        | 1.19646           | 0.618975                          | 0.000783185 |</pre>"
      ],
      "text/plain": [
       "| 69      | 5m 2s        | 1.19646           | 0.618975                          | 0.000783185 |"
      ]
     },
     "metadata": {},
     "output_type": "display_data"
    },
    {
     "data": {
      "text/html": [
       "<pre>| 70      | 5m 6s        | 1.19628           | 0.618857                          | 0.000774779 |</pre>"
      ],
      "text/plain": [
       "| 70      | 5m 6s        | 1.19628           | 0.618857                          | 0.000774779 |"
      ]
     },
     "metadata": {},
     "output_type": "display_data"
    },
    {
     "data": {
      "text/html": [
       "<pre>+---------+--------------+-------------------+-----------------------------------+-------------+</pre>"
      ],
      "text/plain": [
       "+---------+--------------+-------------------+-----------------------------------+-------------+"
      ]
     },
     "metadata": {},
     "output_type": "display_data"
    },
    {
     "data": {
      "text/html": [
       "<pre>Optimization Complete: Maximum number of passes through the data reached.</pre>"
      ],
      "text/plain": [
       "Optimization Complete: Maximum number of passes through the data reached."
      ]
     },
     "metadata": {},
     "output_type": "display_data"
    },
    {
     "data": {
      "text/html": [
       "<pre>Computing final objective value and training Predictive Error.</pre>"
      ],
      "text/plain": [
       "Computing final objective value and training Predictive Error."
      ]
     },
     "metadata": {},
     "output_type": "display_data"
    },
    {
     "data": {
      "text/html": [
       "<pre>       Final objective value: 1.42012</pre>"
      ],
      "text/plain": [
       "       Final objective value: 1.42012"
      ]
     },
     "metadata": {},
     "output_type": "display_data"
    },
    {
     "data": {
      "text/html": [
       "<pre>       Final training Predictive Error: 0.614962</pre>"
      ],
      "text/plain": [
       "       Final training Predictive Error: 0.614962"
      ]
     },
     "metadata": {},
     "output_type": "display_data"
    },
    {
     "name": "stdout",
     "output_type": "stream",
     "text": [
      "FM training time: 314.861347s\n"
     ]
    },
    {
     "data": {
      "text/html": [
       "<pre>recommendations finished on 1000/1205 queries. users per second: 6222.93</pre>"
      ],
      "text/plain": [
       "recommendations finished on 1000/1205 queries. users per second: 6222.93"
      ]
     },
     "metadata": {},
     "output_type": "display_data"
    },
    {
     "name": "stdout",
     "output_type": "stream",
     "text": [
      "\n"
     ]
    }
   ],
   "source": [
    "final_res = run_parameter_search(fm, data_model, metrics, [final_params], verbose=True, seed=seed)"
   ]
  },
  {
   "cell_type": "code",
   "execution_count": 400,
   "metadata": {
    "ExecuteTime": {
     "end_time": "2017-09-05T07:25:16.758183Z",
     "start_time": "2017-09-05T07:25:16.750238Z"
    }
   },
   "outputs": [
    {
     "data": {
      "text/plain": [
       "{(('sss', 0.3),\n",
       "  ('r', 3e-10),\n",
       "  ('rr', 0.003),\n",
       "  ('r', 50),\n",
       "  ('nsne', 60),\n",
       "  ('lr', 1e-08),\n",
       "  ('mi', 70)): {'COV': 866,\n",
       "  'HR': 0.195850622406639,\n",
       "  'MRR': 0.07939669367055259}}"
      ]
     },
     "execution_count": 400,
     "metadata": {},
     "output_type": "execute_result"
    }
   ],
   "source": [
    "final_res"
   ]
  },
  {
   "cell_type": "markdown",
   "metadata": {},
   "source": [
    "Saving best config"
   ]
  },
  {
   "cell_type": "code",
   "execution_count": 404,
   "metadata": {
    "ExecuteTime": {
     "end_time": "2017-09-05T07:26:55.777403Z",
     "start_time": "2017-09-05T07:26:55.764783Z"
    },
    "collapsed": true
   },
   "outputs": [],
   "source": [
    "pd.Series(dict(binary_target = True,\n",
    "               solver = 'sgd',\n",
    "               ranking_optimization = True,\n",
    "               verbose = False,\n",
    "               seed = seed,\n",
    "               name = 'FM',\n",
    "               **final_params)).to_csv('FM_ML_standard_best_config.csv')"
   ]
  },
  {
   "cell_type": "markdown",
   "metadata": {},
   "source": [
    "## Cross-validation"
   ]
  },
  {
   "cell_type": "code",
   "execution_count": null,
   "metadata": {
    "ExecuteTime": {
     "start_time": "2017-09-05T04:57:12.925Z"
    },
    "scrolled": true
   },
   "outputs": [
    {
     "data": {
      "application/vnd.jupyter.widget-view+json": {
       "model_id": "75ffda86db8b4a71ab2b633a0c48969d",
       "version_major": 2,
       "version_minor": 0
      },
      "text/plain": [
       "A Jupyter Widget"
      ]
     },
     "metadata": {},
     "output_type": "display_data"
    },
    {
     "name": "stdout",
     "output_type": "stream",
     "text": [
      "Data is ready. No action was taken.\n"
     ]
    },
    {
     "data": {
      "text/html": [
       "<pre>Recsys training: model = ranking_factorization_recommender</pre>"
      ],
      "text/plain": [
       "Recsys training: model = ranking_factorization_recommender"
      ]
     },
     "metadata": {},
     "output_type": "display_data"
    },
    {
     "name": "stdout",
     "output_type": "stream",
     "text": [
      "\n"
     ]
    },
    {
     "data": {
      "text/html": [
       "<pre>Recsys training: model = ranking_factorization_recommender</pre>"
      ],
      "text/plain": [
       "Recsys training: model = ranking_factorization_recommender"
      ]
     },
     "metadata": {},
     "output_type": "display_data"
    },
    {
     "data": {
      "text/html": [
       "<pre>Recsys training: model = ranking_factorization_recommender</pre>"
      ],
      "text/plain": [
       "Recsys training: model = ranking_factorization_recommender"
      ]
     },
     "metadata": {},
     "output_type": "display_data"
    },
    {
     "data": {
      "text/html": [
       "<pre>Recsys training: model = ranking_factorization_recommender</pre>"
      ],
      "text/plain": [
       "Recsys training: model = ranking_factorization_recommender"
      ]
     },
     "metadata": {},
     "output_type": "display_data"
    }
   ],
   "source": [
    "metrics = 'HR MRR COV'.split()\n",
    "ranks = [1, 5, 10, 15, 20, 30, 40, 50, 60, 75, 100, 125, 150, 200, 300, 500, 750, 1000, 1500, 2000, 3200]\n",
    "\n",
    "fm_cv_results = run_cv_experiment([fm], data_model, metrics, ('rank', ranks), verbose=False)"
   ]
  },
  {
   "cell_type": "code",
   "execution_count": 416,
   "metadata": {
    "ExecuteTime": {
     "end_time": "2017-09-06T12:52:26.489198Z",
     "start_time": "2017-09-06T12:52:26.336029Z"
    },
    "collapsed": true
   },
   "outputs": [],
   "source": [
    "fm_rank_cv_results = get_results_dataframe(fm_cv_results, ('rank', ranks))"
   ]
  },
  {
   "cell_type": "code",
   "execution_count": 417,
   "metadata": {
    "ExecuteTime": {
     "end_time": "2017-09-06T12:52:28.974311Z",
     "start_time": "2017-09-06T12:52:28.960787Z"
    },
    "collapsed": true
   },
   "outputs": [],
   "source": [
    "fm_rank_cv_results.to_csv('Standard_FM_CV_results_ML.csv')"
   ]
  },
  {
   "cell_type": "code",
   "execution_count": null,
   "metadata": {
    "collapsed": true
   },
   "outputs": [],
   "source": []
  },
  {
   "cell_type": "code",
   "execution_count": 418,
   "metadata": {
    "ExecuteTime": {
     "end_time": "2017-09-06T12:52:33.888181Z",
     "start_time": "2017-09-06T12:52:32.782748Z"
    }
   },
   "outputs": [
    {
     "data": {
      "text/plain": [
       "<matplotlib.legend.Legend at 0x7fcde5d20090>"
      ]
     },
     "execution_count": 418,
     "metadata": {},
     "output_type": "execute_result"
    },
    {
     "data": {
      "image/png": "[encoded data removed]",
      "text/plain": [
       "<matplotlib.figure.Figure at 0x7fcde724ac90>"
      ]
     },
     "metadata": {
      "image/png": {
       "height": 265,
       "width": 380
      }
     },
     "output_type": "display_data"
    }
   ],
   "source": [
    "metric = 'HR'\n",
    "ax = rank_cv_results.xs(metric, 1, 1).mean(level='rank').plot(logx=True)\n",
    "\n",
    "fm_rank_cv_results.xs(metric, 1, 1).mean(level=1).plot(ax=ax, label='FM')\n",
    "\n",
    "linestyles = {'CB': '--', 'RND': ':', 'MP': ':'}\n",
    "colors = {'CB': '', 'RND': '', 'MP': ''}\n",
    "\n",
    "for col, data in base_cv_results.xs(metric, 1, 1).mean(level='rank').iteritems():\n",
    "    ax.hlines(y=data, xmin=1, xmax=3200, label=col, linestyles=linestyles[col])\n",
    "ax.legend()"
   ]
  },
  {
   "cell_type": "code",
   "execution_count": 419,
   "metadata": {
    "ExecuteTime": {
     "end_time": "2017-09-06T12:52:44.976545Z",
     "start_time": "2017-09-06T12:52:43.730299Z"
    }
   },
   "outputs": [
    {
     "data": {
      "text/plain": [
       "<matplotlib.legend.Legend at 0x7fcde5c69190>"
      ]
     },
     "execution_count": 419,
     "metadata": {},
     "output_type": "execute_result"
    },
    {
     "data": {
      "image/png": "[encoded data removed]",
      "text/plain": [
       "<matplotlib.figure.Figure at 0x7fcde61d8d10>"
      ]
     },
     "metadata": {
      "image/png": {
       "height": 265,
       "width": 380
      }
     },
     "output_type": "display_data"
    }
   ],
   "source": [
    "metric = 'MRR'\n",
    "ax = rank_cv_results.xs(metric, 1, 1).mean(level='rank').plot(logx=True)\n",
    "\n",
    "fm_rank_cv_results.xs(metric, 1, 1).mean(level=1).plot(ax=ax, label='FM')\n",
    "\n",
    "linestyles = {'CB': '--', 'RND': ':', 'MP': ':'}\n",
    "colors = {'CB': '', 'RND': '', 'MP': ''}\n",
    "\n",
    "for col, data in base_cv_results.xs(metric, 1, 1).mean(level='rank').iteritems():\n",
    "    ax.hlines(y=data, xmin=1, xmax=3200, label=col, linestyles=linestyles[col])\n",
    "ax.legend()"
   ]
  },
  {
   "cell_type": "code",
   "execution_count": 420,
   "metadata": {
    "ExecuteTime": {
     "end_time": "2017-09-06T12:52:51.926311Z",
     "start_time": "2017-09-06T12:52:51.910007Z"
    }
   },
   "outputs": [
    {
     "data": {
      "text/plain": [
       "rank\n",
       "50    0.091713\n",
       "Name: (PureSVD, MRR), dtype: float64"
      ]
     },
     "execution_count": 420,
     "metadata": {},
     "output_type": "execute_result"
    }
   ],
   "source": [
    "rank_cv_results.loc[:, ('PureSVD', 'MRR')].mean(level='rank').loc[lambda x: x == x.max()]"
   ]
  },
  {
   "cell_type": "code",
   "execution_count": 421,
   "metadata": {
    "ExecuteTime": {
     "end_time": "2017-09-06T12:52:52.887500Z",
     "start_time": "2017-09-06T12:52:52.873986Z"
    }
   },
   "outputs": [
    {
     "data": {
      "text/plain": [
       "rank\n",
       "30    0.090997\n",
       "Name: (FM, MRR), dtype: float64"
      ]
     },
     "execution_count": 421,
     "metadata": {},
     "output_type": "execute_result"
    }
   ],
   "source": [
    "fm_rank_cv_results.loc[:, ('FM', 'MRR')].mean(level='rank').loc[lambda x: x == x.max()]"
   ]
  },
  {
   "cell_type": "code",
   "execution_count": 433,
   "metadata": {
    "ExecuteTime": {
     "end_time": "2017-09-06T13:02:30.230196Z",
     "start_time": "2017-09-06T13:02:30.205462Z"
    }
   },
   "outputs": [
    {
     "data": {
      "text/plain": [
       "rank\n",
       "50    0.091224\n",
       "Name: (HybridSVD ($\\alpha=0.1$), MRR), dtype: float64"
      ]
     },
     "execution_count": 433,
     "metadata": {},
     "output_type": "execute_result"
    }
   ],
   "source": [
    "rank_cv_results.loc[:, (r'HybridSVD ($\\alpha=0.1$)', 'MRR')].mean(level='rank').loc[lambda x: x == x.max()]"
   ]
  },
  {
   "cell_type": "markdown",
   "metadata": {},
   "source": [
    "# Top-N experiments"
   ]
  },
  {
   "cell_type": "code",
   "execution_count": 441,
   "metadata": {
    "ExecuteTime": {
     "end_time": "2017-09-06T13:40:52.763250Z",
     "start_time": "2017-09-06T13:40:52.756978Z"
    },
    "collapsed": true
   },
   "outputs": [],
   "source": [
    "def sample_ci(df, coef=2.776, level=None): # 95% CI for sample\n",
    "    return coef * df.std(level=level) / np.sqrt(df.shape[0])"
   ]
  },
  {
   "cell_type": "code",
   "execution_count": 444,
   "metadata": {
    "ExecuteTime": {
     "end_time": "2017-09-06T13:42:20.990706Z",
     "start_time": "2017-09-06T13:42:20.983944Z"
    },
    "collapsed": true
   },
   "outputs": [],
   "source": [
    "hsvd = [hybrid_svd for hybrid_svd in hybrids if '0.5' in hybrid_svd.method][0]"
   ]
  },
  {
   "cell_type": "code",
   "execution_count": 445,
   "metadata": {
    "ExecuteTime": {
     "end_time": "2017-09-06T13:42:24.158036Z",
     "start_time": "2017-09-06T13:42:24.144660Z"
    }
   },
   "outputs": [
    {
     "name": "stdout",
     "output_type": "stream",
     "text": [
      "MP RND CB PureSVD FM HybridSVD ($\\alpha=0.5$)\n"
     ]
    }
   ],
   "source": [
    "topk_models = baselines + [psvd, fm, hsvd]\n",
    "models_config = [None]*len(baselines) + [{'rank':50}, {'rank':30}, {'rank':50}]\n",
    "\n",
    "for model in topk_models:\n",
    "    print model.method,"
   ]
  },
  {
   "cell_type": "code",
   "execution_count": 437,
   "metadata": {
    "ExecuteTime": {
     "end_time": "2017-09-06T13:30:04.348247Z",
     "start_time": "2017-09-06T13:03:38.828010Z"
    }
   },
   "outputs": [
    {
     "data": {
      "application/vnd.jupyter.widget-view+json": {
       "model_id": "9f361d59f14d40b3910e073fa22176f8",
       "version_major": 2,
       "version_minor": 0
      },
      "text/plain": [
       "A Jupyter Widget"
      ]
     },
     "metadata": {},
     "output_type": "display_data"
    },
    {
     "data": {
      "text/html": [
       "<pre>Recsys training: model = ranking_factorization_recommender</pre>"
      ],
      "text/plain": [
       "Recsys training: model = ranking_factorization_recommender"
      ]
     },
     "metadata": {},
     "output_type": "display_data"
    },
    {
     "data": {
      "text/html": [
       "<pre>Recsys training: model = ranking_factorization_recommender</pre>"
      ],
      "text/plain": [
       "Recsys training: model = ranking_factorization_recommender"
      ]
     },
     "metadata": {},
     "output_type": "display_data"
    },
    {
     "data": {
      "text/html": [
       "<pre>Recsys training: model = ranking_factorization_recommender</pre>"
      ],
      "text/plain": [
       "Recsys training: model = ranking_factorization_recommender"
      ]
     },
     "metadata": {},
     "output_type": "display_data"
    },
    {
     "data": {
      "text/html": [
       "<pre>Recsys training: model = ranking_factorization_recommender</pre>"
      ],
      "text/plain": [
       "Recsys training: model = ranking_factorization_recommender"
      ]
     },
     "metadata": {},
     "output_type": "display_data"
    },
    {
     "data": {
      "text/html": [
       "<pre>Recsys training: model = ranking_factorization_recommender</pre>"
      ],
      "text/plain": [
       "Recsys training: model = ranking_factorization_recommender"
      ]
     },
     "metadata": {},
     "output_type": "display_data"
    },
    {
     "name": "stdout",
     "output_type": "stream",
     "text": [
      "\n"
     ]
    }
   ],
   "source": [
    "topk_list = [1, 3, 10, 20, 30]\n",
    "\n",
    "topk_cv_results = run_cv_experiment(topk_models, data_model, metrics, ('topk', topk_list), models_configuration=models_config, verbose=False)"
   ]
  },
  {
   "cell_type": "code",
   "execution_count": 450,
   "metadata": {
    "ExecuteTime": {
     "end_time": "2017-09-06T13:45:21.527447Z",
     "start_time": "2017-09-06T13:44:32.161167Z"
    }
   },
   "outputs": [
    {
     "data": {
      "application/vnd.jupyter.widget-view+json": {
       "model_id": "6500f6560eda4aafb570ca082f536e71",
       "version_major": 2,
       "version_minor": 0
      },
      "text/plain": [
       "A Jupyter Widget"
      ]
     },
     "metadata": {},
     "output_type": "display_data"
    },
    {
     "name": "stdout",
     "output_type": "stream",
     "text": [
      "\n"
     ]
    }
   ],
   "source": [
    "topk_list = [1, 3, 10, 20, 30]\n",
    "\n",
    "hsvd_topk_cv_results = run_cv_experiment([hsvd], data_model, metrics, ('topk', topk_list), verbose=False)"
   ]
  },
  {
   "cell_type": "code",
   "execution_count": 453,
   "metadata": {
    "ExecuteTime": {
     "end_time": "2017-09-06T13:46:33.421342Z",
     "start_time": "2017-09-06T13:46:33.415483Z"
    },
    "collapsed": true
   },
   "outputs": [],
   "source": [
    "topk_cv_results.update(hsvd_topk_cv_results)"
   ]
  },
  {
   "cell_type": "code",
   "execution_count": 438,
   "metadata": {
    "ExecuteTime": {
     "end_time": "2017-09-06T13:40:15.932882Z",
     "start_time": "2017-09-06T13:40:15.872650Z"
    },
    "collapsed": true
   },
   "outputs": [],
   "source": [
    "topk_cv_results_df = get_results_dataframe(topk_cv_results, ('topk', topk_list))"
   ]
  },
  {
   "cell_type": "code",
   "execution_count": 439,
   "metadata": {
    "ExecuteTime": {
     "end_time": "2017-09-06T13:40:28.397607Z",
     "start_time": "2017-09-06T13:40:28.387079Z"
    },
    "collapsed": true
   },
   "outputs": [],
   "source": [
    "topk_cv_results_df.to_csv('Standard_TopN_CV_results_ML.csv')"
   ]
  },
  {
   "cell_type": "code",
   "execution_count": 456,
   "metadata": {
    "ExecuteTime": {
     "end_time": "2017-09-06T13:47:25.031090Z",
     "start_time": "2017-09-06T13:47:24.014332Z"
    }
   },
   "outputs": [
    {
     "data": {
      "text/plain": [
       "<matplotlib.axes._subplots.AxesSubplot at 0x7fcde587bf10>"
      ]
     },
     "execution_count": 456,
     "metadata": {},
     "output_type": "execute_result"
    },
    {
     "data": {
      "image/png": "[encoded data removed]",
      "text/plain": [
       "<matplotlib.figure.Figure at 0x7fcde5836790>"
      ]
     },
     "metadata": {
      "image/png": {
       "height": 266,
       "width": 380
      }
     },
     "output_type": "display_data"
    }
   ],
   "source": [
    "topk_cv_results_df.xs('MRR', 1, 1).mean(level='topk').plot.bar(yerr=sample_ci(topk_cv_results_df.xs('MRR', 1, 1), level='topk'), width=0.9, logy=False)"
   ]
  }
 ],
 "metadata": {
  "kernelspec": {
   "display_name": "Python 2",
   "language": "python",
   "name": "python2"
  },
  "language_info": {
   "codemirror_mode": {
    "name": "ipython",
    "version": 2
   },
   "file_extension": ".py",
   "mimetype": "text/x-python",
   "name": "python",
   "nbconvert_exporter": "python",
   "pygments_lexer": "ipython2",
   "version": "2.7.14"
  },
  "toc": {
   "colors": {
    "hover_highlight": "#DAA520",
    "navigate_num": "#000000",
    "navigate_text": "#333333",
    "running_highlight": "#FF0000",
    "selected_highlight": "#FFD700",
    "sidebar_border": "#EEEEEE",
    "wrapper_background": "#FFFFFF"
   },
   "moveMenuLeft": true,
   "nav_menu": {
    "height": "12px",
    "width": "252px"
   },
   "navigate_menu": true,
   "number_sections": true,
   "sideBar": true,
   "threshold": 4,
   "toc_cell": false,
   "toc_section_display": "block",
   "toc_window_display": false,
   "widenNotebook": false
  }
 },
 "nbformat": 4,
 "nbformat_minor": 1
}
