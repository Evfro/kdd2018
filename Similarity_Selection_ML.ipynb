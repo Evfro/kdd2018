{
 "cells": [
  {
   "cell_type": "code",
   "execution_count": 1,
   "metadata": {
    "code_folding": [
     0
    ]
   },
   "outputs": [],
   "source": [
    "# imports\n",
    "from __future__ import division\n",
    "from StringIO import StringIO\n",
    "from collections import defaultdict\n",
    "\n",
    "import pandas as pd\n",
    "import numpy as np\n",
    "from scipy.sparse import csc_matrix\n",
    "from scipy.sparse import csr_matrix\n",
    "import scipy as sp\n",
    "from tqdm import tqdm_notebook\n",
    "\n",
    "from polara.recommender.models import RecommenderModel\n",
    "from polara.recommender.data import RecommenderData\n",
    "from polara.tools.printing import print_frames, suppress_stdout\n",
    "from polara.tools.movielens import get_movielens_data\n",
    "from polara.lib.similarity import combine_similarity_data\n",
    "\n",
    "from models_sparse import FeatureSimilarityMixin\n",
    "\n",
    "import matplotlib.pyplot as plt\n",
    "\n",
    "%matplotlib inline\n",
    "%config InlineBackend.figure_format = 'retina'"
   ]
  },
  {
   "cell_type": "code",
   "execution_count": 3,
   "metadata": {},
   "outputs": [],
   "source": [
    "class SimilarityDataModel(FeatureSimilarityMixin, RecommenderData): pass"
   ]
  },
  {
   "cell_type": "code",
   "execution_count": 4,
   "metadata": {},
   "outputs": [],
   "source": [
    "class ContentBased(RecommenderModel):\n",
    "    def __init__(self, *args, **kwargs):\n",
    "        super(ContentBased, self).__init__(*args, **kwargs)\n",
    "        self.method = 'CB'\n",
    "\n",
    "    def build(self, *args, **kwargs):\n",
    "        # use copy to prevent contaminating original data\n",
    "        self.item_similarity_matrix = self.data.item_similarity.copy()\n",
    "        self.item_similarity_matrix.setdiag(0) # exclude self-links\n",
    "        self.item_similarity_matrix.eliminate_zeros()\n",
    "        \n",
    "    def slice_recommendations(self, test_data, shape, start, stop, test_users=None):\n",
    "        test_matrix, slice_data = self.get_test_matrix(test_data, shape, (start, stop))\n",
    "        # test matrix is in CSR format\n",
    "        scores = self.item_similarity_matrix.dot(test_matrix.T).T\n",
    "        return scores, slice_data"
   ]
  },
  {
   "cell_type": "markdown",
   "metadata": {
    "heading_collapsed": true
   },
   "source": [
    "# Prepare data"
   ]
  },
  {
   "cell_type": "code",
   "execution_count": null,
   "metadata": {
    "hidden": true
   },
   "outputs": [],
   "source": [
    "ml_path = \"datasets/ml-1m.zip\""
   ]
  },
  {
   "cell_type": "code",
   "execution_count": null,
   "metadata": {
    "hidden": true
   },
   "outputs": [],
   "source": [
    "data, genres = get_movielens_data(ml_path, get_genres=True, split_genres=False)\n",
    "genres = genres.assign(movienm=lambda x: x.movienm.str.decode('unicode_escape'))\n",
    "\n",
    "id_fix = pd.read_csv('datasets/ml1m_sub.csv')\n",
    "\n",
    "genres.movieid.replace(id_fix.set_index('ml1mid').movieid, inplace=True)\n",
    "\n",
    "genres = genres.drop_duplicates(subset='movieid').copy()\n",
    "\n",
    "data.movieid.replace(id_fix.set_index('ml1mid').movieid, inplace=True)\n",
    "data = data.drop_duplicates().copy()"
   ]
  },
  {
   "cell_type": "code",
   "execution_count": null,
   "metadata": {
    "hidden": true
   },
   "outputs": [],
   "source": [
    "meta_info = pd.read_csv('datasets/meta_info_ml1m.csv', sep=';', na_filter=False).set_index('movieid')\n",
    "meta_info.loc[:, meta_info.columns] = meta_info.loc[:, meta_info.columns].applymap(lambda x: x.split(',') if x else [])"
   ]
  },
  {
   "cell_type": "code",
   "execution_count": null,
   "metadata": {
    "hidden": true
   },
   "outputs": [],
   "source": [
    "ml_data = data.query('rating>=4').assign(rating=1)"
   ]
  },
  {
   "cell_type": "code",
   "execution_count": null,
   "metadata": {
    "hidden": true
   },
   "outputs": [],
   "source": [
    "data_stats = ml_data.apply(pd.Series.nunique, axis=0)\n",
    "data_stats"
   ]
  },
  {
   "cell_type": "code",
   "execution_count": 20,
   "metadata": {
    "hidden": true
   },
   "outputs": [
    {
     "data": {
      "text/plain": [
       "0.02697524961765369"
      ]
     },
     "execution_count": 20,
     "metadata": {},
     "output_type": "execute_result"
    }
   ],
   "source": [
    "ml_data.shape[0] / np.prod(data_stats[['userid', 'movieid']])"
   ]
  },
  {
   "cell_type": "code",
   "execution_count": 21,
   "metadata": {
    "hidden": true
   },
   "outputs": [
    {
     "data": {
      "text/plain": [
       "95.27658164955284"
      ]
     },
     "execution_count": 21,
     "metadata": {},
     "output_type": "execute_result"
    }
   ],
   "source": [
    "ml_data.userid.value_counts().mean()"
   ]
  },
  {
   "cell_type": "code",
   "execution_count": 22,
   "metadata": {
    "hidden": true
   },
   "outputs": [
    {
     "data": {
      "text/plain": [
       "58.0"
      ]
     },
     "execution_count": 22,
     "metadata": {},
     "output_type": "execute_result"
    }
   ],
   "source": [
    "ml_data.userid.value_counts().median()"
   ]
  },
  {
   "cell_type": "markdown",
   "metadata": {},
   "source": [
    "# Feature Selection"
   ]
  },
  {
   "cell_type": "code",
   "execution_count": 16,
   "metadata": {},
   "outputs": [],
   "source": [
    "def plot_categorical(data, x, y, c=None):\n",
    "    markers = [\n",
    "    'o', # circle\n",
    "    'v', # triangle down\n",
    "    's', # square\n",
    "    'D', # diamond\n",
    "    ]\n",
    "    \n",
    "    plt.figure(figsize=(3.7, 2.2))\n",
    "    \n",
    "    x_map = defaultdict(lambda: len(x_map))\n",
    "    x_ = data[x].map(x_map.__getitem__)\n",
    "\n",
    "    if c is not None:\n",
    "        c_map = defaultdict(lambda: len(c_map))\n",
    "        c_ = data[c].map(c_map.__getitem__)\n",
    "        for label, value in c_map.iteritems():\n",
    "            sel = c_== value\n",
    "            plt.scatter(x_[sel], data.loc[sel, y], marker=markers[value], label=label)\n",
    "    else:\n",
    "        plt.scatter(x_, data[y])\n",
    "        \n",
    "    plt.xticks(*reversed(zip(*x_map.iteritems())))\n",
    "    plt.tight_layout()\n",
    "    plt.legend(loc='best')"
   ]
  },
  {
   "cell_type": "markdown",
   "metadata": {},
   "source": [
    "## Single"
   ]
  },
  {
   "cell_type": "code",
   "execution_count": 23,
   "metadata": {
    "hidden": true
   },
   "outputs": [],
   "source": [
    "jw = 'jaccard-weighted'\n",
    "jd = 'jaccard'\n",
    "cs = 'cosine'\n",
    "tc = 'tfidf-cosine'\n",
    "\n",
    "features = ['director', 'writer', 'cast', 'genres']\n",
    "sim_types = [jd, jw, cs, tc] "
   ]
  },
  {
   "cell_type": "code",
   "execution_count": null,
   "metadata": {},
   "outputs": [],
   "source": [
    "feat_sel_res = {}\n",
    "folds = [1, 2, 3, 4, 5]\n",
    "\n",
    "for feature in tqdm_notebook(features, desc='feat'):\n",
    "    for stype in tqdm_notebook(sim_types, desc='sim', leave=False):\n",
    "        item_similarity = combine_similarity_data(meta_info[[feature]], similarity_type=stype, weights=None)\n",
    "        similarities = {'userid': None, 'movieid': item_similarity}\n",
    "        sim_indices = {'userid': None, 'movieid': meta_info.index}\n",
    "        \n",
    "        data_model = SimilarityDataModel(similarities, sim_indices, ml_data, 'userid', 'movieid', 'rating', seed=42)\n",
    "        data_model.random_holdout = True\n",
    "        data_model.holdout_size = 1\n",
    "        data_model.test_unseen_users = False\n",
    "        \n",
    "        for fold in folds:\n",
    "            with suppress_stdout():\n",
    "                data_model.prepare()\n",
    "                naive = ContentBased(data_model)\n",
    "                naive.build()\n",
    "                \n",
    "                key = '{}--{}'.format(feature, stype)\n",
    "                nusers = data_model.test.evalset[data_model.fields.userid].nunique()\n",
    "                feat_sel_res.setdefault(key, []).append(naive.evaluate().true_positive / nusers)"
   ]
  },
  {
   "cell_type": "code",
   "execution_count": 35,
   "metadata": {},
   "outputs": [
    {
     "data": {
      "text/html": [
       "<div>\n",
       "<style scoped>\n",
       "    .dataframe tbody tr th:only-of-type {\n",
       "        vertical-align: middle;\n",
       "    }\n",
       "\n",
       "    .dataframe tbody tr th {\n",
       "        vertical-align: top;\n",
       "    }\n",
       "\n",
       "    .dataframe thead th {\n",
       "        text-align: right;\n",
       "    }\n",
       "</style>\n",
       "<table border=\"1\" class=\"dataframe\">\n",
       "  <thead>\n",
       "    <tr style=\"text-align: right;\">\n",
       "      <th></th>\n",
       "      <th>score</th>\n",
       "      <th>feature</th>\n",
       "      <th>metric</th>\n",
       "    </tr>\n",
       "  </thead>\n",
       "  <tbody>\n",
       "    <tr>\n",
       "      <th>0</th>\n",
       "      <td>0.027386</td>\n",
       "      <td>cast</td>\n",
       "      <td>cosine</td>\n",
       "    </tr>\n",
       "    <tr>\n",
       "      <th>1</th>\n",
       "      <td>0.014108</td>\n",
       "      <td>cast</td>\n",
       "      <td>jaccard</td>\n",
       "    </tr>\n",
       "    <tr>\n",
       "      <th>2</th>\n",
       "      <td>0.034025</td>\n",
       "      <td>cast</td>\n",
       "      <td>jaccard-weighted</td>\n",
       "    </tr>\n",
       "    <tr>\n",
       "      <th>3</th>\n",
       "      <td>0.030705</td>\n",
       "      <td>cast</td>\n",
       "      <td>tfidf-cosine</td>\n",
       "    </tr>\n",
       "    <tr>\n",
       "      <th>4</th>\n",
       "      <td>0.026556</td>\n",
       "      <td>director</td>\n",
       "      <td>cosine</td>\n",
       "    </tr>\n",
       "    <tr>\n",
       "      <th>5</th>\n",
       "      <td>0.024066</td>\n",
       "      <td>director</td>\n",
       "      <td>jaccard</td>\n",
       "    </tr>\n",
       "    <tr>\n",
       "      <th>6</th>\n",
       "      <td>0.023237</td>\n",
       "      <td>director</td>\n",
       "      <td>jaccard-weighted</td>\n",
       "    </tr>\n",
       "    <tr>\n",
       "      <th>7</th>\n",
       "      <td>0.027386</td>\n",
       "      <td>director</td>\n",
       "      <td>tfidf-cosine</td>\n",
       "    </tr>\n",
       "    <tr>\n",
       "      <th>8</th>\n",
       "      <td>0.008299</td>\n",
       "      <td>genres</td>\n",
       "      <td>cosine</td>\n",
       "    </tr>\n",
       "    <tr>\n",
       "      <th>9</th>\n",
       "      <td>0.003320</td>\n",
       "      <td>genres</td>\n",
       "      <td>jaccard</td>\n",
       "    </tr>\n",
       "    <tr>\n",
       "      <th>10</th>\n",
       "      <td>0.013278</td>\n",
       "      <td>genres</td>\n",
       "      <td>jaccard-weighted</td>\n",
       "    </tr>\n",
       "    <tr>\n",
       "      <th>11</th>\n",
       "      <td>0.007469</td>\n",
       "      <td>genres</td>\n",
       "      <td>tfidf-cosine</td>\n",
       "    </tr>\n",
       "    <tr>\n",
       "      <th>12</th>\n",
       "      <td>0.008299</td>\n",
       "      <td>writer</td>\n",
       "      <td>cosine</td>\n",
       "    </tr>\n",
       "    <tr>\n",
       "      <th>13</th>\n",
       "      <td>0.008299</td>\n",
       "      <td>writer</td>\n",
       "      <td>jaccard</td>\n",
       "    </tr>\n",
       "    <tr>\n",
       "      <th>14</th>\n",
       "      <td>0.007469</td>\n",
       "      <td>writer</td>\n",
       "      <td>jaccard-weighted</td>\n",
       "    </tr>\n",
       "    <tr>\n",
       "      <th>15</th>\n",
       "      <td>0.009129</td>\n",
       "      <td>writer</td>\n",
       "      <td>tfidf-cosine</td>\n",
       "    </tr>\n",
       "  </tbody>\n",
       "</table>\n",
       "</div>"
      ],
      "text/plain": [
       "       score   feature            metric\n",
       "0   0.027386      cast            cosine\n",
       "1   0.014108      cast           jaccard\n",
       "2   0.034025      cast  jaccard-weighted\n",
       "3   0.030705      cast      tfidf-cosine\n",
       "4   0.026556  director            cosine\n",
       "5   0.024066  director           jaccard\n",
       "6   0.023237  director  jaccard-weighted\n",
       "7   0.027386  director      tfidf-cosine\n",
       "8   0.008299    genres            cosine\n",
       "9   0.003320    genres           jaccard\n",
       "10  0.013278    genres  jaccard-weighted\n",
       "11  0.007469    genres      tfidf-cosine\n",
       "12  0.008299    writer            cosine\n",
       "13  0.008299    writer           jaccard\n",
       "14  0.007469    writer  jaccard-weighted\n",
       "15  0.009129    writer      tfidf-cosine"
      ]
     },
     "execution_count": 35,
     "metadata": {},
     "output_type": "execute_result"
    }
   ],
   "source": [
    "feature_scores = pd.DataFrame(pd.Series(feat_sel_res)\n",
    "                              .reset_index()\n",
    "                              .rename(columns={'index':'feature', 0:'score'})\n",
    "                              .assign(feature = lambda x: x.feature.str.split('--'))\n",
    "                              .assign(score = lambda x: x.score.apply(np.mean))\n",
    "                             )\n",
    "feature_scores = pd.concat([feature_scores.drop('feature', axis=1),\n",
    "                            pd.DataFrame(feature_scores.feature.tolist(),\n",
    "                                         columns=['feature', 'metric'])], axis=1)\n",
    "feature_scores"
   ]
  },
  {
   "cell_type": "code",
   "execution_count": 48,
   "metadata": {},
   "outputs": [
    {
     "data": {
      "image/png": "[encoded data removed]",
      "text/plain": [
       "<matplotlib.figure.Figure at 0x7f61c4ea7a90>"
      ]
     },
     "metadata": {
      "image/png": {
       "height": 148,
       "width": 244
      }
     },
     "output_type": "display_data"
    }
   ],
   "source": [
    "plot_categorical(feature_scores, 'feature', 'score', 'metric')\n",
    "plt.ylim(0, 0.066);"
   ]
  },
  {
   "cell_type": "code",
   "execution_count": 27,
   "metadata": {},
   "outputs": [],
   "source": [
    "feature_scores.to_csv('feature_scores_ML.csv', index=None)"
   ]
  },
  {
   "cell_type": "markdown",
   "metadata": {},
   "source": [
    "## Combination"
   ]
  },
  {
   "cell_type": "code",
   "execution_count": 28,
   "metadata": {},
   "outputs": [],
   "source": [
    "feat_combi = [{'cast':jw, 'director':jw}, {'cast':jw, 'genres':tc}, {'cast':jw, 'director':jw, 'genres':tc}]"
   ]
  },
  {
   "cell_type": "code",
   "execution_count": 29,
   "metadata": {},
   "outputs": [
    {
     "data": {
      "text/plain": [
       "['d-jw', 'c-jw']"
      ]
     },
     "execution_count": 29,
     "metadata": {},
     "output_type": "execute_result"
    }
   ],
   "source": [
    "combi_key = lambda f, s: '{}-{}'.format(f[0], ''.join([x[0] for x in s.split('-')]))\n",
    "[combi_key(f, s) for f, s in feat_combi[0].iteritems()]"
   ]
  },
  {
   "cell_type": "code",
   "execution_count": null,
   "metadata": {},
   "outputs": [],
   "source": [
    "feat_sel_res_combi = {}\n",
    "folds = [1, 2, 3, 4, 5]\n",
    "for stype in tqdm_notebook(feat_combi, desc='combi', leave=False):\n",
    "    item_similarity = combine_similarity_data(meta_info[stype.keys()], similarity_type=stype, weights=None)\n",
    "    similarities = {'userid': None, 'movieid': item_similarity}\n",
    "\n",
    "    data_model = SimilarityDataModel(similarities, sim_indices, ml_data, 'userid', 'movieid', 'rating', seed=42)\n",
    "    data_model.random_holdout = True\n",
    "    data_model.holdout_size = 1\n",
    "    data_model.test_unseen_users = False\n",
    "\n",
    "    for fold in tqdm_notebook(folds, desc='fold', leave=False):\n",
    "        with suppress_stdout():\n",
    "            data_model.prepare()\n",
    "            naive = ContentBased(data_model)\n",
    "            naive.build()\n",
    "            \n",
    "            key = '_'.join(combi_key(f, s) for f, s in stype.iteritems())\n",
    "            nusers = data_model.test.evalset[data_model.fields.userid].nunique()\n",
    "            feat_sel_res_combi.setdefault(key, []).append(naive.evaluate().true_positive / nusers)"
   ]
  },
  {
   "cell_type": "code",
   "execution_count": 33,
   "metadata": {},
   "outputs": [
    {
     "data": {
      "text/html": [
       "<div>\n",
       "<style scoped>\n",
       "    .dataframe tbody tr th:only-of-type {\n",
       "        vertical-align: middle;\n",
       "    }\n",
       "\n",
       "    .dataframe tbody tr th {\n",
       "        vertical-align: top;\n",
       "    }\n",
       "\n",
       "    .dataframe thead th {\n",
       "        text-align: right;\n",
       "    }\n",
       "</style>\n",
       "<table border=\"1\" class=\"dataframe\">\n",
       "  <thead>\n",
       "    <tr style=\"text-align: right;\">\n",
       "      <th></th>\n",
       "      <th>feature</th>\n",
       "      <th>score</th>\n",
       "    </tr>\n",
       "  </thead>\n",
       "  <tbody>\n",
       "    <tr>\n",
       "      <th>0</th>\n",
       "      <td>[c-jw_g-tc]</td>\n",
       "      <td>0.021577</td>\n",
       "    </tr>\n",
       "    <tr>\n",
       "      <th>1</th>\n",
       "      <td>[d-jw_c-jw]</td>\n",
       "      <td>0.031535</td>\n",
       "    </tr>\n",
       "    <tr>\n",
       "      <th>2</th>\n",
       "      <td>[d-jw_c-jw_g-tc]</td>\n",
       "      <td>0.028216</td>\n",
       "    </tr>\n",
       "  </tbody>\n",
       "</table>\n",
       "</div>"
      ],
      "text/plain": [
       "            feature     score\n",
       "0       [c-jw_g-tc]  0.021577\n",
       "1       [d-jw_c-jw]  0.031535\n",
       "2  [d-jw_c-jw_g-tc]  0.028216"
      ]
     },
     "execution_count": 33,
     "metadata": {},
     "output_type": "execute_result"
    }
   ],
   "source": [
    "feature_scores = pd.DataFrame(pd.Series(feat_sel_res_combi)\n",
    "                              .reset_index()\n",
    "                              .rename(columns={'index':'feature', 0:'score'})\n",
    "                              .assign(feature = lambda x: x.feature.str.split('--'))\n",
    "                              .assign(score = lambda x: x.score.apply(np.mean))\n",
    "                             )\n",
    "feature_scores"
   ]
  }
 ],
 "metadata": {
  "kernelspec": {
   "display_name": "Python 2",
   "language": "python",
   "name": "python2"
  },
  "language_info": {
   "codemirror_mode": {
    "name": "ipython",
    "version": 2
   },
   "file_extension": ".py",
   "mimetype": "text/x-python",
   "name": "python",
   "nbconvert_exporter": "python",
   "pygments_lexer": "ipython2",
   "version": "2.7.14"
  },
  "toc": {
   "colors": {
    "hover_highlight": "#DAA520",
    "navigate_num": "#000000",
    "navigate_text": "#333333",
    "running_highlight": "#FF0000",
    "selected_highlight": "#FFD700",
    "sidebar_border": "#EEEEEE",
    "wrapper_background": "#FFFFFF"
   },
   "moveMenuLeft": true,
   "navigate_menu": false,
   "number_sections": true,
   "sideBar": true,
   "threshold": 4,
   "toc_cell": false,
   "toc_section_display": "block",
   "toc_window_display": false,
   "widenNotebook": false
  }
 },
 "nbformat": 4,
 "nbformat_minor": 2
}
