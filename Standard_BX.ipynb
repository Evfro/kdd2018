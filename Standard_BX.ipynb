{
 "cells": [
  {
   "cell_type": "code",
   "execution_count": 1,
   "metadata": {
    "ExecuteTime": {
     "end_time": "2017-09-01T21:26:09.201420Z",
     "start_time": "2017-09-01T21:26:08.306285Z"
    },
    "code_folding": [],
    "collapsed": true
   },
   "outputs": [],
   "source": [
    "#imports\n",
    "from contextlib import contextmanager\n",
    "from collections import namedtuple, defaultdict\n",
    "\n",
    "import pandas as pd\n",
    "import numpy as np\n",
    "import scipy as sp\n",
    "\n",
    "from polara.recommender.models import RecommenderModel, SVDModel, PopularityModel, RandomModel\n",
    "from polara.recommender.data import RecommenderData\n",
    "from polara.tools.printing import print_frames, suppress_stdout\n",
    "from polara.lib.similarity import combine_similarity_data\n",
    "from evaluation import evaluate_hits\n",
    "from tools import get_bx_data, sample_ci\n",
    "\n",
    "from models_sparse import HybridSVD, FeatureSimilarityMixin\n",
    "\n",
    "from tqdm import tqdm_notebook\n",
    "\n",
    "%matplotlib inline\n",
    "%config InlineBackend.figure_format = 'retina'"
   ]
  },
  {
   "cell_type": "code",
   "execution_count": 2,
   "metadata": {
    "ExecuteTime": {
     "end_time": "2017-09-01T21:26:09.206960Z",
     "start_time": "2017-09-01T21:26:09.203654Z"
    },
    "collapsed": true
   },
   "outputs": [],
   "source": [
    "class SimilarityDataModel(FeatureSimilarityMixin, RecommenderData): pass"
   ]
  },
  {
   "cell_type": "code",
   "execution_count": 3,
   "metadata": {
    "ExecuteTime": {
     "end_time": "2017-09-01T21:26:09.220864Z",
     "start_time": "2017-09-01T21:26:09.208986Z"
    },
    "code_folding": [],
    "collapsed": true
   },
   "outputs": [],
   "source": [
    "class ContentBased(RecommenderModel):\n",
    "    def __init__(self, *args, **kwargs):\n",
    "        super(ContentBased, self).__init__(*args, **kwargs)\n",
    "        self.method = 'CB'\n",
    "\n",
    "    def build(self, *args, **kwargs):\n",
    "        # use copy to prevent contaminating original data\n",
    "        self.item_similarity_matrix = self.data.item_similarity.copy()\n",
    "        self.item_similarity_matrix.setdiag(0) # exclude self-links\n",
    "        self.item_similarity_matrix.eliminate_zeros()\n",
    "        \n",
    "    def slice_recommendations(self, test_data, shape, start, stop, test_users=None):\n",
    "        test_matrix, slice_data = self.get_test_matrix(test_data, shape, (start, stop))\n",
    "        # test matrix is in CSR format\n",
    "        scores = self.item_similarity_matrix.dot(test_matrix.T).T\n",
    "        return scores, slice_data"
   ]
  },
  {
   "cell_type": "code",
   "execution_count": 4,
   "metadata": {
    "ExecuteTime": {
     "end_time": "2017-09-01T21:26:09.231278Z",
     "start_time": "2017-09-01T21:26:09.222872Z"
    },
    "collapsed": true
   },
   "outputs": [],
   "source": [
    "fp = \"datasets/BX-CSV-Dump.zip\""
   ]
  },
  {
   "cell_type": "code",
   "execution_count": 5,
   "metadata": {
    "ExecuteTime": {
     "end_time": "2017-09-01T21:26:11.404884Z",
     "start_time": "2017-09-01T21:26:09.233273Z"
    },
    "collapsed": true
   },
   "outputs": [],
   "source": [
    "ratings, users, books = get_bx_data(fp, get_books=True, get_users=True)"
   ]
  },
  {
   "cell_type": "raw",
   "metadata": {},
   "source": [
    "print_frames((ratings.head(), users.head(), books.head()))"
   ]
  },
  {
   "cell_type": "raw",
   "metadata": {},
   "source": [
    "ratings['rating'].value_counts().sort_index().plot.bar()"
   ]
  },
  {
   "cell_type": "code",
   "execution_count": 6,
   "metadata": {
    "ExecuteTime": {
     "end_time": "2017-09-01T21:26:11.536335Z",
     "start_time": "2017-09-01T21:26:11.407274Z"
    },
    "collapsed": true
   },
   "outputs": [],
   "source": [
    "implicit_data = ratings.query('rating==0').assign(rating=1)\n",
    "valid_users = implicit_data.userid.value_counts().loc[lambda x: x<2000].index\n",
    "implicit_data = implicit_data.query('userid in @valid_users')"
   ]
  },
  {
   "cell_type": "code",
   "execution_count": 7,
   "metadata": {
    "ExecuteTime": {
     "end_time": "2017-09-01T21:26:11.877789Z",
     "start_time": "2017-09-01T21:26:11.538531Z"
    },
    "collapsed": true
   },
   "outputs": [],
   "source": [
    "valid_books = implicit_data.isbn.value_counts().loc[lambda x: x>1].index"
   ]
  },
  {
   "cell_type": "code",
   "execution_count": 8,
   "metadata": {
    "ExecuteTime": {
     "end_time": "2017-09-01T21:26:12.018899Z",
     "start_time": "2017-09-01T21:26:11.880054Z"
    },
    "collapsed": true
   },
   "outputs": [],
   "source": [
    "bx_data = implicit_data.query('isbn in @valid_books')"
   ]
  },
  {
   "cell_type": "code",
   "execution_count": 9,
   "metadata": {
    "ExecuteTime": {
     "end_time": "2017-09-01T21:26:12.584665Z",
     "start_time": "2017-09-01T21:26:12.021146Z"
    },
    "collapsed": true
   },
   "outputs": [],
   "source": [
    "books = (books[books.isbn.isin(bx_data.isbn.unique())]\n",
    "         .set_index('isbn')\n",
    "         .applymap(lambda x: [x,]))\n",
    "\n",
    "missing_isbn = bx_data.isbn.drop_duplicates().loc[lambda x: ~x.isin(books.index)].values\n",
    "\n",
    "books = books.append(pd.DataFrame(index=missing_isbn), ignore_index=False)\n",
    "books.loc[missing_isbn, :] = books.loc[missing_isbn, :].applymap(lambda x: [])\n",
    "books.index.name = 'isbn'"
   ]
  },
  {
   "cell_type": "code",
   "execution_count": null,
   "metadata": {
    "collapsed": true
   },
   "outputs": [],
   "source": []
  },
  {
   "cell_type": "code",
   "execution_count": 10,
   "metadata": {
    "ExecuteTime": {
     "end_time": "2017-09-01T21:26:13.452604Z",
     "start_time": "2017-09-01T21:26:12.586864Z"
    },
    "collapsed": true
   },
   "outputs": [],
   "source": [
    "jw = 'jaccard-weighted'\n",
    "jd = 'jaccard'\n",
    "cs = 'cosine'\n",
    "tc = 'tfidf-cosine'\n",
    "\n",
    "sim_type = {'author':jd}\n",
    "item_similarity = combine_similarity_data(books[sim_type.keys()], similarity_type=sim_type, weights=None)"
   ]
  },
  {
   "cell_type": "code",
   "execution_count": 11,
   "metadata": {
    "ExecuteTime": {
     "end_time": "2017-09-01T21:26:13.458614Z",
     "start_time": "2017-09-01T21:26:13.454879Z"
    },
    "collapsed": true
   },
   "outputs": [],
   "source": [
    "similarities = {'userid': None, 'isbn': item_similarity}\n",
    "sim_indices = {'userid': None, 'isbn': books.index}"
   ]
  },
  {
   "cell_type": "markdown",
   "metadata": {
    "collapsed": true,
    "heading_collapsed": true
   },
   "source": [
    "# Test"
   ]
  },
  {
   "cell_type": "code",
   "execution_count": 12,
   "metadata": {
    "ExecuteTime": {
     "end_time": "2017-09-01T20:00:26.163715Z",
     "start_time": "2017-09-01T20:00:26.002921Z"
    },
    "collapsed": true,
    "hidden": true
   },
   "outputs": [],
   "source": [
    "data_model = SimilarityDataModel(similarities, sim_indices, bx_data, 'userid', 'isbn', 'rating', seed=42)"
   ]
  },
  {
   "cell_type": "code",
   "execution_count": 13,
   "metadata": {
    "ExecuteTime": {
     "end_time": "2017-09-01T20:00:27.803969Z",
     "start_time": "2017-09-01T20:00:27.796691Z"
    },
    "collapsed": true,
    "hidden": true
   },
   "outputs": [],
   "source": [
    "data_model.holdout_size = 1\n",
    "data_model.random_holdout = True\n",
    "data_model.test_unseen_users = False\n",
    "data_model.test_sample = None\n",
    "data_model.verbose = True"
   ]
  },
  {
   "cell_type": "code",
   "execution_count": 14,
   "metadata": {
    "ExecuteTime": {
     "end_time": "2017-09-01T20:00:32.429127Z",
     "start_time": "2017-09-01T20:00:28.127838Z"
    },
    "hidden": true
   },
   "outputs": [
    {
     "name": "stdout",
     "output_type": "stream",
     "text": [
      "Preparing data...\n",
      "27 unique isbn's within 55 holdout interactions were filtered. Reason: not in the training data.\n",
      "5669 unique userid's within 5669 holdout interactions were filtered. Reason: not in the training data.\n"
     ]
    }
   ],
   "source": [
    "data_model.prepare()"
   ]
  },
  {
   "cell_type": "code",
   "execution_count": null,
   "metadata": {
    "collapsed": true,
    "hidden": true
   },
   "outputs": [],
   "source": []
  },
  {
   "cell_type": "code",
   "execution_count": 15,
   "metadata": {
    "ExecuteTime": {
     "end_time": "2017-09-01T20:00:32.434748Z",
     "start_time": "2017-09-01T20:00:32.431410Z"
    },
    "collapsed": true,
    "hidden": true
   },
   "outputs": [],
   "source": [
    "psvd = SVDModel(data_model)"
   ]
  },
  {
   "cell_type": "code",
   "execution_count": 16,
   "metadata": {
    "ExecuteTime": {
     "end_time": "2017-09-01T20:00:33.168394Z",
     "start_time": "2017-09-01T20:00:32.437451Z"
    },
    "hidden": true
   },
   "outputs": [
    {
     "name": "stdout",
     "output_type": "stream",
     "text": [
      "PureSVD training time: 0.603807926178s\n"
     ]
    }
   ],
   "source": [
    "psvd.build()"
   ]
  },
  {
   "cell_type": "code",
   "execution_count": 17,
   "metadata": {
    "ExecuteTime": {
     "end_time": "2017-09-01T20:00:41.035925Z",
     "start_time": "2017-09-01T20:00:33.170714Z"
    },
    "collapsed": true,
    "hidden": true
   },
   "outputs": [],
   "source": [
    "psvd_hits = evaluate_hits(data_model.test.evalset, 'userid', 'isbn', psvd.recommendations)"
   ]
  },
  {
   "cell_type": "code",
   "execution_count": 18,
   "metadata": {
    "ExecuteTime": {
     "end_time": "2017-09-01T20:00:41.048336Z",
     "start_time": "2017-09-01T20:00:41.039171Z"
    },
    "hidden": true
   },
   "outputs": [
    {
     "data": {
      "text/plain": [
       "0.011912640635340834"
      ]
     },
     "execution_count": 18,
     "metadata": {},
     "output_type": "execute_result"
    }
   ],
   "source": [
    "psvd_hits.getnnz(axis=1).mean()"
   ]
  },
  {
   "cell_type": "code",
   "execution_count": null,
   "metadata": {
    "collapsed": true,
    "hidden": true
   },
   "outputs": [],
   "source": []
  },
  {
   "cell_type": "code",
   "execution_count": 19,
   "metadata": {
    "ExecuteTime": {
     "end_time": "2017-09-01T20:00:43.055014Z",
     "start_time": "2017-09-01T20:00:43.048671Z"
    },
    "collapsed": true,
    "hidden": true
   },
   "outputs": [],
   "source": [
    "hsvd = HybridSVD(data_model)"
   ]
  },
  {
   "cell_type": "code",
   "execution_count": 20,
   "metadata": {
    "ExecuteTime": {
     "end_time": "2017-09-01T20:00:55.334217Z",
     "start_time": "2017-09-01T20:00:49.560608Z"
    },
    "hidden": true
   },
   "outputs": [
    {
     "name": "stdout",
     "output_type": "stream",
     "text": [
      "Updating isbn similarity matrix\n",
      "Performing sparse Cholesky decomposition for isbn similarity\n",
      "HybridSVD training time: 1.20105600357s\n"
     ]
    }
   ],
   "source": [
    "hsvd.build()"
   ]
  },
  {
   "cell_type": "code",
   "execution_count": 21,
   "metadata": {
    "ExecuteTime": {
     "end_time": "2017-09-01T20:01:14.586271Z",
     "start_time": "2017-09-01T20:01:06.992837Z"
    },
    "collapsed": true,
    "hidden": true
   },
   "outputs": [],
   "source": [
    "hsvd_hits = evaluate_hits(data_model.test.evalset, 'userid', 'isbn', hsvd.recommendations)"
   ]
  },
  {
   "cell_type": "code",
   "execution_count": 22,
   "metadata": {
    "ExecuteTime": {
     "end_time": "2017-09-01T20:01:14.596415Z",
     "start_time": "2017-09-01T20:01:14.588921Z"
    },
    "hidden": true
   },
   "outputs": [
    {
     "data": {
      "text/plain": [
       "0.016104125303331128"
      ]
     },
     "execution_count": 22,
     "metadata": {},
     "output_type": "execute_result"
    }
   ],
   "source": [
    "hsvd_hits.getnnz(axis=1).mean()"
   ]
  },
  {
   "cell_type": "code",
   "execution_count": null,
   "metadata": {
    "collapsed": true,
    "hidden": true
   },
   "outputs": [],
   "source": []
  },
  {
   "cell_type": "code",
   "execution_count": 39,
   "metadata": {
    "ExecuteTime": {
     "end_time": "2017-09-01T20:09:47.671616Z",
     "start_time": "2017-09-01T20:09:47.638062Z"
    },
    "collapsed": true,
    "hidden": true
   },
   "outputs": [],
   "source": [
    "cb = ContentBased(data_model)\n",
    "cb.build()"
   ]
  },
  {
   "cell_type": "code",
   "execution_count": 40,
   "metadata": {
    "ExecuteTime": {
     "end_time": "2017-09-01T20:09:51.832644Z",
     "start_time": "2017-09-01T20:09:49.256136Z"
    },
    "collapsed": true,
    "hidden": true
   },
   "outputs": [],
   "source": [
    "cb_hits = evaluate_hits(data_model.test.evalset, 'userid', 'isbn', cb.recommendations)"
   ]
  },
  {
   "cell_type": "code",
   "execution_count": 41,
   "metadata": {
    "ExecuteTime": {
     "end_time": "2017-09-01T20:09:52.682627Z",
     "start_time": "2017-09-01T20:09:52.673414Z"
    },
    "hidden": true
   },
   "outputs": [
    {
     "data": {
      "text/plain": [
       "0.018530774321641297"
      ]
     },
     "execution_count": 41,
     "metadata": {},
     "output_type": "execute_result"
    }
   ],
   "source": [
    "cb_hits.getnnz(axis=1).mean()"
   ]
  },
  {
   "cell_type": "code",
   "execution_count": null,
   "metadata": {
    "collapsed": true,
    "hidden": true
   },
   "outputs": [],
   "source": []
  },
  {
   "cell_type": "code",
   "execution_count": 51,
   "metadata": {
    "ExecuteTime": {
     "end_time": "2017-09-01T20:13:18.760823Z",
     "start_time": "2017-09-01T20:13:18.707515Z"
    },
    "collapsed": true,
    "hidden": true
   },
   "outputs": [],
   "source": [
    "mpop = PopularityModel(data_model)\n",
    "mpop.build()"
   ]
  },
  {
   "cell_type": "code",
   "execution_count": 52,
   "metadata": {
    "ExecuteTime": {
     "end_time": "2017-09-01T20:13:25.598972Z",
     "start_time": "2017-09-01T20:13:19.036360Z"
    },
    "collapsed": true,
    "hidden": true
   },
   "outputs": [],
   "source": [
    "mpop_hits = evaluate_hits(data_model.test.evalset, 'userid', 'isbn', mpop.recommendations)"
   ]
  },
  {
   "cell_type": "code",
   "execution_count": 53,
   "metadata": {
    "ExecuteTime": {
     "end_time": "2017-09-01T20:13:25.606442Z",
     "start_time": "2017-09-01T20:13:25.601166Z"
    },
    "hidden": true
   },
   "outputs": [
    {
     "data": {
      "text/plain": [
       "0.014118685197440988"
      ]
     },
     "execution_count": 53,
     "metadata": {},
     "output_type": "execute_result"
    }
   ],
   "source": [
    "mpop_hits.getnnz(axis=1).mean()"
   ]
  },
  {
   "cell_type": "code",
   "execution_count": null,
   "metadata": {
    "collapsed": true,
    "hidden": true
   },
   "outputs": [],
   "source": []
  },
  {
   "cell_type": "code",
   "execution_count": 54,
   "metadata": {
    "ExecuteTime": {
     "end_time": "2017-09-01T20:13:28.496334Z",
     "start_time": "2017-09-01T20:13:28.490284Z"
    },
    "collapsed": true,
    "hidden": true
   },
   "outputs": [],
   "source": [
    "rndm = RandomModel(data_model, seed=42)\n",
    "rndm.build()"
   ]
  },
  {
   "cell_type": "code",
   "execution_count": 55,
   "metadata": {
    "ExecuteTime": {
     "end_time": "2017-09-01T20:13:41.469978Z",
     "start_time": "2017-09-01T20:13:29.384335Z"
    },
    "hidden": true
   },
   "outputs": [
    {
     "data": {
      "text/plain": [
       "0.00022060445621001543"
      ]
     },
     "execution_count": 55,
     "metadata": {},
     "output_type": "execute_result"
    }
   ],
   "source": [
    "rndm_hits = evaluate_hits(data_model.test.evalset, 'userid', 'isbn', rndm.recommendations)\n",
    "rndm_hits.getnnz(axis=1).mean()"
   ]
  },
  {
   "cell_type": "markdown",
   "metadata": {
    "heading_collapsed": true
   },
   "source": [
    "# Experiments"
   ]
  },
  {
   "cell_type": "code",
   "execution_count": 294,
   "metadata": {
    "ExecuteTime": {
     "end_time": "2017-09-03T07:53:51.708408Z",
     "start_time": "2017-09-03T07:53:51.655907Z"
    },
    "code_folding": [
     0,
     26
    ],
    "collapsed": true,
    "hidden": true
   },
   "outputs": [],
   "source": [
    "def replicate_models(constructor, n, *args, **kwargs):\n",
    "    config = kwargs.pop('config', [])\n",
    "    replicas = [constructor(*args, **kwargs) for i in xrange(n)]\n",
    "    try_set_config(replicas, config)\n",
    "    return replicas\n",
    "\n",
    "def build_models(models, config=None, verbose=False):\n",
    "    try_set_config(models, config)\n",
    "    for model in models:\n",
    "        model.verbose = verbose\n",
    "        model.build()\n",
    "\n",
    "def try_set_config(models, config, force=False):\n",
    "    if config is None:\n",
    "        return\n",
    "    for model, model_config in zip(models, config):\n",
    "        if not model_config:\n",
    "            continue\n",
    "        for k, v in model_config.iteritems():\n",
    "            if hasattr(model, k) or force:\n",
    "                setattr(model, k, v)\n",
    "            else:\n",
    "                if model.vebose:\n",
    "                    msg = 'Unable to set {} attribute for model {}'\n",
    "                    print msg.format(k, model)\n",
    "\n",
    "def set_models_rank(models, rank):\n",
    "    for model in models:\n",
    "        setattr(model, 'rank', rank)\n",
    "        model._refresh_model()\n",
    "\n",
    "def verify_factor_models(models, no_rank):\n",
    "    factor_models = []\n",
    "    other_models = []\n",
    "    for model in models:\n",
    "        if not (hasattr(model, 'factors') or hasattr(model, 'rank')):\n",
    "            if no_rank is 'ignore':\n",
    "                pass\n",
    "            elif no_rank is 'process':\n",
    "                other_models.append(model)\n",
    "            elif no_rank is 'raise':\n",
    "                raise AttributeError('Model {} has no rank dependence'.format(model.method))        \n",
    "            else:\n",
    "                raise ValueError('Unrecognized value for no_rank argument.')\n",
    "        else:\n",
    "            factor_models.append(model)\n",
    "    return factor_models, other_models"
   ]
  },
  {
   "cell_type": "code",
   "execution_count": 14,
   "metadata": {
    "ExecuteTime": {
     "end_time": "2017-09-01T21:28:02.884390Z",
     "start_time": "2017-09-01T21:28:02.838808Z"
    },
    "code_folding": [
     28
    ],
    "collapsed": true,
    "hidden": true
   },
   "outputs": [],
   "source": [
    "def evaluator(test_data, key, target):\n",
    "    def eval_func(model, metrics):\n",
    "        scores = {}\n",
    "        hits = evaluate_hits(test_data, key, target, model.get_recommendations())\n",
    "        if 'HR' in metrics:\n",
    "            # calculate hit rate\n",
    "            hit_rate = hits.getnnz(axis=1).mean()\n",
    "            scores['HR'] = hit_rate\n",
    "        if 'MRR' in metrics:\n",
    "            # calculate hit reciprocal rank\n",
    "            hits.data = 1. / hits.data\n",
    "            scores['MRR'] = hits.max(axis=1).mean()\n",
    "        if 'COV' in metrics:\n",
    "            # assortment coverage\n",
    "            scores['COV'] = np.unique(model.recommendations).size\n",
    "        return scores\n",
    "    return eval_func\n",
    "\n",
    "def evaluate_models(models, eval_func, metrics):\n",
    "    res = {}\n",
    "    for model in models:\n",
    "        res[model.method] = eval_func(model, metrics)\n",
    "    return res\n",
    "\n",
    "def rank_evaluate_models(models, eval_func, metrics, rank):\n",
    "    set_models_rank(models, rank)\n",
    "    return evaluate_models(models, eval_func, metrics)\n",
    "\n",
    "def get_results_dataframe(cv_results, params=None, names=None, folds=None):\n",
    "    from_dict = pd.DataFrame.from_dict\n",
    "    level1 = cv_results.keys() if folds is None else folds\n",
    "    level2 = cv_results if params is None else dict.fromkeys(level1, params)\n",
    "    res = pd.concat({(i, j): from_dict(cv_results[i][j]) for i in level1 for j in level2[i]}).unstack()\n",
    "    names = ['fold', 'param'] if names is None else ['fold', names] if isinstance(names, str) else names\n",
    "    res.index.names = names\n",
    "    return res"
   ]
  },
  {
   "cell_type": "code",
   "execution_count": 15,
   "metadata": {
    "ExecuteTime": {
     "end_time": "2017-09-01T21:28:06.509695Z",
     "start_time": "2017-09-01T21:28:06.478307Z"
    },
    "code_folding": [],
    "collapsed": true,
    "hidden": true
   },
   "outputs": [],
   "source": [
    "def rank_cv_experiment(models, data_model, metrics, ranks = [10], models_configuration=None, no_rank='raise', verbose=False, folds=None):\n",
    "    cv_results = defaultdict(lambda: defaultdict(dict))\n",
    "    folds = folds or range(1, int(1 / data_model.test_ratio)+1)\n",
    "    \n",
    "    ranks = list(reversed(sorted(ranks))) # start from max value, avoids rebuilding models\n",
    "    data_model.verbose = verbose\n",
    "    \n",
    "    for fold in tqdm_notebook(folds, desc='fold'):\n",
    "        data_model.test_fold = fold\n",
    "        data_model.prepare()\n",
    "        \n",
    "        eval_func = evaluator(data_model.test.evalset, 'userid', 'isbn')\n",
    "        \n",
    "        rank_models, other_models = verify_factor_models(models, no_rank)\n",
    "        set_models_rank(rank_models, max(ranks))\n",
    "        build_models(models, config=models_configuration, verbose=verbose)\n",
    "        \n",
    "        if other_models:\n",
    "            cv_results[fold][0].update(evaluate_models(other_models, eval_func, metrics))\n",
    "        \n",
    "        for rank in ranks:\n",
    "            scores = rank_evaluate_models(rank_models, eval_func, metrics, rank)            \n",
    "            cv_results[fold][rank] = scores\n",
    "\n",
    "    return cv_results"
   ]
  },
  {
   "cell_type": "code",
   "execution_count": 16,
   "metadata": {
    "ExecuteTime": {
     "end_time": "2017-09-01T21:28:08.418075Z",
     "start_time": "2017-09-01T21:28:08.256728Z"
    },
    "code_folding": [],
    "collapsed": true,
    "hidden": true
   },
   "outputs": [],
   "source": [
    "seed = 42\n",
    "\n",
    "data_model = SimilarityDataModel(similarities, sim_indices, bx_data, 'userid', 'isbn', 'rating', seed=seed)\n",
    "data_model.holdout_size = 1\n",
    "data_model.random_holdout = True\n",
    "data_model.test_unseen_users = False\n",
    "data_model.test_sample = None"
   ]
  },
  {
   "cell_type": "code",
   "execution_count": 17,
   "metadata": {
    "ExecuteTime": {
     "end_time": "2017-09-01T21:28:25.280583Z",
     "start_time": "2017-09-01T21:28:25.270871Z"
    },
    "code_folding": [],
    "collapsed": true,
    "hidden": true
   },
   "outputs": [],
   "source": [
    "# create recommenders\n",
    "cb = ContentBased(data_model)\n",
    "mpop = PopularityModel(data_model)\n",
    "rndm = RandomModel(data_model, seed=seed)\n",
    "psvd = SVDModel(data_model)"
   ]
  },
  {
   "cell_type": "code",
   "execution_count": 18,
   "metadata": {
    "ExecuteTime": {
     "end_time": "2017-09-01T21:28:30.519754Z",
     "start_time": "2017-09-01T21:28:30.504651Z"
    },
    "hidden": true
   },
   "outputs": [
    {
     "name": "stdout",
     "output_type": "stream",
     "text": [
      "MP RND CB PureSVD HybridSVD ($\\alpha=0.999$) HybridSVD ($\\alpha=0.5$) HybridSVD ($\\alpha=0.1$)\n"
     ]
    }
   ],
   "source": [
    "baselines = [mpop, rndm, cb]\n",
    "\n",
    "features_weights = [0.999, 0.5, 0.1]\n",
    "hybrid_config = [{'features_weight':w, 'method': r'HybridSVD ($\\alpha={}$)'.format(w)} for w in features_weights]\n",
    "hybrids = replicate_models(HybridSVD, len(features_weights), data_model, config=hybrid_config)\n",
    "\n",
    "models = baselines + [psvd] + hybrids\n",
    "\n",
    "for model in models:\n",
    "    print model.method,"
   ]
  },
  {
   "cell_type": "code",
   "execution_count": 19,
   "metadata": {
    "ExecuteTime": {
     "end_time": "2017-09-02T11:46:28.576734Z",
     "start_time": "2017-09-01T21:28:32.838951Z"
    },
    "hidden": true
   },
   "outputs": [
    {
     "data": {
      "application/vnd.jupyter.widget-view+json": {
       "model_id": "36bf01f645df4e2babd41699312a5b64",
       "version_major": 2,
       "version_minor": 0
      },
      "text/plain": [
       "A Jupyter Widget"
      ]
     },
     "metadata": {},
     "output_type": "display_data"
    },
    {
     "name": "stderr",
     "output_type": "stream",
     "text": [
      "/home/evfro/miniconda/envs/polara_env/lib/python2.7/site-packages/polara/recommender/models.py:380: FutureWarning: pandas.lib.fast_zip is deprecated and will be removed in a future version.\n",
      "  recs_idx = pd.lib.fast_zip(list(recs.nonzero())) #larger\n"
     ]
    },
    {
     "name": "stdout",
     "output_type": "stream",
     "text": [
      "\n"
     ]
    }
   ],
   "source": [
    "metrics = 'HR MRR COV'.split()\n",
    "ranks = [1, 5, 10, 15, 20, 30, 50, 75, 100, 125, 150, 200, 300, 500, 750, 1000, 1250, 1500, 1750, 2000, 2500, 3000, 3200]\n",
    "\n",
    "cv_results = rank_cv_experiment(models, data_model, metrics, models_configuration= ranks=ranks, no_rank='process', verbose=False)"
   ]
  },
  {
   "cell_type": "code",
   "execution_count": 20,
   "metadata": {
    "ExecuteTime": {
     "end_time": "2017-09-02T11:46:28.741575Z",
     "start_time": "2017-09-02T11:46:28.579520Z"
    },
    "collapsed": true,
    "hidden": true
   },
   "outputs": [],
   "source": [
    "rank_cv_results = get_results_dataframe(cv_results, params=ranks, names='rank')\n",
    "base_cv_results = get_results_dataframe(cv_results, params=[0], names='rank')"
   ]
  },
  {
   "cell_type": "code",
   "execution_count": 21,
   "metadata": {
    "ExecuteTime": {
     "end_time": "2017-09-02T11:46:28.750598Z",
     "start_time": "2017-09-02T11:46:28.743816Z"
    },
    "collapsed": true,
    "hidden": true
   },
   "outputs": [],
   "source": [
    "rank_cv_results.to_csv('Standard_SVD_CV_results_BX.csv', index=True)"
   ]
  },
  {
   "cell_type": "code",
   "execution_count": 22,
   "metadata": {
    "ExecuteTime": {
     "end_time": "2017-09-02T11:46:28.764086Z",
     "start_time": "2017-09-02T11:46:28.752601Z"
    },
    "collapsed": true,
    "hidden": true
   },
   "outputs": [],
   "source": [
    "base_cv_results.to_csv('Standard_Baseline_CV_results_BX.csv', index=True)"
   ]
  },
  {
   "cell_type": "code",
   "execution_count": null,
   "metadata": {
    "collapsed": true,
    "hidden": true
   },
   "outputs": [],
   "source": []
  },
  {
   "cell_type": "code",
   "execution_count": 61,
   "metadata": {
    "ExecuteTime": {
     "end_time": "2017-09-02T12:18:40.727323Z",
     "start_time": "2017-09-02T12:18:40.714581Z"
    },
    "collapsed": true,
    "hidden": true
   },
   "outputs": [],
   "source": [
    "fm_results = pd.read_csv('FM_CV_BX_results.csv', index_col=[0, 1], header=0)"
   ]
  },
  {
   "cell_type": "code",
   "execution_count": 165,
   "metadata": {
    "ExecuteTime": {
     "end_time": "2017-09-02T18:24:14.902507Z",
     "start_time": "2017-09-02T18:24:13.578840Z"
    },
    "hidden": true
   },
   "outputs": [
    {
     "data": {
      "text/plain": [
       "<matplotlib.legend.Legend at 0x7f7af96d3fd0>"
      ]
     },
     "execution_count": 165,
     "metadata": {},
     "output_type": "execute_result"
    },
    {
     "data": {
      "image/png": "[encoded data removed]",
      "text/plain": [
       "<matplotlib.figure.Figure at 0x7f7af96ed150>"
      ]
     },
     "metadata": {
      "image/png": {
       "height": 265,
       "width": 386
      }
     },
     "output_type": "display_data"
    }
   ],
   "source": [
    "ax = rank_cv_results.xs('HR', 1, 1).mean(level='rank').plot()\n",
    "fm_results.xs('HR', 1).mean(level=1).plot(ax=ax, label='FM')\n",
    "\n",
    "linestyles = {'CB': '--', 'RND': ':', 'MP': ':'}\n",
    "colors = {'CB': '', 'RND': '', 'MP': ''}\n",
    "\n",
    "for col, data in base_cv_results.xs('HR', 1, 1).mean(level='rank').iteritems():\n",
    "    ax.hlines(y=data, xmin=1, xmax=3200, label=col, linestyles=linestyles[col])\n",
    "ax.legend()"
   ]
  },
  {
   "cell_type": "code",
   "execution_count": 304,
   "metadata": {
    "ExecuteTime": {
     "end_time": "2017-09-04T05:09:57.079086Z",
     "start_time": "2017-09-04T05:09:56.010779Z"
    },
    "hidden": true
   },
   "outputs": [
    {
     "data": {
      "text/plain": [
       "<matplotlib.legend.Legend at 0x7f7a3117d4d0>"
      ]
     },
     "execution_count": 304,
     "metadata": {},
     "output_type": "execute_result"
    },
    {
     "data": {
      "image/png": "[encoded data removed]",
      "text/plain": [
       "<matplotlib.figure.Figure at 0x7f7a78329490>"
      ]
     },
     "metadata": {
      "image/png": {
       "height": 263,
       "width": 386
      }
     },
     "output_type": "display_data"
    }
   ],
   "source": [
    "metric = 'MRR'\n",
    "ax = rank_cv_results.xs(metric, 1, 1).mean(level='rank').plot(logx=False)\n",
    "\n",
    "fm_results.xs(metric, 1).mean(level=1).plot(ax=ax, label='FM')\n",
    "\n",
    "linestyles = {'CB': '--', 'RND': ':', 'MP': ':'}\n",
    "colors = {'CB': '', 'RND': '', 'MP': ''}\n",
    "\n",
    "for col, data in base_cv_results.xs(metric, 1, 1).mean(level='rank').iteritems():\n",
    "    ax.hlines(y=data, xmin=1, xmax=3200, label=col, linestyles=linestyles[col])\n",
    "ax.legend()"
   ]
  },
  {
   "cell_type": "markdown",
   "metadata": {},
   "source": [
    "# FM"
   ]
  },
  {
   "cell_type": "code",
   "execution_count": 73,
   "metadata": {
    "ExecuteTime": {
     "end_time": "2017-09-02T12:44:07.683020Z",
     "start_time": "2017-09-02T12:44:06.821487Z"
    },
    "code_folding": [],
    "collapsed": true
   },
   "outputs": [],
   "source": [
    "# %env OMP_NUM_THREADS=16\n",
    "from polara.tools.graphlab.glwrapper import GraphlabFactorization\n",
    "import graphlab as gl"
   ]
  },
  {
   "cell_type": "markdown",
   "metadata": {},
   "source": [
    "## Parameter search"
   ]
  },
  {
   "cell_type": "code",
   "execution_count": 70,
   "metadata": {
    "ExecuteTime": {
     "end_time": "2017-09-02T12:43:14.400509Z",
     "start_time": "2017-09-02T12:43:14.395011Z"
    },
    "collapsed": true
   },
   "outputs": [],
   "source": [
    "from sklearn.model_selection import ParameterGrid"
   ]
  },
  {
   "cell_type": "code",
   "execution_count": 204,
   "metadata": {
    "ExecuteTime": {
     "end_time": "2017-09-03T05:19:53.119782Z",
     "start_time": "2017-09-03T05:19:53.092340Z"
    },
    "code_folding": [],
    "collapsed": true
   },
   "outputs": [],
   "source": [
    "def run_parameter_search(model, data_model, metrics, params_grid, search_space_size=None, verbose=False, seed=None):\n",
    "    grid_results = {}\n",
    "    \n",
    "    data_model.verbose = verbose\n",
    "    data_model.update()\n",
    "    eval_func = evaluator(data_model.test.evalset, 'userid', 'isbn')\n",
    "    \n",
    "    if search_space_size:\n",
    "        random_state = np.random.RandomState(seed) if seed else np.random\n",
    "        param_choice = random_state.choice(len(params_grid), search_space_size, replace=False)\n",
    "    else:\n",
    "        param_choice = range(len(params_grid))\n",
    "\n",
    "    for p in tqdm_notebook(param_choice, desc='params'):\n",
    "        param_set = params_grid[p]\n",
    "        build_models([model], config=[param_set], verbose=verbose)\n",
    "\n",
    "        key = tuple([(''.join([s[0] for s in p.split('_')]), v) for p, v in param_set.iteritems()])\n",
    "        grid_results[key] = eval_func(model, metrics)\n",
    "    return grid_results"
   ]
  },
  {
   "cell_type": "code",
   "execution_count": 71,
   "metadata": {
    "ExecuteTime": {
     "end_time": "2017-09-02T12:43:21.789220Z",
     "start_time": "2017-09-02T12:43:21.783266Z"
    },
    "collapsed": true
   },
   "outputs": [],
   "source": [
    "seed = 42\n",
    "n_experiments = 120\n",
    "metrics = 'HR MRR COV'.split()"
   ]
  },
  {
   "cell_type": "markdown",
   "metadata": {},
   "source": [
    "### Exploration"
   ]
  },
  {
   "cell_type": "code",
   "execution_count": 72,
   "metadata": {
    "ExecuteTime": {
     "end_time": "2017-09-02T12:43:31.734871Z",
     "start_time": "2017-09-02T12:43:31.707970Z"
    },
    "code_folding": []
   },
   "outputs": [
    {
     "data": {
      "text/plain": [
       "396000"
      ]
     },
     "execution_count": 72,
     "metadata": {},
     "output_type": "execute_result"
    }
   ],
   "source": [
    "params = {\n",
    "          'ranking_regularization': [0.001, 0.003, 0.01, 0.03, 0.1, 0.3],\n",
    "          'regularization':         [1e-10, 3e-10, 1e-9, 3e-9, 1e-8, 3e-8, 1e-7, 3e-7, 1e-6, 3e-6],\n",
    "          'linear_regularization':  [1e-10, 3e-10, 1e-9, 3e-9, 1e-8, 3e-8, 1e-7, 3e-7, 1e-6, 3e-6],\n",
    "          'sgd_step_size':          [0.01, 0.03, 0.01, 0.03, 0.1, 0.3],\n",
    "          'num_sampled_negative_examples': [None, 1, 5, 10, 15, 20, 30, 50, 70, 100],\n",
    "          'max_iterations': [40],\n",
    "          'rank': [1, 5, 10, 20, 30, 50, 75, 100, 150, 200, 250]\n",
    "         }\n",
    "\n",
    "params_grid = ParameterGrid(params)\n",
    "len(params_grid)"
   ]
  },
  {
   "cell_type": "code",
   "execution_count": 86,
   "metadata": {
    "ExecuteTime": {
     "end_time": "2017-09-02T12:56:09.562558Z",
     "start_time": "2017-09-02T12:56:09.545527Z"
    },
    "code_folding": [],
    "collapsed": true
   },
   "outputs": [],
   "source": [
    "# base FM settings\n",
    "fm = GraphlabFactorization(data_model, item_side_info=books[sim_type.keys()])\n",
    "fm.method = 'FM'\n",
    "fm.binary_target = True\n",
    "fm.solver = 'sgd'\n",
    "fm.ranking_optimization = True\n",
    "fm.verbose = False\n",
    "fm.seed = seed"
   ]
  },
  {
   "cell_type": "code",
   "execution_count": null,
   "metadata": {
    "collapsed": true
   },
   "outputs": [],
   "source": []
  },
  {
   "cell_type": "code",
   "execution_count": 125,
   "metadata": {
    "ExecuteTime": {
     "end_time": "2017-09-02T17:22:30.740609Z",
     "start_time": "2017-09-02T13:55:41.757543Z"
    },
    "collapsed": true
   },
   "outputs": [
    {
     "data": {
      "application/vnd.jupyter.widget-view+json": {
       "model_id": "68d57dd8cdbf450ebd8abeb095c93f43",
       "version_major": 2,
       "version_minor": 0
      },
      "text/plain": [
       "A Jupyter Widget"
      ]
     },
     "metadata": {},
     "output_type": "display_data"
    },
    {
     "data": {
      "text/html": [
       "<pre>Recsys training: model = ranking_factorization_recommender</pre>"
      ],
      "text/plain": [
       "Recsys training: model = ranking_factorization_recommender"
      ]
     },
     "metadata": {},
     "output_type": "display_data"
    },
    {
     "data": {
      "text/html": [
       "<pre>Recsys training: model = ranking_factorization_recommender</pre>"
      ],
      "text/plain": [
       "Recsys training: model = ranking_factorization_recommender"
      ]
     },
     "metadata": {},
     "output_type": "display_data"
    },
    {
     "data": {
      "text/html": [
       "<pre>Recsys training: model = ranking_factorization_recommender</pre>"
      ],
      "text/plain": [
       "Recsys training: model = ranking_factorization_recommender"
      ]
     },
     "metadata": {},
     "output_type": "display_data"
    },
    {
     "data": {
      "text/html": [
       "<pre>Recsys training: model = ranking_factorization_recommender</pre>"
      ],
      "text/plain": [
       "Recsys training: model = ranking_factorization_recommender"
      ]
     },
     "metadata": {},
     "output_type": "display_data"
    },
    {
     "data": {
      "text/html": [
       "<pre>Recsys training: model = ranking_factorization_recommender</pre>"
      ],
      "text/plain": [
       "Recsys training: model = ranking_factorization_recommender"
      ]
     },
     "metadata": {},
     "output_type": "display_data"
    },
    {
     "data": {
      "text/html": [
       "<pre>Recsys training: model = ranking_factorization_recommender</pre>"
      ],
      "text/plain": [
       "Recsys training: model = ranking_factorization_recommender"
      ]
     },
     "metadata": {},
     "output_type": "display_data"
    },
    {
     "data": {
      "text/html": [
       "<pre>Recsys training: model = ranking_factorization_recommender</pre>"
      ],
      "text/plain": [
       "Recsys training: model = ranking_factorization_recommender"
      ]
     },
     "metadata": {},
     "output_type": "display_data"
    },
    {
     "data": {
      "text/html": [
       "<pre>Recsys training: model = ranking_factorization_recommender</pre>"
      ],
      "text/plain": [
       "Recsys training: model = ranking_factorization_recommender"
      ]
     },
     "metadata": {},
     "output_type": "display_data"
    },
    {
     "data": {
      "text/html": [
       "<pre>Recsys training: model = ranking_factorization_recommender</pre>"
      ],
      "text/plain": [
       "Recsys training: model = ranking_factorization_recommender"
      ]
     },
     "metadata": {},
     "output_type": "display_data"
    },
    {
     "data": {
      "text/html": [
       "<pre>Recsys training: model = ranking_factorization_recommender</pre>"
      ],
      "text/plain": [
       "Recsys training: model = ranking_factorization_recommender"
      ]
     },
     "metadata": {},
     "output_type": "display_data"
    },
    {
     "data": {
      "text/html": [
       "<pre>Recsys training: model = ranking_factorization_recommender</pre>"
      ],
      "text/plain": [
       "Recsys training: model = ranking_factorization_recommender"
      ]
     },
     "metadata": {},
     "output_type": "display_data"
    },
    {
     "data": {
      "text/html": [
       "<pre>Recsys training: model = ranking_factorization_recommender</pre>"
      ],
      "text/plain": [
       "Recsys training: model = ranking_factorization_recommender"
      ]
     },
     "metadata": {},
     "output_type": "display_data"
    },
    {
     "data": {
      "text/html": [
       "<pre>Recsys training: model = ranking_factorization_recommender</pre>"
      ],
      "text/plain": [
       "Recsys training: model = ranking_factorization_recommender"
      ]
     },
     "metadata": {},
     "output_type": "display_data"
    },
    {
     "data": {
      "text/html": [
       "<pre>Recsys training: model = ranking_factorization_recommender</pre>"
      ],
      "text/plain": [
       "Recsys training: model = ranking_factorization_recommender"
      ]
     },
     "metadata": {},
     "output_type": "display_data"
    },
    {
     "data": {
      "text/html": [
       "<pre>Recsys training: model = ranking_factorization_recommender</pre>"
      ],
      "text/plain": [
       "Recsys training: model = ranking_factorization_recommender"
      ]
     },
     "metadata": {},
     "output_type": "display_data"
    },
    {
     "data": {
      "text/html": [
       "<pre>Recsys training: model = ranking_factorization_recommender</pre>"
      ],
      "text/plain": [
       "Recsys training: model = ranking_factorization_recommender"
      ]
     },
     "metadata": {},
     "output_type": "display_data"
    },
    {
     "data": {
      "text/html": [
       "<pre>Recsys training: model = ranking_factorization_recommender</pre>"
      ],
      "text/plain": [
       "Recsys training: model = ranking_factorization_recommender"
      ]
     },
     "metadata": {},
     "output_type": "display_data"
    },
    {
     "data": {
      "text/html": [
       "<pre>Recsys training: model = ranking_factorization_recommender</pre>"
      ],
      "text/plain": [
       "Recsys training: model = ranking_factorization_recommender"
      ]
     },
     "metadata": {},
     "output_type": "display_data"
    },
    {
     "data": {
      "text/html": [
       "<pre>Recsys training: model = ranking_factorization_recommender</pre>"
      ],
      "text/plain": [
       "Recsys training: model = ranking_factorization_recommender"
      ]
     },
     "metadata": {},
     "output_type": "display_data"
    },
    {
     "data": {
      "text/html": [
       "<pre>Recsys training: model = ranking_factorization_recommender</pre>"
      ],
      "text/plain": [
       "Recsys training: model = ranking_factorization_recommender"
      ]
     },
     "metadata": {},
     "output_type": "display_data"
    },
    {
     "data": {
      "text/html": [
       "<pre>Recsys training: model = ranking_factorization_recommender</pre>"
      ],
      "text/plain": [
       "Recsys training: model = ranking_factorization_recommender"
      ]
     },
     "metadata": {},
     "output_type": "display_data"
    },
    {
     "data": {
      "text/html": [
       "<pre>Recsys training: model = ranking_factorization_recommender</pre>"
      ],
      "text/plain": [
       "Recsys training: model = ranking_factorization_recommender"
      ]
     },
     "metadata": {},
     "output_type": "display_data"
    },
    {
     "data": {
      "text/html": [
       "<pre>Recsys training: model = ranking_factorization_recommender</pre>"
      ],
      "text/plain": [
       "Recsys training: model = ranking_factorization_recommender"
      ]
     },
     "metadata": {},
     "output_type": "display_data"
    },
    {
     "data": {
      "text/html": [
       "<pre>Recsys training: model = ranking_factorization_recommender</pre>"
      ],
      "text/plain": [
       "Recsys training: model = ranking_factorization_recommender"
      ]
     },
     "metadata": {},
     "output_type": "display_data"
    },
    {
     "data": {
      "text/html": [
       "<pre>Recsys training: model = ranking_factorization_recommender</pre>"
      ],
      "text/plain": [
       "Recsys training: model = ranking_factorization_recommender"
      ]
     },
     "metadata": {},
     "output_type": "display_data"
    },
    {
     "data": {
      "text/html": [
       "<pre>Recsys training: model = ranking_factorization_recommender</pre>"
      ],
      "text/plain": [
       "Recsys training: model = ranking_factorization_recommender"
      ]
     },
     "metadata": {},
     "output_type": "display_data"
    },
    {
     "data": {
      "text/html": [
       "<pre>Recsys training: model = ranking_factorization_recommender</pre>"
      ],
      "text/plain": [
       "Recsys training: model = ranking_factorization_recommender"
      ]
     },
     "metadata": {},
     "output_type": "display_data"
    },
    {
     "data": {
      "text/html": [
       "<pre>Recsys training: model = ranking_factorization_recommender</pre>"
      ],
      "text/plain": [
       "Recsys training: model = ranking_factorization_recommender"
      ]
     },
     "metadata": {},
     "output_type": "display_data"
    },
    {
     "data": {
      "text/html": [
       "<pre>Recsys training: model = ranking_factorization_recommender</pre>"
      ],
      "text/plain": [
       "Recsys training: model = ranking_factorization_recommender"
      ]
     },
     "metadata": {},
     "output_type": "display_data"
    },
    {
     "data": {
      "text/html": [
       "<pre>Recsys training: model = ranking_factorization_recommender</pre>"
      ],
      "text/plain": [
       "Recsys training: model = ranking_factorization_recommender"
      ]
     },
     "metadata": {},
     "output_type": "display_data"
    },
    {
     "data": {
      "text/html": [
       "<pre>Recsys training: model = ranking_factorization_recommender</pre>"
      ],
      "text/plain": [
       "Recsys training: model = ranking_factorization_recommender"
      ]
     },
     "metadata": {},
     "output_type": "display_data"
    },
    {
     "data": {
      "text/html": [
       "<pre>Recsys training: model = ranking_factorization_recommender</pre>"
      ],
      "text/plain": [
       "Recsys training: model = ranking_factorization_recommender"
      ]
     },
     "metadata": {},
     "output_type": "display_data"
    },
    {
     "data": {
      "text/html": [
       "<pre>Recsys training: model = ranking_factorization_recommender</pre>"
      ],
      "text/plain": [
       "Recsys training: model = ranking_factorization_recommender"
      ]
     },
     "metadata": {},
     "output_type": "display_data"
    },
    {
     "data": {
      "text/html": [
       "<pre>Recsys training: model = ranking_factorization_recommender</pre>"
      ],
      "text/plain": [
       "Recsys training: model = ranking_factorization_recommender"
      ]
     },
     "metadata": {},
     "output_type": "display_data"
    },
    {
     "data": {
      "text/html": [
       "<pre>Recsys training: model = ranking_factorization_recommender</pre>"
      ],
      "text/plain": [
       "Recsys training: model = ranking_factorization_recommender"
      ]
     },
     "metadata": {},
     "output_type": "display_data"
    },
    {
     "data": {
      "text/html": [
       "<pre>Recsys training: model = ranking_factorization_recommender</pre>"
      ],
      "text/plain": [
       "Recsys training: model = ranking_factorization_recommender"
      ]
     },
     "metadata": {},
     "output_type": "display_data"
    },
    {
     "data": {
      "text/html": [
       "<pre>Recsys training: model = ranking_factorization_recommender</pre>"
      ],
      "text/plain": [
       "Recsys training: model = ranking_factorization_recommender"
      ]
     },
     "metadata": {},
     "output_type": "display_data"
    },
    {
     "data": {
      "text/html": [
       "<pre>Recsys training: model = ranking_factorization_recommender</pre>"
      ],
      "text/plain": [
       "Recsys training: model = ranking_factorization_recommender"
      ]
     },
     "metadata": {},
     "output_type": "display_data"
    },
    {
     "data": {
      "text/html": [
       "<pre>Recsys training: model = ranking_factorization_recommender</pre>"
      ],
      "text/plain": [
       "Recsys training: model = ranking_factorization_recommender"
      ]
     },
     "metadata": {},
     "output_type": "display_data"
    },
    {
     "data": {
      "text/html": [
       "<pre>Recsys training: model = ranking_factorization_recommender</pre>"
      ],
      "text/plain": [
       "Recsys training: model = ranking_factorization_recommender"
      ]
     },
     "metadata": {},
     "output_type": "display_data"
    },
    {
     "data": {
      "text/html": [
       "<pre>Recsys training: model = ranking_factorization_recommender</pre>"
      ],
      "text/plain": [
       "Recsys training: model = ranking_factorization_recommender"
      ]
     },
     "metadata": {},
     "output_type": "display_data"
    },
    {
     "data": {
      "text/html": [
       "<pre>Recsys training: model = ranking_factorization_recommender</pre>"
      ],
      "text/plain": [
       "Recsys training: model = ranking_factorization_recommender"
      ]
     },
     "metadata": {},
     "output_type": "display_data"
    },
    {
     "data": {
      "text/html": [
       "<pre>Recsys training: model = ranking_factorization_recommender</pre>"
      ],
      "text/plain": [
       "Recsys training: model = ranking_factorization_recommender"
      ]
     },
     "metadata": {},
     "output_type": "display_data"
    },
    {
     "data": {
      "text/html": [
       "<pre>Recsys training: model = ranking_factorization_recommender</pre>"
      ],
      "text/plain": [
       "Recsys training: model = ranking_factorization_recommender"
      ]
     },
     "metadata": {},
     "output_type": "display_data"
    },
    {
     "data": {
      "text/html": [
       "<pre>Recsys training: model = ranking_factorization_recommender</pre>"
      ],
      "text/plain": [
       "Recsys training: model = ranking_factorization_recommender"
      ]
     },
     "metadata": {},
     "output_type": "display_data"
    },
    {
     "data": {
      "text/html": [
       "<pre>Recsys training: model = ranking_factorization_recommender</pre>"
      ],
      "text/plain": [
       "Recsys training: model = ranking_factorization_recommender"
      ]
     },
     "metadata": {},
     "output_type": "display_data"
    },
    {
     "data": {
      "text/html": [
       "<pre>Recsys training: model = ranking_factorization_recommender</pre>"
      ],
      "text/plain": [
       "Recsys training: model = ranking_factorization_recommender"
      ]
     },
     "metadata": {},
     "output_type": "display_data"
    },
    {
     "data": {
      "text/html": [
       "<pre>Recsys training: model = ranking_factorization_recommender</pre>"
      ],
      "text/plain": [
       "Recsys training: model = ranking_factorization_recommender"
      ]
     },
     "metadata": {},
     "output_type": "display_data"
    },
    {
     "data": {
      "text/html": [
       "<pre>Recsys training: model = ranking_factorization_recommender</pre>"
      ],
      "text/plain": [
       "Recsys training: model = ranking_factorization_recommender"
      ]
     },
     "metadata": {},
     "output_type": "display_data"
    },
    {
     "data": {
      "text/html": [
       "<pre>Recsys training: model = ranking_factorization_recommender</pre>"
      ],
      "text/plain": [
       "Recsys training: model = ranking_factorization_recommender"
      ]
     },
     "metadata": {},
     "output_type": "display_data"
    },
    {
     "data": {
      "text/html": [
       "<pre>Recsys training: model = ranking_factorization_recommender</pre>"
      ],
      "text/plain": [
       "Recsys training: model = ranking_factorization_recommender"
      ]
     },
     "metadata": {},
     "output_type": "display_data"
    },
    {
     "data": {
      "text/html": [
       "<pre>Recsys training: model = ranking_factorization_recommender</pre>"
      ],
      "text/plain": [
       "Recsys training: model = ranking_factorization_recommender"
      ]
     },
     "metadata": {},
     "output_type": "display_data"
    },
    {
     "data": {
      "text/html": [
       "<pre>Recsys training: model = ranking_factorization_recommender</pre>"
      ],
      "text/plain": [
       "Recsys training: model = ranking_factorization_recommender"
      ]
     },
     "metadata": {},
     "output_type": "display_data"
    },
    {
     "data": {
      "text/html": [
       "<pre>Recsys training: model = ranking_factorization_recommender</pre>"
      ],
      "text/plain": [
       "Recsys training: model = ranking_factorization_recommender"
      ]
     },
     "metadata": {},
     "output_type": "display_data"
    },
    {
     "data": {
      "text/html": [
       "<pre>Recsys training: model = ranking_factorization_recommender</pre>"
      ],
      "text/plain": [
       "Recsys training: model = ranking_factorization_recommender"
      ]
     },
     "metadata": {},
     "output_type": "display_data"
    },
    {
     "data": {
      "text/html": [
       "<pre>Recsys training: model = ranking_factorization_recommender</pre>"
      ],
      "text/plain": [
       "Recsys training: model = ranking_factorization_recommender"
      ]
     },
     "metadata": {},
     "output_type": "display_data"
    },
    {
     "data": {
      "text/html": [
       "<pre>Recsys training: model = ranking_factorization_recommender</pre>"
      ],
      "text/plain": [
       "Recsys training: model = ranking_factorization_recommender"
      ]
     },
     "metadata": {},
     "output_type": "display_data"
    },
    {
     "data": {
      "text/html": [
       "<pre>Recsys training: model = ranking_factorization_recommender</pre>"
      ],
      "text/plain": [
       "Recsys training: model = ranking_factorization_recommender"
      ]
     },
     "metadata": {},
     "output_type": "display_data"
    },
    {
     "data": {
      "text/html": [
       "<pre>Recsys training: model = ranking_factorization_recommender</pre>"
      ],
      "text/plain": [
       "Recsys training: model = ranking_factorization_recommender"
      ]
     },
     "metadata": {},
     "output_type": "display_data"
    },
    {
     "data": {
      "text/html": [
       "<pre>Recsys training: model = ranking_factorization_recommender</pre>"
      ],
      "text/plain": [
       "Recsys training: model = ranking_factorization_recommender"
      ]
     },
     "metadata": {},
     "output_type": "display_data"
    },
    {
     "data": {
      "text/html": [
       "<pre>Recsys training: model = ranking_factorization_recommender</pre>"
      ],
      "text/plain": [
       "Recsys training: model = ranking_factorization_recommender"
      ]
     },
     "metadata": {},
     "output_type": "display_data"
    },
    {
     "data": {
      "text/html": [
       "<pre>Recsys training: model = ranking_factorization_recommender</pre>"
      ],
      "text/plain": [
       "Recsys training: model = ranking_factorization_recommender"
      ]
     },
     "metadata": {},
     "output_type": "display_data"
    },
    {
     "data": {
      "text/html": [
       "<pre>Recsys training: model = ranking_factorization_recommender</pre>"
      ],
      "text/plain": [
       "Recsys training: model = ranking_factorization_recommender"
      ]
     },
     "metadata": {},
     "output_type": "display_data"
    },
    {
     "data": {
      "text/html": [
       "<pre>Recsys training: model = ranking_factorization_recommender</pre>"
      ],
      "text/plain": [
       "Recsys training: model = ranking_factorization_recommender"
      ]
     },
     "metadata": {},
     "output_type": "display_data"
    },
    {
     "data": {
      "text/html": [
       "<pre>Recsys training: model = ranking_factorization_recommender</pre>"
      ],
      "text/plain": [
       "Recsys training: model = ranking_factorization_recommender"
      ]
     },
     "metadata": {},
     "output_type": "display_data"
    },
    {
     "data": {
      "text/html": [
       "<pre>Recsys training: model = ranking_factorization_recommender</pre>"
      ],
      "text/plain": [
       "Recsys training: model = ranking_factorization_recommender"
      ]
     },
     "metadata": {},
     "output_type": "display_data"
    },
    {
     "data": {
      "text/html": [
       "<pre>Recsys training: model = ranking_factorization_recommender</pre>"
      ],
      "text/plain": [
       "Recsys training: model = ranking_factorization_recommender"
      ]
     },
     "metadata": {},
     "output_type": "display_data"
    },
    {
     "data": {
      "text/html": [
       "<pre>Recsys training: model = ranking_factorization_recommender</pre>"
      ],
      "text/plain": [
       "Recsys training: model = ranking_factorization_recommender"
      ]
     },
     "metadata": {},
     "output_type": "display_data"
    },
    {
     "data": {
      "text/html": [
       "<pre>Recsys training: model = ranking_factorization_recommender</pre>"
      ],
      "text/plain": [
       "Recsys training: model = ranking_factorization_recommender"
      ]
     },
     "metadata": {},
     "output_type": "display_data"
    },
    {
     "data": {
      "text/html": [
       "<pre>Recsys training: model = ranking_factorization_recommender</pre>"
      ],
      "text/plain": [
       "Recsys training: model = ranking_factorization_recommender"
      ]
     },
     "metadata": {},
     "output_type": "display_data"
    },
    {
     "data": {
      "text/html": [
       "<pre>Recsys training: model = ranking_factorization_recommender</pre>"
      ],
      "text/plain": [
       "Recsys training: model = ranking_factorization_recommender"
      ]
     },
     "metadata": {},
     "output_type": "display_data"
    },
    {
     "data": {
      "text/html": [
       "<pre>Recsys training: model = ranking_factorization_recommender</pre>"
      ],
      "text/plain": [
       "Recsys training: model = ranking_factorization_recommender"
      ]
     },
     "metadata": {},
     "output_type": "display_data"
    },
    {
     "data": {
      "text/html": [
       "<pre>Recsys training: model = ranking_factorization_recommender</pre>"
      ],
      "text/plain": [
       "Recsys training: model = ranking_factorization_recommender"
      ]
     },
     "metadata": {},
     "output_type": "display_data"
    },
    {
     "data": {
      "text/html": [
       "<pre>Recsys training: model = ranking_factorization_recommender</pre>"
      ],
      "text/plain": [
       "Recsys training: model = ranking_factorization_recommender"
      ]
     },
     "metadata": {},
     "output_type": "display_data"
    },
    {
     "data": {
      "text/html": [
       "<pre>Recsys training: model = ranking_factorization_recommender</pre>"
      ],
      "text/plain": [
       "Recsys training: model = ranking_factorization_recommender"
      ]
     },
     "metadata": {},
     "output_type": "display_data"
    },
    {
     "data": {
      "text/html": [
       "<pre>Recsys training: model = ranking_factorization_recommender</pre>"
      ],
      "text/plain": [
       "Recsys training: model = ranking_factorization_recommender"
      ]
     },
     "metadata": {},
     "output_type": "display_data"
    },
    {
     "data": {
      "text/html": [
       "<pre>Recsys training: model = ranking_factorization_recommender</pre>"
      ],
      "text/plain": [
       "Recsys training: model = ranking_factorization_recommender"
      ]
     },
     "metadata": {},
     "output_type": "display_data"
    },
    {
     "data": {
      "text/html": [
       "<pre>Recsys training: model = ranking_factorization_recommender</pre>"
      ],
      "text/plain": [
       "Recsys training: model = ranking_factorization_recommender"
      ]
     },
     "metadata": {},
     "output_type": "display_data"
    },
    {
     "data": {
      "text/html": [
       "<pre>Recsys training: model = ranking_factorization_recommender</pre>"
      ],
      "text/plain": [
       "Recsys training: model = ranking_factorization_recommender"
      ]
     },
     "metadata": {},
     "output_type": "display_data"
    },
    {
     "data": {
      "text/html": [
       "<pre>Recsys training: model = ranking_factorization_recommender</pre>"
      ],
      "text/plain": [
       "Recsys training: model = ranking_factorization_recommender"
      ]
     },
     "metadata": {},
     "output_type": "display_data"
    },
    {
     "data": {
      "text/html": [
       "<pre>Recsys training: model = ranking_factorization_recommender</pre>"
      ],
      "text/plain": [
       "Recsys training: model = ranking_factorization_recommender"
      ]
     },
     "metadata": {},
     "output_type": "display_data"
    },
    {
     "data": {
      "text/html": [
       "<pre>Recsys training: model = ranking_factorization_recommender</pre>"
      ],
      "text/plain": [
       "Recsys training: model = ranking_factorization_recommender"
      ]
     },
     "metadata": {},
     "output_type": "display_data"
    },
    {
     "data": {
      "text/html": [
       "<pre>Recsys training: model = ranking_factorization_recommender</pre>"
      ],
      "text/plain": [
       "Recsys training: model = ranking_factorization_recommender"
      ]
     },
     "metadata": {},
     "output_type": "display_data"
    },
    {
     "data": {
      "text/html": [
       "<pre>Recsys training: model = ranking_factorization_recommender</pre>"
      ],
      "text/plain": [
       "Recsys training: model = ranking_factorization_recommender"
      ]
     },
     "metadata": {},
     "output_type": "display_data"
    },
    {
     "data": {
      "text/html": [
       "<pre>Recsys training: model = ranking_factorization_recommender</pre>"
      ],
      "text/plain": [
       "Recsys training: model = ranking_factorization_recommender"
      ]
     },
     "metadata": {},
     "output_type": "display_data"
    },
    {
     "data": {
      "text/html": [
       "<pre>Recsys training: model = ranking_factorization_recommender</pre>"
      ],
      "text/plain": [
       "Recsys training: model = ranking_factorization_recommender"
      ]
     },
     "metadata": {},
     "output_type": "display_data"
    },
    {
     "data": {
      "text/html": [
       "<pre>Recsys training: model = ranking_factorization_recommender</pre>"
      ],
      "text/plain": [
       "Recsys training: model = ranking_factorization_recommender"
      ]
     },
     "metadata": {},
     "output_type": "display_data"
    },
    {
     "data": {
      "text/html": [
       "<pre>Recsys training: model = ranking_factorization_recommender</pre>"
      ],
      "text/plain": [
       "Recsys training: model = ranking_factorization_recommender"
      ]
     },
     "metadata": {},
     "output_type": "display_data"
    },
    {
     "data": {
      "text/html": [
       "<pre>Recsys training: model = ranking_factorization_recommender</pre>"
      ],
      "text/plain": [
       "Recsys training: model = ranking_factorization_recommender"
      ]
     },
     "metadata": {},
     "output_type": "display_data"
    },
    {
     "data": {
      "text/html": [
       "<pre>Recsys training: model = ranking_factorization_recommender</pre>"
      ],
      "text/plain": [
       "Recsys training: model = ranking_factorization_recommender"
      ]
     },
     "metadata": {},
     "output_type": "display_data"
    },
    {
     "data": {
      "text/html": [
       "<pre>Recsys training: model = ranking_factorization_recommender</pre>"
      ],
      "text/plain": [
       "Recsys training: model = ranking_factorization_recommender"
      ]
     },
     "metadata": {},
     "output_type": "display_data"
    },
    {
     "data": {
      "text/html": [
       "<pre>Recsys training: model = ranking_factorization_recommender</pre>"
      ],
      "text/plain": [
       "Recsys training: model = ranking_factorization_recommender"
      ]
     },
     "metadata": {},
     "output_type": "display_data"
    },
    {
     "data": {
      "text/html": [
       "<pre>Recsys training: model = ranking_factorization_recommender</pre>"
      ],
      "text/plain": [
       "Recsys training: model = ranking_factorization_recommender"
      ]
     },
     "metadata": {},
     "output_type": "display_data"
    },
    {
     "data": {
      "text/html": [
       "<pre>Recsys training: model = ranking_factorization_recommender</pre>"
      ],
      "text/plain": [
       "Recsys training: model = ranking_factorization_recommender"
      ]
     },
     "metadata": {},
     "output_type": "display_data"
    },
    {
     "data": {
      "text/html": [
       "<pre>Recsys training: model = ranking_factorization_recommender</pre>"
      ],
      "text/plain": [
       "Recsys training: model = ranking_factorization_recommender"
      ]
     },
     "metadata": {},
     "output_type": "display_data"
    },
    {
     "data": {
      "text/html": [
       "<pre>Recsys training: model = ranking_factorization_recommender</pre>"
      ],
      "text/plain": [
       "Recsys training: model = ranking_factorization_recommender"
      ]
     },
     "metadata": {},
     "output_type": "display_data"
    },
    {
     "data": {
      "text/html": [
       "<pre>Recsys training: model = ranking_factorization_recommender</pre>"
      ],
      "text/plain": [
       "Recsys training: model = ranking_factorization_recommender"
      ]
     },
     "metadata": {},
     "output_type": "display_data"
    },
    {
     "data": {
      "text/html": [
       "<pre>Recsys training: model = ranking_factorization_recommender</pre>"
      ],
      "text/plain": [
       "Recsys training: model = ranking_factorization_recommender"
      ]
     },
     "metadata": {},
     "output_type": "display_data"
    },
    {
     "data": {
      "text/html": [
       "<pre>Recsys training: model = ranking_factorization_recommender</pre>"
      ],
      "text/plain": [
       "Recsys training: model = ranking_factorization_recommender"
      ]
     },
     "metadata": {},
     "output_type": "display_data"
    },
    {
     "data": {
      "text/html": [
       "<pre>Recsys training: model = ranking_factorization_recommender</pre>"
      ],
      "text/plain": [
       "Recsys training: model = ranking_factorization_recommender"
      ]
     },
     "metadata": {},
     "output_type": "display_data"
    },
    {
     "data": {
      "text/html": [
       "<pre>Recsys training: model = ranking_factorization_recommender</pre>"
      ],
      "text/plain": [
       "Recsys training: model = ranking_factorization_recommender"
      ]
     },
     "metadata": {},
     "output_type": "display_data"
    },
    {
     "data": {
      "text/html": [
       "<pre>Recsys training: model = ranking_factorization_recommender</pre>"
      ],
      "text/plain": [
       "Recsys training: model = ranking_factorization_recommender"
      ]
     },
     "metadata": {},
     "output_type": "display_data"
    },
    {
     "data": {
      "text/html": [
       "<pre>Recsys training: model = ranking_factorization_recommender</pre>"
      ],
      "text/plain": [
       "Recsys training: model = ranking_factorization_recommender"
      ]
     },
     "metadata": {},
     "output_type": "display_data"
    },
    {
     "data": {
      "text/html": [
       "<pre>Recsys training: model = ranking_factorization_recommender</pre>"
      ],
      "text/plain": [
       "Recsys training: model = ranking_factorization_recommender"
      ]
     },
     "metadata": {},
     "output_type": "display_data"
    },
    {
     "data": {
      "text/html": [
       "<pre>Recsys training: model = ranking_factorization_recommender</pre>"
      ],
      "text/plain": [
       "Recsys training: model = ranking_factorization_recommender"
      ]
     },
     "metadata": {},
     "output_type": "display_data"
    },
    {
     "data": {
      "text/html": [
       "<pre>Recsys training: model = ranking_factorization_recommender</pre>"
      ],
      "text/plain": [
       "Recsys training: model = ranking_factorization_recommender"
      ]
     },
     "metadata": {},
     "output_type": "display_data"
    },
    {
     "data": {
      "text/html": [
       "<pre>Recsys training: model = ranking_factorization_recommender</pre>"
      ],
      "text/plain": [
       "Recsys training: model = ranking_factorization_recommender"
      ]
     },
     "metadata": {},
     "output_type": "display_data"
    },
    {
     "data": {
      "text/html": [
       "<pre>Recsys training: model = ranking_factorization_recommender</pre>"
      ],
      "text/plain": [
       "Recsys training: model = ranking_factorization_recommender"
      ]
     },
     "metadata": {},
     "output_type": "display_data"
    },
    {
     "data": {
      "text/html": [
       "<pre>Recsys training: model = ranking_factorization_recommender</pre>"
      ],
      "text/plain": [
       "Recsys training: model = ranking_factorization_recommender"
      ]
     },
     "metadata": {},
     "output_type": "display_data"
    },
    {
     "data": {
      "text/html": [
       "<pre>Recsys training: model = ranking_factorization_recommender</pre>"
      ],
      "text/plain": [
       "Recsys training: model = ranking_factorization_recommender"
      ]
     },
     "metadata": {},
     "output_type": "display_data"
    },
    {
     "data": {
      "text/html": [
       "<pre>Recsys training: model = ranking_factorization_recommender</pre>"
      ],
      "text/plain": [
       "Recsys training: model = ranking_factorization_recommender"
      ]
     },
     "metadata": {},
     "output_type": "display_data"
    },
    {
     "data": {
      "text/html": [
       "<pre>Recsys training: model = ranking_factorization_recommender</pre>"
      ],
      "text/plain": [
       "Recsys training: model = ranking_factorization_recommender"
      ]
     },
     "metadata": {},
     "output_type": "display_data"
    },
    {
     "data": {
      "text/html": [
       "<pre>Recsys training: model = ranking_factorization_recommender</pre>"
      ],
      "text/plain": [
       "Recsys training: model = ranking_factorization_recommender"
      ]
     },
     "metadata": {},
     "output_type": "display_data"
    },
    {
     "data": {
      "text/html": [
       "<pre>Recsys training: model = ranking_factorization_recommender</pre>"
      ],
      "text/plain": [
       "Recsys training: model = ranking_factorization_recommender"
      ]
     },
     "metadata": {},
     "output_type": "display_data"
    },
    {
     "data": {
      "text/html": [
       "<pre>Recsys training: model = ranking_factorization_recommender</pre>"
      ],
      "text/plain": [
       "Recsys training: model = ranking_factorization_recommender"
      ]
     },
     "metadata": {},
     "output_type": "display_data"
    },
    {
     "data": {
      "text/html": [
       "<pre>Recsys training: model = ranking_factorization_recommender</pre>"
      ],
      "text/plain": [
       "Recsys training: model = ranking_factorization_recommender"
      ]
     },
     "metadata": {},
     "output_type": "display_data"
    },
    {
     "data": {
      "text/html": [
       "<pre>Recsys training: model = ranking_factorization_recommender</pre>"
      ],
      "text/plain": [
       "Recsys training: model = ranking_factorization_recommender"
      ]
     },
     "metadata": {},
     "output_type": "display_data"
    },
    {
     "data": {
      "text/html": [
       "<pre>Recsys training: model = ranking_factorization_recommender</pre>"
      ],
      "text/plain": [
       "Recsys training: model = ranking_factorization_recommender"
      ]
     },
     "metadata": {},
     "output_type": "display_data"
    },
    {
     "data": {
      "text/html": [
       "<pre>Recsys training: model = ranking_factorization_recommender</pre>"
      ],
      "text/plain": [
       "Recsys training: model = ranking_factorization_recommender"
      ]
     },
     "metadata": {},
     "output_type": "display_data"
    },
    {
     "data": {
      "text/html": [
       "<pre>Recsys training: model = ranking_factorization_recommender</pre>"
      ],
      "text/plain": [
       "Recsys training: model = ranking_factorization_recommender"
      ]
     },
     "metadata": {},
     "output_type": "display_data"
    }
   ],
   "source": [
    "grid_results = run_parameter_search(fm, data_model, metrics, params_grid, n_experiments, verbose=False, seed=seed)"
   ]
  },
  {
   "cell_type": "code",
   "execution_count": null,
   "metadata": {
    "collapsed": true
   },
   "outputs": [],
   "source": [
    "grid_results_df = pd.DataFrame.from_dict(grid_results, orient='index')"
   ]
  },
  {
   "cell_type": "code",
   "execution_count": 217,
   "metadata": {
    "ExecuteTime": {
     "end_time": "2017-09-03T05:42:22.263652Z",
     "start_time": "2017-09-03T05:42:22.247200Z"
    },
    "collapsed": true
   },
   "outputs": [],
   "source": [
    "grid_results_df.to_csv('Random_Search_results_BX.csv', index=True)"
   ]
  },
  {
   "cell_type": "code",
   "execution_count": 163,
   "metadata": {
    "ExecuteTime": {
     "end_time": "2017-09-02T18:20:27.937262Z",
     "start_time": "2017-09-02T18:20:27.856101Z"
    }
   },
   "outputs": [
    {
     "data": {
      "text/html": [
       "<div>\n",
       "<style>\n",
       "    .dataframe thead tr:only-child th {\n",
       "        text-align: right;\n",
       "    }\n",
       "\n",
       "    .dataframe thead th {\n",
       "        text-align: left;\n",
       "    }\n",
       "\n",
       "    .dataframe tbody tr th {\n",
       "        vertical-align: top;\n",
       "    }\n",
       "</style>\n",
       "<table border=\"1\" class=\"dataframe\">\n",
       "  <thead>\n",
       "    <tr style=\"text-align: right;\">\n",
       "      <th></th>\n",
       "      <th></th>\n",
       "      <th></th>\n",
       "      <th></th>\n",
       "      <th></th>\n",
       "      <th></th>\n",
       "      <th></th>\n",
       "      <th>HR</th>\n",
       "      <th>MRR</th>\n",
       "      <th>COV</th>\n",
       "    </tr>\n",
       "  </thead>\n",
       "  <tbody>\n",
       "    <tr>\n",
       "      <th rowspan=\"4\" valign=\"top\">(sss, 0.1)</th>\n",
       "      <th>(r, 1e-07)</th>\n",
       "      <th>(rr, 0.01)</th>\n",
       "      <th>(r, 30)</th>\n",
       "      <th>(nsne, 100)</th>\n",
       "      <th>(lr, 3e-10)</th>\n",
       "      <th>(mi, 40)</th>\n",
       "      <td>0.020516</td>\n",
       "      <td>0.009130</td>\n",
       "      <td>1694</td>\n",
       "    </tr>\n",
       "    <tr>\n",
       "      <th rowspan=\"2\" valign=\"top\">(r, 1e-06)</th>\n",
       "      <th>(rr, 0.03)</th>\n",
       "      <th>(r, 100)</th>\n",
       "      <th>(nsne, 70)</th>\n",
       "      <th>(lr, 3e-09)</th>\n",
       "      <th>(mi, 40)</th>\n",
       "      <td>0.018751</td>\n",
       "      <td>0.008617</td>\n",
       "      <td>890</td>\n",
       "    </tr>\n",
       "    <tr>\n",
       "      <th>(rr, 0.1)</th>\n",
       "      <th>(r, 20)</th>\n",
       "      <th>(nsne, 100)</th>\n",
       "      <th>(lr, 1e-08)</th>\n",
       "      <th>(mi, 40)</th>\n",
       "      <td>0.018531</td>\n",
       "      <td>0.008609</td>\n",
       "      <td>1503</td>\n",
       "    </tr>\n",
       "    <tr>\n",
       "      <th>(r, 3e-06)</th>\n",
       "      <th>(rr, 0.3)</th>\n",
       "      <th>(r, 75)</th>\n",
       "      <th>(nsne, 70)</th>\n",
       "      <th>(lr, 1e-09)</th>\n",
       "      <th>(mi, 40)</th>\n",
       "      <td>0.018972</td>\n",
       "      <td>0.008742</td>\n",
       "      <td>799</td>\n",
       "    </tr>\n",
       "    <tr>\n",
       "      <th rowspan=\"4\" valign=\"top\">(sss, 0.3)</th>\n",
       "      <th>(r, 3e-10)</th>\n",
       "      <th>(rr, 0.001)</th>\n",
       "      <th>(r, 50)</th>\n",
       "      <th>(nsne, 30)</th>\n",
       "      <th>(lr, 3e-07)</th>\n",
       "      <th>(mi, 40)</th>\n",
       "      <td>0.020737</td>\n",
       "      <td>0.008909</td>\n",
       "      <td>1227</td>\n",
       "    </tr>\n",
       "    <tr>\n",
       "      <th rowspan=\"2\" valign=\"top\">(r, 1e-09)</th>\n",
       "      <th>(rr, 0.03)</th>\n",
       "      <th>(r, 150)</th>\n",
       "      <th>(nsne, 70)</th>\n",
       "      <th>(lr, 3e-08)</th>\n",
       "      <th>(mi, 40)</th>\n",
       "      <td>0.026252</td>\n",
       "      <td>0.010627</td>\n",
       "      <td>2173</td>\n",
       "    </tr>\n",
       "    <tr>\n",
       "      <th>(rr, 0.1)</th>\n",
       "      <th>(r, 75)</th>\n",
       "      <th>(nsne, 20)</th>\n",
       "      <th>(lr, 3e-06)</th>\n",
       "      <th>(mi, 40)</th>\n",
       "      <td>0.019193</td>\n",
       "      <td>0.008610</td>\n",
       "      <td>1206</td>\n",
       "    </tr>\n",
       "    <tr>\n",
       "      <th>(r, 3e-07)</th>\n",
       "      <th>(rr, 0.3)</th>\n",
       "      <th>(r, 200)</th>\n",
       "      <th>(nsne, 20)</th>\n",
       "      <th>(lr, 1e-06)</th>\n",
       "      <th>(mi, 40)</th>\n",
       "      <td>0.020737</td>\n",
       "      <td>0.008903</td>\n",
       "      <td>1429</td>\n",
       "    </tr>\n",
       "  </tbody>\n",
       "</table>\n",
       "</div>"
      ],
      "text/plain": [
       "                                                                                   HR  \\\n",
       "(sss, 0.1) (r, 1e-07) (rr, 0.01)  (r, 30)  (nsne, 100) (lr, 3e-10) (mi, 40)  0.020516   \n",
       "           (r, 1e-06) (rr, 0.03)  (r, 100) (nsne, 70)  (lr, 3e-09) (mi, 40)  0.018751   \n",
       "                      (rr, 0.1)   (r, 20)  (nsne, 100) (lr, 1e-08) (mi, 40)  0.018531   \n",
       "           (r, 3e-06) (rr, 0.3)   (r, 75)  (nsne, 70)  (lr, 1e-09) (mi, 40)  0.018972   \n",
       "(sss, 0.3) (r, 3e-10) (rr, 0.001) (r, 50)  (nsne, 30)  (lr, 3e-07) (mi, 40)  0.020737   \n",
       "           (r, 1e-09) (rr, 0.03)  (r, 150) (nsne, 70)  (lr, 3e-08) (mi, 40)  0.026252   \n",
       "                      (rr, 0.1)   (r, 75)  (nsne, 20)  (lr, 3e-06) (mi, 40)  0.019193   \n",
       "           (r, 3e-07) (rr, 0.3)   (r, 200) (nsne, 20)  (lr, 1e-06) (mi, 40)  0.020737   \n",
       "\n",
       "                                                                                  MRR  \\\n",
       "(sss, 0.1) (r, 1e-07) (rr, 0.01)  (r, 30)  (nsne, 100) (lr, 3e-10) (mi, 40)  0.009130   \n",
       "           (r, 1e-06) (rr, 0.03)  (r, 100) (nsne, 70)  (lr, 3e-09) (mi, 40)  0.008617   \n",
       "                      (rr, 0.1)   (r, 20)  (nsne, 100) (lr, 1e-08) (mi, 40)  0.008609   \n",
       "           (r, 3e-06) (rr, 0.3)   (r, 75)  (nsne, 70)  (lr, 1e-09) (mi, 40)  0.008742   \n",
       "(sss, 0.3) (r, 3e-10) (rr, 0.001) (r, 50)  (nsne, 30)  (lr, 3e-07) (mi, 40)  0.008909   \n",
       "           (r, 1e-09) (rr, 0.03)  (r, 150) (nsne, 70)  (lr, 3e-08) (mi, 40)  0.010627   \n",
       "                      (rr, 0.1)   (r, 75)  (nsne, 20)  (lr, 3e-06) (mi, 40)  0.008610   \n",
       "           (r, 3e-07) (rr, 0.3)   (r, 200) (nsne, 20)  (lr, 1e-06) (mi, 40)  0.008903   \n",
       "\n",
       "                                                                              COV  \n",
       "(sss, 0.1) (r, 1e-07) (rr, 0.01)  (r, 30)  (nsne, 100) (lr, 3e-10) (mi, 40)  1694  \n",
       "           (r, 1e-06) (rr, 0.03)  (r, 100) (nsne, 70)  (lr, 3e-09) (mi, 40)   890  \n",
       "                      (rr, 0.1)   (r, 20)  (nsne, 100) (lr, 1e-08) (mi, 40)  1503  \n",
       "           (r, 3e-06) (rr, 0.3)   (r, 75)  (nsne, 70)  (lr, 1e-09) (mi, 40)   799  \n",
       "(sss, 0.3) (r, 3e-10) (rr, 0.001) (r, 50)  (nsne, 30)  (lr, 3e-07) (mi, 40)  1227  \n",
       "           (r, 1e-09) (rr, 0.03)  (r, 150) (nsne, 70)  (lr, 3e-08) (mi, 40)  2173  \n",
       "                      (rr, 0.1)   (r, 75)  (nsne, 20)  (lr, 3e-06) (mi, 40)  1206  \n",
       "           (r, 3e-07) (rr, 0.3)   (r, 200) (nsne, 20)  (lr, 1e-06) (mi, 40)  1429  "
      ]
     },
     "execution_count": 163,
     "metadata": {},
     "output_type": "execute_result"
    }
   ],
   "source": [
    "grid_results_df.loc[lambda x: x.MRR > 0.8*x.MRR.max()]"
   ]
  },
  {
   "cell_type": "code",
   "execution_count": 200,
   "metadata": {
    "ExecuteTime": {
     "end_time": "2017-09-03T05:08:18.439230Z",
     "start_time": "2017-09-03T05:08:17.869297Z"
    }
   },
   "outputs": [
    {
     "data": {
      "text/plain": [
       "<matplotlib.axes._subplots.AxesSubplot at 0x7f7a79df58d0>"
      ]
     },
     "execution_count": 200,
     "metadata": {},
     "output_type": "execute_result"
    },
    {
     "data": {
      "image/png": "[encoded data removed]",
      "text/plain": [
       "<matplotlib.figure.Figure at 0x7f7b16f1a450>"
      ]
     },
     "metadata": {
      "image/png": {
       "height": 250,
       "width": 426
      }
     },
     "output_type": "display_data"
    }
   ],
   "source": [
    "grid_results_df[['HR', 'MRR']].reset_index(drop=True).plot(secondary_y='HR', ylim=(0, None))"
   ]
  },
  {
   "cell_type": "code",
   "execution_count": 580,
   "metadata": {
    "ExecuteTime": {
     "end_time": "2017-09-04T19:53:33.475003Z",
     "start_time": "2017-09-04T19:53:33.436259Z"
    }
   },
   "outputs": [
    {
     "data": {
      "text/html": [
       "<div>\n",
       "<style>\n",
       "    .dataframe thead tr:only-child th {\n",
       "        text-align: right;\n",
       "    }\n",
       "\n",
       "    .dataframe thead th {\n",
       "        text-align: left;\n",
       "    }\n",
       "\n",
       "    .dataframe tbody tr th {\n",
       "        vertical-align: top;\n",
       "    }\n",
       "</style>\n",
       "<table border=\"1\" class=\"dataframe\">\n",
       "  <thead>\n",
       "    <tr style=\"text-align: right;\">\n",
       "      <th></th>\n",
       "      <th></th>\n",
       "      <th></th>\n",
       "      <th></th>\n",
       "      <th></th>\n",
       "      <th></th>\n",
       "      <th></th>\n",
       "      <th>HR</th>\n",
       "      <th>MRR</th>\n",
       "      <th>COV</th>\n",
       "    </tr>\n",
       "  </thead>\n",
       "  <tbody>\n",
       "    <tr>\n",
       "      <th>(sss, 0.3)</th>\n",
       "      <th>(r, 1e-09)</th>\n",
       "      <th>(rr, 0.03)</th>\n",
       "      <th>(r, 150)</th>\n",
       "      <th>(nsne, 70)</th>\n",
       "      <th>(lr, 3e-08)</th>\n",
       "      <th>(mi, 40)</th>\n",
       "      <td>0.026252</td>\n",
       "      <td>0.010627</td>\n",
       "      <td>2173</td>\n",
       "    </tr>\n",
       "  </tbody>\n",
       "</table>\n",
       "</div>"
      ],
      "text/plain": [
       "                                                                                 HR  \\\n",
       "(sss, 0.3) (r, 1e-09) (rr, 0.03) (r, 150) (nsne, 70) (lr, 3e-08) (mi, 40)  0.026252   \n",
       "\n",
       "                                                                                MRR  \\\n",
       "(sss, 0.3) (r, 1e-09) (rr, 0.03) (r, 150) (nsne, 70) (lr, 3e-08) (mi, 40)  0.010627   \n",
       "\n",
       "                                                                            COV  \n",
       "(sss, 0.3) (r, 1e-09) (rr, 0.03) (r, 150) (nsne, 70) (lr, 3e-08) (mi, 40)  2173  "
      ]
     },
     "execution_count": 580,
     "metadata": {},
     "output_type": "execute_result"
    }
   ],
   "source": [
    "grid_results_df.loc[lambda x: x.MRR == x.MRR.max()]"
   ]
  },
  {
   "cell_type": "markdown",
   "metadata": {
    "heading_collapsed": true
   },
   "source": [
    "### Fine-tuning"
   ]
  },
  {
   "cell_type": "code",
   "execution_count": 169,
   "metadata": {
    "ExecuteTime": {
     "end_time": "2017-09-02T18:31:50.864156Z",
     "start_time": "2017-09-02T18:31:50.850146Z"
    },
    "hidden": true
   },
   "outputs": [
    {
     "data": {
      "text/plain": [
       "81"
      ]
     },
     "execution_count": 169,
     "metadata": {},
     "output_type": "execute_result"
    }
   ],
   "source": [
    "refined_params = {\n",
    "          'ranking_regularization': [0.01, 0.03, 0.1],\n",
    "          'regularization':         [3e-10, 1e-9, 3e-9],\n",
    "          'linear_regularization':  [1e-8, 3e-8, 1e-7],\n",
    "          'sgd_step_size':          [0.3],\n",
    "          'num_sampled_negative_examples': [60, 70, 80],\n",
    "          'max_iterations': [40],\n",
    "          'rank': [150]\n",
    "         }\n",
    "refined_params_grid = ParameterGrid(refined_params)\n",
    "len(refined_params_grid)"
   ]
  },
  {
   "cell_type": "code",
   "execution_count": 170,
   "metadata": {
    "ExecuteTime": {
     "end_time": "2017-09-02T23:30:28.271902Z",
     "start_time": "2017-09-02T18:33:27.008759Z"
    },
    "collapsed": true,
    "hidden": true
   },
   "outputs": [
    {
     "data": {
      "application/vnd.jupyter.widget-view+json": {
       "model_id": "2724c14b7ca84dffa7c235ca7f86a50e",
       "version_major": 2,
       "version_minor": 0
      },
      "text/plain": [
       "A Jupyter Widget"
      ]
     },
     "metadata": {},
     "output_type": "display_data"
    },
    {
     "data": {
      "text/html": [
       "<pre>Recsys training: model = ranking_factorization_recommender</pre>"
      ],
      "text/plain": [
       "Recsys training: model = ranking_factorization_recommender"
      ]
     },
     "metadata": {},
     "output_type": "display_data"
    },
    {
     "data": {
      "text/html": [
       "<pre>Recsys training: model = ranking_factorization_recommender</pre>"
      ],
      "text/plain": [
       "Recsys training: model = ranking_factorization_recommender"
      ]
     },
     "metadata": {},
     "output_type": "display_data"
    },
    {
     "data": {
      "text/html": [
       "<pre>Recsys training: model = ranking_factorization_recommender</pre>"
      ],
      "text/plain": [
       "Recsys training: model = ranking_factorization_recommender"
      ]
     },
     "metadata": {},
     "output_type": "display_data"
    },
    {
     "data": {
      "text/html": [
       "<pre>Recsys training: model = ranking_factorization_recommender</pre>"
      ],
      "text/plain": [
       "Recsys training: model = ranking_factorization_recommender"
      ]
     },
     "metadata": {},
     "output_type": "display_data"
    },
    {
     "data": {
      "text/html": [
       "<pre>Recsys training: model = ranking_factorization_recommender</pre>"
      ],
      "text/plain": [
       "Recsys training: model = ranking_factorization_recommender"
      ]
     },
     "metadata": {},
     "output_type": "display_data"
    },
    {
     "data": {
      "text/html": [
       "<pre>Recsys training: model = ranking_factorization_recommender</pre>"
      ],
      "text/plain": [
       "Recsys training: model = ranking_factorization_recommender"
      ]
     },
     "metadata": {},
     "output_type": "display_data"
    },
    {
     "data": {
      "text/html": [
       "<pre>Recsys training: model = ranking_factorization_recommender</pre>"
      ],
      "text/plain": [
       "Recsys training: model = ranking_factorization_recommender"
      ]
     },
     "metadata": {},
     "output_type": "display_data"
    },
    {
     "data": {
      "text/html": [
       "<pre>Recsys training: model = ranking_factorization_recommender</pre>"
      ],
      "text/plain": [
       "Recsys training: model = ranking_factorization_recommender"
      ]
     },
     "metadata": {},
     "output_type": "display_data"
    },
    {
     "data": {
      "text/html": [
       "<pre>Recsys training: model = ranking_factorization_recommender</pre>"
      ],
      "text/plain": [
       "Recsys training: model = ranking_factorization_recommender"
      ]
     },
     "metadata": {},
     "output_type": "display_data"
    },
    {
     "data": {
      "text/html": [
       "<pre>Recsys training: model = ranking_factorization_recommender</pre>"
      ],
      "text/plain": [
       "Recsys training: model = ranking_factorization_recommender"
      ]
     },
     "metadata": {},
     "output_type": "display_data"
    },
    {
     "data": {
      "text/html": [
       "<pre>Recsys training: model = ranking_factorization_recommender</pre>"
      ],
      "text/plain": [
       "Recsys training: model = ranking_factorization_recommender"
      ]
     },
     "metadata": {},
     "output_type": "display_data"
    },
    {
     "data": {
      "text/html": [
       "<pre>Recsys training: model = ranking_factorization_recommender</pre>"
      ],
      "text/plain": [
       "Recsys training: model = ranking_factorization_recommender"
      ]
     },
     "metadata": {},
     "output_type": "display_data"
    },
    {
     "data": {
      "text/html": [
       "<pre>Recsys training: model = ranking_factorization_recommender</pre>"
      ],
      "text/plain": [
       "Recsys training: model = ranking_factorization_recommender"
      ]
     },
     "metadata": {},
     "output_type": "display_data"
    },
    {
     "data": {
      "text/html": [
       "<pre>Recsys training: model = ranking_factorization_recommender</pre>"
      ],
      "text/plain": [
       "Recsys training: model = ranking_factorization_recommender"
      ]
     },
     "metadata": {},
     "output_type": "display_data"
    },
    {
     "data": {
      "text/html": [
       "<pre>Recsys training: model = ranking_factorization_recommender</pre>"
      ],
      "text/plain": [
       "Recsys training: model = ranking_factorization_recommender"
      ]
     },
     "metadata": {},
     "output_type": "display_data"
    },
    {
     "data": {
      "text/html": [
       "<pre>Recsys training: model = ranking_factorization_recommender</pre>"
      ],
      "text/plain": [
       "Recsys training: model = ranking_factorization_recommender"
      ]
     },
     "metadata": {},
     "output_type": "display_data"
    },
    {
     "data": {
      "text/html": [
       "<pre>Recsys training: model = ranking_factorization_recommender</pre>"
      ],
      "text/plain": [
       "Recsys training: model = ranking_factorization_recommender"
      ]
     },
     "metadata": {},
     "output_type": "display_data"
    },
    {
     "data": {
      "text/html": [
       "<pre>Recsys training: model = ranking_factorization_recommender</pre>"
      ],
      "text/plain": [
       "Recsys training: model = ranking_factorization_recommender"
      ]
     },
     "metadata": {},
     "output_type": "display_data"
    },
    {
     "data": {
      "text/html": [
       "<pre>Recsys training: model = ranking_factorization_recommender</pre>"
      ],
      "text/plain": [
       "Recsys training: model = ranking_factorization_recommender"
      ]
     },
     "metadata": {},
     "output_type": "display_data"
    },
    {
     "data": {
      "text/html": [
       "<pre>Recsys training: model = ranking_factorization_recommender</pre>"
      ],
      "text/plain": [
       "Recsys training: model = ranking_factorization_recommender"
      ]
     },
     "metadata": {},
     "output_type": "display_data"
    },
    {
     "data": {
      "text/html": [
       "<pre>Recsys training: model = ranking_factorization_recommender</pre>"
      ],
      "text/plain": [
       "Recsys training: model = ranking_factorization_recommender"
      ]
     },
     "metadata": {},
     "output_type": "display_data"
    },
    {
     "data": {
      "text/html": [
       "<pre>Recsys training: model = ranking_factorization_recommender</pre>"
      ],
      "text/plain": [
       "Recsys training: model = ranking_factorization_recommender"
      ]
     },
     "metadata": {},
     "output_type": "display_data"
    },
    {
     "data": {
      "text/html": [
       "<pre>Recsys training: model = ranking_factorization_recommender</pre>"
      ],
      "text/plain": [
       "Recsys training: model = ranking_factorization_recommender"
      ]
     },
     "metadata": {},
     "output_type": "display_data"
    },
    {
     "data": {
      "text/html": [
       "<pre>Recsys training: model = ranking_factorization_recommender</pre>"
      ],
      "text/plain": [
       "Recsys training: model = ranking_factorization_recommender"
      ]
     },
     "metadata": {},
     "output_type": "display_data"
    },
    {
     "data": {
      "text/html": [
       "<pre>Recsys training: model = ranking_factorization_recommender</pre>"
      ],
      "text/plain": [
       "Recsys training: model = ranking_factorization_recommender"
      ]
     },
     "metadata": {},
     "output_type": "display_data"
    },
    {
     "data": {
      "text/html": [
       "<pre>Recsys training: model = ranking_factorization_recommender</pre>"
      ],
      "text/plain": [
       "Recsys training: model = ranking_factorization_recommender"
      ]
     },
     "metadata": {},
     "output_type": "display_data"
    },
    {
     "data": {
      "text/html": [
       "<pre>Recsys training: model = ranking_factorization_recommender</pre>"
      ],
      "text/plain": [
       "Recsys training: model = ranking_factorization_recommender"
      ]
     },
     "metadata": {},
     "output_type": "display_data"
    },
    {
     "data": {
      "text/html": [
       "<pre>Recsys training: model = ranking_factorization_recommender</pre>"
      ],
      "text/plain": [
       "Recsys training: model = ranking_factorization_recommender"
      ]
     },
     "metadata": {},
     "output_type": "display_data"
    },
    {
     "data": {
      "text/html": [
       "<pre>Recsys training: model = ranking_factorization_recommender</pre>"
      ],
      "text/plain": [
       "Recsys training: model = ranking_factorization_recommender"
      ]
     },
     "metadata": {},
     "output_type": "display_data"
    },
    {
     "data": {
      "text/html": [
       "<pre>Recsys training: model = ranking_factorization_recommender</pre>"
      ],
      "text/plain": [
       "Recsys training: model = ranking_factorization_recommender"
      ]
     },
     "metadata": {},
     "output_type": "display_data"
    },
    {
     "data": {
      "text/html": [
       "<pre>Recsys training: model = ranking_factorization_recommender</pre>"
      ],
      "text/plain": [
       "Recsys training: model = ranking_factorization_recommender"
      ]
     },
     "metadata": {},
     "output_type": "display_data"
    },
    {
     "data": {
      "text/html": [
       "<pre>Recsys training: model = ranking_factorization_recommender</pre>"
      ],
      "text/plain": [
       "Recsys training: model = ranking_factorization_recommender"
      ]
     },
     "metadata": {},
     "output_type": "display_data"
    },
    {
     "data": {
      "text/html": [
       "<pre>Recsys training: model = ranking_factorization_recommender</pre>"
      ],
      "text/plain": [
       "Recsys training: model = ranking_factorization_recommender"
      ]
     },
     "metadata": {},
     "output_type": "display_data"
    },
    {
     "data": {
      "text/html": [
       "<pre>Recsys training: model = ranking_factorization_recommender</pre>"
      ],
      "text/plain": [
       "Recsys training: model = ranking_factorization_recommender"
      ]
     },
     "metadata": {},
     "output_type": "display_data"
    },
    {
     "data": {
      "text/html": [
       "<pre>Recsys training: model = ranking_factorization_recommender</pre>"
      ],
      "text/plain": [
       "Recsys training: model = ranking_factorization_recommender"
      ]
     },
     "metadata": {},
     "output_type": "display_data"
    },
    {
     "data": {
      "text/html": [
       "<pre>Recsys training: model = ranking_factorization_recommender</pre>"
      ],
      "text/plain": [
       "Recsys training: model = ranking_factorization_recommender"
      ]
     },
     "metadata": {},
     "output_type": "display_data"
    },
    {
     "data": {
      "text/html": [
       "<pre>Recsys training: model = ranking_factorization_recommender</pre>"
      ],
      "text/plain": [
       "Recsys training: model = ranking_factorization_recommender"
      ]
     },
     "metadata": {},
     "output_type": "display_data"
    },
    {
     "data": {
      "text/html": [
       "<pre>Recsys training: model = ranking_factorization_recommender</pre>"
      ],
      "text/plain": [
       "Recsys training: model = ranking_factorization_recommender"
      ]
     },
     "metadata": {},
     "output_type": "display_data"
    },
    {
     "data": {
      "text/html": [
       "<pre>Recsys training: model = ranking_factorization_recommender</pre>"
      ],
      "text/plain": [
       "Recsys training: model = ranking_factorization_recommender"
      ]
     },
     "metadata": {},
     "output_type": "display_data"
    },
    {
     "data": {
      "text/html": [
       "<pre>Recsys training: model = ranking_factorization_recommender</pre>"
      ],
      "text/plain": [
       "Recsys training: model = ranking_factorization_recommender"
      ]
     },
     "metadata": {},
     "output_type": "display_data"
    },
    {
     "data": {
      "text/html": [
       "<pre>Recsys training: model = ranking_factorization_recommender</pre>"
      ],
      "text/plain": [
       "Recsys training: model = ranking_factorization_recommender"
      ]
     },
     "metadata": {},
     "output_type": "display_data"
    },
    {
     "data": {
      "text/html": [
       "<pre>Recsys training: model = ranking_factorization_recommender</pre>"
      ],
      "text/plain": [
       "Recsys training: model = ranking_factorization_recommender"
      ]
     },
     "metadata": {},
     "output_type": "display_data"
    },
    {
     "data": {
      "text/html": [
       "<pre>Recsys training: model = ranking_factorization_recommender</pre>"
      ],
      "text/plain": [
       "Recsys training: model = ranking_factorization_recommender"
      ]
     },
     "metadata": {},
     "output_type": "display_data"
    },
    {
     "data": {
      "text/html": [
       "<pre>Recsys training: model = ranking_factorization_recommender</pre>"
      ],
      "text/plain": [
       "Recsys training: model = ranking_factorization_recommender"
      ]
     },
     "metadata": {},
     "output_type": "display_data"
    },
    {
     "data": {
      "text/html": [
       "<pre>Recsys training: model = ranking_factorization_recommender</pre>"
      ],
      "text/plain": [
       "Recsys training: model = ranking_factorization_recommender"
      ]
     },
     "metadata": {},
     "output_type": "display_data"
    },
    {
     "data": {
      "text/html": [
       "<pre>Recsys training: model = ranking_factorization_recommender</pre>"
      ],
      "text/plain": [
       "Recsys training: model = ranking_factorization_recommender"
      ]
     },
     "metadata": {},
     "output_type": "display_data"
    },
    {
     "data": {
      "text/html": [
       "<pre>Recsys training: model = ranking_factorization_recommender</pre>"
      ],
      "text/plain": [
       "Recsys training: model = ranking_factorization_recommender"
      ]
     },
     "metadata": {},
     "output_type": "display_data"
    },
    {
     "data": {
      "text/html": [
       "<pre>Recsys training: model = ranking_factorization_recommender</pre>"
      ],
      "text/plain": [
       "Recsys training: model = ranking_factorization_recommender"
      ]
     },
     "metadata": {},
     "output_type": "display_data"
    },
    {
     "data": {
      "text/html": [
       "<pre>Recsys training: model = ranking_factorization_recommender</pre>"
      ],
      "text/plain": [
       "Recsys training: model = ranking_factorization_recommender"
      ]
     },
     "metadata": {},
     "output_type": "display_data"
    },
    {
     "data": {
      "text/html": [
       "<pre>Recsys training: model = ranking_factorization_recommender</pre>"
      ],
      "text/plain": [
       "Recsys training: model = ranking_factorization_recommender"
      ]
     },
     "metadata": {},
     "output_type": "display_data"
    },
    {
     "data": {
      "text/html": [
       "<pre>Recsys training: model = ranking_factorization_recommender</pre>"
      ],
      "text/plain": [
       "Recsys training: model = ranking_factorization_recommender"
      ]
     },
     "metadata": {},
     "output_type": "display_data"
    },
    {
     "data": {
      "text/html": [
       "<pre>Recsys training: model = ranking_factorization_recommender</pre>"
      ],
      "text/plain": [
       "Recsys training: model = ranking_factorization_recommender"
      ]
     },
     "metadata": {},
     "output_type": "display_data"
    },
    {
     "data": {
      "text/html": [
       "<pre>Recsys training: model = ranking_factorization_recommender</pre>"
      ],
      "text/plain": [
       "Recsys training: model = ranking_factorization_recommender"
      ]
     },
     "metadata": {},
     "output_type": "display_data"
    },
    {
     "data": {
      "text/html": [
       "<pre>Recsys training: model = ranking_factorization_recommender</pre>"
      ],
      "text/plain": [
       "Recsys training: model = ranking_factorization_recommender"
      ]
     },
     "metadata": {},
     "output_type": "display_data"
    },
    {
     "data": {
      "text/html": [
       "<pre>Recsys training: model = ranking_factorization_recommender</pre>"
      ],
      "text/plain": [
       "Recsys training: model = ranking_factorization_recommender"
      ]
     },
     "metadata": {},
     "output_type": "display_data"
    },
    {
     "data": {
      "text/html": [
       "<pre>Recsys training: model = ranking_factorization_recommender</pre>"
      ],
      "text/plain": [
       "Recsys training: model = ranking_factorization_recommender"
      ]
     },
     "metadata": {},
     "output_type": "display_data"
    },
    {
     "data": {
      "text/html": [
       "<pre>Recsys training: model = ranking_factorization_recommender</pre>"
      ],
      "text/plain": [
       "Recsys training: model = ranking_factorization_recommender"
      ]
     },
     "metadata": {},
     "output_type": "display_data"
    },
    {
     "data": {
      "text/html": [
       "<pre>Recsys training: model = ranking_factorization_recommender</pre>"
      ],
      "text/plain": [
       "Recsys training: model = ranking_factorization_recommender"
      ]
     },
     "metadata": {},
     "output_type": "display_data"
    },
    {
     "data": {
      "text/html": [
       "<pre>Recsys training: model = ranking_factorization_recommender</pre>"
      ],
      "text/plain": [
       "Recsys training: model = ranking_factorization_recommender"
      ]
     },
     "metadata": {},
     "output_type": "display_data"
    },
    {
     "data": {
      "text/html": [
       "<pre>Recsys training: model = ranking_factorization_recommender</pre>"
      ],
      "text/plain": [
       "Recsys training: model = ranking_factorization_recommender"
      ]
     },
     "metadata": {},
     "output_type": "display_data"
    },
    {
     "data": {
      "text/html": [
       "<pre>Recsys training: model = ranking_factorization_recommender</pre>"
      ],
      "text/plain": [
       "Recsys training: model = ranking_factorization_recommender"
      ]
     },
     "metadata": {},
     "output_type": "display_data"
    },
    {
     "data": {
      "text/html": [
       "<pre>Recsys training: model = ranking_factorization_recommender</pre>"
      ],
      "text/plain": [
       "Recsys training: model = ranking_factorization_recommender"
      ]
     },
     "metadata": {},
     "output_type": "display_data"
    },
    {
     "data": {
      "text/html": [
       "<pre>Recsys training: model = ranking_factorization_recommender</pre>"
      ],
      "text/plain": [
       "Recsys training: model = ranking_factorization_recommender"
      ]
     },
     "metadata": {},
     "output_type": "display_data"
    },
    {
     "data": {
      "text/html": [
       "<pre>Recsys training: model = ranking_factorization_recommender</pre>"
      ],
      "text/plain": [
       "Recsys training: model = ranking_factorization_recommender"
      ]
     },
     "metadata": {},
     "output_type": "display_data"
    },
    {
     "data": {
      "text/html": [
       "<pre>Recsys training: model = ranking_factorization_recommender</pre>"
      ],
      "text/plain": [
       "Recsys training: model = ranking_factorization_recommender"
      ]
     },
     "metadata": {},
     "output_type": "display_data"
    },
    {
     "data": {
      "text/html": [
       "<pre>Recsys training: model = ranking_factorization_recommender</pre>"
      ],
      "text/plain": [
       "Recsys training: model = ranking_factorization_recommender"
      ]
     },
     "metadata": {},
     "output_type": "display_data"
    },
    {
     "data": {
      "text/html": [
       "<pre>Recsys training: model = ranking_factorization_recommender</pre>"
      ],
      "text/plain": [
       "Recsys training: model = ranking_factorization_recommender"
      ]
     },
     "metadata": {},
     "output_type": "display_data"
    },
    {
     "data": {
      "text/html": [
       "<pre>Recsys training: model = ranking_factorization_recommender</pre>"
      ],
      "text/plain": [
       "Recsys training: model = ranking_factorization_recommender"
      ]
     },
     "metadata": {},
     "output_type": "display_data"
    },
    {
     "data": {
      "text/html": [
       "<pre>Recsys training: model = ranking_factorization_recommender</pre>"
      ],
      "text/plain": [
       "Recsys training: model = ranking_factorization_recommender"
      ]
     },
     "metadata": {},
     "output_type": "display_data"
    },
    {
     "data": {
      "text/html": [
       "<pre>Recsys training: model = ranking_factorization_recommender</pre>"
      ],
      "text/plain": [
       "Recsys training: model = ranking_factorization_recommender"
      ]
     },
     "metadata": {},
     "output_type": "display_data"
    },
    {
     "data": {
      "text/html": [
       "<pre>Recsys training: model = ranking_factorization_recommender</pre>"
      ],
      "text/plain": [
       "Recsys training: model = ranking_factorization_recommender"
      ]
     },
     "metadata": {},
     "output_type": "display_data"
    },
    {
     "data": {
      "text/html": [
       "<pre>Recsys training: model = ranking_factorization_recommender</pre>"
      ],
      "text/plain": [
       "Recsys training: model = ranking_factorization_recommender"
      ]
     },
     "metadata": {},
     "output_type": "display_data"
    },
    {
     "data": {
      "text/html": [
       "<pre>Recsys training: model = ranking_factorization_recommender</pre>"
      ],
      "text/plain": [
       "Recsys training: model = ranking_factorization_recommender"
      ]
     },
     "metadata": {},
     "output_type": "display_data"
    },
    {
     "data": {
      "text/html": [
       "<pre>Recsys training: model = ranking_factorization_recommender</pre>"
      ],
      "text/plain": [
       "Recsys training: model = ranking_factorization_recommender"
      ]
     },
     "metadata": {},
     "output_type": "display_data"
    },
    {
     "data": {
      "text/html": [
       "<pre>Recsys training: model = ranking_factorization_recommender</pre>"
      ],
      "text/plain": [
       "Recsys training: model = ranking_factorization_recommender"
      ]
     },
     "metadata": {},
     "output_type": "display_data"
    },
    {
     "data": {
      "text/html": [
       "<pre>Recsys training: model = ranking_factorization_recommender</pre>"
      ],
      "text/plain": [
       "Recsys training: model = ranking_factorization_recommender"
      ]
     },
     "metadata": {},
     "output_type": "display_data"
    },
    {
     "data": {
      "text/html": [
       "<pre>Recsys training: model = ranking_factorization_recommender</pre>"
      ],
      "text/plain": [
       "Recsys training: model = ranking_factorization_recommender"
      ]
     },
     "metadata": {},
     "output_type": "display_data"
    },
    {
     "data": {
      "text/html": [
       "<pre>Recsys training: model = ranking_factorization_recommender</pre>"
      ],
      "text/plain": [
       "Recsys training: model = ranking_factorization_recommender"
      ]
     },
     "metadata": {},
     "output_type": "display_data"
    },
    {
     "data": {
      "text/html": [
       "<pre>Recsys training: model = ranking_factorization_recommender</pre>"
      ],
      "text/plain": [
       "Recsys training: model = ranking_factorization_recommender"
      ]
     },
     "metadata": {},
     "output_type": "display_data"
    },
    {
     "data": {
      "text/html": [
       "<pre>Recsys training: model = ranking_factorization_recommender</pre>"
      ],
      "text/plain": [
       "Recsys training: model = ranking_factorization_recommender"
      ]
     },
     "metadata": {},
     "output_type": "display_data"
    },
    {
     "data": {
      "text/html": [
       "<pre>Recsys training: model = ranking_factorization_recommender</pre>"
      ],
      "text/plain": [
       "Recsys training: model = ranking_factorization_recommender"
      ]
     },
     "metadata": {},
     "output_type": "display_data"
    }
   ],
   "source": [
    "grid_results_refined = run_parameter_search(fm, data_model, metrics, refined_params_grid, verbose=False, seed=seed)"
   ]
  },
  {
   "cell_type": "code",
   "execution_count": 176,
   "metadata": {
    "ExecuteTime": {
     "end_time": "2017-09-03T04:21:13.322147Z",
     "start_time": "2017-09-03T04:21:13.232487Z"
    },
    "hidden": true
   },
   "outputs": [
    {
     "data": {
      "text/html": [
       "<div>\n",
       "<style>\n",
       "    .dataframe thead tr:only-child th {\n",
       "        text-align: right;\n",
       "    }\n",
       "\n",
       "    .dataframe thead th {\n",
       "        text-align: left;\n",
       "    }\n",
       "\n",
       "    .dataframe tbody tr th {\n",
       "        vertical-align: top;\n",
       "    }\n",
       "</style>\n",
       "<table border=\"1\" class=\"dataframe\">\n",
       "  <thead>\n",
       "    <tr style=\"text-align: right;\">\n",
       "      <th></th>\n",
       "      <th></th>\n",
       "      <th></th>\n",
       "      <th></th>\n",
       "      <th></th>\n",
       "      <th></th>\n",
       "      <th></th>\n",
       "      <th>HR</th>\n",
       "      <th>MRR</th>\n",
       "      <th>COV</th>\n",
       "    </tr>\n",
       "  </thead>\n",
       "  <tbody>\n",
       "    <tr>\n",
       "      <th rowspan=\"9\" valign=\"top\">(sss, 0.3)</th>\n",
       "      <th rowspan=\"5\" valign=\"top\">(r, 3e-10)</th>\n",
       "      <th>(rr, 0.01)</th>\n",
       "      <th>(r, 150)</th>\n",
       "      <th>(nsne, 80)</th>\n",
       "      <th>(lr, 1e-08)</th>\n",
       "      <th>(mi, 40)</th>\n",
       "      <td>0.024928</td>\n",
       "      <td>0.010874</td>\n",
       "      <td>2272</td>\n",
       "    </tr>\n",
       "    <tr>\n",
       "      <th rowspan=\"3\" valign=\"top\">(rr, 0.03)</th>\n",
       "      <th rowspan=\"3\" valign=\"top\">(r, 150)</th>\n",
       "      <th>(nsne, 70)</th>\n",
       "      <th>(lr, 3e-08)</th>\n",
       "      <th>(mi, 40)</th>\n",
       "      <td>0.025811</td>\n",
       "      <td>0.010978</td>\n",
       "      <td>2089</td>\n",
       "    </tr>\n",
       "    <tr>\n",
       "      <th rowspan=\"2\" valign=\"top\">(nsne, 80)</th>\n",
       "      <th>(lr, 1e-08)</th>\n",
       "      <th>(mi, 40)</th>\n",
       "      <td>0.024487</td>\n",
       "      <td>0.010652</td>\n",
       "      <td>2281</td>\n",
       "    </tr>\n",
       "    <tr>\n",
       "      <th>(lr, 1e-07)</th>\n",
       "      <th>(mi, 40)</th>\n",
       "      <td>0.025811</td>\n",
       "      <td>0.010642</td>\n",
       "      <td>2144</td>\n",
       "    </tr>\n",
       "    <tr>\n",
       "      <th>(rr, 0.1)</th>\n",
       "      <th>(r, 150)</th>\n",
       "      <th>(nsne, 80)</th>\n",
       "      <th>(lr, 1e-08)</th>\n",
       "      <th>(mi, 40)</th>\n",
       "      <td>0.026031</td>\n",
       "      <td>0.010561</td>\n",
       "      <td>2208</td>\n",
       "    </tr>\n",
       "    <tr>\n",
       "      <th rowspan=\"2\" valign=\"top\">(r, 1e-09)</th>\n",
       "      <th rowspan=\"2\" valign=\"top\">(rr, 0.03)</th>\n",
       "      <th rowspan=\"2\" valign=\"top\">(r, 150)</th>\n",
       "      <th>(nsne, 70)</th>\n",
       "      <th>(lr, 1e-07)</th>\n",
       "      <th>(mi, 40)</th>\n",
       "      <td>0.026473</td>\n",
       "      <td>0.010656</td>\n",
       "      <td>1990</td>\n",
       "    </tr>\n",
       "    <tr>\n",
       "      <th>(nsne, 80)</th>\n",
       "      <th>(lr, 1e-08)</th>\n",
       "      <th>(mi, 40)</th>\n",
       "      <td>0.024708</td>\n",
       "      <td>0.011099</td>\n",
       "      <td>2260</td>\n",
       "    </tr>\n",
       "    <tr>\n",
       "      <th rowspan=\"2\" valign=\"top\">(r, 3e-09)</th>\n",
       "      <th>(rr, 0.03)</th>\n",
       "      <th>(r, 150)</th>\n",
       "      <th>(nsne, 60)</th>\n",
       "      <th>(lr, 1e-08)</th>\n",
       "      <th>(mi, 40)</th>\n",
       "      <td>0.024487</td>\n",
       "      <td>0.010573</td>\n",
       "      <td>1873</td>\n",
       "    </tr>\n",
       "    <tr>\n",
       "      <th>(rr, 0.1)</th>\n",
       "      <th>(r, 150)</th>\n",
       "      <th>(nsne, 80)</th>\n",
       "      <th>(lr, 3e-08)</th>\n",
       "      <th>(mi, 40)</th>\n",
       "      <td>0.023825</td>\n",
       "      <td>0.010994</td>\n",
       "      <td>2122</td>\n",
       "    </tr>\n",
       "  </tbody>\n",
       "</table>\n",
       "</div>"
      ],
      "text/plain": [
       "                                                                                 HR  \\\n",
       "(sss, 0.3) (r, 3e-10) (rr, 0.01) (r, 150) (nsne, 80) (lr, 1e-08) (mi, 40)  0.024928   \n",
       "                      (rr, 0.03) (r, 150) (nsne, 70) (lr, 3e-08) (mi, 40)  0.025811   \n",
       "                                          (nsne, 80) (lr, 1e-08) (mi, 40)  0.024487   \n",
       "                                                     (lr, 1e-07) (mi, 40)  0.025811   \n",
       "                      (rr, 0.1)  (r, 150) (nsne, 80) (lr, 1e-08) (mi, 40)  0.026031   \n",
       "           (r, 1e-09) (rr, 0.03) (r, 150) (nsne, 70) (lr, 1e-07) (mi, 40)  0.026473   \n",
       "                                          (nsne, 80) (lr, 1e-08) (mi, 40)  0.024708   \n",
       "           (r, 3e-09) (rr, 0.03) (r, 150) (nsne, 60) (lr, 1e-08) (mi, 40)  0.024487   \n",
       "                      (rr, 0.1)  (r, 150) (nsne, 80) (lr, 3e-08) (mi, 40)  0.023825   \n",
       "\n",
       "                                                                                MRR  \\\n",
       "(sss, 0.3) (r, 3e-10) (rr, 0.01) (r, 150) (nsne, 80) (lr, 1e-08) (mi, 40)  0.010874   \n",
       "                      (rr, 0.03) (r, 150) (nsne, 70) (lr, 3e-08) (mi, 40)  0.010978   \n",
       "                                          (nsne, 80) (lr, 1e-08) (mi, 40)  0.010652   \n",
       "                                                     (lr, 1e-07) (mi, 40)  0.010642   \n",
       "                      (rr, 0.1)  (r, 150) (nsne, 80) (lr, 1e-08) (mi, 40)  0.010561   \n",
       "           (r, 1e-09) (rr, 0.03) (r, 150) (nsne, 70) (lr, 1e-07) (mi, 40)  0.010656   \n",
       "                                          (nsne, 80) (lr, 1e-08) (mi, 40)  0.011099   \n",
       "           (r, 3e-09) (rr, 0.03) (r, 150) (nsne, 60) (lr, 1e-08) (mi, 40)  0.010573   \n",
       "                      (rr, 0.1)  (r, 150) (nsne, 80) (lr, 3e-08) (mi, 40)  0.010994   \n",
       "\n",
       "                                                                            COV  \n",
       "(sss, 0.3) (r, 3e-10) (rr, 0.01) (r, 150) (nsne, 80) (lr, 1e-08) (mi, 40)  2272  \n",
       "                      (rr, 0.03) (r, 150) (nsne, 70) (lr, 3e-08) (mi, 40)  2089  \n",
       "                                          (nsne, 80) (lr, 1e-08) (mi, 40)  2281  \n",
       "                                                     (lr, 1e-07) (mi, 40)  2144  \n",
       "                      (rr, 0.1)  (r, 150) (nsne, 80) (lr, 1e-08) (mi, 40)  2208  \n",
       "           (r, 1e-09) (rr, 0.03) (r, 150) (nsne, 70) (lr, 1e-07) (mi, 40)  1990  \n",
       "                                          (nsne, 80) (lr, 1e-08) (mi, 40)  2260  \n",
       "           (r, 3e-09) (rr, 0.03) (r, 150) (nsne, 60) (lr, 1e-08) (mi, 40)  1873  \n",
       "                      (rr, 0.1)  (r, 150) (nsne, 80) (lr, 3e-08) (mi, 40)  2122  "
      ]
     },
     "execution_count": 176,
     "metadata": {},
     "output_type": "execute_result"
    }
   ],
   "source": [
    "grid_results_refined_df = pd.DataFrame.from_dict(grid_results_refined, orient='index')\n",
    "grid_results_refined_df.loc[lambda x: x.MRR > 0.95*x.MRR.max()]"
   ]
  },
  {
   "cell_type": "code",
   "execution_count": 199,
   "metadata": {
    "ExecuteTime": {
     "end_time": "2017-09-03T05:07:15.646129Z",
     "start_time": "2017-09-03T05:07:15.068266Z"
    },
    "hidden": true
   },
   "outputs": [
    {
     "data": {
      "text/plain": [
       "<matplotlib.axes._subplots.AxesSubplot at 0x7f7aac0616d0>"
      ]
     },
     "execution_count": 199,
     "metadata": {},
     "output_type": "execute_result"
    },
    {
     "data": {
      "image/png": "[encoded data removed]",
      "text/plain": [
       "<matplotlib.figure.Figure at 0x7f7b16f1ac90>"
      ]
     },
     "metadata": {
      "image/png": {
       "height": 250,
       "width": 420
      }
     },
     "output_type": "display_data"
    }
   ],
   "source": [
    "grid_results_refined_df[['HR', 'MRR']].reset_index(drop=True).plot(secondary_y='HR', ylim=(0, None))"
   ]
  },
  {
   "cell_type": "code",
   "execution_count": 178,
   "metadata": {
    "ExecuteTime": {
     "end_time": "2017-09-03T04:29:52.585921Z",
     "start_time": "2017-09-03T04:29:52.543935Z"
    },
    "hidden": true
   },
   "outputs": [
    {
     "data": {
      "text/html": [
       "<div>\n",
       "<style>\n",
       "    .dataframe thead tr:only-child th {\n",
       "        text-align: right;\n",
       "    }\n",
       "\n",
       "    .dataframe thead th {\n",
       "        text-align: left;\n",
       "    }\n",
       "\n",
       "    .dataframe tbody tr th {\n",
       "        vertical-align: top;\n",
       "    }\n",
       "</style>\n",
       "<table border=\"1\" class=\"dataframe\">\n",
       "  <thead>\n",
       "    <tr style=\"text-align: right;\">\n",
       "      <th></th>\n",
       "      <th></th>\n",
       "      <th></th>\n",
       "      <th></th>\n",
       "      <th></th>\n",
       "      <th></th>\n",
       "      <th></th>\n",
       "      <th>HR</th>\n",
       "      <th>MRR</th>\n",
       "      <th>COV</th>\n",
       "    </tr>\n",
       "  </thead>\n",
       "  <tbody>\n",
       "    <tr>\n",
       "      <th rowspan=\"2\" valign=\"top\">(sss, 0.3)</th>\n",
       "      <th rowspan=\"2\" valign=\"top\">(r, 1e-09)</th>\n",
       "      <th rowspan=\"2\" valign=\"top\">(rr, 0.03)</th>\n",
       "      <th rowspan=\"2\" valign=\"top\">(r, 150)</th>\n",
       "      <th>(nsne, 70)</th>\n",
       "      <th>(lr, 1e-07)</th>\n",
       "      <th>(mi, 40)</th>\n",
       "      <td>0.026473</td>\n",
       "      <td>0.010656</td>\n",
       "      <td>1990</td>\n",
       "    </tr>\n",
       "    <tr>\n",
       "      <th>(nsne, 80)</th>\n",
       "      <th>(lr, 1e-08)</th>\n",
       "      <th>(mi, 40)</th>\n",
       "      <td>0.024708</td>\n",
       "      <td>0.011099</td>\n",
       "      <td>2260</td>\n",
       "    </tr>\n",
       "  </tbody>\n",
       "</table>\n",
       "</div>"
      ],
      "text/plain": [
       "                                                                                 HR  \\\n",
       "(sss, 0.3) (r, 1e-09) (rr, 0.03) (r, 150) (nsne, 70) (lr, 1e-07) (mi, 40)  0.026473   \n",
       "                                          (nsne, 80) (lr, 1e-08) (mi, 40)  0.024708   \n",
       "\n",
       "                                                                                MRR  \\\n",
       "(sss, 0.3) (r, 1e-09) (rr, 0.03) (r, 150) (nsne, 70) (lr, 1e-07) (mi, 40)  0.010656   \n",
       "                                          (nsne, 80) (lr, 1e-08) (mi, 40)  0.011099   \n",
       "\n",
       "                                                                            COV  \n",
       "(sss, 0.3) (r, 1e-09) (rr, 0.03) (r, 150) (nsne, 70) (lr, 1e-07) (mi, 40)  1990  \n",
       "                                          (nsne, 80) (lr, 1e-08) (mi, 40)  2260  "
      ]
     },
     "execution_count": 178,
     "metadata": {},
     "output_type": "execute_result"
    }
   ],
   "source": [
    "grid_results_refined_df.loc[lambda x: (x.MRR == x.MRR.max()) | (x.HR == x.HR.max())]"
   ]
  },
  {
   "cell_type": "markdown",
   "metadata": {},
   "source": [
    "### Final"
   ]
  },
  {
   "cell_type": "code",
   "execution_count": 283,
   "metadata": {
    "ExecuteTime": {
     "end_time": "2017-09-03T07:08:43.760618Z",
     "start_time": "2017-09-03T07:08:43.749339Z"
    },
    "collapsed": true
   },
   "outputs": [],
   "source": [
    "final_params = {\n",
    "          'ranking_regularization': 0.03,\n",
    "          'regularization':         1e-9,\n",
    "          'linear_regularization':  1e-8,\n",
    "          'sgd_step_size':          0.3,\n",
    "          'num_sampled_negative_examples': 80,\n",
    "          'max_iterations': 70, # increased for better results\n",
    "          'rank': 150,\n",
    "         }"
   ]
  },
  {
   "cell_type": "code",
   "execution_count": 284,
   "metadata": {
    "ExecuteTime": {
     "end_time": "2017-09-03T07:15:17.468557Z",
     "start_time": "2017-09-03T07:08:53.479635Z"
    },
    "scrolled": true
   },
   "outputs": [
    {
     "data": {
      "application/vnd.jupyter.widget-view+json": {
       "model_id": "0b16a46491c24260b5b2e6d1a6fe5731",
       "version_major": 2,
       "version_minor": 0
      },
      "text/plain": [
       "A Jupyter Widget"
      ]
     },
     "metadata": {},
     "output_type": "display_data"
    },
    {
     "data": {
      "text/html": [
       "<pre>Recsys training: model = ranking_factorization_recommender</pre>"
      ],
      "text/plain": [
       "Recsys training: model = ranking_factorization_recommender"
      ]
     },
     "metadata": {},
     "output_type": "display_data"
    },
    {
     "data": {
      "text/html": [
       "<pre>Preparing data set.</pre>"
      ],
      "text/plain": [
       "Preparing data set."
      ]
     },
     "metadata": {},
     "output_type": "display_data"
    },
    {
     "data": {
      "text/html": [
       "<pre>    Data has 501039 observations with 45575 users and 89904 items.</pre>"
      ],
      "text/plain": [
       "    Data has 501039 observations with 45575 users and 89904 items."
      ]
     },
     "metadata": {},
     "output_type": "display_data"
    },
    {
     "data": {
      "text/html": [
       "<pre>    Data prepared in: 0.585034s</pre>"
      ],
      "text/plain": [
       "    Data prepared in: 0.585034s"
      ]
     },
     "metadata": {},
     "output_type": "display_data"
    },
    {
     "data": {
      "text/html": [
       "<pre>Training ranking_factorization_recommender for recommendations.</pre>"
      ],
      "text/plain": [
       "Training ranking_factorization_recommender for recommendations."
      ]
     },
     "metadata": {},
     "output_type": "display_data"
    },
    {
     "data": {
      "text/html": [
       "<pre>+--------------------------------+--------------------------------------------------+----------+</pre>"
      ],
      "text/plain": [
       "+--------------------------------+--------------------------------------------------+----------+"
      ]
     },
     "metadata": {},
     "output_type": "display_data"
    },
    {
     "data": {
      "text/html": [
       "<pre>| Parameter                      | Description                                      | Value    |</pre>"
      ],
      "text/plain": [
       "| Parameter                      | Description                                      | Value    |"
      ]
     },
     "metadata": {},
     "output_type": "display_data"
    },
    {
     "data": {
      "text/html": [
       "<pre>+--------------------------------+--------------------------------------------------+----------+</pre>"
      ],
      "text/plain": [
       "+--------------------------------+--------------------------------------------------+----------+"
      ]
     },
     "metadata": {},
     "output_type": "display_data"
    },
    {
     "data": {
      "text/html": [
       "<pre>| num_factors                    | Factor Dimension                                 | 150      |</pre>"
      ],
      "text/plain": [
       "| num_factors                    | Factor Dimension                                 | 150      |"
      ]
     },
     "metadata": {},
     "output_type": "display_data"
    },
    {
     "data": {
      "text/html": [
       "<pre>| regularization                 | L2 Regularization on Factors                     | 1e-09    |</pre>"
      ],
      "text/plain": [
       "| regularization                 | L2 Regularization on Factors                     | 1e-09    |"
      ]
     },
     "metadata": {},
     "output_type": "display_data"
    },
    {
     "data": {
      "text/html": [
       "<pre>| solver                         | Solver used for training                         | sgd      |</pre>"
      ],
      "text/plain": [
       "| solver                         | Solver used for training                         | sgd      |"
      ]
     },
     "metadata": {},
     "output_type": "display_data"
    },
    {
     "data": {
      "text/html": [
       "<pre>| linear_regularization          | L2 Regularization on Linear Coefficients         | 1e-08    |</pre>"
      ],
      "text/plain": [
       "| linear_regularization          | L2 Regularization on Linear Coefficients         | 1e-08    |"
      ]
     },
     "metadata": {},
     "output_type": "display_data"
    },
    {
     "data": {
      "text/html": [
       "<pre>| ranking_regularization         | Rank-based Regularization Weight                 | 0.03     |</pre>"
      ],
      "text/plain": [
       "| ranking_regularization         | Rank-based Regularization Weight                 | 0.03     |"
      ]
     },
     "metadata": {},
     "output_type": "display_data"
    },
    {
     "data": {
      "text/html": [
       "<pre>| num_sampled_negative_examples  | # Negative Samples Considered per Observation    | 80       |</pre>"
      ],
      "text/plain": [
       "| num_sampled_negative_examples  | # Negative Samples Considered per Observation    | 80       |"
      ]
     },
     "metadata": {},
     "output_type": "display_data"
    },
    {
     "data": {
      "text/html": [
       "<pre>| binary_target                  | Assume Binary Targets                            | True     |</pre>"
      ],
      "text/plain": [
       "| binary_target                  | Assume Binary Targets                            | True     |"
      ]
     },
     "metadata": {},
     "output_type": "display_data"
    },
    {
     "data": {
      "text/html": [
       "<pre>| side_data_factorization        | Assign Factors for Side Data                     | True     |</pre>"
      ],
      "text/plain": [
       "| side_data_factorization        | Assign Factors for Side Data                     | True     |"
      ]
     },
     "metadata": {},
     "output_type": "display_data"
    },
    {
     "data": {
      "text/html": [
       "<pre>| sgd_step_size                  | Starting SGD Step Size                           | 0.3      |</pre>"
      ],
      "text/plain": [
       "| sgd_step_size                  | Starting SGD Step Size                           | 0.3      |"
      ]
     },
     "metadata": {},
     "output_type": "display_data"
    },
    {
     "data": {
      "text/html": [
       "<pre>| max_iterations                 | Maximum Number of Iterations                     | 70       |</pre>"
      ],
      "text/plain": [
       "| max_iterations                 | Maximum Number of Iterations                     | 70       |"
      ]
     },
     "metadata": {},
     "output_type": "display_data"
    },
    {
     "data": {
      "text/html": [
       "<pre>+--------------------------------+--------------------------------------------------+----------+</pre>"
      ],
      "text/plain": [
       "+--------------------------------+--------------------------------------------------+----------+"
      ]
     },
     "metadata": {},
     "output_type": "display_data"
    },
    {
     "data": {
      "text/html": [
       "<pre>  Optimizing model using SGD (step size tuning: OFF).</pre>"
      ],
      "text/plain": [
       "  Optimizing model using SGD (step size tuning: OFF)."
      ]
     },
     "metadata": {},
     "output_type": "display_data"
    },
    {
     "data": {
      "text/html": [
       "<pre>Starting Optimization.</pre>"
      ],
      "text/plain": [
       "Starting Optimization."
      ]
     },
     "metadata": {},
     "output_type": "display_data"
    },
    {
     "data": {
      "text/html": [
       "<pre>+---------+--------------+-------------------+-----------------------------------+-------------+</pre>"
      ],
      "text/plain": [
       "+---------+--------------+-------------------+-----------------------------------+-------------+"
      ]
     },
     "metadata": {},
     "output_type": "display_data"
    },
    {
     "data": {
      "text/html": [
       "<pre>| Iter.   | Elapsed Time | Approx. Objective | Approx. Training Predictive Error | Step Size   |</pre>"
      ],
      "text/plain": [
       "| Iter.   | Elapsed Time | Approx. Objective | Approx. Training Predictive Error | Step Size   |"
      ]
     },
     "metadata": {},
     "output_type": "display_data"
    },
    {
     "data": {
      "text/html": [
       "<pre>+---------+--------------+-------------------+-----------------------------------+-------------+</pre>"
      ],
      "text/plain": [
       "+---------+--------------+-------------------+-----------------------------------+-------------+"
      ]
     },
     "metadata": {},
     "output_type": "display_data"
    },
    {
     "data": {
      "text/html": [
       "<pre>| Initial | 911us        | 1.62715           | 0.313259                          |             |</pre>"
      ],
      "text/plain": [
       "| Initial | 911us        | 1.62715           | 0.313259                          |             |"
      ]
     },
     "metadata": {},
     "output_type": "display_data"
    },
    {
     "data": {
      "text/html": [
       "<pre>+---------+--------------+-------------------+-----------------------------------+-------------+</pre>"
      ],
      "text/plain": [
       "+---------+--------------+-------------------+-----------------------------------+-------------+"
      ]
     },
     "metadata": {},
     "output_type": "display_data"
    },
    {
     "data": {
      "text/html": [
       "<pre>| 1       | 9.09s        | DIVERGED          | DIVERGED                          | 0.3         |</pre>"
      ],
      "text/plain": [
       "| 1       | 9.09s        | DIVERGED          | DIVERGED                          | 0.3         |"
      ]
     },
     "metadata": {},
     "output_type": "display_data"
    },
    {
     "data": {
      "text/html": [
       "<pre>| RESET   | 13.70s       | 1.62714           | 0.313264                          |             |</pre>"
      ],
      "text/plain": [
       "| RESET   | 13.70s       | 1.62714           | 0.313264                          |             |"
      ]
     },
     "metadata": {},
     "output_type": "display_data"
    },
    {
     "data": {
      "text/html": [
       "<pre>| 1       | 18.24s       | 1.33103           | 0.659192                          | 0.15        |</pre>"
      ],
      "text/plain": [
       "| 1       | 18.24s       | 1.33103           | 0.659192                          | 0.15        |"
      ]
     },
     "metadata": {},
     "output_type": "display_data"
    },
    {
     "data": {
      "text/html": [
       "<pre>| 2       | 22.80s       | 1.36056           | 0.678976                          | 0.0891905   |</pre>"
      ],
      "text/plain": [
       "| 2       | 22.80s       | 1.36056           | 0.678976                          | 0.0891905   |"
      ]
     },
     "metadata": {},
     "output_type": "display_data"
    },
    {
     "data": {
      "text/html": [
       "<pre>| 3       | 27.41s       | 1.20168           | 0.589964                          | 0.0658037   |</pre>"
      ],
      "text/plain": [
       "| 3       | 27.41s       | 1.20168           | 0.589964                          | 0.0658037   |"
      ]
     },
     "metadata": {},
     "output_type": "display_data"
    },
    {
     "data": {
      "text/html": [
       "<pre>| 4       | 31.98s       | 1.40973           | 0.689306                          | 0.0445953   |</pre>"
      ],
      "text/plain": [
       "| 4       | 31.98s       | 1.40973           | 0.689306                          | 0.0445953   |"
      ]
     },
     "metadata": {},
     "output_type": "display_data"
    },
    {
     "data": {
      "text/html": [
       "<pre>| 5       | 36.50s       | 1.38794           | 0.690139                          | 0.0317211   |</pre>"
      ],
      "text/plain": [
       "| 5       | 36.50s       | 1.38794           | 0.690139                          | 0.0317211   |"
      ]
     },
     "metadata": {},
     "output_type": "display_data"
    },
    {
     "data": {
      "text/html": [
       "<pre>| 6       | 41.16s       | 1.40426           | 0.70096                           | 0.0232651   |</pre>"
      ],
      "text/plain": [
       "| 6       | 41.16s       | 1.40426           | 0.70096                           | 0.0232651   |"
      ]
     },
     "metadata": {},
     "output_type": "display_data"
    },
    {
     "data": {
      "text/html": [
       "<pre>| 7       | 45.74s       | 1.38655           | 0.694676                          | 0.0174276   |</pre>"
      ],
      "text/plain": [
       "| 7       | 45.74s       | 1.38655           | 0.694676                          | 0.0174276   |"
      ]
     },
     "metadata": {},
     "output_type": "display_data"
    },
    {
     "data": {
      "text/html": [
       "<pre>| 8       | 50.24s       | 1.37485           | 0.689262                          | 0.0132583   |</pre>"
      ],
      "text/plain": [
       "| 8       | 50.24s       | 1.37485           | 0.689262                          | 0.0132583   |"
      ]
     },
     "metadata": {},
     "output_type": "display_data"
    },
    {
     "data": {
      "text/html": [
       "<pre>| 9       | 54.79s       | 1.36486           | 0.684412                          | 0.0102062   |</pre>"
      ],
      "text/plain": [
       "| 9       | 54.79s       | 1.36486           | 0.684412                          | 0.0102062   |"
      ]
     },
     "metadata": {},
     "output_type": "display_data"
    },
    {
     "data": {
      "text/html": [
       "<pre>| 10      | 59.34s       | 1.353             | 0.67878                           | 0.00943075  |</pre>"
      ],
      "text/plain": [
       "| 10      | 59.34s       | 1.353             | 0.67878                           | 0.00943075  |"
      ]
     },
     "metadata": {},
     "output_type": "display_data"
    },
    {
     "data": {
      "text/html": [
       "<pre>| 11      | 1m 3s        | 1.34261           | 0.673708                          | 0.00878015  |</pre>"
      ],
      "text/plain": [
       "| 11      | 1m 3s        | 1.34261           | 0.673708                          | 0.00878015  |"
      ]
     },
     "metadata": {},
     "output_type": "display_data"
    },
    {
     "data": {
      "text/html": [
       "<pre>| 12      | 1m 8s        | 1.3337            | 0.669387                          | 0.00822546  |</pre>"
      ],
      "text/plain": [
       "| 12      | 1m 8s        | 1.3337            | 0.669387                          | 0.00822546  |"
      ]
     },
     "metadata": {},
     "output_type": "display_data"
    },
    {
     "data": {
      "text/html": [
       "<pre>| 13      | 1m 12s       | 1.32487           | 0.664803                          | 0.0077462   |</pre>"
      ],
      "text/plain": [
       "| 13      | 1m 12s       | 1.32487           | 0.664803                          | 0.0077462   |"
      ]
     },
     "metadata": {},
     "output_type": "display_data"
    },
    {
     "data": {
      "text/html": [
       "<pre>| 14      | 1m 17s       | 1.31647           | 0.660668                          | 0.00732741  |</pre>"
      ],
      "text/plain": [
       "| 14      | 1m 17s       | 1.31647           | 0.660668                          | 0.00732741  |"
      ]
     },
     "metadata": {},
     "output_type": "display_data"
    },
    {
     "data": {
      "text/html": [
       "<pre>| 15      | 1m 22s       | 1.30855           | 0.656818                          | 0.00695789  |</pre>"
      ],
      "text/plain": [
       "| 15      | 1m 22s       | 1.30855           | 0.656818                          | 0.00695789  |"
      ]
     },
     "metadata": {},
     "output_type": "display_data"
    },
    {
     "data": {
      "text/html": [
       "<pre>| 16      | 1m 26s       | 1.30069           | 0.653195                          | 0.00662913  |</pre>"
      ],
      "text/plain": [
       "| 16      | 1m 26s       | 1.30069           | 0.653195                          | 0.00662913  |"
      ]
     },
     "metadata": {},
     "output_type": "display_data"
    },
    {
     "data": {
      "text/html": [
       "<pre>| 17      | 1m 31s       | 1.29266           | 0.649049                          | 0.00633446  |</pre>"
      ],
      "text/plain": [
       "| 17      | 1m 31s       | 1.29266           | 0.649049                          | 0.00633446  |"
      ]
     },
     "metadata": {},
     "output_type": "display_data"
    },
    {
     "data": {
      "text/html": [
       "<pre>| 18      | 1m 35s       | 1.28541           | 0.64545                           | 0.00606865  |</pre>"
      ],
      "text/plain": [
       "| 18      | 1m 35s       | 1.28541           | 0.64545                           | 0.00606865  |"
      ]
     },
     "metadata": {},
     "output_type": "display_data"
    },
    {
     "data": {
      "text/html": [
       "<pre>| 19      | 1m 40s       | 1.27805           | 0.641964                          | 0.00582748  |</pre>"
      ],
      "text/plain": [
       "| 19      | 1m 40s       | 1.27805           | 0.641964                          | 0.00582748  |"
      ]
     },
     "metadata": {},
     "output_type": "display_data"
    },
    {
     "data": {
      "text/html": [
       "<pre>| 20      | 1m 44s       | 1.27087           | 0.63838                           | 0.00560756  |</pre>"
      ],
      "text/plain": [
       "| 20      | 1m 44s       | 1.27087           | 0.63838                           | 0.00560756  |"
      ]
     },
     "metadata": {},
     "output_type": "display_data"
    },
    {
     "data": {
      "text/html": [
       "<pre>| 21      | 1m 49s       | 1.26397           | 0.635166                          | 0.00540607  |</pre>"
      ],
      "text/plain": [
       "| 21      | 1m 49s       | 1.26397           | 0.635166                          | 0.00540607  |"
      ]
     },
     "metadata": {},
     "output_type": "display_data"
    },
    {
     "data": {
      "text/html": [
       "<pre>| 22      | 1m 54s       | 1.25718           | 0.631553                          | 0.00522071  |</pre>"
      ],
      "text/plain": [
       "| 22      | 1m 54s       | 1.25718           | 0.631553                          | 0.00522071  |"
      ]
     },
     "metadata": {},
     "output_type": "display_data"
    },
    {
     "data": {
      "text/html": [
       "<pre>| 23      | 1m 58s       | 1.2507            | 0.628323                          | 0.00504952  |</pre>"
      ],
      "text/plain": [
       "| 23      | 1m 58s       | 1.2507            | 0.628323                          | 0.00504952  |"
      ]
     },
     "metadata": {},
     "output_type": "display_data"
    },
    {
     "data": {
      "text/html": [
       "<pre>| 24      | 2m 3s        | 1.24461           | 0.625431                          | 0.00489089  |</pre>"
      ],
      "text/plain": [
       "| 24      | 2m 3s        | 1.24461           | 0.625431                          | 0.00489089  |"
      ]
     },
     "metadata": {},
     "output_type": "display_data"
    },
    {
     "data": {
      "text/html": [
       "<pre>| 25      | 2m 8s        | 1.23817           | 0.622306                          | 0.00474342  |</pre>"
      ],
      "text/plain": [
       "| 25      | 2m 8s        | 1.23817           | 0.622306                          | 0.00474342  |"
      ]
     },
     "metadata": {},
     "output_type": "display_data"
    },
    {
     "data": {
      "text/html": [
       "<pre>| 26      | 2m 12s       | 1.23232           | 0.619255                          | 0.00460592  |</pre>"
      ],
      "text/plain": [
       "| 26      | 2m 12s       | 1.23232           | 0.619255                          | 0.00460592  |"
      ]
     },
     "metadata": {},
     "output_type": "display_data"
    },
    {
     "data": {
      "text/html": [
       "<pre>| 27      | 2m 17s       | 1.22681           | 0.616797                          | 0.00447737  |</pre>"
      ],
      "text/plain": [
       "| 27      | 2m 17s       | 1.22681           | 0.616797                          | 0.00447737  |"
      ]
     },
     "metadata": {},
     "output_type": "display_data"
    },
    {
     "data": {
      "text/html": [
       "<pre>| 28      | 2m 22s       | 1.22072           | 0.613638                          | 0.0043569   |</pre>"
      ],
      "text/plain": [
       "| 28      | 2m 22s       | 1.22072           | 0.613638                          | 0.0043569   |"
      ]
     },
     "metadata": {},
     "output_type": "display_data"
    },
    {
     "data": {
      "text/html": [
       "<pre>| 29      | 2m 26s       | 1.21543           | 0.611111                          | 0.00424373  |</pre>"
      ],
      "text/plain": [
       "| 29      | 2m 26s       | 1.21543           | 0.611111                          | 0.00424373  |"
      ]
     },
     "metadata": {},
     "output_type": "display_data"
    },
    {
     "data": {
      "text/html": [
       "<pre>| 30      | 2m 31s       | 1.21004           | 0.608656                          | 0.00413719  |</pre>"
      ],
      "text/plain": [
       "| 30      | 2m 31s       | 1.21004           | 0.608656                          | 0.00413719  |"
      ]
     },
     "metadata": {},
     "output_type": "display_data"
    },
    {
     "data": {
      "text/html": [
       "<pre>| 31      | 2m 36s       | 1.20441           | 0.605709                          | 0.00403669  |</pre>"
      ],
      "text/plain": [
       "| 31      | 2m 36s       | 1.20441           | 0.605709                          | 0.00403669  |"
      ]
     },
     "metadata": {},
     "output_type": "display_data"
    },
    {
     "data": {
      "text/html": [
       "<pre>| 32      | 2m 40s       | 1.19981           | 0.603419                          | 0.0039417   |</pre>"
      ],
      "text/plain": [
       "| 32      | 2m 40s       | 1.19981           | 0.603419                          | 0.0039417   |"
      ]
     },
     "metadata": {},
     "output_type": "display_data"
    },
    {
     "data": {
      "text/html": [
       "<pre>| 33      | 2m 45s       | 1.19445           | 0.60044                           | 0.00385177  |</pre>"
      ],
      "text/plain": [
       "| 33      | 2m 45s       | 1.19445           | 0.60044                           | 0.00385177  |"
      ]
     },
     "metadata": {},
     "output_type": "display_data"
    },
    {
     "data": {
      "text/html": [
       "<pre>| 34      | 2m 49s       | 1.18973           | 0.598378                          | 0.00376649  |</pre>"
      ],
      "text/plain": [
       "| 34      | 2m 49s       | 1.18973           | 0.598378                          | 0.00376649  |"
      ]
     },
     "metadata": {},
     "output_type": "display_data"
    },
    {
     "data": {
      "text/html": [
       "<pre>| 35      | 2m 54s       | 1.185             | 0.596011                          | 0.00368549  |</pre>"
      ],
      "text/plain": [
       "| 35      | 2m 54s       | 1.185             | 0.596011                          | 0.00368549  |"
      ]
     },
     "metadata": {},
     "output_type": "display_data"
    },
    {
     "data": {
      "text/html": [
       "<pre>| 36      | 2m 59s       | 1.18077           | 0.593837                          | 0.00360844  |</pre>"
      ],
      "text/plain": [
       "| 36      | 2m 59s       | 1.18077           | 0.593837                          | 0.00360844  |"
      ]
     },
     "metadata": {},
     "output_type": "display_data"
    },
    {
     "data": {
      "text/html": [
       "<pre>| 37      | 3m 3s        | 1.17604           | 0.591439                          | 0.00353505  |</pre>"
      ],
      "text/plain": [
       "| 37      | 3m 3s        | 1.17604           | 0.591439                          | 0.00353505  |"
      ]
     },
     "metadata": {},
     "output_type": "display_data"
    },
    {
     "data": {
      "text/html": [
       "<pre>| 38      | 3m 8s        | 1.17168           | 0.589372                          | 0.00346504  |</pre>"
      ],
      "text/plain": [
       "| 38      | 3m 8s        | 1.17168           | 0.589372                          | 0.00346504  |"
      ]
     },
     "metadata": {},
     "output_type": "display_data"
    },
    {
     "data": {
      "text/html": [
       "<pre>| 39      | 3m 13s       | 1.16721           | 0.587146                          | 0.00339819  |</pre>"
      ],
      "text/plain": [
       "| 39      | 3m 13s       | 1.16721           | 0.587146                          | 0.00339819  |"
      ]
     },
     "metadata": {},
     "output_type": "display_data"
    },
    {
     "data": {
      "text/html": [
       "<pre>| 40      | 3m 17s       | 1.16302           | 0.584787                          | 0.00333427  |</pre>"
      ],
      "text/plain": [
       "| 40      | 3m 17s       | 1.16302           | 0.584787                          | 0.00333427  |"
      ]
     },
     "metadata": {},
     "output_type": "display_data"
    },
    {
     "data": {
      "text/html": [
       "<pre>| 41      | 3m 22s       | 1.15915           | 0.583286                          | 0.00327309  |</pre>"
      ],
      "text/plain": [
       "| 41      | 3m 22s       | 1.15915           | 0.583286                          | 0.00327309  |"
      ]
     },
     "metadata": {},
     "output_type": "display_data"
    },
    {
     "data": {
      "text/html": [
       "<pre>| 42      | 3m 27s       | 1.15484           | 0.581088                          | 0.00321447  |</pre>"
      ],
      "text/plain": [
       "| 42      | 3m 27s       | 1.15484           | 0.581088                          | 0.00321447  |"
      ]
     },
     "metadata": {},
     "output_type": "display_data"
    },
    {
     "data": {
      "text/html": [
       "<pre>| 43      | 3m 31s       | 1.15093           | 0.579235                          | 0.00315824  |</pre>"
      ],
      "text/plain": [
       "| 43      | 3m 31s       | 1.15093           | 0.579235                          | 0.00315824  |"
      ]
     },
     "metadata": {},
     "output_type": "display_data"
    },
    {
     "data": {
      "text/html": [
       "<pre>| 44      | 3m 36s       | 1.14734           | 0.576946                          | 0.00310425  |</pre>"
      ],
      "text/plain": [
       "| 44      | 3m 36s       | 1.14734           | 0.576946                          | 0.00310425  |"
      ]
     },
     "metadata": {},
     "output_type": "display_data"
    },
    {
     "data": {
      "text/html": [
       "<pre>| 45      | 3m 41s       | 1.1437            | 0.575534                          | 0.00305237  |</pre>"
      ],
      "text/plain": [
       "| 45      | 3m 41s       | 1.1437            | 0.575534                          | 0.00305237  |"
      ]
     },
     "metadata": {},
     "output_type": "display_data"
    },
    {
     "data": {
      "text/html": [
       "<pre>| 46      | 3m 45s       | 1.13996           | 0.573551                          | 0.00300246  |</pre>"
      ],
      "text/plain": [
       "| 46      | 3m 45s       | 1.13996           | 0.573551                          | 0.00300246  |"
      ]
     },
     "metadata": {},
     "output_type": "display_data"
    },
    {
     "data": {
      "text/html": [
       "<pre>| 47      | 3m 50s       | 1.1365            | 0.571843                          | 0.00295442  |</pre>"
      ],
      "text/plain": [
       "| 47      | 3m 50s       | 1.1365            | 0.571843                          | 0.00295442  |"
      ]
     },
     "metadata": {},
     "output_type": "display_data"
    },
    {
     "data": {
      "text/html": [
       "<pre>| 48      | 3m 55s       | 1.13288           | 0.570203                          | 0.00290814  |</pre>"
      ],
      "text/plain": [
       "| 48      | 3m 55s       | 1.13288           | 0.570203                          | 0.00290814  |"
      ]
     },
     "metadata": {},
     "output_type": "display_data"
    },
    {
     "data": {
      "text/html": [
       "<pre>| 49      | 3m 59s       | 1.12902           | 0.568371                          | 0.00286351  |</pre>"
      ],
      "text/plain": [
       "| 49      | 3m 59s       | 1.12902           | 0.568371                          | 0.00286351  |"
      ]
     },
     "metadata": {},
     "output_type": "display_data"
    },
    {
     "data": {
      "text/html": [
       "<pre>| 50      | 4m 4s        | 1.12598           | 0.566862                          | 0.00282045  |</pre>"
      ],
      "text/plain": [
       "| 50      | 4m 4s        | 1.12598           | 0.566862                          | 0.00282045  |"
      ]
     },
     "metadata": {},
     "output_type": "display_data"
    },
    {
     "data": {
      "text/html": [
       "<pre>| 51      | 4m 9s        | 1.12265           | 0.565365                          | 0.00277887  |</pre>"
      ],
      "text/plain": [
       "| 51      | 4m 9s        | 1.12265           | 0.565365                          | 0.00277887  |"
      ]
     },
     "metadata": {},
     "output_type": "display_data"
    },
    {
     "data": {
      "text/html": [
       "<pre>| 52      | 4m 13s       | 1.11949           | 0.563437                          | 0.0027387   |</pre>"
      ],
      "text/plain": [
       "| 52      | 4m 13s       | 1.11949           | 0.563437                          | 0.0027387   |"
      ]
     },
     "metadata": {},
     "output_type": "display_data"
    },
    {
     "data": {
      "text/html": [
       "<pre>| 53      | 4m 18s       | 1.11611           | 0.561634                          | 0.00269985  |</pre>"
      ],
      "text/plain": [
       "| 53      | 4m 18s       | 1.11611           | 0.561634                          | 0.00269985  |"
      ]
     },
     "metadata": {},
     "output_type": "display_data"
    },
    {
     "data": {
      "text/html": [
       "<pre>| 54      | 4m 23s       | 1.11305           | 0.560297                          | 0.00266226  |</pre>"
      ],
      "text/plain": [
       "| 54      | 4m 23s       | 1.11305           | 0.560297                          | 0.00266226  |"
      ]
     },
     "metadata": {},
     "output_type": "display_data"
    },
    {
     "data": {
      "text/html": [
       "<pre>| 55      | 4m 27s       | 1.11032           | 0.558911                          | 0.00262588  |</pre>"
      ],
      "text/plain": [
       "| 55      | 4m 27s       | 1.11032           | 0.558911                          | 0.00262588  |"
      ]
     },
     "metadata": {},
     "output_type": "display_data"
    },
    {
     "data": {
      "text/html": [
       "<pre>| 56      | 4m 32s       | 1.10687           | 0.557405                          | 0.00259063  |</pre>"
      ],
      "text/plain": [
       "| 56      | 4m 32s       | 1.10687           | 0.557405                          | 0.00259063  |"
      ]
     },
     "metadata": {},
     "output_type": "display_data"
    },
    {
     "data": {
      "text/html": [
       "<pre>| 57      | 4m 37s       | 1.10417           | 0.555946                          | 0.00255647  |</pre>"
      ],
      "text/plain": [
       "| 57      | 4m 37s       | 1.10417           | 0.555946                          | 0.00255647  |"
      ]
     },
     "metadata": {},
     "output_type": "display_data"
    },
    {
     "data": {
      "text/html": [
       "<pre>| 58      | 4m 41s       | 1.10124           | 0.554366                          | 0.00252334  |</pre>"
      ],
      "text/plain": [
       "| 58      | 4m 41s       | 1.10124           | 0.554366                          | 0.00252334  |"
      ]
     },
     "metadata": {},
     "output_type": "display_data"
    },
    {
     "data": {
      "text/html": [
       "<pre>| 59      | 4m 46s       | 1.09849           | 0.552935                          | 0.00249119  |</pre>"
      ],
      "text/plain": [
       "| 59      | 4m 46s       | 1.09849           | 0.552935                          | 0.00249119  |"
      ]
     },
     "metadata": {},
     "output_type": "display_data"
    },
    {
     "data": {
      "text/html": [
       "<pre>| 60      | 4m 50s       | 1.09539           | 0.551366                          | 0.00245999  |</pre>"
      ],
      "text/plain": [
       "| 60      | 4m 50s       | 1.09539           | 0.551366                          | 0.00245999  |"
      ]
     },
     "metadata": {},
     "output_type": "display_data"
    },
    {
     "data": {
      "text/html": [
       "<pre>| 61      | 4m 55s       | 1.09255           | 0.550127                          | 0.00242968  |</pre>"
      ],
      "text/plain": [
       "| 61      | 4m 55s       | 1.09255           | 0.550127                          | 0.00242968  |"
      ]
     },
     "metadata": {},
     "output_type": "display_data"
    },
    {
     "data": {
      "text/html": [
       "<pre>| 62      | 5m 0s        | 1.08993           | 0.548851                          | 0.00240023  |</pre>"
      ],
      "text/plain": [
       "| 62      | 5m 0s        | 1.08993           | 0.548851                          | 0.00240023  |"
      ]
     },
     "metadata": {},
     "output_type": "display_data"
    },
    {
     "data": {
      "text/html": [
       "<pre>| 63      | 5m 4s        | 1.08746           | 0.547244                          | 0.0023716   |</pre>"
      ],
      "text/plain": [
       "| 63      | 5m 4s        | 1.08746           | 0.547244                          | 0.0023716   |"
      ]
     },
     "metadata": {},
     "output_type": "display_data"
    },
    {
     "data": {
      "text/html": [
       "<pre>| 64      | 5m 9s        | 1.08457           | 0.546084                          | 0.00234375  |</pre>"
      ],
      "text/plain": [
       "| 64      | 5m 9s        | 1.08457           | 0.546084                          | 0.00234375  |"
      ]
     },
     "metadata": {},
     "output_type": "display_data"
    },
    {
     "data": {
      "text/html": [
       "<pre>| 65      | 5m 14s       | 1.08211           | 0.544963                          | 0.00231665  |</pre>"
      ],
      "text/plain": [
       "| 65      | 5m 14s       | 1.08211           | 0.544963                          | 0.00231665  |"
      ]
     },
     "metadata": {},
     "output_type": "display_data"
    },
    {
     "data": {
      "text/html": [
       "<pre>| 66      | 5m 18s       | 1.07967           | 0.543768                          | 0.00229028  |</pre>"
      ],
      "text/plain": [
       "| 66      | 5m 18s       | 1.07967           | 0.543768                          | 0.00229028  |"
      ]
     },
     "metadata": {},
     "output_type": "display_data"
    },
    {
     "data": {
      "text/html": [
       "<pre>| 67      | 5m 23s       | 1.07699           | 0.542657                          | 0.00226459  |</pre>"
      ],
      "text/plain": [
       "| 67      | 5m 23s       | 1.07699           | 0.542657                          | 0.00226459  |"
      ]
     },
     "metadata": {},
     "output_type": "display_data"
    },
    {
     "data": {
      "text/html": [
       "<pre>| 68      | 5m 28s       | 1.07446           | 0.540952                          | 0.00223957  |</pre>"
      ],
      "text/plain": [
       "| 68      | 5m 28s       | 1.07446           | 0.540952                          | 0.00223957  |"
      ]
     },
     "metadata": {},
     "output_type": "display_data"
    },
    {
     "data": {
      "text/html": [
       "<pre>| 69      | 5m 32s       | 1.07214           | 0.539903                          | 0.00221518  |</pre>"
      ],
      "text/plain": [
       "| 69      | 5m 32s       | 1.07214           | 0.539903                          | 0.00221518  |"
      ]
     },
     "metadata": {},
     "output_type": "display_data"
    },
    {
     "data": {
      "text/html": [
       "<pre>| 70      | 5m 37s       | 1.0698            | 0.538705                          | 0.00219141  |</pre>"
      ],
      "text/plain": [
       "| 70      | 5m 37s       | 1.0698            | 0.538705                          | 0.00219141  |"
      ]
     },
     "metadata": {},
     "output_type": "display_data"
    },
    {
     "data": {
      "text/html": [
       "<pre>+---------+--------------+-------------------+-----------------------------------+-------------+</pre>"
      ],
      "text/plain": [
       "+---------+--------------+-------------------+-----------------------------------+-------------+"
      ]
     },
     "metadata": {},
     "output_type": "display_data"
    },
    {
     "data": {
      "text/html": [
       "<pre>Optimization Complete: Maximum number of passes through the data reached.</pre>"
      ],
      "text/plain": [
       "Optimization Complete: Maximum number of passes through the data reached."
      ]
     },
     "metadata": {},
     "output_type": "display_data"
    },
    {
     "data": {
      "text/html": [
       "<pre>Computing final objective value and training Predictive Error.</pre>"
      ],
      "text/plain": [
       "Computing final objective value and training Predictive Error."
      ]
     },
     "metadata": {},
     "output_type": "display_data"
    },
    {
     "data": {
      "text/html": [
       "<pre>       Final objective value: 1.06901</pre>"
      ],
      "text/plain": [
       "       Final objective value: 1.06901"
      ]
     },
     "metadata": {},
     "output_type": "display_data"
    },
    {
     "data": {
      "text/html": [
       "<pre>       Final training Predictive Error: 0.536468</pre>"
      ],
      "text/plain": [
       "       Final training Predictive Error: 0.536468"
      ]
     },
     "metadata": {},
     "output_type": "display_data"
    },
    {
     "name": "stdout",
     "output_type": "stream",
     "text": [
      "FM training time: 347.336374s\n"
     ]
    },
    {
     "data": {
      "text/html": [
       "<pre>recommendations finished on 1000/4533 queries. users per second: 281.379</pre>"
      ],
      "text/plain": [
       "recommendations finished on 1000/4533 queries. users per second: 281.379"
      ]
     },
     "metadata": {},
     "output_type": "display_data"
    },
    {
     "data": {
      "text/html": [
       "<pre>recommendations finished on 2000/4533 queries. users per second: 280.478</pre>"
      ],
      "text/plain": [
       "recommendations finished on 2000/4533 queries. users per second: 280.478"
      ]
     },
     "metadata": {},
     "output_type": "display_data"
    },
    {
     "data": {
      "text/html": [
       "<pre>recommendations finished on 3000/4533 queries. users per second: 281.695</pre>"
      ],
      "text/plain": [
       "recommendations finished on 3000/4533 queries. users per second: 281.695"
      ]
     },
     "metadata": {},
     "output_type": "display_data"
    },
    {
     "data": {
      "text/html": [
       "<pre>recommendations finished on 4000/4533 queries. users per second: 282.784</pre>"
      ],
      "text/plain": [
       "recommendations finished on 4000/4533 queries. users per second: 282.784"
      ]
     },
     "metadata": {},
     "output_type": "display_data"
    },
    {
     "data": {
      "text/html": [
       "<pre>recommendations finished on 1000/4533 queries. users per second: 278.905</pre>"
      ],
      "text/plain": [
       "recommendations finished on 1000/4533 queries. users per second: 278.905"
      ]
     },
     "metadata": {},
     "output_type": "display_data"
    },
    {
     "data": {
      "text/html": [
       "<pre>recommendations finished on 2000/4533 queries. users per second: 283.638</pre>"
      ],
      "text/plain": [
       "recommendations finished on 2000/4533 queries. users per second: 283.638"
      ]
     },
     "metadata": {},
     "output_type": "display_data"
    },
    {
     "data": {
      "text/html": [
       "<pre>recommendations finished on 3000/4533 queries. users per second: 285.993</pre>"
      ],
      "text/plain": [
       "recommendations finished on 3000/4533 queries. users per second: 285.993"
      ]
     },
     "metadata": {},
     "output_type": "display_data"
    },
    {
     "data": {
      "text/html": [
       "<pre>recommendations finished on 4000/4533 queries. users per second: 287.402</pre>"
      ],
      "text/plain": [
       "recommendations finished on 4000/4533 queries. users per second: 287.402"
      ]
     },
     "metadata": {},
     "output_type": "display_data"
    },
    {
     "name": "stdout",
     "output_type": "stream",
     "text": [
      "\n"
     ]
    }
   ],
   "source": [
    "final_res = run_parameter_search(fm, data_model, metrics, [final_params], verbose=True, seed=seed)"
   ]
  },
  {
   "cell_type": "code",
   "execution_count": 285,
   "metadata": {
    "ExecuteTime": {
     "end_time": "2017-09-03T07:15:17.478077Z",
     "start_time": "2017-09-03T07:15:17.471041Z"
    }
   },
   "outputs": [
    {
     "data": {
      "text/plain": [
       "{(('sss', 0.3),\n",
       "  ('r', 1e-09),\n",
       "  ('rr', 0.03),\n",
       "  ('r', 150),\n",
       "  ('nsne', 80),\n",
       "  ('lr', 1e-08),\n",
       "  ('mi', 70)): {'COV': 2689,\n",
       "  'HR': 0.028899183763512023,\n",
       "  'MRR': 0.011830614295869093}}"
      ]
     },
     "execution_count": 285,
     "metadata": {},
     "output_type": "execute_result"
    }
   ],
   "source": [
    "final_res"
   ]
  },
  {
   "cell_type": "markdown",
   "metadata": {},
   "source": [
    "Saving best config"
   ]
  },
  {
   "cell_type": "code",
   "execution_count": 286,
   "metadata": {
    "ExecuteTime": {
     "end_time": "2017-09-03T07:15:34.744740Z",
     "start_time": "2017-09-03T07:15:34.730576Z"
    },
    "collapsed": true
   },
   "outputs": [],
   "source": [
    "pd.Series(dict(binary_target = True,\n",
    "               solver = 'sgd',\n",
    "               ranking_optimization = True,\n",
    "               verbose = False,\n",
    "               seed = seed,\n",
    "               name = 'FM',\n",
    "               **final_params)).to_csv('FM_BX_standard_best_config.csv')"
   ]
  },
  {
   "cell_type": "markdown",
   "metadata": {},
   "source": [
    "## Cross-validation"
   ]
  },
  {
   "cell_type": "code",
   "execution_count": 295,
   "metadata": {
    "ExecuteTime": {
     "end_time": "2017-09-04T03:00:11.913726Z",
     "start_time": "2017-09-03T07:54:25.699517Z"
    },
    "scrolled": true
   },
   "outputs": [
    {
     "data": {
      "application/vnd.jupyter.widget-view+json": {
       "model_id": "18afef678a814de09bd84cd776321050",
       "version_major": 2,
       "version_minor": 0
      },
      "text/plain": [
       "A Jupyter Widget"
      ]
     },
     "metadata": {},
     "output_type": "display_data"
    },
    {
     "name": "stdout",
     "output_type": "stream",
     "text": [
      "Data is ready. No action was taken.\n"
     ]
    },
    {
     "data": {
      "text/html": [
       "<pre>Recsys training: model = ranking_factorization_recommender</pre>"
      ],
      "text/plain": [
       "Recsys training: model = ranking_factorization_recommender"
      ]
     },
     "metadata": {},
     "output_type": "display_data"
    },
    {
     "data": {
      "text/html": [
       "<pre>Recsys training: model = ranking_factorization_recommender</pre>"
      ],
      "text/plain": [
       "Recsys training: model = ranking_factorization_recommender"
      ]
     },
     "metadata": {},
     "output_type": "display_data"
    },
    {
     "data": {
      "text/html": [
       "<pre>Recsys training: model = ranking_factorization_recommender</pre>"
      ],
      "text/plain": [
       "Recsys training: model = ranking_factorization_recommender"
      ]
     },
     "metadata": {},
     "output_type": "display_data"
    },
    {
     "data": {
      "text/html": [
       "<pre>Recsys training: model = ranking_factorization_recommender</pre>"
      ],
      "text/plain": [
       "Recsys training: model = ranking_factorization_recommender"
      ]
     },
     "metadata": {},
     "output_type": "display_data"
    },
    {
     "data": {
      "text/html": [
       "<pre>Recsys training: model = ranking_factorization_recommender</pre>"
      ],
      "text/plain": [
       "Recsys training: model = ranking_factorization_recommender"
      ]
     },
     "metadata": {},
     "output_type": "display_data"
    },
    {
     "data": {
      "text/html": [
       "<pre>Recsys training: model = ranking_factorization_recommender</pre>"
      ],
      "text/plain": [
       "Recsys training: model = ranking_factorization_recommender"
      ]
     },
     "metadata": {},
     "output_type": "display_data"
    },
    {
     "data": {
      "text/html": [
       "<pre>Recsys training: model = ranking_factorization_recommender</pre>"
      ],
      "text/plain": [
       "Recsys training: model = ranking_factorization_recommender"
      ]
     },
     "metadata": {},
     "output_type": "display_data"
    },
    {
     "data": {
      "text/html": [
       "<pre>Recsys training: model = ranking_factorization_recommender</pre>"
      ],
      "text/plain": [
       "Recsys training: model = ranking_factorization_recommender"
      ]
     },
     "metadata": {},
     "output_type": "display_data"
    },
    {
     "data": {
      "text/html": [
       "<pre>Recsys training: model = ranking_factorization_recommender</pre>"
      ],
      "text/plain": [
       "Recsys training: model = ranking_factorization_recommender"
      ]
     },
     "metadata": {},
     "output_type": "display_data"
    },
    {
     "data": {
      "text/html": [
       "<pre>Recsys training: model = ranking_factorization_recommender</pre>"
      ],
      "text/plain": [
       "Recsys training: model = ranking_factorization_recommender"
      ]
     },
     "metadata": {},
     "output_type": "display_data"
    },
    {
     "data": {
      "text/html": [
       "<pre>Recsys training: model = ranking_factorization_recommender</pre>"
      ],
      "text/plain": [
       "Recsys training: model = ranking_factorization_recommender"
      ]
     },
     "metadata": {},
     "output_type": "display_data"
    },
    {
     "data": {
      "text/html": [
       "<pre>Recsys training: model = ranking_factorization_recommender</pre>"
      ],
      "text/plain": [
       "Recsys training: model = ranking_factorization_recommender"
      ]
     },
     "metadata": {},
     "output_type": "display_data"
    },
    {
     "data": {
      "text/html": [
       "<pre>Recsys training: model = ranking_factorization_recommender</pre>"
      ],
      "text/plain": [
       "Recsys training: model = ranking_factorization_recommender"
      ]
     },
     "metadata": {},
     "output_type": "display_data"
    },
    {
     "data": {
      "text/html": [
       "<pre>Recsys training: model = ranking_factorization_recommender</pre>"
      ],
      "text/plain": [
       "Recsys training: model = ranking_factorization_recommender"
      ]
     },
     "metadata": {},
     "output_type": "display_data"
    },
    {
     "data": {
      "text/html": [
       "<pre>Recsys training: model = ranking_factorization_recommender</pre>"
      ],
      "text/plain": [
       "Recsys training: model = ranking_factorization_recommender"
      ]
     },
     "metadata": {},
     "output_type": "display_data"
    },
    {
     "data": {
      "text/html": [
       "<pre>Recsys training: model = ranking_factorization_recommender</pre>"
      ],
      "text/plain": [
       "Recsys training: model = ranking_factorization_recommender"
      ]
     },
     "metadata": {},
     "output_type": "display_data"
    },
    {
     "data": {
      "text/html": [
       "<pre>Recsys training: model = ranking_factorization_recommender</pre>"
      ],
      "text/plain": [
       "Recsys training: model = ranking_factorization_recommender"
      ]
     },
     "metadata": {},
     "output_type": "display_data"
    },
    {
     "data": {
      "text/html": [
       "<pre>Recsys training: model = ranking_factorization_recommender</pre>"
      ],
      "text/plain": [
       "Recsys training: model = ranking_factorization_recommender"
      ]
     },
     "metadata": {},
     "output_type": "display_data"
    },
    {
     "data": {
      "text/html": [
       "<pre>Recsys training: model = ranking_factorization_recommender</pre>"
      ],
      "text/plain": [
       "Recsys training: model = ranking_factorization_recommender"
      ]
     },
     "metadata": {},
     "output_type": "display_data"
    },
    {
     "data": {
      "text/html": [
       "<pre>Recsys training: model = ranking_factorization_recommender</pre>"
      ],
      "text/plain": [
       "Recsys training: model = ranking_factorization_recommender"
      ]
     },
     "metadata": {},
     "output_type": "display_data"
    },
    {
     "data": {
      "text/html": [
       "<pre>Recsys training: model = ranking_factorization_recommender</pre>"
      ],
      "text/plain": [
       "Recsys training: model = ranking_factorization_recommender"
      ]
     },
     "metadata": {},
     "output_type": "display_data"
    },
    {
     "data": {
      "text/html": [
       "<pre>Recsys training: model = ranking_factorization_recommender</pre>"
      ],
      "text/plain": [
       "Recsys training: model = ranking_factorization_recommender"
      ]
     },
     "metadata": {},
     "output_type": "display_data"
    },
    {
     "data": {
      "text/html": [
       "<pre>Recsys training: model = ranking_factorization_recommender</pre>"
      ],
      "text/plain": [
       "Recsys training: model = ranking_factorization_recommender"
      ]
     },
     "metadata": {},
     "output_type": "display_data"
    },
    {
     "data": {
      "text/html": [
       "<pre>Recsys training: model = ranking_factorization_recommender</pre>"
      ],
      "text/plain": [
       "Recsys training: model = ranking_factorization_recommender"
      ]
     },
     "metadata": {},
     "output_type": "display_data"
    },
    {
     "data": {
      "text/html": [
       "<pre>Recsys training: model = ranking_factorization_recommender</pre>"
      ],
      "text/plain": [
       "Recsys training: model = ranking_factorization_recommender"
      ]
     },
     "metadata": {},
     "output_type": "display_data"
    },
    {
     "data": {
      "text/html": [
       "<pre>Recsys training: model = ranking_factorization_recommender</pre>"
      ],
      "text/plain": [
       "Recsys training: model = ranking_factorization_recommender"
      ]
     },
     "metadata": {},
     "output_type": "display_data"
    },
    {
     "data": {
      "text/html": [
       "<pre>Recsys training: model = ranking_factorization_recommender</pre>"
      ],
      "text/plain": [
       "Recsys training: model = ranking_factorization_recommender"
      ]
     },
     "metadata": {},
     "output_type": "display_data"
    },
    {
     "data": {
      "text/html": [
       "<pre>Recsys training: model = ranking_factorization_recommender</pre>"
      ],
      "text/plain": [
       "Recsys training: model = ranking_factorization_recommender"
      ]
     },
     "metadata": {},
     "output_type": "display_data"
    },
    {
     "data": {
      "text/html": [
       "<pre>Recsys training: model = ranking_factorization_recommender</pre>"
      ],
      "text/plain": [
       "Recsys training: model = ranking_factorization_recommender"
      ]
     },
     "metadata": {},
     "output_type": "display_data"
    },
    {
     "data": {
      "text/html": [
       "<pre>Recsys training: model = ranking_factorization_recommender</pre>"
      ],
      "text/plain": [
       "Recsys training: model = ranking_factorization_recommender"
      ]
     },
     "metadata": {},
     "output_type": "display_data"
    },
    {
     "data": {
      "text/html": [
       "<pre>Recsys training: model = ranking_factorization_recommender</pre>"
      ],
      "text/plain": [
       "Recsys training: model = ranking_factorization_recommender"
      ]
     },
     "metadata": {},
     "output_type": "display_data"
    },
    {
     "data": {
      "text/html": [
       "<pre>Recsys training: model = ranking_factorization_recommender</pre>"
      ],
      "text/plain": [
       "Recsys training: model = ranking_factorization_recommender"
      ]
     },
     "metadata": {},
     "output_type": "display_data"
    },
    {
     "data": {
      "text/html": [
       "<pre>Recsys training: model = ranking_factorization_recommender</pre>"
      ],
      "text/plain": [
       "Recsys training: model = ranking_factorization_recommender"
      ]
     },
     "metadata": {},
     "output_type": "display_data"
    },
    {
     "data": {
      "text/html": [
       "<pre>Recsys training: model = ranking_factorization_recommender</pre>"
      ],
      "text/plain": [
       "Recsys training: model = ranking_factorization_recommender"
      ]
     },
     "metadata": {},
     "output_type": "display_data"
    },
    {
     "data": {
      "text/html": [
       "<pre>Recsys training: model = ranking_factorization_recommender</pre>"
      ],
      "text/plain": [
       "Recsys training: model = ranking_factorization_recommender"
      ]
     },
     "metadata": {},
     "output_type": "display_data"
    },
    {
     "data": {
      "text/html": [
       "<pre>Recsys training: model = ranking_factorization_recommender</pre>"
      ],
      "text/plain": [
       "Recsys training: model = ranking_factorization_recommender"
      ]
     },
     "metadata": {},
     "output_type": "display_data"
    },
    {
     "data": {
      "text/html": [
       "<pre>Recsys training: model = ranking_factorization_recommender</pre>"
      ],
      "text/plain": [
       "Recsys training: model = ranking_factorization_recommender"
      ]
     },
     "metadata": {},
     "output_type": "display_data"
    },
    {
     "data": {
      "text/html": [
       "<pre>Recsys training: model = ranking_factorization_recommender</pre>"
      ],
      "text/plain": [
       "Recsys training: model = ranking_factorization_recommender"
      ]
     },
     "metadata": {},
     "output_type": "display_data"
    },
    {
     "data": {
      "text/html": [
       "<pre>Recsys training: model = ranking_factorization_recommender</pre>"
      ],
      "text/plain": [
       "Recsys training: model = ranking_factorization_recommender"
      ]
     },
     "metadata": {},
     "output_type": "display_data"
    },
    {
     "data": {
      "text/html": [
       "<pre>Recsys training: model = ranking_factorization_recommender</pre>"
      ],
      "text/plain": [
       "Recsys training: model = ranking_factorization_recommender"
      ]
     },
     "metadata": {},
     "output_type": "display_data"
    },
    {
     "data": {
      "text/html": [
       "<pre>Recsys training: model = ranking_factorization_recommender</pre>"
      ],
      "text/plain": [
       "Recsys training: model = ranking_factorization_recommender"
      ]
     },
     "metadata": {},
     "output_type": "display_data"
    },
    {
     "data": {
      "text/html": [
       "<pre>Recsys training: model = ranking_factorization_recommender</pre>"
      ],
      "text/plain": [
       "Recsys training: model = ranking_factorization_recommender"
      ]
     },
     "metadata": {},
     "output_type": "display_data"
    },
    {
     "data": {
      "text/html": [
       "<pre>Recsys training: model = ranking_factorization_recommender</pre>"
      ],
      "text/plain": [
       "Recsys training: model = ranking_factorization_recommender"
      ]
     },
     "metadata": {},
     "output_type": "display_data"
    },
    {
     "data": {
      "text/html": [
       "<pre>Recsys training: model = ranking_factorization_recommender</pre>"
      ],
      "text/plain": [
       "Recsys training: model = ranking_factorization_recommender"
      ]
     },
     "metadata": {},
     "output_type": "display_data"
    },
    {
     "data": {
      "text/html": [
       "<pre>Recsys training: model = ranking_factorization_recommender</pre>"
      ],
      "text/plain": [
       "Recsys training: model = ranking_factorization_recommender"
      ]
     },
     "metadata": {},
     "output_type": "display_data"
    },
    {
     "data": {
      "text/html": [
       "<pre>Recsys training: model = ranking_factorization_recommender</pre>"
      ],
      "text/plain": [
       "Recsys training: model = ranking_factorization_recommender"
      ]
     },
     "metadata": {},
     "output_type": "display_data"
    },
    {
     "data": {
      "text/html": [
       "<pre>Recsys training: model = ranking_factorization_recommender</pre>"
      ],
      "text/plain": [
       "Recsys training: model = ranking_factorization_recommender"
      ]
     },
     "metadata": {},
     "output_type": "display_data"
    },
    {
     "data": {
      "text/html": [
       "<pre>Recsys training: model = ranking_factorization_recommender</pre>"
      ],
      "text/plain": [
       "Recsys training: model = ranking_factorization_recommender"
      ]
     },
     "metadata": {},
     "output_type": "display_data"
    },
    {
     "data": {
      "text/html": [
       "<pre>Recsys training: model = ranking_factorization_recommender</pre>"
      ],
      "text/plain": [
       "Recsys training: model = ranking_factorization_recommender"
      ]
     },
     "metadata": {},
     "output_type": "display_data"
    },
    {
     "data": {
      "text/html": [
       "<pre>Recsys training: model = ranking_factorization_recommender</pre>"
      ],
      "text/plain": [
       "Recsys training: model = ranking_factorization_recommender"
      ]
     },
     "metadata": {},
     "output_type": "display_data"
    },
    {
     "data": {
      "text/html": [
       "<pre>Recsys training: model = ranking_factorization_recommender</pre>"
      ],
      "text/plain": [
       "Recsys training: model = ranking_factorization_recommender"
      ]
     },
     "metadata": {},
     "output_type": "display_data"
    },
    {
     "data": {
      "text/html": [
       "<pre>Recsys training: model = ranking_factorization_recommender</pre>"
      ],
      "text/plain": [
       "Recsys training: model = ranking_factorization_recommender"
      ]
     },
     "metadata": {},
     "output_type": "display_data"
    },
    {
     "data": {
      "text/html": [
       "<pre>Recsys training: model = ranking_factorization_recommender</pre>"
      ],
      "text/plain": [
       "Recsys training: model = ranking_factorization_recommender"
      ]
     },
     "metadata": {},
     "output_type": "display_data"
    },
    {
     "data": {
      "text/html": [
       "<pre>Recsys training: model = ranking_factorization_recommender</pre>"
      ],
      "text/plain": [
       "Recsys training: model = ranking_factorization_recommender"
      ]
     },
     "metadata": {},
     "output_type": "display_data"
    },
    {
     "data": {
      "text/html": [
       "<pre>Recsys training: model = ranking_factorization_recommender</pre>"
      ],
      "text/plain": [
       "Recsys training: model = ranking_factorization_recommender"
      ]
     },
     "metadata": {},
     "output_type": "display_data"
    },
    {
     "data": {
      "text/html": [
       "<pre>Recsys training: model = ranking_factorization_recommender</pre>"
      ],
      "text/plain": [
       "Recsys training: model = ranking_factorization_recommender"
      ]
     },
     "metadata": {},
     "output_type": "display_data"
    },
    {
     "data": {
      "text/html": [
       "<pre>Recsys training: model = ranking_factorization_recommender</pre>"
      ],
      "text/plain": [
       "Recsys training: model = ranking_factorization_recommender"
      ]
     },
     "metadata": {},
     "output_type": "display_data"
    },
    {
     "data": {
      "text/html": [
       "<pre>Recsys training: model = ranking_factorization_recommender</pre>"
      ],
      "text/plain": [
       "Recsys training: model = ranking_factorization_recommender"
      ]
     },
     "metadata": {},
     "output_type": "display_data"
    },
    {
     "data": {
      "text/html": [
       "<pre>Recsys training: model = ranking_factorization_recommender</pre>"
      ],
      "text/plain": [
       "Recsys training: model = ranking_factorization_recommender"
      ]
     },
     "metadata": {},
     "output_type": "display_data"
    },
    {
     "data": {
      "text/html": [
       "<pre>Recsys training: model = ranking_factorization_recommender</pre>"
      ],
      "text/plain": [
       "Recsys training: model = ranking_factorization_recommender"
      ]
     },
     "metadata": {},
     "output_type": "display_data"
    },
    {
     "data": {
      "text/html": [
       "<pre>Recsys training: model = ranking_factorization_recommender</pre>"
      ],
      "text/plain": [
       "Recsys training: model = ranking_factorization_recommender"
      ]
     },
     "metadata": {},
     "output_type": "display_data"
    },
    {
     "data": {
      "text/html": [
       "<pre>Recsys training: model = ranking_factorization_recommender</pre>"
      ],
      "text/plain": [
       "Recsys training: model = ranking_factorization_recommender"
      ]
     },
     "metadata": {},
     "output_type": "display_data"
    },
    {
     "data": {
      "text/html": [
       "<pre>Recsys training: model = ranking_factorization_recommender</pre>"
      ],
      "text/plain": [
       "Recsys training: model = ranking_factorization_recommender"
      ]
     },
     "metadata": {},
     "output_type": "display_data"
    },
    {
     "data": {
      "text/html": [
       "<pre>Recsys training: model = ranking_factorization_recommender</pre>"
      ],
      "text/plain": [
       "Recsys training: model = ranking_factorization_recommender"
      ]
     },
     "metadata": {},
     "output_type": "display_data"
    },
    {
     "data": {
      "text/html": [
       "<pre>Recsys training: model = ranking_factorization_recommender</pre>"
      ],
      "text/plain": [
       "Recsys training: model = ranking_factorization_recommender"
      ]
     },
     "metadata": {},
     "output_type": "display_data"
    },
    {
     "data": {
      "text/html": [
       "<pre>Recsys training: model = ranking_factorization_recommender</pre>"
      ],
      "text/plain": [
       "Recsys training: model = ranking_factorization_recommender"
      ]
     },
     "metadata": {},
     "output_type": "display_data"
    },
    {
     "data": {
      "text/html": [
       "<pre>Recsys training: model = ranking_factorization_recommender</pre>"
      ],
      "text/plain": [
       "Recsys training: model = ranking_factorization_recommender"
      ]
     },
     "metadata": {},
     "output_type": "display_data"
    },
    {
     "data": {
      "text/html": [
       "<pre>Recsys training: model = ranking_factorization_recommender</pre>"
      ],
      "text/plain": [
       "Recsys training: model = ranking_factorization_recommender"
      ]
     },
     "metadata": {},
     "output_type": "display_data"
    },
    {
     "data": {
      "text/html": [
       "<pre>Recsys training: model = ranking_factorization_recommender</pre>"
      ],
      "text/plain": [
       "Recsys training: model = ranking_factorization_recommender"
      ]
     },
     "metadata": {},
     "output_type": "display_data"
    },
    {
     "data": {
      "text/html": [
       "<pre>Recsys training: model = ranking_factorization_recommender</pre>"
      ],
      "text/plain": [
       "Recsys training: model = ranking_factorization_recommender"
      ]
     },
     "metadata": {},
     "output_type": "display_data"
    },
    {
     "data": {
      "text/html": [
       "<pre>Recsys training: model = ranking_factorization_recommender</pre>"
      ],
      "text/plain": [
       "Recsys training: model = ranking_factorization_recommender"
      ]
     },
     "metadata": {},
     "output_type": "display_data"
    },
    {
     "data": {
      "text/html": [
       "<pre>Recsys training: model = ranking_factorization_recommender</pre>"
      ],
      "text/plain": [
       "Recsys training: model = ranking_factorization_recommender"
      ]
     },
     "metadata": {},
     "output_type": "display_data"
    },
    {
     "data": {
      "text/html": [
       "<pre>Recsys training: model = ranking_factorization_recommender</pre>"
      ],
      "text/plain": [
       "Recsys training: model = ranking_factorization_recommender"
      ]
     },
     "metadata": {},
     "output_type": "display_data"
    },
    {
     "data": {
      "text/html": [
       "<pre>Recsys training: model = ranking_factorization_recommender</pre>"
      ],
      "text/plain": [
       "Recsys training: model = ranking_factorization_recommender"
      ]
     },
     "metadata": {},
     "output_type": "display_data"
    },
    {
     "data": {
      "text/html": [
       "<pre>Recsys training: model = ranking_factorization_recommender</pre>"
      ],
      "text/plain": [
       "Recsys training: model = ranking_factorization_recommender"
      ]
     },
     "metadata": {},
     "output_type": "display_data"
    },
    {
     "data": {
      "text/html": [
       "<pre>Recsys training: model = ranking_factorization_recommender</pre>"
      ],
      "text/plain": [
       "Recsys training: model = ranking_factorization_recommender"
      ]
     },
     "metadata": {},
     "output_type": "display_data"
    },
    {
     "data": {
      "text/html": [
       "<pre>Recsys training: model = ranking_factorization_recommender</pre>"
      ],
      "text/plain": [
       "Recsys training: model = ranking_factorization_recommender"
      ]
     },
     "metadata": {},
     "output_type": "display_data"
    },
    {
     "data": {
      "text/html": [
       "<pre>Recsys training: model = ranking_factorization_recommender</pre>"
      ],
      "text/plain": [
       "Recsys training: model = ranking_factorization_recommender"
      ]
     },
     "metadata": {},
     "output_type": "display_data"
    },
    {
     "data": {
      "text/html": [
       "<pre>Recsys training: model = ranking_factorization_recommender</pre>"
      ],
      "text/plain": [
       "Recsys training: model = ranking_factorization_recommender"
      ]
     },
     "metadata": {},
     "output_type": "display_data"
    },
    {
     "data": {
      "text/html": [
       "<pre>Recsys training: model = ranking_factorization_recommender</pre>"
      ],
      "text/plain": [
       "Recsys training: model = ranking_factorization_recommender"
      ]
     },
     "metadata": {},
     "output_type": "display_data"
    },
    {
     "data": {
      "text/html": [
       "<pre>Recsys training: model = ranking_factorization_recommender</pre>"
      ],
      "text/plain": [
       "Recsys training: model = ranking_factorization_recommender"
      ]
     },
     "metadata": {},
     "output_type": "display_data"
    },
    {
     "data": {
      "text/html": [
       "<pre>Recsys training: model = ranking_factorization_recommender</pre>"
      ],
      "text/plain": [
       "Recsys training: model = ranking_factorization_recommender"
      ]
     },
     "metadata": {},
     "output_type": "display_data"
    },
    {
     "data": {
      "text/html": [
       "<pre>Recsys training: model = ranking_factorization_recommender</pre>"
      ],
      "text/plain": [
       "Recsys training: model = ranking_factorization_recommender"
      ]
     },
     "metadata": {},
     "output_type": "display_data"
    },
    {
     "data": {
      "text/html": [
       "<pre>Recsys training: model = ranking_factorization_recommender</pre>"
      ],
      "text/plain": [
       "Recsys training: model = ranking_factorization_recommender"
      ]
     },
     "metadata": {},
     "output_type": "display_data"
    },
    {
     "data": {
      "text/html": [
       "<pre>Recsys training: model = ranking_factorization_recommender</pre>"
      ],
      "text/plain": [
       "Recsys training: model = ranking_factorization_recommender"
      ]
     },
     "metadata": {},
     "output_type": "display_data"
    },
    {
     "data": {
      "text/html": [
       "<pre>Recsys training: model = ranking_factorization_recommender</pre>"
      ],
      "text/plain": [
       "Recsys training: model = ranking_factorization_recommender"
      ]
     },
     "metadata": {},
     "output_type": "display_data"
    },
    {
     "data": {
      "text/html": [
       "<pre>Recsys training: model = ranking_factorization_recommender</pre>"
      ],
      "text/plain": [
       "Recsys training: model = ranking_factorization_recommender"
      ]
     },
     "metadata": {},
     "output_type": "display_data"
    },
    {
     "data": {
      "text/html": [
       "<pre>Recsys training: model = ranking_factorization_recommender</pre>"
      ],
      "text/plain": [
       "Recsys training: model = ranking_factorization_recommender"
      ]
     },
     "metadata": {},
     "output_type": "display_data"
    },
    {
     "data": {
      "text/html": [
       "<pre>Recsys training: model = ranking_factorization_recommender</pre>"
      ],
      "text/plain": [
       "Recsys training: model = ranking_factorization_recommender"
      ]
     },
     "metadata": {},
     "output_type": "display_data"
    },
    {
     "data": {
      "text/html": [
       "<pre>Recsys training: model = ranking_factorization_recommender</pre>"
      ],
      "text/plain": [
       "Recsys training: model = ranking_factorization_recommender"
      ]
     },
     "metadata": {},
     "output_type": "display_data"
    },
    {
     "data": {
      "text/html": [
       "<pre>Recsys training: model = ranking_factorization_recommender</pre>"
      ],
      "text/plain": [
       "Recsys training: model = ranking_factorization_recommender"
      ]
     },
     "metadata": {},
     "output_type": "display_data"
    },
    {
     "data": {
      "text/html": [
       "<pre>Recsys training: model = ranking_factorization_recommender</pre>"
      ],
      "text/plain": [
       "Recsys training: model = ranking_factorization_recommender"
      ]
     },
     "metadata": {},
     "output_type": "display_data"
    },
    {
     "data": {
      "text/html": [
       "<pre>Recsys training: model = ranking_factorization_recommender</pre>"
      ],
      "text/plain": [
       "Recsys training: model = ranking_factorization_recommender"
      ]
     },
     "metadata": {},
     "output_type": "display_data"
    },
    {
     "data": {
      "text/html": [
       "<pre>Recsys training: model = ranking_factorization_recommender</pre>"
      ],
      "text/plain": [
       "Recsys training: model = ranking_factorization_recommender"
      ]
     },
     "metadata": {},
     "output_type": "display_data"
    },
    {
     "data": {
      "text/html": [
       "<pre>Recsys training: model = ranking_factorization_recommender</pre>"
      ],
      "text/plain": [
       "Recsys training: model = ranking_factorization_recommender"
      ]
     },
     "metadata": {},
     "output_type": "display_data"
    },
    {
     "name": "stdout",
     "output_type": "stream",
     "text": [
      "\n"
     ]
    }
   ],
   "source": [
    "metrics = 'HR MRR COV'.split()\n",
    "ranks = [1, 5, 10, 15, 20, 30, 50, 75, 100, 125, 150, 200, 300, 500, 750, 1000, 1500, 2000, 3200]\n",
    "\n",
    "fm_cv_results = rank_cv_experiment([fm], data_model, metrics, ranks=ranks, verbose=False)"
   ]
  },
  {
   "cell_type": "code",
   "execution_count": 296,
   "metadata": {
    "ExecuteTime": {
     "end_time": "2017-09-04T03:00:12.037340Z",
     "start_time": "2017-09-04T03:00:11.916354Z"
    },
    "collapsed": true
   },
   "outputs": [],
   "source": [
    "fm_rank_cv_results = get_results_dataframe(fm_cv_results, params=ranks, names='rank')"
   ]
  },
  {
   "cell_type": "code",
   "execution_count": 297,
   "metadata": {
    "ExecuteTime": {
     "end_time": "2017-09-04T03:00:12.045384Z",
     "start_time": "2017-09-04T03:00:12.039665Z"
    },
    "collapsed": true
   },
   "outputs": [],
   "source": [
    "fm_rank_cv_results.to_csv('Standard_FM_CV_results_BX.csv')"
   ]
  },
  {
   "cell_type": "code",
   "execution_count": null,
   "metadata": {
    "collapsed": true
   },
   "outputs": [],
   "source": []
  },
  {
   "cell_type": "code",
   "execution_count": 306,
   "metadata": {
    "ExecuteTime": {
     "end_time": "2017-09-04T05:12:01.004147Z",
     "start_time": "2017-09-04T05:11:59.750308Z"
    }
   },
   "outputs": [
    {
     "data": {
      "text/plain": [
       "<matplotlib.legend.Legend at 0x7f7a30e375d0>"
      ]
     },
     "execution_count": 306,
     "metadata": {},
     "output_type": "execute_result"
    },
    {
     "data": {
      "image/png": "[encoded data removed]",
      "text/plain": [
       "<matplotlib.figure.Figure at 0x7f7aac159cd0>"
      ]
     },
     "metadata": {
      "image/png": {
       "height": 265,
       "width": 386
      }
     },
     "output_type": "display_data"
    }
   ],
   "source": [
    "metric = 'HR'\n",
    "ax = rank_cv_results.xs(metric, 1, 1).mean(level='rank').plot(logx=True)\n",
    "\n",
    "fm_rank_cv_results.xs(metric, 1, 1).mean(level=1).plot(ax=ax, label='FM')\n",
    "\n",
    "linestyles = {'CB': '--', 'RND': ':', 'MP': ':'}\n",
    "colors = {'CB': '', 'RND': '', 'MP': ''}\n",
    "\n",
    "for col, data in base_cv_results.xs(metric, 1, 1).mean(level='rank').iteritems():\n",
    "    ax.hlines(y=data, xmin=1, xmax=3200, label=col, linestyles=linestyles[col])\n",
    "ax.legend()"
   ]
  },
  {
   "cell_type": "code",
   "execution_count": 305,
   "metadata": {
    "ExecuteTime": {
     "end_time": "2017-09-04T05:11:56.421167Z",
     "start_time": "2017-09-04T05:11:55.163626Z"
    }
   },
   "outputs": [
    {
     "data": {
      "text/plain": [
       "<matplotlib.legend.Legend at 0x7f7a79b2ebd0>"
      ]
     },
     "execution_count": 305,
     "metadata": {},
     "output_type": "execute_result"
    },
    {
     "data": {
      "image/png": "[encoded data removed]",
      "text/plain": [
       "<matplotlib.figure.Figure at 0x7f7af9694b90>"
      ]
     },
     "metadata": {
      "image/png": {
       "height": 265,
       "width": 386
      }
     },
     "output_type": "display_data"
    }
   ],
   "source": [
    "metric = 'MRR'\n",
    "ax = rank_cv_results.xs(metric, 1, 1).mean(level='rank').plot(logx=True)\n",
    "\n",
    "fm_rank_cv_results.xs(metric, 1, 1).mean(level=1).plot(ax=ax, label='FM')\n",
    "\n",
    "linestyles = {'CB': '--', 'RND': ':', 'MP': ':'}\n",
    "colors = {'CB': '', 'RND': '', 'MP': ''}\n",
    "\n",
    "for col, data in base_cv_results.xs(metric, 1, 1).mean(level='rank').iteritems():\n",
    "    ax.hlines(y=data, xmin=1, xmax=3200, label=col, linestyles=linestyles[col])\n",
    "ax.legend()"
   ]
  },
  {
   "cell_type": "code",
   "execution_count": 386,
   "metadata": {
    "ExecuteTime": {
     "end_time": "2017-09-04T15:09:50.704042Z",
     "start_time": "2017-09-04T15:09:50.690667Z"
    }
   },
   "outputs": [
    {
     "data": {
      "text/plain": [
       "rank\n",
       "2000    0.011359\n",
       "Name: (PureSVD, MRR), dtype: float64"
      ]
     },
     "execution_count": 386,
     "metadata": {},
     "output_type": "execute_result"
    }
   ],
   "source": [
    "rank_cv_results.loc[:, ('PureSVD', 'MRR')].mean(level='rank').loc[lambda x: x == x.max()]"
   ]
  },
  {
   "cell_type": "code",
   "execution_count": 387,
   "metadata": {
    "ExecuteTime": {
     "end_time": "2017-09-04T15:10:13.070238Z",
     "start_time": "2017-09-04T15:10:13.053997Z"
    }
   },
   "outputs": [
    {
     "data": {
      "text/plain": [
       "rank\n",
       "100    0.011914\n",
       "Name: (FM, MRR), dtype: float64"
      ]
     },
     "execution_count": 387,
     "metadata": {},
     "output_type": "execute_result"
    }
   ],
   "source": [
    "fm_rank_cv_results.loc[:, ('FM', 'MRR')].mean(level='rank').loc[lambda x: x == x.max()]"
   ]
  },
  {
   "cell_type": "markdown",
   "metadata": {},
   "source": [
    "# Top-N recommendtions"
   ]
  },
  {
   "cell_type": "code",
   "execution_count": 309,
   "metadata": {
    "ExecuteTime": {
     "end_time": "2017-09-04T06:06:07.499858Z",
     "start_time": "2017-09-04T06:06:07.472115Z"
    },
    "collapsed": true
   },
   "outputs": [],
   "source": [
    "def topk_evaluator(test_data, key, target):\n",
    "    def eval_func(model, metrics):\n",
    "        scores = {}\n",
    "        \n",
    "        topk = model.topk\n",
    "        recommendations = model.recommendations\n",
    "        assert recommendations.shape[-1] >= topk\n",
    "        \n",
    "        hits = evaluate_hits(test_data, key, target, recommendations[..., :topk])\n",
    "        if 'HR' in metrics:\n",
    "            # calculate hit rate\n",
    "            hit_rate = hits.getnnz(axis=1).mean()\n",
    "            scores['HR'] = hit_rate\n",
    "        if 'MRR' in metrics:\n",
    "            # calculate hit reciprocal rank\n",
    "            hits.data = 1. / hits.data\n",
    "            scores['MRR'] = hits.max(axis=1).mean()\n",
    "        if 'COV' in metrics:\n",
    "            # assortment coverage\n",
    "            scores['COV'] = np.unique(model.recommendations).size\n",
    "        return scores\n",
    "    return eval_func\n",
    "\n",
    "def set_models_topk(models, topk):\n",
    "    for model in models:\n",
    "        setattr(model, 'topk', topk)\n",
    "\n",
    "def topk_evaluate_models(models, eval_func, metrics, topk):\n",
    "    set_models_topk(models, topk)\n",
    "    return evaluate_models(models, eval_func, metrics)"
   ]
  },
  {
   "cell_type": "code",
   "execution_count": 310,
   "metadata": {
    "ExecuteTime": {
     "end_time": "2017-09-04T06:06:23.343978Z",
     "start_time": "2017-09-04T06:06:23.316645Z"
    },
    "collapsed": true
   },
   "outputs": [],
   "source": [
    "def topk_cv_experiment(models, data_model, metrics, topk_list=[10], models_configuration=None, no_attr='raise', verbose=False, folds=None):\n",
    "    cv_results = defaultdict(lambda: defaultdict(dict))\n",
    "    folds = folds or range(1, int(1 / data_model.test_ratio)+1)\n",
    "    \n",
    "    topk_list = list(reversed(sorted(topk_list))) # start from max value, avoids rebuilding models\n",
    "    data_model.verbose = verbose\n",
    "    \n",
    "    for fold in tqdm_notebook(folds, desc='fold'):\n",
    "        data_model.test_fold = fold\n",
    "        data_model.prepare()\n",
    "        \n",
    "        eval_func = topk_evaluator(data_model.test.evalset, 'userid', 'isbn')\n",
    "        \n",
    "        set_models_topk(models, max(topk_list))\n",
    "        build_models(models, config=models_configuration, verbose=verbose)\n",
    "                \n",
    "        for topk in topk_list:\n",
    "            scores = topk_evaluate_models(models, eval_func, metrics, topk)            \n",
    "            cv_results[fold][topk] = scores\n",
    "\n",
    "    return cv_results"
   ]
  },
  {
   "cell_type": "code",
   "execution_count": 331,
   "metadata": {
    "ExecuteTime": {
     "end_time": "2017-09-04T06:24:53.509390Z",
     "start_time": "2017-09-04T06:24:53.460840Z"
    },
    "collapsed": true
   },
   "outputs": [],
   "source": [
    "psvd.rank = 2000\n",
    "fm.rank = 100\n",
    "\n",
    "hsvd = [hybrid_svd for hybrid_svd in hybrids if '0.5' in hybrid_svd.method][0]\n",
    "hsvd.rank = 3200"
   ]
  },
  {
   "cell_type": "code",
   "execution_count": 332,
   "metadata": {
    "ExecuteTime": {
     "end_time": "2017-09-04T06:24:55.010571Z",
     "start_time": "2017-09-04T06:24:54.999066Z"
    }
   },
   "outputs": [
    {
     "name": "stdout",
     "output_type": "stream",
     "text": [
      "MP RND CB PureSVD FM HybridSVD ($\\alpha=0.5$)\n"
     ]
    }
   ],
   "source": [
    "topk_models = baselines + [psvd, fm, hsvd]\n",
    "\n",
    "for model in topk_models:\n",
    "    print model.method,"
   ]
  },
  {
   "cell_type": "code",
   "execution_count": null,
   "metadata": {
    "ExecuteTime": {
     "start_time": "2017-09-04T03:25:22.856Z"
    }
   },
   "outputs": [
    {
     "data": {
      "application/vnd.jupyter.widget-view+json": {
       "model_id": "4b63d9e98a2a4e4284f8fde95a40e9f1",
       "version_major": 2,
       "version_minor": 0
      },
      "text/plain": [
       "A Jupyter Widget"
      ]
     },
     "metadata": {},
     "output_type": "display_data"
    },
    {
     "data": {
      "text/html": [
       "<pre>Recsys training: model = ranking_factorization_recommender</pre>"
      ],
      "text/plain": [
       "Recsys training: model = ranking_factorization_recommender"
      ]
     },
     "metadata": {},
     "output_type": "display_data"
    },
    {
     "data": {
      "text/html": [
       "<pre>Recsys training: model = ranking_factorization_recommender</pre>"
      ],
      "text/plain": [
       "Recsys training: model = ranking_factorization_recommender"
      ]
     },
     "metadata": {},
     "output_type": "display_data"
    },
    {
     "data": {
      "text/html": [
       "<pre>Recsys training: model = ranking_factorization_recommender</pre>"
      ],
      "text/plain": [
       "Recsys training: model = ranking_factorization_recommender"
      ]
     },
     "metadata": {},
     "output_type": "display_data"
    },
    {
     "data": {
      "text/html": [
       "<pre>Recsys training: model = ranking_factorization_recommender</pre>"
      ],
      "text/plain": [
       "Recsys training: model = ranking_factorization_recommender"
      ]
     },
     "metadata": {},
     "output_type": "display_data"
    },
    {
     "name": "stdout",
     "output_type": "stream",
     "text": [
      "\n"
     ]
    }
   ],
   "source": [
    "topk_list = [1, 3, 10, 20, 30]\n",
    "\n",
    "topk_cv_results = topk_cv_experiment(topk_models, data_model, metrics, topk_list=topk_list, no_attr='raise', verbose=False)"
   ]
  },
  {
   "cell_type": "code",
   "execution_count": null,
   "metadata": {
    "ExecuteTime": {
     "start_time": "2017-09-04T03:25:32.680Z"
    },
    "collapsed": true
   },
   "outputs": [],
   "source": [
    "topk_cv_results_df = get_results_dataframe(topk_cv_results, params=topk_list, names='topk')"
   ]
  },
  {
   "cell_type": "code",
   "execution_count": 355,
   "metadata": {
    "ExecuteTime": {
     "end_time": "2017-09-04T11:30:25.642167Z",
     "start_time": "2017-09-04T11:30:25.623959Z"
    },
    "collapsed": true
   },
   "outputs": [],
   "source": [
    "topk_cv_results_df.to_csv('Standard_TopN_CV_results_BX.csv')"
   ]
  },
  {
   "cell_type": "code",
   "execution_count": 354,
   "metadata": {
    "ExecuteTime": {
     "end_time": "2017-09-04T11:22:43.462161Z",
     "start_time": "2017-09-04T11:22:42.711595Z"
    }
   },
   "outputs": [
    {
     "data": {
      "text/plain": [
       "<matplotlib.axes._subplots.AxesSubplot at 0x7f7a76490590>"
      ]
     },
     "execution_count": 354,
     "metadata": {},
     "output_type": "execute_result"
    },
    {
     "data": {
      "image/png": "[encoded data removed]",
      "text/plain": [
       "<matplotlib.figure.Figure at 0x7f7a7644bdd0>"
      ]
     },
     "metadata": {
      "image/png": {
       "height": 268,
       "width": 392
      }
     },
     "output_type": "display_data"
    }
   ],
   "source": [
    "topk_cv_results_df.xs('MRR', 1, 1).mean(level='topk').plot.bar(yerr=sample_ci(topk_cv_results_df.xs('MRR', 1, 1), level='topk'), width=0.9, logy=False, ylim=(0, 0.02))"
   ]
  },
  {
   "cell_type": "code",
   "execution_count": null,
   "metadata": {},
   "outputs": [],
   "source": []
  },
  {
   "cell_type": "code",
   "execution_count": 474,
   "metadata": {
    "ExecuteTime": {
     "end_time": "2017-09-04T17:28:42.693329Z",
     "start_time": "2017-09-04T17:28:41.748181Z"
    }
   },
   "outputs": [
    {
     "data": {
      "text/plain": [
       "<matplotlib.axes._subplots.AxesSubplot at 0x7f7a6e074f50>"
      ]
     },
     "execution_count": 474,
     "metadata": {},
     "output_type": "execute_result"
    },
    {
     "data": {
      "image/png": "[encoded data removed]",
      "text/plain": [
       "<matplotlib.figure.Figure at 0x7f7a6e0c7290>"
      ]
     },
     "metadata": {
      "image/png": {
       "height": 252,
       "width": 392
      }
     },
     "output_type": "display_data"
    }
   ],
   "source": [
    "topk_cv_results_df.xs('MRR', 1, 1).plot.box(by='rank')\n",
    "# topk_cv_results_df.xs('MRR', 1, 1).xs(20, 0, 1).plot.box(ax=ax, positions=[2, 4, 6, 8, 10, 12])\n",
    "# ax.set_xlim(-1, 13)"
   ]
  },
  {
   "cell_type": "code",
   "execution_count": 401,
   "metadata": {
    "ExecuteTime": {
     "end_time": "2017-09-04T15:39:26.236388Z",
     "start_time": "2017-09-04T15:39:26.196850Z"
    }
   },
   "outputs": [
    {
     "data": {
      "text/html": [
       "<div>\n",
       "<style>\n",
       "    .dataframe thead tr:only-child th {\n",
       "        text-align: right;\n",
       "    }\n",
       "\n",
       "    .dataframe thead th {\n",
       "        text-align: left;\n",
       "    }\n",
       "\n",
       "    .dataframe tbody tr th {\n",
       "        vertical-align: top;\n",
       "    }\n",
       "</style>\n",
       "<table border=\"1\" class=\"dataframe\">\n",
       "  <thead>\n",
       "    <tr style=\"text-align: right;\">\n",
       "      <th>fold</th>\n",
       "      <th>1</th>\n",
       "      <th>2</th>\n",
       "      <th>3</th>\n",
       "      <th>4</th>\n",
       "      <th>5</th>\n",
       "    </tr>\n",
       "  </thead>\n",
       "  <tbody>\n",
       "    <tr>\n",
       "      <th>CB</th>\n",
       "      <td>0.005633</td>\n",
       "      <td>0.005526</td>\n",
       "      <td>0.005024</td>\n",
       "      <td>0.005597</td>\n",
       "      <td>0.004903</td>\n",
       "    </tr>\n",
       "    <tr>\n",
       "      <th>FM</th>\n",
       "      <td>0.011805</td>\n",
       "      <td>0.010113</td>\n",
       "      <td>0.014015</td>\n",
       "      <td>0.012067</td>\n",
       "      <td>0.011002</td>\n",
       "    </tr>\n",
       "    <tr>\n",
       "      <th>HybridSVD ($\\alpha=0.5$)</th>\n",
       "      <td>0.017447</td>\n",
       "      <td>0.012505</td>\n",
       "      <td>0.013826</td>\n",
       "      <td>0.015068</td>\n",
       "      <td>0.017257</td>\n",
       "    </tr>\n",
       "    <tr>\n",
       "      <th>MP</th>\n",
       "      <td>0.011501</td>\n",
       "      <td>0.009980</td>\n",
       "      <td>0.012091</td>\n",
       "      <td>0.010716</td>\n",
       "      <td>0.007723</td>\n",
       "    </tr>\n",
       "    <tr>\n",
       "      <th>PureSVD</th>\n",
       "      <td>0.012249</td>\n",
       "      <td>0.011234</td>\n",
       "      <td>0.011394</td>\n",
       "      <td>0.011024</td>\n",
       "      <td>0.010867</td>\n",
       "    </tr>\n",
       "    <tr>\n",
       "      <th>RND</th>\n",
       "      <td>0.000000</td>\n",
       "      <td>0.000032</td>\n",
       "      <td>0.000000</td>\n",
       "      <td>0.000000</td>\n",
       "      <td>0.000022</td>\n",
       "    </tr>\n",
       "  </tbody>\n",
       "</table>\n",
       "</div>"
      ],
      "text/plain": [
       "fold                             1         2         3         4         5\n",
       "CB                        0.005633  0.005526  0.005024  0.005597  0.004903\n",
       "FM                        0.011805  0.010113  0.014015  0.012067  0.011002\n",
       "HybridSVD ($\\alpha=0.5$)  0.017447  0.012505  0.013826  0.015068  0.017257\n",
       "MP                        0.011501  0.009980  0.012091  0.010716  0.007723\n",
       "PureSVD                   0.012249  0.011234  0.011394  0.011024  0.010867\n",
       "RND                       0.000000  0.000032  0.000000  0.000000  0.000022"
      ]
     },
     "execution_count": 401,
     "metadata": {},
     "output_type": "execute_result"
    }
   ],
   "source": [
    "topk_cv_results_df.xs('MRR', 1, 1).xs(10, 0, 1).T#.plot.box(return_type='axes')"
   ]
  },
  {
   "cell_type": "code",
   "execution_count": 579,
   "metadata": {
    "ExecuteTime": {
     "end_time": "2017-09-04T18:15:15.601152Z",
     "start_time": "2017-09-04T18:15:14.593614Z"
    }
   },
   "outputs": [
    {
     "data": {
      "text/plain": [
       "(-1, 5)"
      ]
     },
     "execution_count": 579,
     "metadata": {},
     "output_type": "execute_result"
    },
    {
     "data": {
      "image/png": "[encoded data removed]",
      "text/plain": [
       "<matplotlib.figure.Figure at 0x7f7a6858f5d0>"
      ]
     },
     "metadata": {
      "image/png": {
       "height": 283,
       "width": 397
      }
     },
     "output_type": "display_data"
    }
   ],
   "source": [
    "ax = topk_cv_results_df.xs(('MRR'), 1, 1)[['CB']].boxplot(by='topk', grid=False, positions=np.arange(len(topk_list))+0.2, widths=0.3)#, patch_artist=True, manage_xticks=False)\n",
    "topk_cv_results_df.xs(('MRR'), 1, 1)[['FM']].boxplot(by='topk', grid=False, positions=np.arange(len(topk_list))-0.2, widths=0.3, ax=ax)#, patch_artist=True, manage_xticks=False)\n",
    "ax.set_xlim(-1, 5)"
   ]
  },
  {
   "cell_type": "code",
   "execution_count": 526,
   "metadata": {
    "ExecuteTime": {
     "end_time": "2017-09-04T17:49:16.749347Z",
     "start_time": "2017-09-04T17:49:15.826448Z"
    }
   },
   "outputs": [
    {
     "data": {
      "text/plain": [
       "<matplotlib.axes._subplots.AxesSubplot at 0x7f7a6b5bd0d0>"
      ]
     },
     "execution_count": 526,
     "metadata": {},
     "output_type": "execute_result"
    },
    {
     "data": {
      "image/png": "[encoded data removed]",
      "text/plain": [
       "<matplotlib.figure.Figure at 0x7f7a6a709890>"
      ]
     },
     "metadata": {
      "image/png": {
       "height": 250,
       "width": 386
      }
     },
     "output_type": "display_data"
    }
   ],
   "source": [
    "topk_cv_results_df.xs(('MRR'), 1, 1)[['CB']].groupby('topk').boxplot(subplots=False, positions=[1, 2, 3, 4, 5])"
   ]
  },
  {
   "cell_type": "code",
   "execution_count": null,
   "metadata": {
    "collapsed": true
   },
   "outputs": [],
   "source": []
  }
 ],
 "metadata": {
  "kernelspec": {
   "display_name": "Python 2",
   "language": "python",
   "name": "python2"
  },
  "language_info": {
   "codemirror_mode": {
    "name": "ipython",
    "version": 2
   },
   "file_extension": ".py",
   "mimetype": "text/x-python",
   "name": "python",
   "nbconvert_exporter": "python",
   "pygments_lexer": "ipython2",
   "version": "2.7.14"
  },
  "toc": {
   "colors": {
    "hover_highlight": "#DAA520",
    "navigate_num": "#000000",
    "navigate_text": "#333333",
    "running_highlight": "#FF0000",
    "selected_highlight": "#FFD700",
    "sidebar_border": "#EEEEEE",
    "wrapper_background": "#FFFFFF"
   },
   "moveMenuLeft": true,
   "nav_menu": {
    "height": "12px",
    "width": "252px"
   },
   "navigate_menu": true,
   "number_sections": true,
   "sideBar": true,
   "threshold": 4,
   "toc_cell": false,
   "toc_section_display": "block",
   "toc_window_display": false,
   "widenNotebook": false
  }
 },
 "nbformat": 4,
 "nbformat_minor": 1
}
