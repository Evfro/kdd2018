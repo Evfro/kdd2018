{
 "cells": [
  {
   "cell_type": "code",
   "execution_count": 2,
   "metadata": {
    "ExecuteTime": {
     "end_time": "2018-02-11T22:36:13.750607Z",
     "start_time": "2018-02-11T22:36:08.452594Z"
    },
    "code_folding": []
   },
   "outputs": [],
   "source": [
    "#imports\n",
    "from contextlib import contextmanager\n",
    "from collections import namedtuple, defaultdict\n",
    "\n",
    "import pandas as pd\n",
    "import numpy as np\n",
    "import scipy as sp\n",
    "\n",
    "from polara.recommender.models import RecommenderModel, SVDModel, PopularityModel, RandomModel\n",
    "from polara.recommender.data import RecommenderData\n",
    "from polara.recommender.coldstart.data import ItemColdStartData\n",
    "\n",
    "from polara.tools.printing import print_frames, suppress_stdout\n",
    "from polara.lib.similarity import combine_similarity_data\n",
    "from tools import get_bx_data\n",
    "\n",
    "from evaluation import evaluate_hits\n",
    "from models_sparse import FeatureSimilarityMixin\n",
    "from models_sparse import HybridSVD, HybridSVDColdStart, ColdSimilarityMixin\n",
    "\n",
    "from tqdm import tqdm_notebook\n",
    "\n",
    "%matplotlib inline\n",
    "%config InlineBackend.figure_format = 'retina'"
   ]
  },
  {
   "cell_type": "code",
   "execution_count": 3,
   "metadata": {
    "ExecuteTime": {
     "end_time": "2018-02-11T22:36:14.745581Z",
     "start_time": "2018-02-11T22:36:14.741892Z"
    }
   },
   "outputs": [],
   "source": [
    "class ColdStartSimilarityDataModel(ColdSimilarityMixin, FeatureSimilarityMixin, ItemColdStartData): pass"
   ]
  },
  {
   "cell_type": "code",
   "execution_count": 4,
   "metadata": {
    "ExecuteTime": {
     "end_time": "2018-02-11T22:36:16.402296Z",
     "start_time": "2018-02-11T22:36:16.362600Z"
    },
    "code_folding": []
   },
   "outputs": [],
   "source": [
    "class UserPopularityColdStart(RecommenderModel):\n",
    "    def __init__(self, *args, **kwargs):\n",
    "        super(UserPopularityColdStart, self).__init__(*args, **kwargs)\n",
    "        self.method = 'MP'\n",
    "        self.filter_seen = False # there are no seen items in cold-start recommendations\n",
    "\n",
    "    def build(self):\n",
    "        userid = self.data.fields.userid\n",
    "        user_activity = self.data.training[userid].value_counts(sort=False)\n",
    "        self.user_scores = user_activity.sort_values(ascending=False)\n",
    "\n",
    "    def get_recommendations(self):\n",
    "        topk = self.topk\n",
    "        shape = (self.data.index.itemid.cold_start.shape[0], topk)\n",
    "        top_users = self.user_scores.index[:topk].values\n",
    "        top_users_array = np.lib.stride_tricks.as_strided(top_users, shape,\n",
    "                                                          (0, top_users.itemsize))\n",
    "        return top_users_array\n",
    "\n",
    "class UserRandomColdStart(RecommenderModel):\n",
    "    def __init__(self, *args, **kwargs):\n",
    "        seed = kwargs.pop('seed', None)\n",
    "        super(UserRandomColdStart, self).__init__(*args, **kwargs)\n",
    "        self.method = 'RND'\n",
    "        self.filter_seen = False # there are no seen items in cold-start recommendations\n",
    "\n",
    "    def build(self):\n",
    "        #repr_users = self.data.representative_users\n",
    "        #if repr_users is None:\n",
    "        #    repr_users = self.data.index.userid.training\n",
    "        #self.repr_users = repr_users.new.values\n",
    "        self.repr_users = self.data.index.userid.training.new.values\n",
    "\n",
    "    def get_recommendations(self):\n",
    "        repr_users = self.repr_users\n",
    "        n_cold_items = self.data.index.itemid.cold_start.shape[0]\n",
    "        shape = (n_cold_items, len(repr_users))\n",
    "        users_matrix = np.lib.stride_tricks.as_strided(repr_users, shape,\n",
    "                                                       (0, repr_users.itemsize))\n",
    "        random_state = np.random.RandomState(seed) if seed else np.random\n",
    "        random_users = np.apply_along_axis(random_state.choice, 1, users_matrix, self.topk, replace=False)\n",
    "        return random_users"
   ]
  },
  {
   "cell_type": "code",
   "execution_count": 5,
   "metadata": {
    "ExecuteTime": {
     "end_time": "2018-02-11T22:36:18.237696Z",
     "start_time": "2018-02-11T22:36:18.225342Z"
    },
    "code_folding": []
   },
   "outputs": [],
   "source": [
    "class ContentBasedColdStart(RecommenderModel):\n",
    "    def __init__(self, *args, **kwargs):\n",
    "        super(ContentBasedColdStart, self).__init__(*args, **kwargs)\n",
    "        self.method = 'CB'\n",
    "\n",
    "    def build(self):\n",
    "        pass\n",
    "\n",
    "    def get_recommendations(self):\n",
    "        item_similarity_scores = self.data.cold_items_similarity\n",
    "        \n",
    "        user_item_matrix = self.get_training_matrix()\n",
    "        user_item_matrix.data = np.ones_like(user_item_matrix.data)\n",
    "        \n",
    "        scores = item_similarity_scores.dot(user_item_matrix.T).tocsr()\n",
    "        top_similar_users = self.get_topk_elements(scores).astype(np.intp)\n",
    "        return top_similar_users"
   ]
  },
  {
   "cell_type": "code",
   "execution_count": 6,
   "metadata": {
    "ExecuteTime": {
     "end_time": "2018-02-11T22:36:18.647126Z",
     "start_time": "2018-02-11T22:36:18.623036Z"
    },
    "code_folding": []
   },
   "outputs": [],
   "source": [
    "class PureSVDColdStart(SVDModel):\n",
    "    def __init__(self, *args, **kwargs):\n",
    "        super(PureSVDColdStart, self).__init__(*args, **kwargs)\n",
    "        self.method = 'PureSVD+CB'\n",
    "        self.filter_seen = False # there are no seen items in cold-start recommendations\n",
    "        self.p = None\n",
    "        \n",
    "    def build(self, *args, **kwargs):\n",
    "        super(PureSVDColdStart, self).build(*args, return_factors=True, **kwargs)\n",
    "\n",
    "    def get_recommendations(self):\n",
    "        userid = self.data.fields.userid\n",
    "        itemid = self.data.fields.itemid\n",
    "                \n",
    "        user_factors = self.factors[userid]        \n",
    "        item_factors = self.factors[itemid]\n",
    "        s1 = np.reciprocal(self.factors['singular_values'])\n",
    "                \n",
    "        similarity_matrix = self.data.cold_items_similarity\n",
    "        cold_factors = similarity_matrix.dot(item_factors * s1[None, :])\n",
    "        cold_factors /= np.linalg.norm(cold_factors, axis=0)[None, :]\n",
    "        user_factors = user_factors / np.linalg.norm(user_factors, axis=0)[None, :]\n",
    "        \n",
    "        # computes cosine similarity between fake \"cold\" users and representative users\n",
    "        scores = cold_factors.dot(user_factors.T)\n",
    "        top_similar_users = self.get_topk_elements(scores)\n",
    "        return top_similar_users"
   ]
  },
  {
   "cell_type": "code",
   "execution_count": 7,
   "metadata": {
    "ExecuteTime": {
     "end_time": "2018-02-11T23:09:43.540867Z",
     "start_time": "2018-02-11T23:09:43.525715Z"
    },
    "code_folding": []
   },
   "outputs": [],
   "source": [
    "class PureSVDColdStart2(PureSVDColdStart):\n",
    "    def __init__(self, *args, **kwargs):\n",
    "        super(PureSVDColdStart, self).__init__(*args, **kwargs)\n",
    "        self.method = 'PureSVD+CB2'\n",
    "\n",
    "    def get_recommendations(self):\n",
    "        userid = self.data.fields.userid\n",
    "                \n",
    "        user_factors = self.factors[userid]        \n",
    "        s1 = np.reciprocal(self.factors['singular_values'])\n",
    "                \n",
    "        cold_similarity_matrix = self.data.cold_items_similarity\n",
    "        \n",
    "        user_item_matrix = self.get_training_matrix()\n",
    "        user_item_matrix.data = np.ones_like(user_item_matrix.data)\n",
    "        similarity_scores = cold_similarity_matrix.dot(user_item_matrix.T).tocsr()\n",
    "                \n",
    "        scores = similarity_scores.dot(user_factors).dot(user_factors.T)\n",
    "        top_similar_users = self.get_topk_elements(scores)\n",
    "        return top_similar_users"
   ]
  },
  {
   "cell_type": "code",
   "execution_count": 8,
   "metadata": {
    "ExecuteTime": {
     "end_time": "2018-02-11T23:39:15.501079Z",
     "start_time": "2018-02-11T23:39:15.486358Z"
    },
    "code_folding": []
   },
   "outputs": [],
   "source": [
    "class HybridSVDColdStart2(HybridSVDColdStart):\n",
    "    def __init__(self, *args, **kwargs):\n",
    "        super(HybridSVDColdStart, self).__init__(*args, **kwargs)\n",
    "        self.method = 'HybridSVD2'\n",
    "\n",
    "    def get_recommendations(self):\n",
    "        userid = self.data.fields.userid\n",
    "                \n",
    "        user_factors = self.factors[userid]        \n",
    "        s1 = np.reciprocal(self.factors['singular_values'])\n",
    "                \n",
    "        cold_similarity_matrix = self.data.cold_items_similarity\n",
    "        \n",
    "        user_item_matrix = self.get_training_matrix()\n",
    "        user_item_matrix.data = np.ones_like(user_item_matrix.data)\n",
    "        similarity_scores = cold_similarity_matrix.dot(user_item_matrix.T).tocsr()\n",
    "                \n",
    "        scores = similarity_scores.dot(user_factors).dot(user_factors.T)\n",
    "        top_similar_users = self.get_topk_elements(scores)\n",
    "        return top_similar_users"
   ]
  },
  {
   "cell_type": "markdown",
   "metadata": {
    "collapsed": true
   },
   "source": [
    "# Preparing Data"
   ]
  },
  {
   "cell_type": "code",
   "execution_count": 9,
   "metadata": {
    "ExecuteTime": {
     "end_time": "2018-02-11T22:36:24.623130Z",
     "start_time": "2018-02-11T22:36:24.618975Z"
    }
   },
   "outputs": [],
   "source": [
    "bx_path = \"datasets/BX-CSV-Dump.zip\""
   ]
  },
  {
   "cell_type": "code",
   "execution_count": 10,
   "metadata": {
    "ExecuteTime": {
     "end_time": "2018-02-11T22:36:28.502142Z",
     "start_time": "2018-02-11T22:36:26.135858Z"
    }
   },
   "outputs": [],
   "source": [
    "ratings, users, books = get_bx_data(bx_path, get_books=True, get_users=True)"
   ]
  },
  {
   "cell_type": "code",
   "execution_count": 8,
   "metadata": {
    "ExecuteTime": {
     "end_time": "2018-02-11T22:36:29.605223Z",
     "start_time": "2018-02-11T22:36:29.470240Z"
    },
    "collapsed": true
   },
   "outputs": [],
   "source": [
    "implicit_data = ratings.query('rating==0').assign(rating=1)\n",
    "valid_users = implicit_data.userid.value_counts().loc[lambda x: x<2000].index\n",
    "implicit_data = implicit_data.query('userid in @valid_users')"
   ]
  },
  {
   "cell_type": "code",
   "execution_count": 9,
   "metadata": {
    "ExecuteTime": {
     "end_time": "2018-02-11T22:36:30.801495Z",
     "start_time": "2018-02-11T22:36:30.438962Z"
    },
    "collapsed": true
   },
   "outputs": [],
   "source": [
    "valid_books = implicit_data.isbn.value_counts().loc[lambda x: x>1].index"
   ]
  },
  {
   "cell_type": "code",
   "execution_count": 10,
   "metadata": {
    "ExecuteTime": {
     "end_time": "2018-02-11T22:36:31.041350Z",
     "start_time": "2018-02-11T22:36:30.891798Z"
    },
    "collapsed": true
   },
   "outputs": [],
   "source": [
    "bx_data = implicit_data.query('isbn in @valid_books')"
   ]
  },
  {
   "cell_type": "code",
   "execution_count": 11,
   "metadata": {
    "ExecuteTime": {
     "end_time": "2018-02-11T22:36:32.464947Z",
     "start_time": "2018-02-11T22:36:31.867282Z"
    },
    "collapsed": true
   },
   "outputs": [],
   "source": [
    "books = (books[books.isbn.isin(bx_data.isbn.unique())]\n",
    "         .set_index('isbn')\n",
    "         .applymap(lambda x: [x,]))\n",
    "\n",
    "missing_isbn = bx_data.isbn.drop_duplicates().loc[lambda x: ~x.isin(books.index)].values\n",
    "\n",
    "books = books.append(pd.DataFrame(index=missing_isbn), ignore_index=False)\n",
    "books.loc[missing_isbn, :] = books.loc[missing_isbn, :].applymap(lambda x: [])\n",
    "books.index.name = 'isbn'"
   ]
  },
  {
   "cell_type": "code",
   "execution_count": 12,
   "metadata": {
    "ExecuteTime": {
     "end_time": "2018-02-11T22:36:34.059593Z",
     "start_time": "2018-02-11T22:36:32.954852Z"
    },
    "collapsed": true
   },
   "outputs": [],
   "source": [
    "jw = 'jaccard-weighted'\n",
    "jd = 'jaccard'\n",
    "cs = 'cosine'\n",
    "tc = 'tfidf-cosine'\n",
    "\n",
    "sim_type = {'author':jd}\n",
    "item_similarity = combine_similarity_data(books[sim_type.keys()], similarity_type=sim_type, weights=None)"
   ]
  },
  {
   "cell_type": "code",
   "execution_count": 13,
   "metadata": {
    "ExecuteTime": {
     "end_time": "2018-02-11T22:36:34.065541Z",
     "start_time": "2018-02-11T22:36:34.061862Z"
    },
    "collapsed": true
   },
   "outputs": [],
   "source": [
    "similarities = {'userid': None, 'isbn': item_similarity}\n",
    "sim_indices = {'userid': None, 'isbn': books.index}"
   ]
  },
  {
   "cell_type": "markdown",
   "metadata": {},
   "source": [
    "# Quick test"
   ]
  },
  {
   "cell_type": "code",
   "execution_count": 14,
   "metadata": {
    "ExecuteTime": {
     "end_time": "2018-02-11T22:36:55.477201Z",
     "start_time": "2018-02-11T22:36:55.286956Z"
    },
    "collapsed": true
   },
   "outputs": [],
   "source": [
    "seed = 42\n",
    "data_model = ColdStartSimilarityDataModel(similarities, sim_indices, bx_data, 'userid', 'isbn', 'rating', seed=seed)"
   ]
  },
  {
   "cell_type": "code",
   "execution_count": 15,
   "metadata": {
    "ExecuteTime": {
     "end_time": "2018-02-11T22:36:57.163215Z",
     "start_time": "2018-02-11T22:36:57.159693Z"
    },
    "code_folding": [],
    "collapsed": true
   },
   "outputs": [],
   "source": [
    "data_model.test_sample =  None # defines amount of representative users\n",
    "data_model._repr_users = None"
   ]
  },
  {
   "cell_type": "code",
   "execution_count": 16,
   "metadata": {
    "ExecuteTime": {
     "end_time": "2018-02-11T22:37:02.109658Z",
     "start_time": "2018-02-11T22:37:01.682776Z"
    }
   },
   "outputs": [
    {
     "name": "stdout",
     "output_type": "stream",
     "text": [
      "Preparing data...\n",
      "6410 unique userid's within 6777 holdout interactions were filtered. Reason: not in the training data.\n"
     ]
    }
   ],
   "source": [
    "data_model.prepare()"
   ]
  },
  {
   "cell_type": "code",
   "execution_count": 17,
   "metadata": {
    "ExecuteTime": {
     "end_time": "2018-02-11T22:37:16.212661Z",
     "start_time": "2018-02-11T22:37:07.849550Z"
    },
    "code_folding": [],
    "collapsed": true
   },
   "outputs": [],
   "source": [
    "test_data = (data_model.test.evalset\n",
    "             .groupby('isbn_cold', sort=False, as_index=False, group_keys=False)\n",
    "             .apply(lambda x: x.sample(n=1, random_state=np.random.RandomState(seed)))\n",
    "             .sort_values('isbn_cold'))"
   ]
  },
  {
   "cell_type": "code",
   "execution_count": null,
   "metadata": {
    "collapsed": true
   },
   "outputs": [],
   "source": []
  },
  {
   "cell_type": "code",
   "execution_count": null,
   "metadata": {
    "collapsed": true
   },
   "outputs": [],
   "source": [
    "# create recommenders\n",
    "cb = ContentBasedColdStart(data_model)\n",
    "mpop = UserPopularityColdStart(data_model)\n",
    "rndm = UserRandomColdStart(data_model, seed=seed)\n",
    "hsvd = HybridSVDColdStart(data_model)\n",
    "psvd = PureSVDColdStart(data_model)"
   ]
  },
  {
   "cell_type": "code",
   "execution_count": null,
   "metadata": {
    "collapsed": true
   },
   "outputs": [],
   "source": []
  },
  {
   "cell_type": "code",
   "execution_count": 19,
   "metadata": {
    "ExecuteTime": {
     "end_time": "2018-02-11T22:37:24.220584Z",
     "start_time": "2018-02-11T22:37:24.217279Z"
    },
    "collapsed": true
   },
   "outputs": [],
   "source": [
    "cb.build()"
   ]
  },
  {
   "cell_type": "code",
   "execution_count": 20,
   "metadata": {
    "ExecuteTime": {
     "end_time": "2018-02-11T22:37:34.716577Z",
     "start_time": "2018-02-11T22:37:31.575524Z"
    }
   },
   "outputs": [
    {
     "data": {
      "text/plain": [
       "0.083962211414835938"
      ]
     },
     "execution_count": 20,
     "metadata": {},
     "output_type": "execute_result"
    }
   ],
   "source": [
    "evaluate_hits(test_data, 'isbn_cold', 'userid', cb.recommendations).getnnz(axis=1).mean()"
   ]
  },
  {
   "cell_type": "code",
   "execution_count": 66,
   "metadata": {
    "ExecuteTime": {
     "end_time": "2017-09-21T09:11:31.590322Z",
     "start_time": "2017-09-21T09:11:28.452421Z"
    }
   },
   "outputs": [
    {
     "data": {
      "text/plain": [
       "0.083962211414835938"
      ]
     },
     "execution_count": 66,
     "metadata": {},
     "output_type": "execute_result"
    }
   ],
   "source": [
    "evaluate_hits(test_data, 'isbn_cold', 'userid', cb.recommendations).getnnz(axis=1).mean()"
   ]
  },
  {
   "cell_type": "code",
   "execution_count": 20,
   "metadata": {
    "ExecuteTime": {
     "end_time": "2017-09-20T08:27:39.185843Z",
     "start_time": "2017-09-20T08:27:35.830858Z"
    }
   },
   "outputs": [
    {
     "data": {
      "text/plain": [
       "0.084465313880038015"
      ]
     },
     "execution_count": 20,
     "metadata": {},
     "output_type": "execute_result"
    }
   ],
   "source": [
    "evaluate_hits(test_data, 'isbn_cold', 'userid', cb.recommendations).getnnz(axis=1).mean()"
   ]
  },
  {
   "cell_type": "code",
   "execution_count": null,
   "metadata": {
    "collapsed": true
   },
   "outputs": [],
   "source": []
  },
  {
   "cell_type": "code",
   "execution_count": 47,
   "metadata": {
    "ExecuteTime": {
     "end_time": "2017-09-21T08:40:46.999001Z",
     "start_time": "2017-09-21T08:40:46.981438Z"
    },
    "collapsed": true
   },
   "outputs": [],
   "source": [
    "mpop.build()"
   ]
  },
  {
   "cell_type": "code",
   "execution_count": 22,
   "metadata": {
    "ExecuteTime": {
     "end_time": "2017-09-20T08:27:46.038416Z",
     "start_time": "2017-09-20T08:27:46.023573Z"
    }
   },
   "outputs": [
    {
     "data": {
      "text/plain": [
       "0.032925261333780535"
      ]
     },
     "execution_count": 22,
     "metadata": {},
     "output_type": "execute_result"
    }
   ],
   "source": [
    "evaluate_hits(test_data, 'isbn_cold', 'userid', mpop.recommendations).getnnz(axis=1).mean()"
   ]
  },
  {
   "cell_type": "code",
   "execution_count": null,
   "metadata": {
    "collapsed": true
   },
   "outputs": [],
   "source": []
  },
  {
   "cell_type": "code",
   "execution_count": 35,
   "metadata": {
    "ExecuteTime": {
     "end_time": "2017-09-29T09:10:30.425675Z",
     "start_time": "2017-09-29T09:10:07.647198Z"
    }
   },
   "outputs": [
    {
     "name": "stdout",
     "output_type": "stream",
     "text": [
      "HybridSVD training time: 22.4671111107s\n"
     ]
    }
   ],
   "source": [
    "hsvd.rank = 200\n",
    "hsvd.features_weight = 0.999\n",
    "hsvd.build()"
   ]
  },
  {
   "cell_type": "code",
   "execution_count": 36,
   "metadata": {
    "ExecuteTime": {
     "end_time": "2017-09-29T09:10:45.408460Z",
     "start_time": "2017-09-29T09:10:30.428127Z"
    }
   },
   "outputs": [
    {
     "data": {
      "text/plain": [
       "0.073117558276035555"
      ]
     },
     "execution_count": 36,
     "metadata": {},
     "output_type": "execute_result"
    }
   ],
   "source": [
    "evaluate_hits(test_data, 'isbn_cold', 'userid', hsvd.recommendations).getnnz(axis=1).mean()"
   ]
  },
  {
   "cell_type": "code",
   "execution_count": null,
   "metadata": {
    "collapsed": true
   },
   "outputs": [],
   "source": []
  },
  {
   "cell_type": "code",
   "execution_count": 23,
   "metadata": {
    "ExecuteTime": {
     "end_time": "2018-02-11T23:10:09.594959Z",
     "start_time": "2018-02-11T23:10:08.662007Z"
    }
   },
   "outputs": [
    {
     "name": "stdout",
     "output_type": "stream",
     "text": [
      "PureSVD+CB training time: 0.83873796463s\n"
     ]
    }
   ],
   "source": [
    "psvd.rank = 10\n",
    "psvd.build()"
   ]
  },
  {
   "cell_type": "code",
   "execution_count": 24,
   "metadata": {
    "ExecuteTime": {
     "end_time": "2018-02-11T23:10:23.310542Z",
     "start_time": "2018-02-11T23:10:11.968270Z"
    }
   },
   "outputs": [
    {
     "data": {
      "text/plain": [
       "0.044608418581251051"
      ]
     },
     "execution_count": 24,
     "metadata": {},
     "output_type": "execute_result"
    }
   ],
   "source": [
    "evaluate_hits(test_data, 'isbn_cold', 'userid', psvd.recommendations).getnnz(axis=1).mean()"
   ]
  },
  {
   "cell_type": "code",
   "execution_count": null,
   "metadata": {
    "collapsed": true
   },
   "outputs": [],
   "source": []
  },
  {
   "cell_type": "code",
   "execution_count": 22,
   "metadata": {
    "ExecuteTime": {
     "end_time": "2018-02-11T23:10:02.390581Z",
     "start_time": "2018-02-11T23:10:02.386123Z"
    },
    "code_folding": [],
    "collapsed": true
   },
   "outputs": [],
   "source": [
    "psvd2 = PureSVDColdStart2(data_model)"
   ]
  },
  {
   "cell_type": "code",
   "execution_count": 38,
   "metadata": {
    "ExecuteTime": {
     "end_time": "2018-02-11T23:28:36.098025Z",
     "start_time": "2018-02-11T23:24:44.025333Z"
    }
   },
   "outputs": [
    {
     "name": "stdout",
     "output_type": "stream",
     "text": [
      "PureSVD+CB2 training time: 231.428905964s\n"
     ]
    }
   ],
   "source": [
    "psvd2.rank = 1000\n",
    "psvd2.build()"
   ]
  },
  {
   "cell_type": "code",
   "execution_count": 34,
   "metadata": {
    "ExecuteTime": {
     "end_time": "2018-02-11T23:15:45.380789Z",
     "start_time": "2018-02-11T23:15:26.051170Z"
    }
   },
   "outputs": [
    {
     "data": {
      "text/plain": [
       "0.080440494158421375"
      ]
     },
     "execution_count": 34,
     "metadata": {},
     "output_type": "execute_result"
    }
   ],
   "source": [
    "evaluate_hits(test_data, 'isbn_cold', 'userid', psvd2.recommendations).getnnz(axis=1).mean()"
   ]
  },
  {
   "cell_type": "code",
   "execution_count": 39,
   "metadata": {
    "ExecuteTime": {
     "end_time": "2018-02-11T23:33:00.263999Z",
     "start_time": "2018-02-11T23:30:04.253715Z"
    },
    "collapsed": true
   },
   "outputs": [],
   "source": [
    "rr = range(50, 1001, 50)\n",
    "res2 = []\n",
    "for r in reversed(rr):\n",
    "    psvd2.factors['userid'] = psvd2.factors['userid'][:, :r]\n",
    "    psvd2._recommendations = None\n",
    "    res2.append(evaluate_hits(test_data, 'isbn_cold', 'userid', psvd2.recommendations).getnnz(axis=1).mean())\n",
    "\n",
    "res2 = list(reversed(res2))"
   ]
  },
  {
   "cell_type": "code",
   "execution_count": 42,
   "metadata": {
    "ExecuteTime": {
     "end_time": "2018-02-11T23:35:29.612718Z",
     "start_time": "2018-02-11T23:35:29.256803Z"
    }
   },
   "outputs": [
    {
     "data": {
      "text/plain": [
       "<matplotlib.lines.Line2D at 0x7fdb08a79e90>"
      ]
     },
     "execution_count": 42,
     "metadata": {},
     "output_type": "execute_result"
    },
    {
     "data": {
      "image/png": "[encoded data removed]",
      "text/plain": [
       "<matplotlib.figure.Figure at 0x7fdb08a97710>"
      ]
     },
     "metadata": {
      "image/png": {
       "height": 250,
       "width": 397
      }
     },
     "output_type": "display_data"
    }
   ],
   "source": [
    "import matplotlib.pyplot as plt\n",
    "pd.Series(index=rr, data=res2).plot()\n",
    "plt.axhline(0.0844)"
   ]
  },
  {
   "cell_type": "code",
   "execution_count": 44,
   "metadata": {
    "ExecuteTime": {
     "end_time": "2018-02-11T23:39:50.224702Z",
     "start_time": "2018-02-11T23:39:50.219262Z"
    },
    "collapsed": true
   },
   "outputs": [],
   "source": [
    "hsvd2 = HybridSVDColdStart2(data_model)"
   ]
  },
  {
   "cell_type": "code",
   "execution_count": 62,
   "metadata": {
    "ExecuteTime": {
     "end_time": "2018-02-11T23:57:43.223040Z",
     "start_time": "2018-02-11T23:53:19.462989Z"
    }
   },
   "outputs": [
    {
     "name": "stdout",
     "output_type": "stream",
     "text": [
      "HybridSVD2 training time: 263.023324013s\n"
     ]
    }
   ],
   "source": [
    "hsvd2.rank = 1000\n",
    "hsvd2.build()"
   ]
  },
  {
   "cell_type": "code",
   "execution_count": 46,
   "metadata": {
    "ExecuteTime": {
     "end_time": "2018-02-11T23:40:36.956016Z",
     "start_time": "2018-02-11T23:40:23.410719Z"
    }
   },
   "outputs": [
    {
     "data": {
      "text/plain": [
       "0.080999496897534801"
      ]
     },
     "execution_count": 46,
     "metadata": {},
     "output_type": "execute_result"
    }
   ],
   "source": [
    "evaluate_hits(test_data, 'isbn_cold', 'userid', hsvd2.recommendations).getnnz(axis=1).mean()"
   ]
  },
  {
   "cell_type": "code",
   "execution_count": 63,
   "metadata": {
    "ExecuteTime": {
     "end_time": "2018-02-12T00:03:42.491699Z",
     "start_time": "2018-02-11T23:57:43.226066Z"
    },
    "collapsed": true
   },
   "outputs": [],
   "source": [
    "rh = range(50, 1001, 50)\n",
    "resh = []\n",
    "for r in reversed(rh):\n",
    "    hsvd2.factors['userid'] = hsvd2.factors['userid'][:, :r]\n",
    "    hsvd2._recommendations = None\n",
    "    resh.append(evaluate_hits(test_data, 'isbn_cold', 'userid', hsvd2.recommendations).getnnz(axis=1).mean())\n",
    "\n",
    "resh = list(reversed(resh))"
   ]
  },
  {
   "cell_type": "code",
   "execution_count": 64,
   "metadata": {
    "ExecuteTime": {
     "end_time": "2018-02-12T00:03:42.886926Z",
     "start_time": "2018-02-12T00:03:42.495278Z"
    }
   },
   "outputs": [
    {
     "data": {
      "text/plain": [
       "<matplotlib.lines.Line2D at 0x7fdb06fa4250>"
      ]
     },
     "execution_count": 64,
     "metadata": {},
     "output_type": "execute_result"
    },
    {
     "data": {
      "image/png": "[encoded data removed]",
      "text/plain": [
       "<matplotlib.figure.Figure at 0x7fdb0946c590>"
      ]
     },
     "metadata": {
      "image/png": {
       "height": 250,
       "width": 397
      }
     },
     "output_type": "display_data"
    }
   ],
   "source": [
    "pd.Series(index=rh, data=resh).plot()\n",
    "pd.Series(index=rr, data=res2).plot()\n",
    "plt.axhline(0.0844)"
   ]
  },
  {
   "cell_type": "code",
   "execution_count": null,
   "metadata": {
    "collapsed": true
   },
   "outputs": [],
   "source": []
  },
  {
   "cell_type": "markdown",
   "metadata": {},
   "source": [
    "# Experiments"
   ]
  },
  {
   "cell_type": "code",
   "execution_count": 66,
   "metadata": {
    "ExecuteTime": {
     "end_time": "2018-02-12T00:05:43.493367Z",
     "start_time": "2018-02-12T00:05:43.485969Z"
    },
    "code_folding": [
     0
    ],
    "collapsed": true
   },
   "outputs": [],
   "source": [
    "def replicate_models(constructor, n, *args, **kwargs):\n",
    "    config = kwargs.pop('config', [])\n",
    "    replicas = [constructor(*args, **kwargs) for i in xrange(n)]\n",
    "    try_set_config(replicas, config)\n",
    "    return replicas"
   ]
  },
  {
   "cell_type": "code",
   "execution_count": 67,
   "metadata": {
    "ExecuteTime": {
     "end_time": "2018-02-12T00:05:43.774375Z",
     "start_time": "2018-02-12T00:05:43.726455Z"
    },
    "code_folding": [
     0,
     6,
     20,
     24
    ],
    "collapsed": true
   },
   "outputs": [],
   "source": [
    "def build_models(models, config=None, verbose=False):\n",
    "    try_set_config(models, config)\n",
    "    for model in models:\n",
    "        model.verbose = verbose\n",
    "        model.build()\n",
    "\n",
    "def try_set_config(models, config, force=False):\n",
    "    if config is None:\n",
    "        return\n",
    "    for model, model_config in zip(models, config):\n",
    "        if not model_config:\n",
    "            continue\n",
    "        for k, v in model_config.iteritems():\n",
    "            if hasattr(model, k) or force:\n",
    "                setattr(model, k, v)\n",
    "            else:\n",
    "                if model.vebose:\n",
    "                    msg = 'Unable to set {} attribute for model {}'\n",
    "                    print msg.format(k, model)\n",
    "\n",
    "def set_models_attribute(models, attr_name, attr_val):\n",
    "    for model in models:\n",
    "        setattr(model, attr_name, attr_val)\n",
    "\n",
    "def validate_model_settings(models, config, attr_name, no_attr_action):\n",
    "    valid_models = []\n",
    "    valid_config = []\n",
    "    other_models = []\n",
    "    other_config = []\n",
    "    config = config or [None]*len(models)\n",
    "    for i, model in enumerate(models):\n",
    "        if not hasattr(model, attr_name):\n",
    "            if no_attr_action is 'ignore':\n",
    "                pass\n",
    "            elif no_attr_action is 'process':\n",
    "                other_models.append(model)\n",
    "                other_config.append(config[i])\n",
    "            elif no_attr_action is 'raise':\n",
    "                raise AttributeError('Model {} has no {} dependence'.format(attr_name, model.method))\n",
    "            else:\n",
    "                raise ValueError('Unrecognized value for no_rank argument.')\n",
    "        else:\n",
    "            valid_models.append(model)\n",
    "            valid_config.append(config[i])\n",
    "    return (valid_models, valid_config), (other_models, other_config)"
   ]
  },
  {
   "cell_type": "code",
   "execution_count": 68,
   "metadata": {
    "ExecuteTime": {
     "end_time": "2018-02-12T00:05:44.000825Z",
     "start_time": "2018-02-12T00:05:43.980788Z"
    },
    "code_folding": [
     0,
     21
    ],
    "collapsed": true
   },
   "outputs": [],
   "source": [
    "def evaluator(test_data, key, target):\n",
    "    def eval_func(model, metrics):\n",
    "        scores = {}\n",
    "        recommendations = model.recommendations[..., :model.topk]\n",
    "        hits = evaluate_hits(test_data, key, target, recommendations)\n",
    "        if 'HR' in metrics:\n",
    "            # calculate hit rate\n",
    "            # only the fact of hits is accounted\n",
    "            hit_rate = (hits.getnnz(axis=1) > 0).mean()\n",
    "            scores['HR'] = hit_rate\n",
    "        if 'MRR' in metrics:\n",
    "            # calculate hit reciprocal rank\n",
    "            hits.data = 1. / hits.data\n",
    "            # only single best ranked reco is accounted\n",
    "            scores['MRR'] = hits.max(axis=1).mean()\n",
    "        if 'COV' in metrics:\n",
    "            # assortment coverage\n",
    "            scores['COV'] = np.unique(recommendations).size\n",
    "        return scores\n",
    "    return eval_func\n",
    "\n",
    "def evaluate_models(models, metrics, eval_func):\n",
    "    res = {}\n",
    "    for model in models:\n",
    "        eval_func = eval_func or model.__class__.evaluate # breaks if model has custom evalute() method\n",
    "        res[model.method] = eval_func(model, metrics)\n",
    "    return res"
   ]
  },
  {
   "cell_type": "code",
   "execution_count": 69,
   "metadata": {
    "ExecuteTime": {
     "end_time": "2018-02-12T00:05:44.300395Z",
     "start_time": "2018-02-12T00:05:44.263006Z"
    },
    "code_folding": [
     0
    ],
    "collapsed": true
   },
   "outputs": [],
   "source": [
    "def run_cv_experiment(models, data_model, metrics, param_tuple, models_configuration=None, no_param_action='raise', verbose=False, folds=None):\n",
    "    cv_results = defaultdict(lambda: defaultdict(dict))\n",
    "    folds = folds or range(1, int(1 / data_model.test_ratio)+1)\n",
    "    data_model.verbose = verbose\n",
    "    param_name, param_vals = param_tuple\n",
    "    \n",
    "    param_vals_sorted = list(reversed(sorted(param_vals))) # avoids recomputations when possible\n",
    "    (valid_models, valid_config), (other_models, other_config) = validate_model_settings(models, models_configuration, param_name, no_param_action)\n",
    "        \n",
    "    for fold in tqdm_notebook(folds, desc='fold'):\n",
    "        data_model.test_fold = fold\n",
    "        data_model.prepare()\n",
    "        \n",
    "        test_data = (data_model.test.evalset\n",
    "                     .groupby('isbn_cold', sort=False, as_index=False, group_keys=False)\n",
    "                     .apply(lambda x: x.sample(n=1, random_state=np.random.RandomState(seed)))\n",
    "                     .sort_values('isbn_cold'))\n",
    "\n",
    "        eval_func = evaluator(test_data, 'isbn_cold', 'userid')\n",
    "            \n",
    "        if other_models:\n",
    "            build_models(other_models, config=other_config, verbose=verbose)\n",
    "            other_scores = evaluate_models(other_models, metrics, eval_func)\n",
    "            key = 'no_{}'.format(param_name)\n",
    "            cv_results[fold][key].update(other_scores)\n",
    "\n",
    "        set_models_attribute(valid_models, param_name, max(param_vals)) # avoids recomputations when possible\n",
    "        build_models(valid_models, config=valid_config, verbose=verbose)\n",
    "        for param_val in param_vals_sorted:\n",
    "            set_models_attribute(valid_models, param_name, param_val)\n",
    "            valid_scores = evaluate_models(valid_models, metrics, eval_func)\n",
    "            cv_results[fold][param_val] = valid_scores\n",
    "\n",
    "    return cv_results"
   ]
  },
  {
   "cell_type": "code",
   "execution_count": 70,
   "metadata": {
    "ExecuteTime": {
     "end_time": "2018-02-12T00:05:44.956121Z",
     "start_time": "2018-02-12T00:05:44.948664Z"
    },
    "code_folding": [
     0
    ],
    "collapsed": true
   },
   "outputs": [],
   "source": [
    "def get_results_dataframe(cv_results, param_tuple, folds=None):\n",
    "    df_from_dict = pd.DataFrame.from_dict\n",
    "    param_name, param_vals = param_tuple\n",
    "    param_vals = param_vals or ['no_{}'.format(param_name)]\n",
    "    result = pd.concat({(i, j): df_from_dict(cv_results[i][j]) for i, p in cv_results.iteritems() for j in p if j in param_vals}, names=['fold', param_name]).unstack()\n",
    "    return result"
   ]
  },
  {
   "cell_type": "code",
   "execution_count": null,
   "metadata": {
    "collapsed": true
   },
   "outputs": [],
   "source": []
  },
  {
   "cell_type": "markdown",
   "metadata": {
    "ExecuteTime": {
     "end_time": "2018-02-12T00:03:42.919792Z",
     "start_time": "2018-02-12T00:03:42.889223Z"
    }
   },
   "source": [
    "UPDATE"
   ]
  },
  {
   "cell_type": "code",
   "execution_count": 72,
   "metadata": {
    "ExecuteTime": {
     "end_time": "2018-02-12T00:07:03.962379Z",
     "start_time": "2018-02-12T00:07:03.951981Z"
    }
   },
   "outputs": [
    {
     "name": "stdout",
     "output_type": "stream",
     "text": [
      "PureSVD+CB HybridSVD ($\\alpha=0.999$) HybridSVD ($\\alpha=0.5$) HybridSVD ($\\alpha=0.1$)\n"
     ]
    }
   ],
   "source": [
    "features_weights = [0.999, 0.5, 0.1]\n",
    "hybrid_config = [{'features_weight':w, 'method': r'HybridSVD ($\\alpha={}$)'.format(w)} for w in features_weights]\n",
    "hybrids = replicate_models(HybridSVDColdStart2, len(features_weights), data_model, config=hybrid_config)\n",
    "\n",
    "psvd2.method = 'PureSVD+CB'\n",
    "\n",
    "models = [psvd2] + hybrids\n",
    "models_config = [{'topk':10}]*len(models)\n",
    "\n",
    "for model in models:\n",
    "    print model.method,"
   ]
  },
  {
   "cell_type": "code",
   "execution_count": 73,
   "metadata": {
    "ExecuteTime": {
     "end_time": "2018-02-12T05:02:00.179705Z",
     "start_time": "2018-02-12T00:08:23.567509Z"
    }
   },
   "outputs": [
    {
     "data": {
      "application/vnd.jupyter.widget-view+json": {
       "model_id": "b5a1e0691c834494bf722d7c05a4eaec",
       "version_major": 2,
       "version_minor": 0
      },
      "text/plain": [
       "A Jupyter Widget"
      ]
     },
     "metadata": {},
     "output_type": "display_data"
    },
    {
     "name": "stdout",
     "output_type": "stream",
     "text": [
      "\n"
     ]
    }
   ],
   "source": [
    "metrics = 'HR MRR COV'.split()\n",
    "ranks = [1, 5, 10, 15, 20, 30, 50, 75, 100, 125, 150, 200, 300, 500, 750, 1000, 1250, 1500]\n",
    "\n",
    "cv_results = run_cv_experiment(models, data_model, metrics, ('rank', ranks), models_configuration=models_config, no_param_action='process', verbose=False)"
   ]
  },
  {
   "cell_type": "code",
   "execution_count": 79,
   "metadata": {
    "ExecuteTime": {
     "end_time": "2018-02-12T05:12:15.249104Z",
     "start_time": "2018-02-12T05:12:15.135046Z"
    },
    "collapsed": true
   },
   "outputs": [],
   "source": [
    "rank_cv_results = get_results_dataframe(cv_results, ('rank', ranks))"
   ]
  },
  {
   "cell_type": "code",
   "execution_count": 80,
   "metadata": {
    "ExecuteTime": {
     "end_time": "2018-02-12T05:12:22.610136Z",
     "start_time": "2018-02-12T05:12:22.603135Z"
    },
    "collapsed": true
   },
   "outputs": [],
   "source": [
    "rank_cv_results.to_csv('Coldstart_SVD_CV_results_BX_UPD.csv', index=True)"
   ]
  },
  {
   "cell_type": "code",
   "execution_count": 86,
   "metadata": {
    "ExecuteTime": {
     "end_time": "2018-02-12T05:14:49.594046Z",
     "start_time": "2018-02-12T05:14:49.017332Z"
    }
   },
   "outputs": [
    {
     "data": {
      "text/plain": [
       "<matplotlib.legend.Legend at 0x7fdb06e6c990>"
      ]
     },
     "execution_count": 86,
     "metadata": {},
     "output_type": "execute_result"
    },
    {
     "data": {
      "image/png": "[encoded data removed]",
      "text/plain": [
       "<matplotlib.figure.Figure at 0x7fdafc0e9b10>"
      ]
     },
     "metadata": {
      "image/png": {
       "height": 263,
       "width": 380
      }
     },
     "output_type": "display_data"
    }
   ],
   "source": [
    "ax = rank_cv_results.xs('HR', 1, 1).mean(level='rank').plot(logx=False)\n",
    "ax.axhline(0.0844)\n",
    "ax.legend()"
   ]
  },
  {
   "cell_type": "markdown",
   "metadata": {},
   "source": [
    "===END OF UPDATE==="
   ]
  },
  {
   "cell_type": "code",
   "execution_count": null,
   "metadata": {
    "collapsed": true
   },
   "outputs": [],
   "source": []
  },
  {
   "cell_type": "code",
   "execution_count": 37,
   "metadata": {
    "ExecuteTime": {
     "end_time": "2017-09-20T08:30:19.373702Z",
     "start_time": "2017-09-20T08:30:19.356310Z"
    }
   },
   "outputs": [
    {
     "name": "stdout",
     "output_type": "stream",
     "text": [
      "MP RND CB PureSVD+CB HybridSVD ($\\alpha=0.999$) HybridSVD ($\\alpha=0.5$) HybridSVD ($\\alpha=0.1$)\n"
     ]
    }
   ],
   "source": [
    "baselines = [mpop, rndm, cb]\n",
    "\n",
    "features_weights = [0.999, 0.5, 0.1]\n",
    "hybrid_config = [{'features_weight':w, 'method': r'HybridSVD ($\\alpha={}$)'.format(w)} for w in features_weights]\n",
    "hybrids = replicate_models(HybridSVDColdStart, len(features_weights), data_model, config=hybrid_config)\n",
    "\n",
    "models = baselines + [psvd] + hybrids\n",
    "models_config = [{'topk':10}]*len(models)\n",
    "\n",
    "for model in models:\n",
    "    print model.method,"
   ]
  },
  {
   "cell_type": "code",
   "execution_count": null,
   "metadata": {
    "ExecuteTime": {
     "start_time": "2017-09-20T05:30:58.333Z"
    }
   },
   "outputs": [
    {
     "data": {
      "application/vnd.jupyter.widget-view+json": {
       "model_id": "08561001a3a049e5a7dd102282ef1360",
       "version_major": 2,
       "version_minor": 0
      },
      "text/plain": [
       "A Jupyter Widget"
      ]
     },
     "metadata": {},
     "output_type": "display_data"
    }
   ],
   "source": [
    "metrics = 'HR MRR COV'.split()\n",
    "ranks = [1, 5, 10, 15, 20, 30, 50, 75, 100, 125, 150, 200, 300, 500, 750, 1000, 1250, 1500, 1750, 2000, 2500, 3200]\n",
    "\n",
    "cv_results = run_cv_experiment(models, data_model, metrics, ('rank', ranks), models_configuration=models_config, no_param_action='process', verbose=False)"
   ]
  },
  {
   "cell_type": "code",
   "execution_count": 39,
   "metadata": {
    "ExecuteTime": {
     "end_time": "2017-09-20T20:57:23.115453Z",
     "start_time": "2017-09-20T20:57:22.930832Z"
    },
    "collapsed": true
   },
   "outputs": [],
   "source": [
    "rank_cv_results = get_results_dataframe(cv_results, ('rank', ranks))\n",
    "base_cv_results = get_results_dataframe(cv_results, ('rank', None))"
   ]
  },
  {
   "cell_type": "code",
   "execution_count": 40,
   "metadata": {
    "ExecuteTime": {
     "end_time": "2017-09-20T20:57:32.677223Z",
     "start_time": "2017-09-20T20:57:32.664287Z"
    },
    "collapsed": true
   },
   "outputs": [],
   "source": [
    "rank_cv_results.to_csv('Coldstart_SVD_CV_results_BX.csv', index=True)"
   ]
  },
  {
   "cell_type": "code",
   "execution_count": 41,
   "metadata": {
    "ExecuteTime": {
     "end_time": "2017-09-20T20:57:40.579832Z",
     "start_time": "2017-09-20T20:57:40.559291Z"
    },
    "collapsed": true
   },
   "outputs": [],
   "source": [
    "base_cv_results.to_csv('Coldstart_Baseline_CV_results_BX.csv', index=True)"
   ]
  },
  {
   "cell_type": "code",
   "execution_count": null,
   "metadata": {
    "collapsed": true
   },
   "outputs": [],
   "source": []
  },
  {
   "cell_type": "code",
   "execution_count": 42,
   "metadata": {
    "ExecuteTime": {
     "end_time": "2017-09-20T20:57:44.816332Z",
     "start_time": "2017-09-20T20:57:43.348704Z"
    }
   },
   "outputs": [
    {
     "data": {
      "text/plain": [
       "<matplotlib.legend.Legend at 0x7f983a3af350>"
      ]
     },
     "execution_count": 42,
     "metadata": {},
     "output_type": "execute_result"
    },
    {
     "data": {
      "image/png": "[encoded data removed]",
      "text/plain": [
       "<matplotlib.figure.Figure at 0x7f9838a8b150>"
      ]
     },
     "metadata": {
      "image/png": {
       "height": 265,
       "width": 380
      }
     },
     "output_type": "display_data"
    }
   ],
   "source": [
    "ax = rank_cv_results.xs('HR', 1, 1).mean(level='rank').plot(logx=True)\n",
    "\n",
    "linestyles = {'CB': '--', 'RND': ':', 'MP': ':'}\n",
    "colors = {'CB': '', 'RND': '', 'MP': ''}\n",
    "\n",
    "for col, data in base_cv_results.xs('HR', 1, 1).mean(level='rank').iteritems():\n",
    "    ax.hlines(y=data, xmin=1, xmax=3200, label=col, linestyles=linestyles[col])\n",
    "ax.legend()"
   ]
  },
  {
   "cell_type": "code",
   "execution_count": null,
   "metadata": {
    "collapsed": true
   },
   "outputs": [],
   "source": []
  },
  {
   "cell_type": "code",
   "execution_count": 43,
   "metadata": {
    "ExecuteTime": {
     "end_time": "2017-09-20T20:58:00.039881Z",
     "start_time": "2017-09-20T20:57:58.816375Z"
    }
   },
   "outputs": [
    {
     "data": {
      "text/plain": [
       "<matplotlib.legend.Legend at 0x7f98389189d0>"
      ]
     },
     "execution_count": 43,
     "metadata": {},
     "output_type": "execute_result"
    },
    {
     "data": {
      "image/png": "[encoded data removed]",
      "text/plain": [
       "<matplotlib.figure.Figure at 0x7f983a33d7d0>"
      ]
     },
     "metadata": {
      "image/png": {
       "height": 265,
       "width": 386
      }
     },
     "output_type": "display_data"
    }
   ],
   "source": [
    "metric = 'MRR'\n",
    "ax = rank_cv_results.xs(metric, 1, 1).mean(level='rank').plot(logx=True)\n",
    "\n",
    "linestyles = {'CB': '--', 'RND': ':', 'MP': ':'}\n",
    "colors = {'CB': '', 'RND': '', 'MP': ''}\n",
    "\n",
    "for col, data in base_cv_results.xs(metric, 1, 1).mean(level='rank').iteritems():\n",
    "    ax.hlines(y=data, xmin=1, xmax=3200, label=col, linestyles=linestyles[col])\n",
    "ax.legend()"
   ]
  },
  {
   "cell_type": "code",
   "execution_count": null,
   "metadata": {
    "collapsed": true
   },
   "outputs": [],
   "source": []
  },
  {
   "cell_type": "markdown",
   "metadata": {
    "heading_collapsed": true
   },
   "source": [
    "# FM"
   ]
  },
  {
   "cell_type": "code",
   "execution_count": 18,
   "metadata": {
    "ExecuteTime": {
     "end_time": "2017-09-21T11:34:17.895951Z",
     "start_time": "2017-09-21T11:34:17.317256Z"
    },
    "code_folding": [],
    "collapsed": true,
    "hidden": true
   },
   "outputs": [],
   "source": [
    "# %env OMP_NUM_THREADS=16\n",
    "from polara.tools.graphlab.glwrapper import GraphlabFactorization\n",
    "import graphlab as gl"
   ]
  },
  {
   "cell_type": "code",
   "execution_count": 19,
   "metadata": {
    "ExecuteTime": {
     "end_time": "2017-09-21T11:34:17.925053Z",
     "start_time": "2017-09-21T11:34:17.900342Z"
    },
    "code_folding": [],
    "collapsed": true,
    "hidden": true
   },
   "outputs": [],
   "source": [
    "class FMColdStart(GraphlabFactorization):\n",
    "    def get_recommendations(self):\n",
    "        userid = self.data.fields.userid\n",
    "        itemid = self.data.fields.itemid\n",
    "        \n",
    "        cold_items_index = self.data.index.itemid.cold_start\n",
    "        # prevent intersecting cold items index with known items\n",
    "        lower_index_bound = self.data.index.itemid.training.new.max() + 1\n",
    "        unseen_items_idx = cold_items_index.new.values + lower_index_bound\n",
    "        \n",
    "        new_item_data = gl.SFrame(self.item_side_info.loc[cold_items_index.old]\n",
    "                                  .reset_index(drop=True)\n",
    "                                  .assign(**{itemid:unseen_items_idx}))\n",
    "        \n",
    "        test_users = self.data.index.userid.training.new.values\n",
    "        \n",
    "        observation_idx = np.array([a.ravel() for a in np.broadcast_arrays(test_users, unseen_items_idx[:, None])], copy=False)\n",
    "        new_observation_df = pd.DataFrame(observation_idx.T, columns=[userid, itemid], copy=False)\n",
    "        new_observation = gl.SFrame(new_observation_df)\n",
    "        \n",
    "        scores = self.gl_model.predict(new_observation, new_item_data=new_item_data).to_numpy()\n",
    "        top_similar_users = self.get_topk_elements(scores.reshape(-1, len(test_users)))\n",
    "        return top_similar_users"
   ]
  },
  {
   "cell_type": "markdown",
   "metadata": {
    "hidden": true
   },
   "source": [
    "## Quick test"
   ]
  },
  {
   "cell_type": "code",
   "execution_count": 20,
   "metadata": {
    "ExecuteTime": {
     "end_time": "2017-09-21T11:34:19.985229Z",
     "start_time": "2017-09-21T11:34:19.970917Z"
    },
    "collapsed": true,
    "hidden": true
   },
   "outputs": [],
   "source": [
    "fm = FMColdStart(data_model, item_side_info=books[sim_type.keys()])\n",
    "fm.method = 'FM'\n",
    "fm.binary_target = True\n",
    "fm.solver = 'sgd'\n",
    "fm.ranking_optimization = True\n",
    "fm.seed = seed\n",
    "fm.verbose = True"
   ]
  },
  {
   "cell_type": "code",
   "execution_count": 21,
   "metadata": {
    "ExecuteTime": {
     "end_time": "2017-09-21T11:34:20.708037Z",
     "start_time": "2017-09-21T11:34:20.699146Z"
    },
    "collapsed": true,
    "hidden": true
   },
   "outputs": [],
   "source": [
    "fm.ranking_regularization = 0.003\n",
    "fm.regularization = 1e-10\n",
    "fm.linear_regularization = 1e-10\n",
    "fm.sgd_step_size = 0.3\n",
    "fm.num_sampled_negative_examples = 30\n",
    "fm.max_iterations = 30 # increased for better results\n",
    "fm.rank = 10"
   ]
  },
  {
   "cell_type": "code",
   "execution_count": 22,
   "metadata": {
    "ExecuteTime": {
     "end_time": "2017-09-21T10:54:42.814973Z",
     "start_time": "2017-09-21T10:53:56.986512Z"
    },
    "hidden": true
   },
   "outputs": [
    {
     "name": "stdout",
     "output_type": "stream",
     "text": [
      "This non-commercial license of GraphLab Create for academic use is assigned to evgeny.frolov@skolkovotech.ru and will expire on August 16, 2018.\n"
     ]
    },
    {
     "name": "stderr",
     "output_type": "stream",
     "text": [
      "[INFO] graphlab.cython.cy_server: GraphLab Create v2.1 started. Logging: /tmp/graphlab_server_1505980437.log\n"
     ]
    },
    {
     "data": {
      "text/html": [
       "<pre>Recsys training: model = ranking_factorization_recommender</pre>"
      ],
      "text/plain": [
       "Recsys training: model = ranking_factorization_recommender"
      ]
     },
     "metadata": {},
     "output_type": "display_data"
    },
    {
     "data": {
      "text/html": [
       "<pre>Preparing data set.</pre>"
      ],
      "text/plain": [
       "Preparing data set."
      ]
     },
     "metadata": {},
     "output_type": "display_data"
    },
    {
     "data": {
      "text/html": [
       "<pre>    Data has 407120 observations with 44876 users and 71945 items.</pre>"
      ],
      "text/plain": [
       "    Data has 407120 observations with 44876 users and 71945 items."
      ]
     },
     "metadata": {},
     "output_type": "display_data"
    },
    {
     "data": {
      "text/html": [
       "<pre>    Data prepared in: 0.686526s</pre>"
      ],
      "text/plain": [
       "    Data prepared in: 0.686526s"
      ]
     },
     "metadata": {},
     "output_type": "display_data"
    },
    {
     "data": {
      "text/html": [
       "<pre>Training ranking_factorization_recommender for recommendations.</pre>"
      ],
      "text/plain": [
       "Training ranking_factorization_recommender for recommendations."
      ]
     },
     "metadata": {},
     "output_type": "display_data"
    },
    {
     "data": {
      "text/html": [
       "<pre>+--------------------------------+--------------------------------------------------+----------+</pre>"
      ],
      "text/plain": [
       "+--------------------------------+--------------------------------------------------+----------+"
      ]
     },
     "metadata": {},
     "output_type": "display_data"
    },
    {
     "data": {
      "text/html": [
       "<pre>| Parameter                      | Description                                      | Value    |</pre>"
      ],
      "text/plain": [
       "| Parameter                      | Description                                      | Value    |"
      ]
     },
     "metadata": {},
     "output_type": "display_data"
    },
    {
     "data": {
      "text/html": [
       "<pre>+--------------------------------+--------------------------------------------------+----------+</pre>"
      ],
      "text/plain": [
       "+--------------------------------+--------------------------------------------------+----------+"
      ]
     },
     "metadata": {},
     "output_type": "display_data"
    },
    {
     "data": {
      "text/html": [
       "<pre>| num_factors                    | Factor Dimension                                 | 10       |</pre>"
      ],
      "text/plain": [
       "| num_factors                    | Factor Dimension                                 | 10       |"
      ]
     },
     "metadata": {},
     "output_type": "display_data"
    },
    {
     "data": {
      "text/html": [
       "<pre>| regularization                 | L2 Regularization on Factors                     | 1e-10    |</pre>"
      ],
      "text/plain": [
       "| regularization                 | L2 Regularization on Factors                     | 1e-10    |"
      ]
     },
     "metadata": {},
     "output_type": "display_data"
    },
    {
     "data": {
      "text/html": [
       "<pre>| solver                         | Solver used for training                         | sgd      |</pre>"
      ],
      "text/plain": [
       "| solver                         | Solver used for training                         | sgd      |"
      ]
     },
     "metadata": {},
     "output_type": "display_data"
    },
    {
     "data": {
      "text/html": [
       "<pre>| linear_regularization          | L2 Regularization on Linear Coefficients         | 1e-10    |</pre>"
      ],
      "text/plain": [
       "| linear_regularization          | L2 Regularization on Linear Coefficients         | 1e-10    |"
      ]
     },
     "metadata": {},
     "output_type": "display_data"
    },
    {
     "data": {
      "text/html": [
       "<pre>| ranking_regularization         | Rank-based Regularization Weight                 | 0.003    |</pre>"
      ],
      "text/plain": [
       "| ranking_regularization         | Rank-based Regularization Weight                 | 0.003    |"
      ]
     },
     "metadata": {},
     "output_type": "display_data"
    },
    {
     "data": {
      "text/html": [
       "<pre>| num_sampled_negative_examples  | # Negative Samples Considered per Observation    | 30       |</pre>"
      ],
      "text/plain": [
       "| num_sampled_negative_examples  | # Negative Samples Considered per Observation    | 30       |"
      ]
     },
     "metadata": {},
     "output_type": "display_data"
    },
    {
     "data": {
      "text/html": [
       "<pre>| binary_target                  | Assume Binary Targets                            | True     |</pre>"
      ],
      "text/plain": [
       "| binary_target                  | Assume Binary Targets                            | True     |"
      ]
     },
     "metadata": {},
     "output_type": "display_data"
    },
    {
     "data": {
      "text/html": [
       "<pre>| side_data_factorization        | Assign Factors for Side Data                     | True     |</pre>"
      ],
      "text/plain": [
       "| side_data_factorization        | Assign Factors for Side Data                     | True     |"
      ]
     },
     "metadata": {},
     "output_type": "display_data"
    },
    {
     "data": {
      "text/html": [
       "<pre>| sgd_step_size                  | Starting SGD Step Size                           | 0.3      |</pre>"
      ],
      "text/plain": [
       "| sgd_step_size                  | Starting SGD Step Size                           | 0.3      |"
      ]
     },
     "metadata": {},
     "output_type": "display_data"
    },
    {
     "data": {
      "text/html": [
       "<pre>| max_iterations                 | Maximum Number of Iterations                     | 30       |</pre>"
      ],
      "text/plain": [
       "| max_iterations                 | Maximum Number of Iterations                     | 30       |"
      ]
     },
     "metadata": {},
     "output_type": "display_data"
    },
    {
     "data": {
      "text/html": [
       "<pre>+--------------------------------+--------------------------------------------------+----------+</pre>"
      ],
      "text/plain": [
       "+--------------------------------+--------------------------------------------------+----------+"
      ]
     },
     "metadata": {},
     "output_type": "display_data"
    },
    {
     "data": {
      "text/html": [
       "<pre>  Optimizing model using SGD (step size tuning: OFF).</pre>"
      ],
      "text/plain": [
       "  Optimizing model using SGD (step size tuning: OFF)."
      ]
     },
     "metadata": {},
     "output_type": "display_data"
    },
    {
     "data": {
      "text/html": [
       "<pre>Starting Optimization.</pre>"
      ],
      "text/plain": [
       "Starting Optimization."
      ]
     },
     "metadata": {},
     "output_type": "display_data"
    },
    {
     "data": {
      "text/html": [
       "<pre>+---------+--------------+-------------------+-----------------------------------+-------------+</pre>"
      ],
      "text/plain": [
       "+---------+--------------+-------------------+-----------------------------------+-------------+"
      ]
     },
     "metadata": {},
     "output_type": "display_data"
    },
    {
     "data": {
      "text/html": [
       "<pre>| Iter.   | Elapsed Time | Approx. Objective | Approx. Training Predictive Error | Step Size   |</pre>"
      ],
      "text/plain": [
       "| Iter.   | Elapsed Time | Approx. Objective | Approx. Training Predictive Error | Step Size   |"
      ]
     },
     "metadata": {},
     "output_type": "display_data"
    },
    {
     "data": {
      "text/html": [
       "<pre>+---------+--------------+-------------------+-----------------------------------+-------------+</pre>"
      ],
      "text/plain": [
       "+---------+--------------+-------------------+-----------------------------------+-------------+"
      ]
     },
     "metadata": {},
     "output_type": "display_data"
    },
    {
     "data": {
      "text/html": [
       "<pre>| Initial | 247us        | 1.62708           | 0.313266                          |             |</pre>"
      ],
      "text/plain": [
       "| Initial | 247us        | 1.62708           | 0.313266                          |             |"
      ]
     },
     "metadata": {},
     "output_type": "display_data"
    },
    {
     "data": {
      "text/html": [
       "<pre>+---------+--------------+-------------------+-----------------------------------+-------------+</pre>"
      ],
      "text/plain": [
       "+---------+--------------+-------------------+-----------------------------------+-------------+"
      ]
     },
     "metadata": {},
     "output_type": "display_data"
    },
    {
     "data": {
      "text/html": [
       "<pre>| 1       | 1.29s        | 1.62179           | 0.793069                          | 0.3         |</pre>"
      ],
      "text/plain": [
       "| 1       | 1.29s        | 1.62179           | 0.793069                          | 0.3         |"
      ]
     },
     "metadata": {},
     "output_type": "display_data"
    },
    {
     "data": {
      "text/html": [
       "<pre>| 2       | 2.59s        | 1.50572           | 0.752919                          | 0.178381    |</pre>"
      ],
      "text/plain": [
       "| 2       | 2.59s        | 1.50572           | 0.752919                          | 0.178381    |"
      ]
     },
     "metadata": {},
     "output_type": "display_data"
    },
    {
     "data": {
      "text/html": [
       "<pre>| 3       | 3.88s        | 1.3158            | 0.648679                          | 0.131607    |</pre>"
      ],
      "text/plain": [
       "| 3       | 3.88s        | 1.3158            | 0.648679                          | 0.131607    |"
      ]
     },
     "metadata": {},
     "output_type": "display_data"
    },
    {
     "data": {
      "text/html": [
       "<pre>| 4       | 5.16s        | 1.35619           | 0.660277                          | 0.106066    |</pre>"
      ],
      "text/plain": [
       "| 4       | 5.16s        | 1.35619           | 0.660277                          | 0.106066    |"
      ]
     },
     "metadata": {},
     "output_type": "display_data"
    },
    {
     "data": {
      "text/html": [
       "<pre>| 5       | 6.46s        | 1.298             | 0.628773                          | 0.075446    |</pre>"
      ],
      "text/plain": [
       "| 5       | 6.46s        | 1.298             | 0.628773                          | 0.075446    |"
      ]
     },
     "metadata": {},
     "output_type": "display_data"
    },
    {
     "data": {
      "text/html": [
       "<pre>| 6       | 7.74s        | 1.36533           | 0.663831                          | 0.0553341   |</pre>"
      ],
      "text/plain": [
       "| 6       | 7.74s        | 1.36533           | 0.663831                          | 0.0553341   |"
      ]
     },
     "metadata": {},
     "output_type": "display_data"
    },
    {
     "data": {
      "text/html": [
       "<pre>| 7       | 9.03s        | 1.33005           | 0.65168                           | 0.0414501   |</pre>"
      ],
      "text/plain": [
       "| 7       | 9.03s        | 1.33005           | 0.65168                           | 0.0414501   |"
      ]
     },
     "metadata": {},
     "output_type": "display_data"
    },
    {
     "data": {
      "text/html": [
       "<pre>| 8       | 10.32s       | 1.37368           | 0.677016                          | 0.0315336   |</pre>"
      ],
      "text/plain": [
       "| 8       | 10.32s       | 1.37368           | 0.677016                          | 0.0315336   |"
      ]
     },
     "metadata": {},
     "output_type": "display_data"
    },
    {
     "data": {
      "text/html": [
       "<pre>| 9       | 11.60s       | 1.35472           | 0.67138                           | 0.0242746   |</pre>"
      ],
      "text/plain": [
       "| 9       | 11.60s       | 1.35472           | 0.67138                           | 0.0242746   |"
      ]
     },
     "metadata": {},
     "output_type": "display_data"
    },
    {
     "data": {
      "text/html": [
       "<pre>| 10      | 12.89s       | 1.37783           | 0.685595                          | 0.0188615   |</pre>"
      ],
      "text/plain": [
       "| 10      | 12.89s       | 1.37783           | 0.685595                          | 0.0188615   |"
      ]
     },
     "metadata": {},
     "output_type": "display_data"
    },
    {
     "data": {
      "text/html": [
       "<pre>| 11      | 14.19s       | 1.36998           | 0.683908                          | 0.0147664   |</pre>"
      ],
      "text/plain": [
       "| 11      | 14.19s       | 1.36998           | 0.683908                          | 0.0147664   |"
      ]
     },
     "metadata": {},
     "output_type": "display_data"
    },
    {
     "data": {
      "text/html": [
       "<pre>| 12      | 15.48s       | 1.37773           | 0.68914                           | 0.0116326   |</pre>"
      ],
      "text/plain": [
       "| 12      | 15.48s       | 1.37773           | 0.68914                           | 0.0116326   |"
      ]
     },
     "metadata": {},
     "output_type": "display_data"
    },
    {
     "data": {
      "text/html": [
       "<pre>| 13      | 16.76s       | 1.37484           | 0.688909                          | 0.00921184  |</pre>"
      ],
      "text/plain": [
       "| 13      | 16.76s       | 1.37484           | 0.688909                          | 0.00921184  |"
      ]
     },
     "metadata": {},
     "output_type": "display_data"
    },
    {
     "data": {
      "text/html": [
       "<pre>| 14      | 18.04s       | 1.37883           | 0.691087                          | 0.00732741  |</pre>"
      ],
      "text/plain": [
       "| 14      | 18.04s       | 1.37883           | 0.691087                          | 0.00732741  |"
      ]
     },
     "metadata": {},
     "output_type": "display_data"
    },
    {
     "data": {
      "text/html": [
       "<pre>| 15      | 19.33s       | 1.37647           | 0.690709                          | 0.00585087  |</pre>"
      ],
      "text/plain": [
       "| 15      | 19.33s       | 1.37647           | 0.690709                          | 0.00585087  |"
      ]
     },
     "metadata": {},
     "output_type": "display_data"
    },
    {
     "data": {
      "text/html": [
       "<pre>| 16      | 20.62s       | 1.37757           | 0.691196                          | 0.0046875   |</pre>"
      ],
      "text/plain": [
       "| 16      | 20.62s       | 1.37757           | 0.691196                          | 0.0046875   |"
      ]
     },
     "metadata": {},
     "output_type": "display_data"
    },
    {
     "data": {
      "text/html": [
       "<pre>| 17      | 21.92s       | 1.37692           | 0.691197                          | 0.00376649  |</pre>"
      ],
      "text/plain": [
       "| 17      | 21.92s       | 1.37692           | 0.691197                          | 0.00376649  |"
      ]
     },
     "metadata": {},
     "output_type": "display_data"
    },
    {
     "data": {
      "text/html": [
       "<pre>| 18      | 23.20s       | 1.37568           | 0.689969                          | 0.00303432  |</pre>"
      ],
      "text/plain": [
       "| 18      | 23.20s       | 1.37568           | 0.689969                          | 0.00303432  |"
      ]
     },
     "metadata": {},
     "output_type": "display_data"
    },
    {
     "data": {
      "text/html": [
       "<pre>| 19      | 24.49s       | 1.3752            | 0.690103                          | 0.00245016  |</pre>"
      ],
      "text/plain": [
       "| 19      | 24.49s       | 1.3752            | 0.690103                          | 0.00245016  |"
      ]
     },
     "metadata": {},
     "output_type": "display_data"
    },
    {
     "data": {
      "text/html": [
       "<pre>| 20      | 25.75s       | 1.37397           | 0.689573                          | 0.00235769  |</pre>"
      ],
      "text/plain": [
       "| 20      | 25.75s       | 1.37397           | 0.689573                          | 0.00235769  |"
      ]
     },
     "metadata": {},
     "output_type": "display_data"
    },
    {
     "data": {
      "text/html": [
       "<pre>| 21      | 27.04s       | 1.37339           | 0.689285                          | 0.00227297  |</pre>"
      ],
      "text/plain": [
       "| 21      | 27.04s       | 1.37339           | 0.689285                          | 0.00227297  |"
      ]
     },
     "metadata": {},
     "output_type": "display_data"
    },
    {
     "data": {
      "text/html": [
       "<pre>| 22      | 28.32s       | 1.37264           | 0.688418                          | 0.00219504  |</pre>"
      ],
      "text/plain": [
       "| 22      | 28.32s       | 1.37264           | 0.688418                          | 0.00219504  |"
      ]
     },
     "metadata": {},
     "output_type": "display_data"
    },
    {
     "data": {
      "text/html": [
       "<pre>| 23      | 29.61s       | 1.37179           | 0.688129                          | 0.00212306  |</pre>"
      ],
      "text/plain": [
       "| 23      | 29.61s       | 1.37179           | 0.688129                          | 0.00212306  |"
      ]
     },
     "metadata": {},
     "output_type": "display_data"
    },
    {
     "data": {
      "text/html": [
       "<pre>| 24      | 30.91s       | 1.37151           | 0.687722                          | 0.00205637  |</pre>"
      ],
      "text/plain": [
       "| 24      | 30.91s       | 1.37151           | 0.687722                          | 0.00205637  |"
      ]
     },
     "metadata": {},
     "output_type": "display_data"
    },
    {
     "data": {
      "text/html": [
       "<pre>| 25      | 32.20s       | 1.3704            | 0.687628                          | 0.00199436  |</pre>"
      ],
      "text/plain": [
       "| 25      | 32.20s       | 1.3704            | 0.687628                          | 0.00199436  |"
      ]
     },
     "metadata": {},
     "output_type": "display_data"
    },
    {
     "data": {
      "text/html": [
       "<pre>| 26      | 33.49s       | 1.36956           | 0.68731                           | 0.00193655  |</pre>"
      ],
      "text/plain": [
       "| 26      | 33.49s       | 1.36956           | 0.68731                           | 0.00193655  |"
      ]
     },
     "metadata": {},
     "output_type": "display_data"
    },
    {
     "data": {
      "text/html": [
       "<pre>| 27      | 34.78s       | 1.36968           | 0.687646                          | 0.0018825   |</pre>"
      ],
      "text/plain": [
       "| 27      | 34.78s       | 1.36968           | 0.687646                          | 0.0018825   |"
      ]
     },
     "metadata": {},
     "output_type": "display_data"
    },
    {
     "data": {
      "text/html": [
       "<pre>| 28      | 36.06s       | 1.36857           | 0.68678                           | 0.0015404   |</pre>"
      ],
      "text/plain": [
       "| 28      | 36.06s       | 1.36857           | 0.68678                           | 0.0015404   |"
      ]
     },
     "metadata": {},
     "output_type": "display_data"
    },
    {
     "data": {
      "text/html": [
       "<pre>| 29      | 37.37s       | 1.36761           | 0.686451                          | 0.00126167  |</pre>"
      ],
      "text/plain": [
       "| 29      | 37.37s       | 1.36761           | 0.686451                          | 0.00126167  |"
      ]
     },
     "metadata": {},
     "output_type": "display_data"
    },
    {
     "data": {
      "text/html": [
       "<pre>| 30      | 38.67s       | 1.36716           | 0.68597                           | 0.0010343   |</pre>"
      ],
      "text/plain": [
       "| 30      | 38.67s       | 1.36716           | 0.68597                           | 0.0010343   |"
      ]
     },
     "metadata": {},
     "output_type": "display_data"
    },
    {
     "data": {
      "text/html": [
       "<pre>+---------+--------------+-------------------+-----------------------------------+-------------+</pre>"
      ],
      "text/plain": [
       "+---------+--------------+-------------------+-----------------------------------+-------------+"
      ]
     },
     "metadata": {},
     "output_type": "display_data"
    },
    {
     "data": {
      "text/html": [
       "<pre>Optimization Complete: Maximum number of passes through the data reached.</pre>"
      ],
      "text/plain": [
       "Optimization Complete: Maximum number of passes through the data reached."
      ]
     },
     "metadata": {},
     "output_type": "display_data"
    },
    {
     "data": {
      "text/html": [
       "<pre>Computing final objective value and training Predictive Error.</pre>"
      ],
      "text/plain": [
       "Computing final objective value and training Predictive Error."
      ]
     },
     "metadata": {},
     "output_type": "display_data"
    },
    {
     "data": {
      "text/html": [
       "<pre>       Final objective value: 1.36866</pre>"
      ],
      "text/plain": [
       "       Final objective value: 1.36866"
      ]
     },
     "metadata": {},
     "output_type": "display_data"
    },
    {
     "data": {
      "text/html": [
       "<pre>       Final training Predictive Error: 0.685339</pre>"
      ],
      "text/plain": [
       "       Final training Predictive Error: 0.685339"
      ]
     },
     "metadata": {},
     "output_type": "display_data"
    },
    {
     "name": "stdout",
     "output_type": "stream",
     "text": [
      "FM training time: 42.474309s\n"
     ]
    }
   ],
   "source": [
    "fm.build()"
   ]
  },
  {
   "cell_type": "code",
   "execution_count": 24,
   "metadata": {
    "ExecuteTime": {
     "end_time": "2017-09-21T11:17:59.826457Z",
     "start_time": "2017-09-21T11:17:59.807076Z"
    },
    "hidden": true
   },
   "outputs": [
    {
     "data": {
      "text/plain": [
       "0.01213035943876125"
      ]
     },
     "execution_count": 24,
     "metadata": {},
     "output_type": "execute_result"
    }
   ],
   "source": [
    "evaluate_hits(test_data, 'isbn_cold', 'userid', fm.recommendations).getnnz(axis=1).mean()"
   ]
  },
  {
   "cell_type": "markdown",
   "metadata": {
    "hidden": true
   },
   "source": [
    "## Parameter search"
   ]
  },
  {
   "cell_type": "code",
   "execution_count": 23,
   "metadata": {
    "ExecuteTime": {
     "end_time": "2017-09-21T11:34:34.162745Z",
     "start_time": "2017-09-21T11:34:34.154394Z"
    },
    "collapsed": true,
    "hidden": true
   },
   "outputs": [],
   "source": [
    "from sklearn.model_selection import ParameterGrid"
   ]
  },
  {
   "cell_type": "code",
   "execution_count": 24,
   "metadata": {
    "ExecuteTime": {
     "end_time": "2017-09-21T11:34:37.619209Z",
     "start_time": "2017-09-21T11:34:37.589446Z"
    },
    "code_folding": [],
    "collapsed": true,
    "hidden": true
   },
   "outputs": [],
   "source": [
    "def run_parameter_search(model, data_model, metrics, params_grid, search_space_size=None, verbose=False, seed=None):\n",
    "    grid_results = {}\n",
    "    \n",
    "    data_model.verbose = verbose\n",
    "    data_model.update()\n",
    "    test_data = (data_model.test.evalset\n",
    "                 .groupby('isbn_cold', sort=False, as_index=False, group_keys=False)\n",
    "                 .apply(lambda x: x.sample(n=1, random_state=np.random.RandomState(seed)))\n",
    "                 .sort_values('isbn_cold'))\n",
    "\n",
    "    eval_func = evaluator(test_data, 'isbn_cold', 'userid')\n",
    "    \n",
    "    if search_space_size:\n",
    "        random_state = np.random.RandomState(seed) if seed else np.random\n",
    "        param_choice = random_state.choice(len(params_grid), search_space_size, replace=False)\n",
    "    else:\n",
    "        param_choice = range(len(params_grid))\n",
    "\n",
    "    for p in tqdm_notebook(param_choice, desc='params'):\n",
    "        param_set = params_grid[p]\n",
    "        build_models([model], config=[param_set], verbose=verbose)\n",
    "\n",
    "        key = tuple([(''.join([s[0] for s in p.split('_')]), v) for p, v in param_set.iteritems()])\n",
    "        grid_results[key] = eval_func(model, metrics)\n",
    "    return grid_results"
   ]
  },
  {
   "cell_type": "code",
   "execution_count": 25,
   "metadata": {
    "ExecuteTime": {
     "end_time": "2017-09-21T11:34:38.699354Z",
     "start_time": "2017-09-21T11:34:38.693527Z"
    },
    "collapsed": true,
    "hidden": true
   },
   "outputs": [],
   "source": [
    "seed = 42\n",
    "n_experiments = 120\n",
    "metrics = 'HR MRR COV'.split()"
   ]
  },
  {
   "cell_type": "markdown",
   "metadata": {
    "hidden": true
   },
   "source": [
    "### Exploration"
   ]
  },
  {
   "cell_type": "code",
   "execution_count": 26,
   "metadata": {
    "ExecuteTime": {
     "end_time": "2017-09-21T11:34:41.303570Z",
     "start_time": "2017-09-21T11:34:41.276825Z"
    },
    "code_folding": [],
    "hidden": true
   },
   "outputs": [
    {
     "data": {
      "text/plain": [
       "216000"
      ]
     },
     "execution_count": 26,
     "metadata": {},
     "output_type": "execute_result"
    }
   ],
   "source": [
    "params = {\n",
    "          'ranking_regularization': [0.0001, 0.0003, 0.001, 0.003, 0.01, 0.03, 0.1, 0.3],\n",
    "          'regularization':         [1e-10, 3e-10, 1e-9, 3e-9, 1e-8, 3e-8, 1e-7, 3e-7, 1e-6, 3e-6, 1e-5, 3e-5, 1e-4, 3e-4, 1e-3],\n",
    "          'linear_regularization':  [1e-10, 3e-10, 1e-9, 3e-9, 1e-8, 3e-8, 1e-7, 3e-7, 1e-6, 3e-6, 1e-5, 3e-5, 3e-4, 3e-4, 1e-3],\n",
    "          'sgd_step_size':          [0.01, 0.03, 0.01, 0.03, 0.1, 0.3],\n",
    "          'num_sampled_negative_examples': [1, 3, 10, 30, 100],\n",
    "          'max_iterations': [40],\n",
    "          'rank': [10, 30, 100, 300]\n",
    "         }\n",
    "\n",
    "params_grid = ParameterGrid(params)\n",
    "len(params_grid)"
   ]
  },
  {
   "cell_type": "code",
   "execution_count": 27,
   "metadata": {
    "ExecuteTime": {
     "end_time": "2017-09-21T11:34:52.803760Z",
     "start_time": "2017-09-21T11:34:52.788564Z"
    },
    "code_folding": [],
    "collapsed": true,
    "hidden": true
   },
   "outputs": [],
   "source": [
    "# base FM settings\n",
    "fm = FMColdStart(data_model, item_side_info=books[sim_type.keys()])\n",
    "fm.method = 'FM'\n",
    "fm.binary_target = True\n",
    "fm.solver = 'sgd'\n",
    "fm.ranking_optimization = True\n",
    "fm.verbose = False\n",
    "fm.seed = seed"
   ]
  },
  {
   "cell_type": "code",
   "execution_count": null,
   "metadata": {
    "ExecuteTime": {
     "start_time": "2017-09-21T08:35:59.462Z"
    },
    "hidden": true,
    "scrolled": false
   },
   "outputs": [
    {
     "data": {
      "application/vnd.jupyter.widget-view+json": {
       "model_id": "5d6d4a2a3c9b4da0af9aec09d2814f92",
       "version_major": 2,
       "version_minor": 0
      },
      "text/plain": [
       "A Jupyter Widget"
      ]
     },
     "metadata": {},
     "output_type": "display_data"
    },
    {
     "data": {
      "text/html": [
       "<pre>Recsys training: model = ranking_factorization_recommender</pre>"
      ],
      "text/plain": [
       "Recsys training: model = ranking_factorization_recommender"
      ]
     },
     "metadata": {},
     "output_type": "display_data"
    },
    {
     "data": {
      "text/html": [
       "<pre>Recsys training: model = ranking_factorization_recommender</pre>"
      ],
      "text/plain": [
       "Recsys training: model = ranking_factorization_recommender"
      ]
     },
     "metadata": {},
     "output_type": "display_data"
    },
    {
     "data": {
      "text/html": [
       "<pre>Recsys training: model = ranking_factorization_recommender</pre>"
      ],
      "text/plain": [
       "Recsys training: model = ranking_factorization_recommender"
      ]
     },
     "metadata": {},
     "output_type": "display_data"
    },
    {
     "data": {
      "text/html": [
       "<pre>Recsys training: model = ranking_factorization_recommender</pre>"
      ],
      "text/plain": [
       "Recsys training: model = ranking_factorization_recommender"
      ]
     },
     "metadata": {},
     "output_type": "display_data"
    },
    {
     "data": {
      "text/html": [
       "<pre>Recsys training: model = ranking_factorization_recommender</pre>"
      ],
      "text/plain": [
       "Recsys training: model = ranking_factorization_recommender"
      ]
     },
     "metadata": {},
     "output_type": "display_data"
    },
    {
     "data": {
      "text/html": [
       "<pre>Recsys training: model = ranking_factorization_recommender</pre>"
      ],
      "text/plain": [
       "Recsys training: model = ranking_factorization_recommender"
      ]
     },
     "metadata": {},
     "output_type": "display_data"
    },
    {
     "data": {
      "text/html": [
       "<pre>Recsys training: model = ranking_factorization_recommender</pre>"
      ],
      "text/plain": [
       "Recsys training: model = ranking_factorization_recommender"
      ]
     },
     "metadata": {},
     "output_type": "display_data"
    },
    {
     "data": {
      "text/html": [
       "<pre>Recsys training: model = ranking_factorization_recommender</pre>"
      ],
      "text/plain": [
       "Recsys training: model = ranking_factorization_recommender"
      ]
     },
     "metadata": {},
     "output_type": "display_data"
    },
    {
     "data": {
      "text/html": [
       "<pre>Recsys training: model = ranking_factorization_recommender</pre>"
      ],
      "text/plain": [
       "Recsys training: model = ranking_factorization_recommender"
      ]
     },
     "metadata": {},
     "output_type": "display_data"
    },
    {
     "data": {
      "text/html": [
       "<pre>Recsys training: model = ranking_factorization_recommender</pre>"
      ],
      "text/plain": [
       "Recsys training: model = ranking_factorization_recommender"
      ]
     },
     "metadata": {},
     "output_type": "display_data"
    },
    {
     "data": {
      "text/html": [
       "<pre>Recsys training: model = ranking_factorization_recommender</pre>"
      ],
      "text/plain": [
       "Recsys training: model = ranking_factorization_recommender"
      ]
     },
     "metadata": {},
     "output_type": "display_data"
    },
    {
     "data": {
      "text/html": [
       "<pre>Recsys training: model = ranking_factorization_recommender</pre>"
      ],
      "text/plain": [
       "Recsys training: model = ranking_factorization_recommender"
      ]
     },
     "metadata": {},
     "output_type": "display_data"
    },
    {
     "data": {
      "text/html": [
       "<pre>Recsys training: model = ranking_factorization_recommender</pre>"
      ],
      "text/plain": [
       "Recsys training: model = ranking_factorization_recommender"
      ]
     },
     "metadata": {},
     "output_type": "display_data"
    },
    {
     "data": {
      "text/html": [
       "<pre>Recsys training: model = ranking_factorization_recommender</pre>"
      ],
      "text/plain": [
       "Recsys training: model = ranking_factorization_recommender"
      ]
     },
     "metadata": {},
     "output_type": "display_data"
    }
   ],
   "source": [
    "grid_results = run_parameter_search(fm, data_model, metrics, params_grid, n_experiments, verbose=False, seed=seed)"
   ]
  },
  {
   "cell_type": "code",
   "execution_count": null,
   "metadata": {
    "ExecuteTime": {
     "start_time": "2017-09-21T08:36:01.767Z"
    },
    "collapsed": true,
    "hidden": true
   },
   "outputs": [],
   "source": [
    "grid_results_df = pd.DataFrame.from_dict(grid_results, orient='index')"
   ]
  },
  {
   "cell_type": "code",
   "execution_count": null,
   "metadata": {
    "ExecuteTime": {
     "start_time": "2017-09-21T08:36:21.524Z"
    },
    "collapsed": true,
    "hidden": true
   },
   "outputs": [],
   "source": [
    "grid_results_df.to_csv('Coldstart_Random_Search_results_BX.csv', index=True)"
   ]
  },
  {
   "cell_type": "code",
   "execution_count": 40,
   "metadata": {
    "ExecuteTime": {
     "end_time": "2017-09-23T18:25:24.344185Z",
     "start_time": "2017-09-23T18:25:24.281437Z"
    },
    "hidden": true
   },
   "outputs": [
    {
     "data": {
      "text/html": [
       "<div>\n",
       "<style>\n",
       "    .dataframe thead tr:only-child th {\n",
       "        text-align: right;\n",
       "    }\n",
       "\n",
       "    .dataframe thead th {\n",
       "        text-align: left;\n",
       "    }\n",
       "\n",
       "    .dataframe tbody tr th {\n",
       "        vertical-align: top;\n",
       "    }\n",
       "</style>\n",
       "<table border=\"1\" class=\"dataframe\">\n",
       "  <thead>\n",
       "    <tr style=\"text-align: right;\">\n",
       "      <th></th>\n",
       "      <th></th>\n",
       "      <th></th>\n",
       "      <th></th>\n",
       "      <th></th>\n",
       "      <th></th>\n",
       "      <th></th>\n",
       "      <th>HR</th>\n",
       "      <th>MRR</th>\n",
       "      <th>COV</th>\n",
       "    </tr>\n",
       "  </thead>\n",
       "  <tbody>\n",
       "    <tr>\n",
       "      <th rowspan=\"3\" valign=\"top\">(sss, 0.1)</th>\n",
       "      <th>(r, 3e-10)</th>\n",
       "      <th>(rr, 0.0003)</th>\n",
       "      <th>(r, 10)</th>\n",
       "      <th>(nsne, 3)</th>\n",
       "      <th>(lr, 3e-05)</th>\n",
       "      <th>(mi, 40)</th>\n",
       "      <td>0.048242</td>\n",
       "      <td>0.019532</td>\n",
       "      <td>1026</td>\n",
       "    </tr>\n",
       "    <tr>\n",
       "      <th>(r, 3e-07)</th>\n",
       "      <th>(rr, 0.003)</th>\n",
       "      <th>(r, 30)</th>\n",
       "      <th>(nsne, 10)</th>\n",
       "      <th>(lr, 3e-05)</th>\n",
       "      <th>(mi, 40)</th>\n",
       "      <td>0.044273</td>\n",
       "      <td>0.020478</td>\n",
       "      <td>1221</td>\n",
       "    </tr>\n",
       "    <tr>\n",
       "      <th>(r, 3e-06)</th>\n",
       "      <th>(rr, 0.3)</th>\n",
       "      <th>(r, 30)</th>\n",
       "      <th>(nsne, 10)</th>\n",
       "      <th>(lr, 3e-05)</th>\n",
       "      <th>(mi, 40)</th>\n",
       "      <td>0.046733</td>\n",
       "      <td>0.020210</td>\n",
       "      <td>1038</td>\n",
       "    </tr>\n",
       "    <tr>\n",
       "      <th>(sss, 0.3)</th>\n",
       "      <th>(r, 1e-06)</th>\n",
       "      <th>(rr, 0.03)</th>\n",
       "      <th>(r, 100)</th>\n",
       "      <th>(nsne, 10)</th>\n",
       "      <th>(lr, 3e-08)</th>\n",
       "      <th>(mi, 40)</th>\n",
       "      <td>0.036838</td>\n",
       "      <td>0.021277</td>\n",
       "      <td>15388</td>\n",
       "    </tr>\n",
       "  </tbody>\n",
       "</table>\n",
       "</div>"
      ],
      "text/plain": [
       "                                                                                   HR  \\\n",
       "(sss, 0.1) (r, 3e-10) (rr, 0.0003) (r, 10)  (nsne, 3)  (lr, 3e-05) (mi, 40)  0.048242   \n",
       "           (r, 3e-07) (rr, 0.003)  (r, 30)  (nsne, 10) (lr, 3e-05) (mi, 40)  0.044273   \n",
       "           (r, 3e-06) (rr, 0.3)    (r, 30)  (nsne, 10) (lr, 3e-05) (mi, 40)  0.046733   \n",
       "(sss, 0.3) (r, 1e-06) (rr, 0.03)   (r, 100) (nsne, 10) (lr, 3e-08) (mi, 40)  0.036838   \n",
       "\n",
       "                                                                                  MRR  \\\n",
       "(sss, 0.1) (r, 3e-10) (rr, 0.0003) (r, 10)  (nsne, 3)  (lr, 3e-05) (mi, 40)  0.019532   \n",
       "           (r, 3e-07) (rr, 0.003)  (r, 30)  (nsne, 10) (lr, 3e-05) (mi, 40)  0.020478   \n",
       "           (r, 3e-06) (rr, 0.3)    (r, 30)  (nsne, 10) (lr, 3e-05) (mi, 40)  0.020210   \n",
       "(sss, 0.3) (r, 1e-06) (rr, 0.03)   (r, 100) (nsne, 10) (lr, 3e-08) (mi, 40)  0.021277   \n",
       "\n",
       "                                                                               COV  \n",
       "(sss, 0.1) (r, 3e-10) (rr, 0.0003) (r, 10)  (nsne, 3)  (lr, 3e-05) (mi, 40)   1026  \n",
       "           (r, 3e-07) (rr, 0.003)  (r, 30)  (nsne, 10) (lr, 3e-05) (mi, 40)   1221  \n",
       "           (r, 3e-06) (rr, 0.3)    (r, 30)  (nsne, 10) (lr, 3e-05) (mi, 40)   1038  \n",
       "(sss, 0.3) (r, 1e-06) (rr, 0.03)   (r, 100) (nsne, 10) (lr, 3e-08) (mi, 40)  15388  "
      ]
     },
     "execution_count": 40,
     "metadata": {},
     "output_type": "execute_result"
    }
   ],
   "source": [
    "grid_results_df.loc[lambda x: x.MRR > 0.9*x.MRR.max()]"
   ]
  },
  {
   "cell_type": "code",
   "execution_count": 41,
   "metadata": {
    "ExecuteTime": {
     "end_time": "2017-09-23T18:25:26.264380Z",
     "start_time": "2017-09-23T18:25:25.595486Z"
    },
    "hidden": true
   },
   "outputs": [
    {
     "data": {
      "text/plain": [
       "<matplotlib.axes._subplots.AxesSubplot at 0x7f1bd5af8590>"
      ]
     },
     "execution_count": 41,
     "metadata": {},
     "output_type": "execute_result"
    },
    {
     "data": {
      "image/png": "[encoded data removed]",
      "text/plain": [
       "<matplotlib.figure.Figure at 0x7f1be0b8a650>"
      ]
     },
     "metadata": {
      "image/png": {
       "height": 250,
       "width": 420
      }
     },
     "output_type": "display_data"
    }
   ],
   "source": [
    "grid_results_df[['HR', 'MRR']].reset_index(drop=True).plot(secondary_y='HR', ylim=(0, None))"
   ]
  },
  {
   "cell_type": "markdown",
   "metadata": {
    "hidden": true
   },
   "source": [
    "### Fine-tuning"
   ]
  },
  {
   "cell_type": "code",
   "execution_count": 42,
   "metadata": {
    "ExecuteTime": {
     "end_time": "2017-09-23T18:28:08.969235Z",
     "start_time": "2017-09-23T18:28:08.953073Z"
    },
    "code_folding": [],
    "hidden": true
   },
   "outputs": [
    {
     "data": {
      "text/plain": [
       "9"
      ]
     },
     "execution_count": 42,
     "metadata": {},
     "output_type": "execute_result"
    }
   ],
   "source": [
    "refined_iters = {\n",
    "          'ranking_regularization': [0.003],\n",
    "          'regularization':         [3e-7],\n",
    "          'linear_regularization':  [3e-5],\n",
    "          'sgd_step_size':          [0.1],\n",
    "          'num_sampled_negative_examples': [10],\n",
    "          'max_iterations': [5, 10, 15, 20, 30, 40, 50, 75, 100],\n",
    "          'rank': [30]\n",
    "         }\n",
    "refined_iters_grid = ParameterGrid(refined_iters)\n",
    "len(refined_iters_grid)"
   ]
  },
  {
   "cell_type": "code",
   "execution_count": 43,
   "metadata": {
    "ExecuteTime": {
     "end_time": "2017-09-23T21:01:32.147533Z",
     "start_time": "2017-09-23T18:28:12.574165Z"
    },
    "hidden": true
   },
   "outputs": [
    {
     "data": {
      "application/vnd.jupyter.widget-view+json": {
       "model_id": "5a9e4f6572e3492f8dc1509cf27db5fa",
       "version_major": 2,
       "version_minor": 0
      },
      "text/plain": [
       "A Jupyter Widget"
      ]
     },
     "metadata": {},
     "output_type": "display_data"
    },
    {
     "data": {
      "text/html": [
       "<pre>Recsys training: model = ranking_factorization_recommender</pre>"
      ],
      "text/plain": [
       "Recsys training: model = ranking_factorization_recommender"
      ]
     },
     "metadata": {},
     "output_type": "display_data"
    },
    {
     "data": {
      "text/html": [
       "<pre>Recsys training: model = ranking_factorization_recommender</pre>"
      ],
      "text/plain": [
       "Recsys training: model = ranking_factorization_recommender"
      ]
     },
     "metadata": {},
     "output_type": "display_data"
    },
    {
     "data": {
      "text/html": [
       "<pre>Recsys training: model = ranking_factorization_recommender</pre>"
      ],
      "text/plain": [
       "Recsys training: model = ranking_factorization_recommender"
      ]
     },
     "metadata": {},
     "output_type": "display_data"
    },
    {
     "data": {
      "text/html": [
       "<pre>Recsys training: model = ranking_factorization_recommender</pre>"
      ],
      "text/plain": [
       "Recsys training: model = ranking_factorization_recommender"
      ]
     },
     "metadata": {},
     "output_type": "display_data"
    },
    {
     "data": {
      "text/html": [
       "<pre>Recsys training: model = ranking_factorization_recommender</pre>"
      ],
      "text/plain": [
       "Recsys training: model = ranking_factorization_recommender"
      ]
     },
     "metadata": {},
     "output_type": "display_data"
    },
    {
     "data": {
      "text/html": [
       "<pre>Recsys training: model = ranking_factorization_recommender</pre>"
      ],
      "text/plain": [
       "Recsys training: model = ranking_factorization_recommender"
      ]
     },
     "metadata": {},
     "output_type": "display_data"
    },
    {
     "data": {
      "text/html": [
       "<pre>Recsys training: model = ranking_factorization_recommender</pre>"
      ],
      "text/plain": [
       "Recsys training: model = ranking_factorization_recommender"
      ]
     },
     "metadata": {},
     "output_type": "display_data"
    },
    {
     "data": {
      "text/html": [
       "<pre>Recsys training: model = ranking_factorization_recommender</pre>"
      ],
      "text/plain": [
       "Recsys training: model = ranking_factorization_recommender"
      ]
     },
     "metadata": {},
     "output_type": "display_data"
    },
    {
     "data": {
      "text/html": [
       "<pre>Recsys training: model = ranking_factorization_recommender</pre>"
      ],
      "text/plain": [
       "Recsys training: model = ranking_factorization_recommender"
      ]
     },
     "metadata": {},
     "output_type": "display_data"
    },
    {
     "name": "stdout",
     "output_type": "stream",
     "text": [
      "\n"
     ]
    }
   ],
   "source": [
    "iter_grid_results = run_parameter_search(fm, data_model, metrics, refined_iters_grid, verbose=False, seed=seed)"
   ]
  },
  {
   "cell_type": "code",
   "execution_count": 44,
   "metadata": {
    "ExecuteTime": {
     "end_time": "2017-09-23T21:01:32.578085Z",
     "start_time": "2017-09-23T21:01:32.150117Z"
    },
    "hidden": true
   },
   "outputs": [
    {
     "data": {
      "text/plain": [
       "<matplotlib.axes._subplots.AxesSubplot at 0x7f1bd5a2eed0>"
      ]
     },
     "execution_count": 44,
     "metadata": {},
     "output_type": "execute_result"
    },
    {
     "data": {
      "image/png": "[encoded data removed]",
      "text/plain": [
       "<matplotlib.figure.Figure at 0x7f1bd5b9cb50>"
      ]
     },
     "metadata": {
      "image/png": {
       "height": 250,
       "width": 407
      }
     },
     "output_type": "display_data"
    }
   ],
   "source": [
    "pd.DataFrame(iter_grid_results).T.reset_index(level=[0, 1, 2, 3, 4, 5], drop=True)[['MRR', 'HR']].plot()"
   ]
  },
  {
   "cell_type": "code",
   "execution_count": null,
   "metadata": {
    "collapsed": true,
    "hidden": true
   },
   "outputs": [],
   "source": []
  },
  {
   "cell_type": "code",
   "execution_count": 45,
   "metadata": {
    "ExecuteTime": {
     "end_time": "2017-09-23T21:47:11.511380Z",
     "start_time": "2017-09-23T21:47:11.493906Z"
    },
    "code_folding": [],
    "hidden": true
   },
   "outputs": [
    {
     "data": {
      "text/plain": [
       "81"
      ]
     },
     "execution_count": 45,
     "metadata": {},
     "output_type": "execute_result"
    }
   ],
   "source": [
    "refined_params = {\n",
    "          'ranking_regularization': [0.001, 0.003, 0.01],\n",
    "          'regularization':         [1e-7, 3e-7, 1e-6],\n",
    "          'linear_regularization':  [1e-5, 3e-5, 1e-4],\n",
    "          'sgd_step_size':          [0.1],\n",
    "          'num_sampled_negative_examples': [5, 10, 15],\n",
    "          'max_iterations': [75],\n",
    "          'rank': [30]\n",
    "         }\n",
    "refined_params_grid = ParameterGrid(refined_params)\n",
    "len(refined_params_grid)"
   ]
  },
  {
   "cell_type": "code",
   "execution_count": null,
   "metadata": {
    "ExecuteTime": {
     "start_time": "2017-09-23T18:47:25.385Z"
    },
    "hidden": true
   },
   "outputs": [
    {
     "data": {
      "application/vnd.jupyter.widget-view+json": {
       "model_id": "0a3a32fbd3934d8f9d770fd89e29d890",
       "version_major": 2,
       "version_minor": 0
      },
      "text/plain": [
       "A Jupyter Widget"
      ]
     },
     "metadata": {},
     "output_type": "display_data"
    },
    {
     "data": {
      "text/html": [
       "<pre>Recsys training: model = ranking_factorization_recommender</pre>"
      ],
      "text/plain": [
       "Recsys training: model = ranking_factorization_recommender"
      ]
     },
     "metadata": {},
     "output_type": "display_data"
    },
    {
     "data": {
      "text/html": [
       "<pre>Recsys training: model = ranking_factorization_recommender</pre>"
      ],
      "text/plain": [
       "Recsys training: model = ranking_factorization_recommender"
      ]
     },
     "metadata": {},
     "output_type": "display_data"
    },
    {
     "data": {
      "text/html": [
       "<pre>Recsys training: model = ranking_factorization_recommender</pre>"
      ],
      "text/plain": [
       "Recsys training: model = ranking_factorization_recommender"
      ]
     },
     "metadata": {},
     "output_type": "display_data"
    },
    {
     "data": {
      "text/html": [
       "<pre>Recsys training: model = ranking_factorization_recommender</pre>"
      ],
      "text/plain": [
       "Recsys training: model = ranking_factorization_recommender"
      ]
     },
     "metadata": {},
     "output_type": "display_data"
    },
    {
     "data": {
      "text/html": [
       "<pre>Recsys training: model = ranking_factorization_recommender</pre>"
      ],
      "text/plain": [
       "Recsys training: model = ranking_factorization_recommender"
      ]
     },
     "metadata": {},
     "output_type": "display_data"
    },
    {
     "data": {
      "text/html": [
       "<pre>Recsys training: model = ranking_factorization_recommender</pre>"
      ],
      "text/plain": [
       "Recsys training: model = ranking_factorization_recommender"
      ]
     },
     "metadata": {},
     "output_type": "display_data"
    },
    {
     "data": {
      "text/html": [
       "<pre>Recsys training: model = ranking_factorization_recommender</pre>"
      ],
      "text/plain": [
       "Recsys training: model = ranking_factorization_recommender"
      ]
     },
     "metadata": {},
     "output_type": "display_data"
    },
    {
     "data": {
      "text/html": [
       "<pre>Recsys training: model = ranking_factorization_recommender</pre>"
      ],
      "text/plain": [
       "Recsys training: model = ranking_factorization_recommender"
      ]
     },
     "metadata": {},
     "output_type": "display_data"
    },
    {
     "data": {
      "text/html": [
       "<pre>Recsys training: model = ranking_factorization_recommender</pre>"
      ],
      "text/plain": [
       "Recsys training: model = ranking_factorization_recommender"
      ]
     },
     "metadata": {},
     "output_type": "display_data"
    },
    {
     "data": {
      "text/html": [
       "<pre>Recsys training: model = ranking_factorization_recommender</pre>"
      ],
      "text/plain": [
       "Recsys training: model = ranking_factorization_recommender"
      ]
     },
     "metadata": {},
     "output_type": "display_data"
    },
    {
     "data": {
      "text/html": [
       "<pre>Recsys training: model = ranking_factorization_recommender</pre>"
      ],
      "text/plain": [
       "Recsys training: model = ranking_factorization_recommender"
      ]
     },
     "metadata": {},
     "output_type": "display_data"
    },
    {
     "data": {
      "text/html": [
       "<pre>Recsys training: model = ranking_factorization_recommender</pre>"
      ],
      "text/plain": [
       "Recsys training: model = ranking_factorization_recommender"
      ]
     },
     "metadata": {},
     "output_type": "display_data"
    },
    {
     "data": {
      "text/html": [
       "<pre>Recsys training: model = ranking_factorization_recommender</pre>"
      ],
      "text/plain": [
       "Recsys training: model = ranking_factorization_recommender"
      ]
     },
     "metadata": {},
     "output_type": "display_data"
    },
    {
     "data": {
      "text/html": [
       "<pre>Recsys training: model = ranking_factorization_recommender</pre>"
      ],
      "text/plain": [
       "Recsys training: model = ranking_factorization_recommender"
      ]
     },
     "metadata": {},
     "output_type": "display_data"
    },
    {
     "data": {
      "text/html": [
       "<pre>Recsys training: model = ranking_factorization_recommender</pre>"
      ],
      "text/plain": [
       "Recsys training: model = ranking_factorization_recommender"
      ]
     },
     "metadata": {},
     "output_type": "display_data"
    },
    {
     "data": {
      "text/html": [
       "<pre>Recsys training: model = ranking_factorization_recommender</pre>"
      ],
      "text/plain": [
       "Recsys training: model = ranking_factorization_recommender"
      ]
     },
     "metadata": {},
     "output_type": "display_data"
    },
    {
     "data": {
      "text/html": [
       "<pre>Recsys training: model = ranking_factorization_recommender</pre>"
      ],
      "text/plain": [
       "Recsys training: model = ranking_factorization_recommender"
      ]
     },
     "metadata": {},
     "output_type": "display_data"
    },
    {
     "data": {
      "text/html": [
       "<pre>Recsys training: model = ranking_factorization_recommender</pre>"
      ],
      "text/plain": [
       "Recsys training: model = ranking_factorization_recommender"
      ]
     },
     "metadata": {},
     "output_type": "display_data"
    },
    {
     "data": {
      "text/html": [
       "<pre>Recsys training: model = ranking_factorization_recommender</pre>"
      ],
      "text/plain": [
       "Recsys training: model = ranking_factorization_recommender"
      ]
     },
     "metadata": {},
     "output_type": "display_data"
    },
    {
     "data": {
      "text/html": [
       "<pre>Recsys training: model = ranking_factorization_recommender</pre>"
      ],
      "text/plain": [
       "Recsys training: model = ranking_factorization_recommender"
      ]
     },
     "metadata": {},
     "output_type": "display_data"
    },
    {
     "data": {
      "text/html": [
       "<pre>Recsys training: model = ranking_factorization_recommender</pre>"
      ],
      "text/plain": [
       "Recsys training: model = ranking_factorization_recommender"
      ]
     },
     "metadata": {},
     "output_type": "display_data"
    },
    {
     "data": {
      "text/html": [
       "<pre>Recsys training: model = ranking_factorization_recommender</pre>"
      ],
      "text/plain": [
       "Recsys training: model = ranking_factorization_recommender"
      ]
     },
     "metadata": {},
     "output_type": "display_data"
    },
    {
     "data": {
      "text/html": [
       "<pre>Recsys training: model = ranking_factorization_recommender</pre>"
      ],
      "text/plain": [
       "Recsys training: model = ranking_factorization_recommender"
      ]
     },
     "metadata": {},
     "output_type": "display_data"
    },
    {
     "data": {
      "text/html": [
       "<pre>Recsys training: model = ranking_factorization_recommender</pre>"
      ],
      "text/plain": [
       "Recsys training: model = ranking_factorization_recommender"
      ]
     },
     "metadata": {},
     "output_type": "display_data"
    },
    {
     "data": {
      "text/html": [
       "<pre>Recsys training: model = ranking_factorization_recommender</pre>"
      ],
      "text/plain": [
       "Recsys training: model = ranking_factorization_recommender"
      ]
     },
     "metadata": {},
     "output_type": "display_data"
    },
    {
     "data": {
      "text/html": [
       "<pre>Recsys training: model = ranking_factorization_recommender</pre>"
      ],
      "text/plain": [
       "Recsys training: model = ranking_factorization_recommender"
      ]
     },
     "metadata": {},
     "output_type": "display_data"
    },
    {
     "data": {
      "text/html": [
       "<pre>Recsys training: model = ranking_factorization_recommender</pre>"
      ],
      "text/plain": [
       "Recsys training: model = ranking_factorization_recommender"
      ]
     },
     "metadata": {},
     "output_type": "display_data"
    },
    {
     "data": {
      "text/html": [
       "<pre>Recsys training: model = ranking_factorization_recommender</pre>"
      ],
      "text/plain": [
       "Recsys training: model = ranking_factorization_recommender"
      ]
     },
     "metadata": {},
     "output_type": "display_data"
    },
    {
     "data": {
      "text/html": [
       "<pre>Recsys training: model = ranking_factorization_recommender</pre>"
      ],
      "text/plain": [
       "Recsys training: model = ranking_factorization_recommender"
      ]
     },
     "metadata": {},
     "output_type": "display_data"
    },
    {
     "data": {
      "text/html": [
       "<pre>Recsys training: model = ranking_factorization_recommender</pre>"
      ],
      "text/plain": [
       "Recsys training: model = ranking_factorization_recommender"
      ]
     },
     "metadata": {},
     "output_type": "display_data"
    },
    {
     "data": {
      "text/html": [
       "<pre>Recsys training: model = ranking_factorization_recommender</pre>"
      ],
      "text/plain": [
       "Recsys training: model = ranking_factorization_recommender"
      ]
     },
     "metadata": {},
     "output_type": "display_data"
    },
    {
     "data": {
      "text/html": [
       "<pre>Recsys training: model = ranking_factorization_recommender</pre>"
      ],
      "text/plain": [
       "Recsys training: model = ranking_factorization_recommender"
      ]
     },
     "metadata": {},
     "output_type": "display_data"
    },
    {
     "data": {
      "text/html": [
       "<pre>Recsys training: model = ranking_factorization_recommender</pre>"
      ],
      "text/plain": [
       "Recsys training: model = ranking_factorization_recommender"
      ]
     },
     "metadata": {},
     "output_type": "display_data"
    },
    {
     "data": {
      "text/html": [
       "<pre>Recsys training: model = ranking_factorization_recommender</pre>"
      ],
      "text/plain": [
       "Recsys training: model = ranking_factorization_recommender"
      ]
     },
     "metadata": {},
     "output_type": "display_data"
    },
    {
     "data": {
      "text/html": [
       "<pre>Recsys training: model = ranking_factorization_recommender</pre>"
      ],
      "text/plain": [
       "Recsys training: model = ranking_factorization_recommender"
      ]
     },
     "metadata": {},
     "output_type": "display_data"
    },
    {
     "data": {
      "text/html": [
       "<pre>Recsys training: model = ranking_factorization_recommender</pre>"
      ],
      "text/plain": [
       "Recsys training: model = ranking_factorization_recommender"
      ]
     },
     "metadata": {},
     "output_type": "display_data"
    },
    {
     "data": {
      "text/html": [
       "<pre>Recsys training: model = ranking_factorization_recommender</pre>"
      ],
      "text/plain": [
       "Recsys training: model = ranking_factorization_recommender"
      ]
     },
     "metadata": {},
     "output_type": "display_data"
    },
    {
     "data": {
      "text/html": [
       "<pre>Recsys training: model = ranking_factorization_recommender</pre>"
      ],
      "text/plain": [
       "Recsys training: model = ranking_factorization_recommender"
      ]
     },
     "metadata": {},
     "output_type": "display_data"
    },
    {
     "data": {
      "text/html": [
       "<pre>Recsys training: model = ranking_factorization_recommender</pre>"
      ],
      "text/plain": [
       "Recsys training: model = ranking_factorization_recommender"
      ]
     },
     "metadata": {},
     "output_type": "display_data"
    },
    {
     "data": {
      "text/html": [
       "<pre>Recsys training: model = ranking_factorization_recommender</pre>"
      ],
      "text/plain": [
       "Recsys training: model = ranking_factorization_recommender"
      ]
     },
     "metadata": {},
     "output_type": "display_data"
    },
    {
     "data": {
      "text/html": [
       "<pre>Recsys training: model = ranking_factorization_recommender</pre>"
      ],
      "text/plain": [
       "Recsys training: model = ranking_factorization_recommender"
      ]
     },
     "metadata": {},
     "output_type": "display_data"
    },
    {
     "data": {
      "text/html": [
       "<pre>Recsys training: model = ranking_factorization_recommender</pre>"
      ],
      "text/plain": [
       "Recsys training: model = ranking_factorization_recommender"
      ]
     },
     "metadata": {},
     "output_type": "display_data"
    },
    {
     "data": {
      "text/html": [
       "<pre>Recsys training: model = ranking_factorization_recommender</pre>"
      ],
      "text/plain": [
       "Recsys training: model = ranking_factorization_recommender"
      ]
     },
     "metadata": {},
     "output_type": "display_data"
    }
   ],
   "source": [
    "grid_results_refined = run_parameter_search(fm, data_model, metrics, refined_params_grid, verbose=False, seed=seed)"
   ]
  },
  {
   "cell_type": "code",
   "execution_count": null,
   "metadata": {
    "ExecuteTime": {
     "start_time": "2017-09-23T18:47:27.015Z"
    },
    "collapsed": true,
    "hidden": true
   },
   "outputs": [],
   "source": [
    "grid_results_refined_df = pd.DataFrame.from_dict(grid_results_refined, orient='index')"
   ]
  },
  {
   "cell_type": "code",
   "execution_count": 54,
   "metadata": {
    "ExecuteTime": {
     "end_time": "2017-09-25T10:11:57.921133Z",
     "start_time": "2017-09-25T10:11:57.842284Z"
    },
    "hidden": true
   },
   "outputs": [
    {
     "data": {
      "text/html": [
       "<div>\n",
       "<style>\n",
       "    .dataframe thead tr:only-child th {\n",
       "        text-align: right;\n",
       "    }\n",
       "\n",
       "    .dataframe thead th {\n",
       "        text-align: left;\n",
       "    }\n",
       "\n",
       "    .dataframe tbody tr th {\n",
       "        vertical-align: top;\n",
       "    }\n",
       "</style>\n",
       "<table border=\"1\" class=\"dataframe\">\n",
       "  <thead>\n",
       "    <tr style=\"text-align: right;\">\n",
       "      <th></th>\n",
       "      <th></th>\n",
       "      <th></th>\n",
       "      <th></th>\n",
       "      <th></th>\n",
       "      <th></th>\n",
       "      <th></th>\n",
       "      <th>HR</th>\n",
       "      <th>MRR</th>\n",
       "      <th>COV</th>\n",
       "    </tr>\n",
       "  </thead>\n",
       "  <tbody>\n",
       "    <tr>\n",
       "      <th rowspan=\"8\" valign=\"top\">(sss, 0.1)</th>\n",
       "      <th rowspan=\"2\" valign=\"top\">(r, 1e-07)</th>\n",
       "      <th>(rr, 0.001)</th>\n",
       "      <th>(r, 30)</th>\n",
       "      <th>(nsne, 5)</th>\n",
       "      <th>(lr, 3e-05)</th>\n",
       "      <th>(mi, 75)</th>\n",
       "      <td>0.048018</td>\n",
       "      <td>0.022207</td>\n",
       "      <td>1313</td>\n",
       "    </tr>\n",
       "    <tr>\n",
       "      <th>(rr, 0.01)</th>\n",
       "      <th>(r, 30)</th>\n",
       "      <th>(nsne, 5)</th>\n",
       "      <th>(lr, 3e-05)</th>\n",
       "      <th>(mi, 75)</th>\n",
       "      <td>0.048801</td>\n",
       "      <td>0.022061</td>\n",
       "      <td>1320</td>\n",
       "    </tr>\n",
       "    <tr>\n",
       "      <th rowspan=\"3\" valign=\"top\">(r, 3e-07)</th>\n",
       "      <th>(rr, 0.001)</th>\n",
       "      <th>(r, 30)</th>\n",
       "      <th>(nsne, 5)</th>\n",
       "      <th>(lr, 3e-05)</th>\n",
       "      <th>(mi, 75)</th>\n",
       "      <td>0.051149</td>\n",
       "      <td>0.022105</td>\n",
       "      <td>1295</td>\n",
       "    </tr>\n",
       "    <tr>\n",
       "      <th>(rr, 0.003)</th>\n",
       "      <th>(r, 30)</th>\n",
       "      <th>(nsne, 10)</th>\n",
       "      <th>(lr, 3e-05)</th>\n",
       "      <th>(mi, 75)</th>\n",
       "      <td>0.047627</td>\n",
       "      <td>0.022051</td>\n",
       "      <td>1338</td>\n",
       "    </tr>\n",
       "    <tr>\n",
       "      <th>(rr, 0.01)</th>\n",
       "      <th>(r, 30)</th>\n",
       "      <th>(nsne, 5)</th>\n",
       "      <th>(lr, 3e-05)</th>\n",
       "      <th>(mi, 75)</th>\n",
       "      <td>0.049695</td>\n",
       "      <td>0.022283</td>\n",
       "      <td>1306</td>\n",
       "    </tr>\n",
       "    <tr>\n",
       "      <th rowspan=\"3\" valign=\"top\">(r, 1e-06)</th>\n",
       "      <th>(rr, 0.001)</th>\n",
       "      <th>(r, 30)</th>\n",
       "      <th>(nsne, 5)</th>\n",
       "      <th>(lr, 3e-05)</th>\n",
       "      <th>(mi, 75)</th>\n",
       "      <td>0.048354</td>\n",
       "      <td>0.022045</td>\n",
       "      <td>1239</td>\n",
       "    </tr>\n",
       "    <tr>\n",
       "      <th>(rr, 0.003)</th>\n",
       "      <th>(r, 30)</th>\n",
       "      <th>(nsne, 5)</th>\n",
       "      <th>(lr, 3e-05)</th>\n",
       "      <th>(mi, 75)</th>\n",
       "      <td>0.049025</td>\n",
       "      <td>0.022264</td>\n",
       "      <td>1241</td>\n",
       "    </tr>\n",
       "    <tr>\n",
       "      <th>(rr, 0.01)</th>\n",
       "      <th>(r, 30)</th>\n",
       "      <th>(nsne, 5)</th>\n",
       "      <th>(lr, 3e-05)</th>\n",
       "      <th>(mi, 75)</th>\n",
       "      <td>0.049919</td>\n",
       "      <td>0.022712</td>\n",
       "      <td>1235</td>\n",
       "    </tr>\n",
       "  </tbody>\n",
       "</table>\n",
       "</div>"
      ],
      "text/plain": [
       "                                                                                 HR  \\\n",
       "(sss, 0.1) (r, 1e-07) (rr, 0.001) (r, 30) (nsne, 5)  (lr, 3e-05) (mi, 75)  0.048018   \n",
       "                      (rr, 0.01)  (r, 30) (nsne, 5)  (lr, 3e-05) (mi, 75)  0.048801   \n",
       "           (r, 3e-07) (rr, 0.001) (r, 30) (nsne, 5)  (lr, 3e-05) (mi, 75)  0.051149   \n",
       "                      (rr, 0.003) (r, 30) (nsne, 10) (lr, 3e-05) (mi, 75)  0.047627   \n",
       "                      (rr, 0.01)  (r, 30) (nsne, 5)  (lr, 3e-05) (mi, 75)  0.049695   \n",
       "           (r, 1e-06) (rr, 0.001) (r, 30) (nsne, 5)  (lr, 3e-05) (mi, 75)  0.048354   \n",
       "                      (rr, 0.003) (r, 30) (nsne, 5)  (lr, 3e-05) (mi, 75)  0.049025   \n",
       "                      (rr, 0.01)  (r, 30) (nsne, 5)  (lr, 3e-05) (mi, 75)  0.049919   \n",
       "\n",
       "                                                                                MRR  \\\n",
       "(sss, 0.1) (r, 1e-07) (rr, 0.001) (r, 30) (nsne, 5)  (lr, 3e-05) (mi, 75)  0.022207   \n",
       "                      (rr, 0.01)  (r, 30) (nsne, 5)  (lr, 3e-05) (mi, 75)  0.022061   \n",
       "           (r, 3e-07) (rr, 0.001) (r, 30) (nsne, 5)  (lr, 3e-05) (mi, 75)  0.022105   \n",
       "                      (rr, 0.003) (r, 30) (nsne, 10) (lr, 3e-05) (mi, 75)  0.022051   \n",
       "                      (rr, 0.01)  (r, 30) (nsne, 5)  (lr, 3e-05) (mi, 75)  0.022283   \n",
       "           (r, 1e-06) (rr, 0.001) (r, 30) (nsne, 5)  (lr, 3e-05) (mi, 75)  0.022045   \n",
       "                      (rr, 0.003) (r, 30) (nsne, 5)  (lr, 3e-05) (mi, 75)  0.022264   \n",
       "                      (rr, 0.01)  (r, 30) (nsne, 5)  (lr, 3e-05) (mi, 75)  0.022712   \n",
       "\n",
       "                                                                            COV  \n",
       "(sss, 0.1) (r, 1e-07) (rr, 0.001) (r, 30) (nsne, 5)  (lr, 3e-05) (mi, 75)  1313  \n",
       "                      (rr, 0.01)  (r, 30) (nsne, 5)  (lr, 3e-05) (mi, 75)  1320  \n",
       "           (r, 3e-07) (rr, 0.001) (r, 30) (nsne, 5)  (lr, 3e-05) (mi, 75)  1295  \n",
       "                      (rr, 0.003) (r, 30) (nsne, 10) (lr, 3e-05) (mi, 75)  1338  \n",
       "                      (rr, 0.01)  (r, 30) (nsne, 5)  (lr, 3e-05) (mi, 75)  1306  \n",
       "           (r, 1e-06) (rr, 0.001) (r, 30) (nsne, 5)  (lr, 3e-05) (mi, 75)  1239  \n",
       "                      (rr, 0.003) (r, 30) (nsne, 5)  (lr, 3e-05) (mi, 75)  1241  \n",
       "                      (rr, 0.01)  (r, 30) (nsne, 5)  (lr, 3e-05) (mi, 75)  1235  "
      ]
     },
     "execution_count": 54,
     "metadata": {},
     "output_type": "execute_result"
    }
   ],
   "source": [
    "grid_results_refined_df.loc[lambda x: x.MRR > 0.97*x.MRR.max()]"
   ]
  },
  {
   "cell_type": "code",
   "execution_count": 51,
   "metadata": {
    "ExecuteTime": {
     "end_time": "2017-09-25T10:11:08.747240Z",
     "start_time": "2017-09-25T10:11:08.083561Z"
    },
    "hidden": true
   },
   "outputs": [
    {
     "data": {
      "text/plain": [
       "<matplotlib.axes._subplots.AxesSubplot at 0x7f1bd5902e50>"
      ]
     },
     "execution_count": 51,
     "metadata": {},
     "output_type": "execute_result"
    },
    {
     "data": {
      "image/png": "[encoded data removed]",
      "text/plain": [
       "<matplotlib.figure.Figure at 0x7f1bd45d91d0>"
      ]
     },
     "metadata": {
      "image/png": {
       "height": 250,
       "width": 420
      }
     },
     "output_type": "display_data"
    }
   ],
   "source": [
    "grid_results_refined_df[['HR', 'MRR']].reset_index(drop=True).plot(secondary_y='HR', ylim=(0, None))"
   ]
  },
  {
   "cell_type": "markdown",
   "metadata": {
    "hidden": true
   },
   "source": [
    "### Final"
   ]
  },
  {
   "cell_type": "code",
   "execution_count": 55,
   "metadata": {
    "ExecuteTime": {
     "end_time": "2017-09-25T10:13:29.554142Z",
     "start_time": "2017-09-25T10:13:29.546941Z"
    },
    "collapsed": true,
    "hidden": true
   },
   "outputs": [],
   "source": [
    "final_params = {\n",
    "                'sgd_step_size':                 0.1,\n",
    "                'regularization':                1e-6,\n",
    "                'ranking_regularization':        0.01,\n",
    "                'rank':                          30,\n",
    "                'num_sampled_negative_examples': 5,\n",
    "                'linear_regularization':         3e-5,\n",
    "                'max_iterations':                75,\n",
    "         }"
   ]
  },
  {
   "cell_type": "code",
   "execution_count": 56,
   "metadata": {
    "ExecuteTime": {
     "end_time": "2017-09-25T10:31:13.743488Z",
     "start_time": "2017-09-25T10:13:31.114099Z"
    },
    "hidden": true,
    "scrolled": true
   },
   "outputs": [
    {
     "data": {
      "application/vnd.jupyter.widget-view+json": {
       "model_id": "933177f488274c56b35b953c86d2b6bd",
       "version_major": 2,
       "version_minor": 0
      },
      "text/plain": [
       "A Jupyter Widget"
      ]
     },
     "metadata": {},
     "output_type": "display_data"
    },
    {
     "data": {
      "text/html": [
       "<pre>Recsys training: model = ranking_factorization_recommender</pre>"
      ],
      "text/plain": [
       "Recsys training: model = ranking_factorization_recommender"
      ]
     },
     "metadata": {},
     "output_type": "display_data"
    },
    {
     "data": {
      "text/html": [
       "<pre>Preparing data set.</pre>"
      ],
      "text/plain": [
       "Preparing data set."
      ]
     },
     "metadata": {},
     "output_type": "display_data"
    },
    {
     "data": {
      "text/html": [
       "<pre>    Data has 407120 observations with 44876 users and 71945 items.</pre>"
      ],
      "text/plain": [
       "    Data has 407120 observations with 44876 users and 71945 items."
      ]
     },
     "metadata": {},
     "output_type": "display_data"
    },
    {
     "data": {
      "text/html": [
       "<pre>    Data prepared in: 0.634992s</pre>"
      ],
      "text/plain": [
       "    Data prepared in: 0.634992s"
      ]
     },
     "metadata": {},
     "output_type": "display_data"
    },
    {
     "data": {
      "text/html": [
       "<pre>Training ranking_factorization_recommender for recommendations.</pre>"
      ],
      "text/plain": [
       "Training ranking_factorization_recommender for recommendations."
      ]
     },
     "metadata": {},
     "output_type": "display_data"
    },
    {
     "data": {
      "text/html": [
       "<pre>+--------------------------------+--------------------------------------------------+----------+</pre>"
      ],
      "text/plain": [
       "+--------------------------------+--------------------------------------------------+----------+"
      ]
     },
     "metadata": {},
     "output_type": "display_data"
    },
    {
     "data": {
      "text/html": [
       "<pre>| Parameter                      | Description                                      | Value    |</pre>"
      ],
      "text/plain": [
       "| Parameter                      | Description                                      | Value    |"
      ]
     },
     "metadata": {},
     "output_type": "display_data"
    },
    {
     "data": {
      "text/html": [
       "<pre>+--------------------------------+--------------------------------------------------+----------+</pre>"
      ],
      "text/plain": [
       "+--------------------------------+--------------------------------------------------+----------+"
      ]
     },
     "metadata": {},
     "output_type": "display_data"
    },
    {
     "data": {
      "text/html": [
       "<pre>| num_factors                    | Factor Dimension                                 | 30       |</pre>"
      ],
      "text/plain": [
       "| num_factors                    | Factor Dimension                                 | 30       |"
      ]
     },
     "metadata": {},
     "output_type": "display_data"
    },
    {
     "data": {
      "text/html": [
       "<pre>| regularization                 | L2 Regularization on Factors                     | 1e-06    |</pre>"
      ],
      "text/plain": [
       "| regularization                 | L2 Regularization on Factors                     | 1e-06    |"
      ]
     },
     "metadata": {},
     "output_type": "display_data"
    },
    {
     "data": {
      "text/html": [
       "<pre>| solver                         | Solver used for training                         | sgd      |</pre>"
      ],
      "text/plain": [
       "| solver                         | Solver used for training                         | sgd      |"
      ]
     },
     "metadata": {},
     "output_type": "display_data"
    },
    {
     "data": {
      "text/html": [
       "<pre>| linear_regularization          | L2 Regularization on Linear Coefficients         | 3e-05    |</pre>"
      ],
      "text/plain": [
       "| linear_regularization          | L2 Regularization on Linear Coefficients         | 3e-05    |"
      ]
     },
     "metadata": {},
     "output_type": "display_data"
    },
    {
     "data": {
      "text/html": [
       "<pre>| ranking_regularization         | Rank-based Regularization Weight                 | 0.01     |</pre>"
      ],
      "text/plain": [
       "| ranking_regularization         | Rank-based Regularization Weight                 | 0.01     |"
      ]
     },
     "metadata": {},
     "output_type": "display_data"
    },
    {
     "data": {
      "text/html": [
       "<pre>| num_sampled_negative_examples  | # Negative Samples Considered per Observation    | 5        |</pre>"
      ],
      "text/plain": [
       "| num_sampled_negative_examples  | # Negative Samples Considered per Observation    | 5        |"
      ]
     },
     "metadata": {},
     "output_type": "display_data"
    },
    {
     "data": {
      "text/html": [
       "<pre>| binary_target                  | Assume Binary Targets                            | True     |</pre>"
      ],
      "text/plain": [
       "| binary_target                  | Assume Binary Targets                            | True     |"
      ]
     },
     "metadata": {},
     "output_type": "display_data"
    },
    {
     "data": {
      "text/html": [
       "<pre>| side_data_factorization        | Assign Factors for Side Data                     | True     |</pre>"
      ],
      "text/plain": [
       "| side_data_factorization        | Assign Factors for Side Data                     | True     |"
      ]
     },
     "metadata": {},
     "output_type": "display_data"
    },
    {
     "data": {
      "text/html": [
       "<pre>| sgd_step_size                  | Starting SGD Step Size                           | 0.1      |</pre>"
      ],
      "text/plain": [
       "| sgd_step_size                  | Starting SGD Step Size                           | 0.1      |"
      ]
     },
     "metadata": {},
     "output_type": "display_data"
    },
    {
     "data": {
      "text/html": [
       "<pre>| max_iterations                 | Maximum Number of Iterations                     | 75       |</pre>"
      ],
      "text/plain": [
       "| max_iterations                 | Maximum Number of Iterations                     | 75       |"
      ]
     },
     "metadata": {},
     "output_type": "display_data"
    },
    {
     "data": {
      "text/html": [
       "<pre>+--------------------------------+--------------------------------------------------+----------+</pre>"
      ],
      "text/plain": [
       "+--------------------------------+--------------------------------------------------+----------+"
      ]
     },
     "metadata": {},
     "output_type": "display_data"
    },
    {
     "data": {
      "text/html": [
       "<pre>  Optimizing model using SGD (step size tuning: OFF).</pre>"
      ],
      "text/plain": [
       "  Optimizing model using SGD (step size tuning: OFF)."
      ]
     },
     "metadata": {},
     "output_type": "display_data"
    },
    {
     "data": {
      "text/html": [
       "<pre>Starting Optimization.</pre>"
      ],
      "text/plain": [
       "Starting Optimization."
      ]
     },
     "metadata": {},
     "output_type": "display_data"
    },
    {
     "data": {
      "text/html": [
       "<pre>+---------+--------------+-------------------+-----------------------------------+-------------+</pre>"
      ],
      "text/plain": [
       "+---------+--------------+-------------------+-----------------------------------+-------------+"
      ]
     },
     "metadata": {},
     "output_type": "display_data"
    },
    {
     "data": {
      "text/html": [
       "<pre>| Iter.   | Elapsed Time | Approx. Objective | Approx. Training Predictive Error | Step Size   |</pre>"
      ],
      "text/plain": [
       "| Iter.   | Elapsed Time | Approx. Objective | Approx. Training Predictive Error | Step Size   |"
      ]
     },
     "metadata": {},
     "output_type": "display_data"
    },
    {
     "data": {
      "text/html": [
       "<pre>+---------+--------------+-------------------+-----------------------------------+-------------+</pre>"
      ],
      "text/plain": [
       "+---------+--------------+-------------------+-----------------------------------+-------------+"
      ]
     },
     "metadata": {},
     "output_type": "display_data"
    },
    {
     "data": {
      "text/html": [
       "<pre>| Initial | 200us        | 1.62686           | 0.313266                          |             |</pre>"
      ],
      "text/plain": [
       "| Initial | 200us        | 1.62686           | 0.313266                          |             |"
      ]
     },
     "metadata": {},
     "output_type": "display_data"
    },
    {
     "data": {
      "text/html": [
       "<pre>+---------+--------------+-------------------+-----------------------------------+-------------+</pre>"
      ],
      "text/plain": [
       "+---------+--------------+-------------------+-----------------------------------+-------------+"
      ]
     },
     "metadata": {},
     "output_type": "display_data"
    },
    {
     "data": {
      "text/html": [
       "<pre>| 1       | 532.129ms    | 1.39736           | 0.686001                          | 0.1         |</pre>"
      ],
      "text/plain": [
       "| 1       | 532.129ms    | 1.39736           | 0.686001                          | 0.1         |"
      ]
     },
     "metadata": {},
     "output_type": "display_data"
    },
    {
     "data": {
      "text/html": [
       "<pre>| 2       | 944.684ms    | 1.35521           | 0.67255                           | 0.0450175   |</pre>"
      ],
      "text/plain": [
       "| 2       | 944.684ms    | 1.35521           | 0.67255                           | 0.0450175   |"
      ]
     },
     "metadata": {},
     "output_type": "display_data"
    },
    {
     "data": {
      "text/html": [
       "<pre>| 3       | 1.43s        | 1.33026           | 0.660948                          | 0.0290468   |</pre>"
      ],
      "text/plain": [
       "| 3       | 1.43s        | 1.33026           | 0.660948                          | 0.0290468   |"
      ]
     },
     "metadata": {},
     "output_type": "display_data"
    },
    {
     "data": {
      "text/html": [
       "<pre>| 4       | 1.97s        | 1.31943           | 0.655441                          | 0.0214405   |</pre>"
      ],
      "text/plain": [
       "| 4       | 1.97s        | 1.31943           | 0.655441                          | 0.0214405   |"
      ]
     },
     "metadata": {},
     "output_type": "display_data"
    },
    {
     "data": {
      "text/html": [
       "<pre>| 5       | 2.38s        | 1.30993           | 0.651559                          | 0.0169911   |</pre>"
      ],
      "text/plain": [
       "| 5       | 2.38s        | 1.30993           | 0.651559                          | 0.0169911   |"
      ]
     },
     "metadata": {},
     "output_type": "display_data"
    },
    {
     "data": {
      "text/html": [
       "<pre>| 6       | 2.91s        | 1.30124           | 0.648135                          | 0.014071    |</pre>"
      ],
      "text/plain": [
       "| 6       | 2.91s        | 1.30124           | 0.648135                          | 0.014071    |"
      ]
     },
     "metadata": {},
     "output_type": "display_data"
    },
    {
     "data": {
      "text/html": [
       "<pre>| 10      | 4.69s        | 1.27763           | 0.635832                          | 0.00833873  |</pre>"
      ],
      "text/plain": [
       "| 10      | 4.69s        | 1.27763           | 0.635832                          | 0.00833873  |"
      ]
     },
     "metadata": {},
     "output_type": "display_data"
    },
    {
     "data": {
      "text/html": [
       "<pre>| 11      | 5.14s        | 1.27457           | 0.635131                          | 0.00756796  |</pre>"
      ],
      "text/plain": [
       "| 11      | 5.14s        | 1.27457           | 0.635131                          | 0.00756796  |"
      ]
     },
     "metadata": {},
     "output_type": "display_data"
    },
    {
     "data": {
      "text/html": [
       "<pre>| 15      | 6.95s        | 1.2615            | 0.627545                          | 0.00552515  |</pre>"
      ],
      "text/plain": [
       "| 15      | 6.95s        | 1.2615            | 0.627545                          | 0.00552515  |"
      ]
     },
     "metadata": {},
     "output_type": "display_data"
    },
    {
     "data": {
      "text/html": [
       "<pre>| 20      | 9.34s        | 1.24849           | 0.620127                          | 0.00413123  |</pre>"
      ],
      "text/plain": [
       "| 20      | 9.34s        | 1.24849           | 0.620127                          | 0.00413123  |"
      ]
     },
     "metadata": {},
     "output_type": "display_data"
    },
    {
     "data": {
      "text/html": [
       "<pre>| 25      | 11.85s       | 1.23863           | 0.612423                          | 0.00329895  |</pre>"
      ],
      "text/plain": [
       "| 25      | 11.85s       | 1.23863           | 0.612423                          | 0.00329895  |"
      ]
     },
     "metadata": {},
     "output_type": "display_data"
    },
    {
     "data": {
      "text/html": [
       "<pre>| 30      | 14.29s       | 1.23035           | 0.607596                          | 0.00274579  |</pre>"
      ],
      "text/plain": [
       "| 30      | 14.29s       | 1.23035           | 0.607596                          | 0.00274579  |"
      ]
     },
     "metadata": {},
     "output_type": "display_data"
    },
    {
     "data": {
      "text/html": [
       "<pre>| 35      | 16.66s       | 1.22288           | 0.603945                          | 0.00235149  |</pre>"
      ],
      "text/plain": [
       "| 35      | 16.66s       | 1.22288           | 0.603945                          | 0.00235149  |"
      ]
     },
     "metadata": {},
     "output_type": "display_data"
    },
    {
     "data": {
      "text/html": [
       "<pre>| 40      | 19.00s       | 1.21589           | 0.599594                          | 0.00205622  |</pre>"
      ],
      "text/plain": [
       "| 40      | 19.00s       | 1.21589           | 0.599594                          | 0.00205622  |"
      ]
     },
     "metadata": {},
     "output_type": "display_data"
    },
    {
     "data": {
      "text/html": [
       "<pre>| 45      | 21.25s       | 1.20995           | 0.59705                           | 0.00182682  |</pre>"
      ],
      "text/plain": [
       "| 45      | 21.25s       | 1.20995           | 0.59705                           | 0.00182682  |"
      ]
     },
     "metadata": {},
     "output_type": "display_data"
    },
    {
     "data": {
      "text/html": [
       "<pre>| 50      | 23.73s       | 1.20417           | 0.593043                          | 0.00164348  |</pre>"
      ],
      "text/plain": [
       "| 50      | 23.73s       | 1.20417           | 0.593043                          | 0.00164348  |"
      ]
     },
     "metadata": {},
     "output_type": "display_data"
    },
    {
     "data": {
      "text/html": [
       "<pre>| 51      | 24.21s       | 1.20332           | 0.592215                          | 0.00161114  |</pre>"
      ],
      "text/plain": [
       "| 51      | 24.21s       | 1.20332           | 0.592215                          | 0.00161114  |"
      ]
     },
     "metadata": {},
     "output_type": "display_data"
    },
    {
     "data": {
      "text/html": [
       "<pre>| 55      | 26.05s       | 1.19883           | 0.588937                          | 0.00149358  |</pre>"
      ],
      "text/plain": [
       "| 55      | 26.05s       | 1.19883           | 0.588937                          | 0.00149358  |"
      ]
     },
     "metadata": {},
     "output_type": "display_data"
    },
    {
     "data": {
      "text/html": [
       "<pre>| 60      | 28.34s       | 1.1955            | 0.586558                          | 0.00135608  |</pre>"
      ],
      "text/plain": [
       "| 60      | 28.34s       | 1.1955            | 0.586558                          | 0.00135608  |"
      ]
     },
     "metadata": {},
     "output_type": "display_data"
    },
    {
     "data": {
      "text/html": [
       "<pre>| 65      | 30.78s       | 1.19032           | 0.583925                          | 0.00109208  |</pre>"
      ],
      "text/plain": [
       "| 65      | 30.78s       | 1.19032           | 0.583925                          | 0.00109208  |"
      ]
     },
     "metadata": {},
     "output_type": "display_data"
    },
    {
     "data": {
      "text/html": [
       "<pre>| 70      | 33.25s       | 1.18734           | 0.581996                          | 0.000868678 |</pre>"
      ],
      "text/plain": [
       "| 70      | 33.25s       | 1.18734           | 0.581996                          | 0.000868678 |"
      ]
     },
     "metadata": {},
     "output_type": "display_data"
    },
    {
     "data": {
      "text/html": [
       "<pre>| 75      | 35.56s       | 1.18385           | 0.579254                          | 0.000824872 |</pre>"
      ],
      "text/plain": [
       "| 75      | 35.56s       | 1.18385           | 0.579254                          | 0.000824872 |"
      ]
     },
     "metadata": {},
     "output_type": "display_data"
    },
    {
     "data": {
      "text/html": [
       "<pre>+---------+--------------+-------------------+-----------------------------------+-------------+</pre>"
      ],
      "text/plain": [
       "+---------+--------------+-------------------+-----------------------------------+-------------+"
      ]
     },
     "metadata": {},
     "output_type": "display_data"
    },
    {
     "data": {
      "text/html": [
       "<pre>Optimization Complete: Maximum number of passes through the data reached.</pre>"
      ],
      "text/plain": [
       "Optimization Complete: Maximum number of passes through the data reached."
      ]
     },
     "metadata": {},
     "output_type": "display_data"
    },
    {
     "data": {
      "text/html": [
       "<pre>Computing final objective value and training Predictive Error.</pre>"
      ],
      "text/plain": [
       "Computing final objective value and training Predictive Error."
      ]
     },
     "metadata": {},
     "output_type": "display_data"
    },
    {
     "data": {
      "text/html": [
       "<pre>       Final objective value: 1.18325</pre>"
      ],
      "text/plain": [
       "       Final objective value: 1.18325"
      ]
     },
     "metadata": {},
     "output_type": "display_data"
    },
    {
     "data": {
      "text/html": [
       "<pre>       Final training Predictive Error: 0.578153</pre>"
      ],
      "text/plain": [
       "       Final training Predictive Error: 0.578153"
      ]
     },
     "metadata": {},
     "output_type": "display_data"
    },
    {
     "name": "stdout",
     "output_type": "stream",
     "text": [
      "FM training time: 36.433687s\n",
      "\n"
     ]
    }
   ],
   "source": [
    "final_res = run_parameter_search(fm, data_model, metrics, [final_params], verbose=True, seed=seed)"
   ]
  },
  {
   "cell_type": "code",
   "execution_count": 57,
   "metadata": {
    "ExecuteTime": {
     "end_time": "2017-09-25T10:31:13.752699Z",
     "start_time": "2017-09-25T10:31:13.745831Z"
    },
    "hidden": true
   },
   "outputs": [
    {
     "data": {
      "text/plain": [
       "{(('sss', 0.1),\n",
       "  ('r', 1e-06),\n",
       "  ('rr', 0.01),\n",
       "  ('r', 30),\n",
       "  ('nsne', 5),\n",
       "  ('mi', 75),\n",
       "  ('lr', 3e-05)): {'COV': 1259,\n",
       "  'HR': 0.050813348985410026,\n",
       "  'MRR': 0.023172194138989379}}"
      ]
     },
     "execution_count": 57,
     "metadata": {},
     "output_type": "execute_result"
    }
   ],
   "source": [
    "final_res"
   ]
  },
  {
   "cell_type": "markdown",
   "metadata": {
    "hidden": true
   },
   "source": [
    "Saving best config"
   ]
  },
  {
   "cell_type": "code",
   "execution_count": 86,
   "metadata": {
    "ExecuteTime": {
     "end_time": "2017-09-27T10:15:51.071919Z",
     "start_time": "2017-09-27T10:15:51.057434Z"
    },
    "collapsed": true,
    "hidden": true
   },
   "outputs": [],
   "source": [
    "pd.Series(dict(binary_target = True,\n",
    "               solver = 'sgd',\n",
    "               ranking_optimization = True,\n",
    "               verbose = False,\n",
    "               seed = seed,\n",
    "               name = 'FM',\n",
    "               **final_params)).to_csv('FM_BX_coldstart_best_config.csv')"
   ]
  },
  {
   "cell_type": "markdown",
   "metadata": {
    "hidden": true
   },
   "source": [
    "## Cross-validation"
   ]
  },
  {
   "cell_type": "code",
   "execution_count": null,
   "metadata": {
    "ExecuteTime": {
     "start_time": "2017-09-25T09:04:46.527Z"
    },
    "hidden": true,
    "scrolled": true
   },
   "outputs": [
    {
     "data": {
      "application/vnd.jupyter.widget-view+json": {
       "model_id": "0a58e85764794ee988d2f17b489a9fa0",
       "version_major": 2,
       "version_minor": 0
      },
      "text/plain": [
       "A Jupyter Widget"
      ]
     },
     "metadata": {},
     "output_type": "display_data"
    },
    {
     "data": {
      "text/html": [
       "<pre>Recsys training: model = ranking_factorization_recommender</pre>"
      ],
      "text/plain": [
       "Recsys training: model = ranking_factorization_recommender"
      ]
     },
     "metadata": {},
     "output_type": "display_data"
    },
    {
     "data": {
      "text/html": [
       "<pre>Recsys training: model = ranking_factorization_recommender</pre>"
      ],
      "text/plain": [
       "Recsys training: model = ranking_factorization_recommender"
      ]
     },
     "metadata": {},
     "output_type": "display_data"
    },
    {
     "data": {
      "text/html": [
       "<pre>Recsys training: model = ranking_factorization_recommender</pre>"
      ],
      "text/plain": [
       "Recsys training: model = ranking_factorization_recommender"
      ]
     },
     "metadata": {},
     "output_type": "display_data"
    },
    {
     "data": {
      "text/html": [
       "<pre>Recsys training: model = ranking_factorization_recommender</pre>"
      ],
      "text/plain": [
       "Recsys training: model = ranking_factorization_recommender"
      ]
     },
     "metadata": {},
     "output_type": "display_data"
    },
    {
     "data": {
      "text/html": [
       "<pre>Recsys training: model = ranking_factorization_recommender</pre>"
      ],
      "text/plain": [
       "Recsys training: model = ranking_factorization_recommender"
      ]
     },
     "metadata": {},
     "output_type": "display_data"
    },
    {
     "data": {
      "text/html": [
       "<pre>Recsys training: model = ranking_factorization_recommender</pre>"
      ],
      "text/plain": [
       "Recsys training: model = ranking_factorization_recommender"
      ]
     },
     "metadata": {},
     "output_type": "display_data"
    },
    {
     "data": {
      "text/html": [
       "<pre>Recsys training: model = ranking_factorization_recommender</pre>"
      ],
      "text/plain": [
       "Recsys training: model = ranking_factorization_recommender"
      ]
     },
     "metadata": {},
     "output_type": "display_data"
    },
    {
     "data": {
      "text/html": [
       "<pre>Recsys training: model = ranking_factorization_recommender</pre>"
      ],
      "text/plain": [
       "Recsys training: model = ranking_factorization_recommender"
      ]
     },
     "metadata": {},
     "output_type": "display_data"
    },
    {
     "data": {
      "text/html": [
       "<pre>Recsys training: model = ranking_factorization_recommender</pre>"
      ],
      "text/plain": [
       "Recsys training: model = ranking_factorization_recommender"
      ]
     },
     "metadata": {},
     "output_type": "display_data"
    },
    {
     "data": {
      "text/html": [
       "<pre>Recsys training: model = ranking_factorization_recommender</pre>"
      ],
      "text/plain": [
       "Recsys training: model = ranking_factorization_recommender"
      ]
     },
     "metadata": {},
     "output_type": "display_data"
    },
    {
     "data": {
      "text/html": [
       "<pre>Recsys training: model = ranking_factorization_recommender</pre>"
      ],
      "text/plain": [
       "Recsys training: model = ranking_factorization_recommender"
      ]
     },
     "metadata": {},
     "output_type": "display_data"
    },
    {
     "data": {
      "text/html": [
       "<pre>Recsys training: model = ranking_factorization_recommender</pre>"
      ],
      "text/plain": [
       "Recsys training: model = ranking_factorization_recommender"
      ]
     },
     "metadata": {},
     "output_type": "display_data"
    },
    {
     "data": {
      "text/html": [
       "<pre>Recsys training: model = ranking_factorization_recommender</pre>"
      ],
      "text/plain": [
       "Recsys training: model = ranking_factorization_recommender"
      ]
     },
     "metadata": {},
     "output_type": "display_data"
    },
    {
     "data": {
      "text/html": [
       "<pre>Recsys training: model = ranking_factorization_recommender</pre>"
      ],
      "text/plain": [
       "Recsys training: model = ranking_factorization_recommender"
      ]
     },
     "metadata": {},
     "output_type": "display_data"
    },
    {
     "data": {
      "text/html": [
       "<pre>Recsys training: model = ranking_factorization_recommender</pre>"
      ],
      "text/plain": [
       "Recsys training: model = ranking_factorization_recommender"
      ]
     },
     "metadata": {},
     "output_type": "display_data"
    },
    {
     "data": {
      "text/html": [
       "<pre>Recsys training: model = ranking_factorization_recommender</pre>"
      ],
      "text/plain": [
       "Recsys training: model = ranking_factorization_recommender"
      ]
     },
     "metadata": {},
     "output_type": "display_data"
    },
    {
     "data": {
      "text/html": [
       "<pre>Recsys training: model = ranking_factorization_recommender</pre>"
      ],
      "text/plain": [
       "Recsys training: model = ranking_factorization_recommender"
      ]
     },
     "metadata": {},
     "output_type": "display_data"
    }
   ],
   "source": [
    "metrics = 'HR MRR COV'.split()\n",
    "ranks = [1, 5, 10, 15, 20, 30, 50, 75, 100, 125, 150, 200, 300, 500, 750, 1000, 1250, 1500, 1750, 2000, 2500, 3200]\n",
    "\n",
    "fm_cv_results = run_cv_experiment([fm], data_model, metrics, ('rank', ranks), verbose=False)"
   ]
  },
  {
   "cell_type": "code",
   "execution_count": null,
   "metadata": {
    "ExecuteTime": {
     "start_time": "2017-09-25T09:04:52.984Z"
    },
    "collapsed": true,
    "hidden": true
   },
   "outputs": [],
   "source": [
    "fm_rank_cv_results = get_results_dataframe(fm_cv_results, ('rank', ranks))"
   ]
  },
  {
   "cell_type": "code",
   "execution_count": null,
   "metadata": {
    "ExecuteTime": {
     "start_time": "2017-09-25T09:05:00.502Z"
    },
    "collapsed": true,
    "hidden": true
   },
   "outputs": [],
   "source": [
    "fm_rank_cv_results.to_csv('Coldstart_FM_CV_results_BX.csv')"
   ]
  },
  {
   "cell_type": "code",
   "execution_count": null,
   "metadata": {
    "collapsed": true,
    "hidden": true
   },
   "outputs": [],
   "source": []
  },
  {
   "cell_type": "code",
   "execution_count": 67,
   "metadata": {
    "ExecuteTime": {
     "end_time": "2017-09-27T08:16:03.516044Z",
     "start_time": "2017-09-27T08:16:02.145416Z"
    },
    "hidden": true
   },
   "outputs": [
    {
     "data": {
      "text/plain": [
       "<matplotlib.legend.Legend at 0x7f1bd4a7cd10>"
      ]
     },
     "execution_count": 67,
     "metadata": {},
     "output_type": "execute_result"
    },
    {
     "data": {
      "image/png": "[encoded data removed]",
      "text/plain": [
       "<matplotlib.figure.Figure at 0x7f1be0a3fcd0>"
      ]
     },
     "metadata": {
      "image/png": {
       "height": 265,
       "width": 380
      }
     },
     "output_type": "display_data"
    }
   ],
   "source": [
    "metric = 'HR'\n",
    "ax = rank_cv_results.xs(metric, 1, 1).mean(level='rank').plot(logx=True)\n",
    "\n",
    "fm_rank_cv_results.xs(metric, 1, 1).mean(level=1).plot(ax=ax, label='FM')\n",
    "\n",
    "linestyles = {'CB': '--', 'RND': ':', 'MP': ':'}\n",
    "colors = {'CB': '', 'RND': '', 'MP': ''}\n",
    "\n",
    "for col, data in base_cv_results.xs(metric, 1, 1).mean(level='rank').iteritems():\n",
    "    ax.hlines(y=data, xmin=1, xmax=3200, label=col, linestyles=linestyles[col])\n",
    "ax.legend()"
   ]
  },
  {
   "cell_type": "code",
   "execution_count": 68,
   "metadata": {
    "ExecuteTime": {
     "end_time": "2017-09-27T08:16:09.866525Z",
     "start_time": "2017-09-27T08:16:08.719755Z"
    },
    "hidden": true
   },
   "outputs": [
    {
     "data": {
      "text/plain": [
       "<matplotlib.legend.Legend at 0x7f1be096fb10>"
      ]
     },
     "execution_count": 68,
     "metadata": {},
     "output_type": "execute_result"
    },
    {
     "data": {
      "image/png": "[encoded data removed]",
      "text/plain": [
       "<matplotlib.figure.Figure at 0x7f1bd497b610>"
      ]
     },
     "metadata": {
      "image/png": {
       "height": 265,
       "width": 386
      }
     },
     "output_type": "display_data"
    }
   ],
   "source": [
    "metric = 'MRR'\n",
    "ax = rank_cv_results.xs(metric, 1, 1).mean(level='rank').plot(logx=True)\n",
    "\n",
    "fm_rank_cv_results.xs(metric, 1, 1).mean(level=1).plot(ax=ax, label='FM')\n",
    "\n",
    "linestyles = {'CB': '--', 'RND': ':', 'MP': ':'}\n",
    "colors = {'CB': '', 'RND': '', 'MP': ''}\n",
    "\n",
    "for col, data in base_cv_results.xs(metric, 1, 1).mean(level='rank').iteritems():\n",
    "    ax.hlines(y=data, xmin=1, xmax=3200, label=col, linestyles=linestyles[col])\n",
    "ax.legend()"
   ]
  },
  {
   "cell_type": "code",
   "execution_count": 69,
   "metadata": {
    "ExecuteTime": {
     "end_time": "2017-09-27T08:16:59.609614Z",
     "start_time": "2017-09-27T08:16:59.593233Z"
    },
    "hidden": true
   },
   "outputs": [
    {
     "data": {
      "text/plain": [
       "rank\n",
       "300    0.032423\n",
       "Name: (PureSVD+CB, MRR), dtype: float64"
      ]
     },
     "execution_count": 69,
     "metadata": {},
     "output_type": "execute_result"
    }
   ],
   "source": [
    "rank_cv_results.loc[:, ('PureSVD+CB', 'MRR')].mean(level='rank').loc[lambda x: x == x.max()]"
   ]
  },
  {
   "cell_type": "code",
   "execution_count": 70,
   "metadata": {
    "ExecuteTime": {
     "end_time": "2017-09-27T08:17:03.569565Z",
     "start_time": "2017-09-27T08:17:03.557564Z"
    },
    "hidden": true
   },
   "outputs": [
    {
     "data": {
      "text/plain": [
       "rank\n",
       "100    0.011719\n",
       "Name: (FM, MRR), dtype: float64"
      ]
     },
     "execution_count": 70,
     "metadata": {},
     "output_type": "execute_result"
    }
   ],
   "source": [
    "fm_rank_cv_results.loc[:, ('FM', 'MRR')].mean(level='rank').loc[lambda x: x == x.max()]"
   ]
  },
  {
   "cell_type": "code",
   "execution_count": 71,
   "metadata": {
    "ExecuteTime": {
     "end_time": "2017-09-27T08:17:11.884260Z",
     "start_time": "2017-09-27T08:17:11.872266Z"
    },
    "hidden": true
   },
   "outputs": [
    {
     "data": {
      "text/plain": [
       "rank\n",
       "300    0.030143\n",
       "Name: (HybridSVD ($\\alpha=0.1$), MRR), dtype: float64"
      ]
     },
     "execution_count": 71,
     "metadata": {},
     "output_type": "execute_result"
    }
   ],
   "source": [
    "rank_cv_results.loc[:, (r'HybridSVD ($\\alpha=0.1$)', 'MRR')].mean(level='rank').loc[lambda x: x == x.max()]"
   ]
  },
  {
   "cell_type": "code",
   "execution_count": 72,
   "metadata": {
    "ExecuteTime": {
     "end_time": "2017-09-27T08:17:25.813061Z",
     "start_time": "2017-09-27T08:17:25.797946Z"
    },
    "hidden": true
   },
   "outputs": [
    {
     "data": {
      "text/plain": [
       "rank\n",
       "200    0.033055\n",
       "Name: (HybridSVD ($\\alpha=0.5$), MRR), dtype: float64"
      ]
     },
     "execution_count": 72,
     "metadata": {},
     "output_type": "execute_result"
    }
   ],
   "source": [
    "rank_cv_results.loc[:, (r'HybridSVD ($\\alpha=0.5$)', 'MRR')].mean(level='rank').loc[lambda x: x == x.max()]"
   ]
  },
  {
   "cell_type": "code",
   "execution_count": 73,
   "metadata": {
    "ExecuteTime": {
     "end_time": "2017-09-27T08:17:32.556290Z",
     "start_time": "2017-09-27T08:17:32.541712Z"
    },
    "hidden": true
   },
   "outputs": [
    {
     "data": {
      "text/plain": [
       "rank\n",
       "200    0.035164\n",
       "Name: (HybridSVD ($\\alpha=0.999$), MRR), dtype: float64"
      ]
     },
     "execution_count": 73,
     "metadata": {},
     "output_type": "execute_result"
    }
   ],
   "source": [
    "rank_cv_results.loc[:, (r'HybridSVD ($\\alpha=0.999$)', 'MRR')].mean(level='rank').loc[lambda x: x == x.max()]"
   ]
  },
  {
   "cell_type": "markdown",
   "metadata": {},
   "source": [
    "# Top-N experiments"
   ]
  },
  {
   "cell_type": "code",
   "execution_count": 74,
   "metadata": {
    "ExecuteTime": {
     "end_time": "2017-09-27T08:17:53.507422Z",
     "start_time": "2017-09-27T08:17:53.501297Z"
    },
    "collapsed": true
   },
   "outputs": [],
   "source": [
    "def sample_ci(df, coef=2.776, level=None): # 95% CI for sample\n",
    "    return coef * df.std(level=level) / np.sqrt(df.shape[0])"
   ]
  },
  {
   "cell_type": "code",
   "execution_count": 78,
   "metadata": {
    "ExecuteTime": {
     "end_time": "2017-09-27T08:20:09.896684Z",
     "start_time": "2017-09-27T08:20:09.891225Z"
    },
    "collapsed": true
   },
   "outputs": [],
   "source": [
    "baselines = [mpop, rndm, cb]"
   ]
  },
  {
   "cell_type": "code",
   "execution_count": 76,
   "metadata": {
    "ExecuteTime": {
     "end_time": "2017-09-27T08:19:18.487652Z",
     "start_time": "2017-09-27T08:19:18.476562Z"
    },
    "collapsed": true
   },
   "outputs": [],
   "source": [
    "features_weights = [0.999, 0.5, 0.1]\n",
    "hybrid_config = [{'features_weight':w, 'method': r'HybridSVD ($\\alpha={}$)'.format(w)} for w in features_weights]\n",
    "hybrids = replicate_models(HybridSVDColdStart, len(features_weights), data_model, config=hybrid_config)"
   ]
  },
  {
   "cell_type": "code",
   "execution_count": 80,
   "metadata": {
    "ExecuteTime": {
     "end_time": "2017-09-27T08:22:03.599996Z",
     "start_time": "2017-09-27T08:22:03.593568Z"
    },
    "collapsed": true
   },
   "outputs": [],
   "source": [
    "hsvds = [hybrid_svd for hybrid_svd in hybrids if '0.1' not in hybrid_svd.method]"
   ]
  },
  {
   "cell_type": "code",
   "execution_count": 81,
   "metadata": {
    "ExecuteTime": {
     "end_time": "2017-09-27T08:23:36.133916Z",
     "start_time": "2017-09-27T08:23:36.120844Z"
    }
   },
   "outputs": [
    {
     "name": "stdout",
     "output_type": "stream",
     "text": [
      "MP RND CB PureSVD+CB FM HybridSVD ($\\alpha=0.999$) HybridSVD ($\\alpha=0.5$)\n"
     ]
    }
   ],
   "source": [
    "topk_models = baselines + [psvd, fm] + hsvds\n",
    "models_config = [None]*len(baselines) + [{'rank':300}, {'rank':100}] + [{'rank':200}, {'rank':200}]\n",
    "\n",
    "for model in topk_models:\n",
    "    print model.method,"
   ]
  },
  {
   "cell_type": "code",
   "execution_count": 82,
   "metadata": {
    "ExecuteTime": {
     "end_time": "2017-09-27T10:03:31.304857Z",
     "start_time": "2017-09-27T08:23:54.686727Z"
    }
   },
   "outputs": [
    {
     "data": {
      "application/vnd.jupyter.widget-view+json": {
       "model_id": "32b7cdc7bf70485b81c33c01e40eb104",
       "version_major": 2,
       "version_minor": 0
      },
      "text/plain": [
       "A Jupyter Widget"
      ]
     },
     "metadata": {},
     "output_type": "display_data"
    },
    {
     "data": {
      "text/html": [
       "<pre>Recsys training: model = ranking_factorization_recommender</pre>"
      ],
      "text/plain": [
       "Recsys training: model = ranking_factorization_recommender"
      ]
     },
     "metadata": {},
     "output_type": "display_data"
    },
    {
     "data": {
      "text/html": [
       "<pre>Recsys training: model = ranking_factorization_recommender</pre>"
      ],
      "text/plain": [
       "Recsys training: model = ranking_factorization_recommender"
      ]
     },
     "metadata": {},
     "output_type": "display_data"
    },
    {
     "data": {
      "text/html": [
       "<pre>Recsys training: model = ranking_factorization_recommender</pre>"
      ],
      "text/plain": [
       "Recsys training: model = ranking_factorization_recommender"
      ]
     },
     "metadata": {},
     "output_type": "display_data"
    },
    {
     "data": {
      "text/html": [
       "<pre>Recsys training: model = ranking_factorization_recommender</pre>"
      ],
      "text/plain": [
       "Recsys training: model = ranking_factorization_recommender"
      ]
     },
     "metadata": {},
     "output_type": "display_data"
    },
    {
     "data": {
      "text/html": [
       "<pre>Recsys training: model = ranking_factorization_recommender</pre>"
      ],
      "text/plain": [
       "Recsys training: model = ranking_factorization_recommender"
      ]
     },
     "metadata": {},
     "output_type": "display_data"
    },
    {
     "name": "stdout",
     "output_type": "stream",
     "text": [
      "\n"
     ]
    }
   ],
   "source": [
    "topk_list = [1, 3, 10, 20, 30]\n",
    "\n",
    "topk_cv_results = run_cv_experiment(topk_models, data_model, metrics, ('topk', topk_list), models_configuration=models_config, verbose=False)"
   ]
  },
  {
   "cell_type": "code",
   "execution_count": 83,
   "metadata": {
    "ExecuteTime": {
     "end_time": "2017-09-27T10:03:31.358770Z",
     "start_time": "2017-09-27T10:03:31.307609Z"
    },
    "collapsed": true
   },
   "outputs": [],
   "source": [
    "topk_cv_results_df = get_results_dataframe(topk_cv_results, ('topk', topk_list))"
   ]
  },
  {
   "cell_type": "code",
   "execution_count": 84,
   "metadata": {
    "ExecuteTime": {
     "end_time": "2017-09-27T10:03:31.467530Z",
     "start_time": "2017-09-27T10:03:31.361124Z"
    },
    "collapsed": true
   },
   "outputs": [],
   "source": [
    "topk_cv_results_df.to_csv('Coldstart_TopN_CV_results_BX.csv')"
   ]
  },
  {
   "cell_type": "code",
   "execution_count": 85,
   "metadata": {
    "ExecuteTime": {
     "end_time": "2017-09-27T10:03:32.145494Z",
     "start_time": "2017-09-27T10:03:31.472078Z"
    }
   },
   "outputs": [
    {
     "data": {
      "text/plain": [
       "<matplotlib.axes._subplots.AxesSubplot at 0x7f1bd5405cd0>"
      ]
     },
     "execution_count": 85,
     "metadata": {},
     "output_type": "execute_result"
    },
    {
     "data": {
      "image/png": "[encoded data removed]",
      "text/plain": [
       "<matplotlib.figure.Figure at 0x7f1b684e18d0>"
      ]
     },
     "metadata": {
      "image/png": {
       "height": 266,
       "width": 380
      }
     },
     "output_type": "display_data"
    }
   ],
   "source": [
    "topk_cv_results_df.xs('MRR', 1, 1).mean(level='topk').plot.bar(yerr=sample_ci(topk_cv_results_df.xs('MRR', 1, 1), level='topk'), width=0.9, logy=False)"
   ]
  },
  {
   "cell_type": "code",
   "execution_count": null,
   "metadata": {
    "collapsed": true
   },
   "outputs": [],
   "source": []
  },
  {
   "cell_type": "markdown",
   "metadata": {},
   "source": [
    "UPDATE"
   ]
  },
  {
   "cell_type": "code",
   "execution_count": 74,
   "metadata": {
    "ExecuteTime": {
     "end_time": "2018-02-12T05:02:00.188072Z",
     "start_time": "2018-02-12T05:02:00.182756Z"
    },
    "collapsed": true
   },
   "outputs": [],
   "source": [
    "def sample_ci(df, coef=2.776, level=None): # 95% CI for sample\n",
    "    return coef * df.std(level=level) / np.sqrt(df.shape[0])"
   ]
  },
  {
   "cell_type": "code",
   "execution_count": 75,
   "metadata": {
    "ExecuteTime": {
     "end_time": "2018-02-12T05:02:00.199763Z",
     "start_time": "2018-02-12T05:02:00.190793Z"
    },
    "collapsed": true
   },
   "outputs": [],
   "source": [
    "features_weights = [0.999, 0.5, 0.1]\n",
    "hybrid_config = [{'features_weight':w, 'method': r'HybridSVD ($\\alpha={}$)'.format(w)} for w in features_weights]\n",
    "hybrids = replicate_models(HybridSVDColdStart2, len(features_weights), data_model, config=hybrid_config)"
   ]
  },
  {
   "cell_type": "code",
   "execution_count": 76,
   "metadata": {
    "ExecuteTime": {
     "end_time": "2018-02-12T05:02:00.212652Z",
     "start_time": "2018-02-12T05:02:00.202444Z"
    },
    "collapsed": true
   },
   "outputs": [],
   "source": [
    "hsvds = [hybrid_svd for hybrid_svd in hybrids if '0.1' not in hybrid_svd.method]"
   ]
  },
  {
   "cell_type": "code",
   "execution_count": 87,
   "metadata": {
    "ExecuteTime": {
     "end_time": "2018-02-12T05:31:14.454576Z",
     "start_time": "2018-02-12T05:31:14.448481Z"
    }
   },
   "outputs": [
    {
     "name": "stdout",
     "output_type": "stream",
     "text": [
      "PureSVD+CB HybridSVD ($\\alpha=0.999$) HybridSVD ($\\alpha=0.5$)\n"
     ]
    }
   ],
   "source": [
    "topk_models = [psvd2] + hsvds\n",
    "models_config = [{'rank':1500}, {'rank':1500}, {'rank':1500}]\n",
    "\n",
    "for model in topk_models:\n",
    "    print model.method,"
   ]
  },
  {
   "cell_type": "code",
   "execution_count": 88,
   "metadata": {
    "ExecuteTime": {
     "end_time": "2018-02-12T07:52:40.775813Z",
     "start_time": "2018-02-12T05:31:36.372985Z"
    }
   },
   "outputs": [
    {
     "data": {
      "application/vnd.jupyter.widget-view+json": {
       "model_id": "fce672bd320c4e969153c3ca70288559",
       "version_major": 2,
       "version_minor": 0
      },
      "text/plain": [
       "A Jupyter Widget"
      ]
     },
     "metadata": {},
     "output_type": "display_data"
    },
    {
     "name": "stdout",
     "output_type": "stream",
     "text": [
      "\n"
     ]
    }
   ],
   "source": [
    "topk_list = [1, 3, 10, 20, 30]\n",
    "\n",
    "topk_cv_results = run_cv_experiment(topk_models, data_model, metrics, ('topk', topk_list), models_configuration=models_config, verbose=False)"
   ]
  },
  {
   "cell_type": "code",
   "execution_count": 89,
   "metadata": {
    "ExecuteTime": {
     "end_time": "2018-02-12T07:58:44.453101Z",
     "start_time": "2018-02-12T07:58:44.413544Z"
    },
    "collapsed": true
   },
   "outputs": [],
   "source": [
    "topk_cv_results_df = get_results_dataframe(topk_cv_results, ('topk', topk_list))"
   ]
  },
  {
   "cell_type": "code",
   "execution_count": 90,
   "metadata": {
    "ExecuteTime": {
     "end_time": "2018-02-12T07:58:50.772271Z",
     "start_time": "2018-02-12T07:58:50.766339Z"
    },
    "collapsed": true
   },
   "outputs": [],
   "source": [
    "topk_cv_results_df.to_csv('Coldstart_TopN_CV_results_BX_UPD.csv')"
   ]
  },
  {
   "cell_type": "markdown",
   "metadata": {},
   "source": [
    "===END OF UPDATE==="
   ]
  },
  {
   "cell_type": "code",
   "execution_count": null,
   "metadata": {
    "collapsed": true
   },
   "outputs": [],
   "source": []
  }
 ],
 "metadata": {
  "kernelspec": {
   "display_name": "Python 2",
   "language": "python",
   "name": "python2"
  },
  "language_info": {
   "codemirror_mode": {
    "name": "ipython",
    "version": 2
   },
   "file_extension": ".py",
   "mimetype": "text/x-python",
   "name": "python",
   "nbconvert_exporter": "python",
   "pygments_lexer": "ipython2",
   "version": "2.7.14"
  },
  "toc": {
   "colors": {
    "hover_highlight": "#DAA520",
    "navigate_num": "#000000",
    "navigate_text": "#333333",
    "running_highlight": "#FF0000",
    "selected_highlight": "#FFD700",
    "sidebar_border": "#EEEEEE",
    "wrapper_background": "#FFFFFF"
   },
   "moveMenuLeft": true,
   "nav_menu": {
    "height": "12px",
    "width": "252px"
   },
   "navigate_menu": true,
   "number_sections": true,
   "sideBar": true,
   "threshold": 4,
   "toc_cell": false,
   "toc_section_display": "block",
   "toc_window_display": false,
   "widenNotebook": false
  }
 },
 "nbformat": 4,
 "nbformat_minor": 1
}
