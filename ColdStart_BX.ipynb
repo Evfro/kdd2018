{
 "cells": [
  {
   "cell_type": "code",
   "execution_count": null,
   "metadata": {
    "code_folding": [
     0
    ],
    "collapsed": true
   },
   "outputs": [],
   "source": [
    "%%javascript\n",
    "Jupyter.keyboard_manager.edit_shortcuts.remove_shortcut('Ctrl-X');"
   ]
  },
  {
   "cell_type": "code",
   "execution_count": 2,
   "metadata": {
    "code_folding": [
     0
    ],
    "collapsed": true,
    "scrolled": true
   },
   "outputs": [],
   "source": [
    "# imports\n",
    "from contextlib import contextmanager\n",
    "from collections import defaultdict, namedtuple\n",
    "\n",
    "import pandas as pd\n",
    "import numpy as np\n",
    "import scipy as sp\n",
    "from scipy.sparse import coo_matrix, csr_matrix, csc_matrix\n",
    "\n",
    "from polara.recommender.data import RecommenderData\n",
    "from polara.recommender.models import RecommenderModel, SVDModel\n",
    "from polara.recommender.coldstart.data import ItemColdStartData\n",
    "from polara.tools.printing import print_frames\n",
    "from polara.lib.similarity import combine_similarity_data\n",
    "from evaluation import evaluate_hits\n",
    "from tools import get_bx_data\n",
    "\n",
    "from tqdm import tqdm_notebook\n",
    "\n",
    "%matplotlib inline"
   ]
  },
  {
   "cell_type": "code",
   "execution_count": 3,
   "metadata": {
    "code_folding": [
     0
    ],
    "collapsed": true
   },
   "outputs": [],
   "source": [
    "# cholesky routines\n",
    "cholesky_dense = lambda x: sp.linalg.cholesky(x, lower=True)\n",
    "solve_triangular_dense = lambda L, V: sp.linalg.solve_triangular(L, V, lower=True, trans=1)\n",
    "cholesky_factor_dense = lambda x: x\n",
    "\n",
    "try:\n",
    "    from scikits.sparse.cholmod import cholesky as cholesky_sparse\n",
    "    # there's a problem in v.0.2 - factor.solve_Lt returns inaccurate result\n",
    "    # have to use scipy's spsolve_triangular instead\n",
    "    solve_triangular_sparse = lambda x, y: x.apply_Pt(sp.sparse.linalg.spsolve_triangular(x.L().T, y, lower=False))\n",
    "    cholesky_factor_sparse = lambda x: x.apply_Pt(x.L())\n",
    "except ImportError:\n",
    "    print 'unable to import sparse cholesky module'\n",
    "    pass"
   ]
  },
  {
   "cell_type": "code",
   "execution_count": 4,
   "metadata": {
    "code_folding": [
     0,
     46,
     57,
     64,
     68,
     71,
     76
    ],
    "collapsed": true
   },
   "outputs": [],
   "source": [
    "class ItemColdStartDataOld(RecommenderData):\n",
    "    def __init__(self, *args, **kwargs):\n",
    "        seed = kwargs.pop('seed', None)\n",
    "        super(ItemColdStartDataOld, self).__init__(*args, **kwargs)\n",
    "\n",
    "        self._test_sample = 1\n",
    "        self._test_unseen_users = False\n",
    "\n",
    "        self.seed = seed\n",
    "        permute = np.random.RandomState(seed).permutation\n",
    "\n",
    "        # build unique items list to split them by folds\n",
    "        itemid = self.fields.itemid\n",
    "        self._unique_items = permute(self._data[itemid].unique())\n",
    "\n",
    "\n",
    "    def _check_state_transition(self):\n",
    "        new_state, update_rule = super(ItemColdStartDataOld, self)._check_state_transition()\n",
    "        if '_test_sample' in self._change_properties:\n",
    "            update_rule['test_update'] = True\n",
    "        return new_state, update_rule\n",
    "\n",
    "\n",
    "    def _split_test_index(self):\n",
    "        userid = self.fields.userid\n",
    "        itemid = self.fields.itemid\n",
    "\n",
    "        item_idx = np.arange(len(self._unique_items))\n",
    "        cold_items_split = self._split_fold_index(item_idx, len(item_idx), self._test_fold, self._test_ratio)\n",
    "\n",
    "        cold_items = self._unique_items[cold_items_split]\n",
    "        cold_items_mask = self._data[itemid].isin(cold_items)\n",
    "        return cold_items_mask\n",
    "\n",
    "\n",
    "    def _split_data(self):\n",
    "        assert self._test_ratio > 0\n",
    "        assert not self._test_unseen_users\n",
    "        update_rule = super(ItemColdStartDataOld, self)._split_data()\n",
    "\n",
    "        if any(update_rule.values()):\n",
    "            testset = self._sample_test_items()\n",
    "            self._test = self._test._replace(testset=testset)\n",
    "        return update_rule\n",
    "\n",
    "\n",
    "    def _sample_test_items(self):\n",
    "        userid = self.fields.userid\n",
    "        itemid = self.fields.itemid\n",
    "        itemid_cold = '{}_cold'.format(itemid)\n",
    "        test_split = self._test_split\n",
    "        holdout = self.test.evalset\n",
    "        user_has_cold_item = self._data[userid].isin(holdout[userid].unique())\n",
    "        testset = super(ItemColdStartDataOld, self)._sample_testset(user_has_cold_item, holdout.index)\n",
    "        return testset\n",
    "\n",
    "\n",
    "    def _sample_holdout(self, test_split):\n",
    "        itemid = self.fields.itemid\n",
    "        itemid_cold = '{}_cold'.format(itemid)\n",
    "        return (self._data.loc[test_split, list(self.fields)]\n",
    "                    .rename(columns={itemid: itemid_cold}, copy=False))\n",
    "\n",
    "\n",
    "    def _try_drop_unseen_test_items(self):\n",
    "        # there will be no such items except cold-start items\n",
    "        pass\n",
    "\n",
    "    def _try_drop_invalid_test_users(self):\n",
    "        self._align_test_users() # ensure the same users are in both testset and holdout\n",
    "\n",
    "    def _assign_test_items_index(self):\n",
    "        itemid = self.fields.itemid\n",
    "        self._map_entity(itemid, self._test.testset)\n",
    "        self._reindex_cold_items() # instead of trying to assign known items index\n",
    "\n",
    "    def _reindex_cold_items(self):\n",
    "        itemid_cold = '{}_cold'.format(self.fields.itemid)\n",
    "        cold_item_index = self.reindex(self.test.evalset, itemid_cold, inplace=True, sort=False)\n",
    "        try: # check if already modified item index to avoid nested assignemnt\n",
    "            item_index = self.index.itemid.training\n",
    "        except AttributeError:\n",
    "            item_index = self.index.itemid\n",
    "        new_item_index = (namedtuple('ItemIndex', 'training cold_start')\n",
    "                                ._make([item_index, cold_item_index]))\n",
    "        self.index = self.index._replace(itemid=new_item_index)"
   ]
  },
  {
   "cell_type": "code",
   "execution_count": 62,
   "metadata": {
    "code_folding": [
     0,
     35,
     39,
     66,
     82,
     96,
     100,
     161,
     184
    ],
    "collapsed": true
   },
   "outputs": [],
   "source": [
    "class ColdStartHybridData(ItemColdStartDataOld):\n",
    "    def __init__(self, sim_mat, sim_idx, *args, **kwargs):\n",
    "        super(ColdStartHybridData, self).__init__(*args, **kwargs)\n",
    "\n",
    "        entities = [self.fields.userid, self.fields.itemid]\n",
    "        self._sim_idx = {entity: pd.Series(index=idx, data=np.arange(len(idx))) if idx is not None else None\n",
    "                         for entity, idx in sim_idx.iteritems() if entity in entities}\n",
    "        self._sim_mat = {entity: mat for entity, mat in sim_mat.iteritems() if entity in entities}\n",
    "                \n",
    "        self._side_similarity_weight = 0.999\n",
    "        self._similarity = {entity:None for entity in entities}\n",
    "        \n",
    "        self._attach_model('on_change', self, '_on_change')\n",
    "        self._attached_models['on_sim_weight_change'] = {self: '_on_change'}\n",
    "        \n",
    "        self._cold_items_similarity = None\n",
    "        self._user_cold_item_similarity = None\n",
    "        self._attach_model('on_update', self, '_clean_cold_similarity')\n",
    "        \n",
    "    \n",
    "    def _on_change(self):\n",
    "        self._clean_cold_similarity()\n",
    "        self._clean_similarity()\n",
    "\n",
    "    #def _reindex_cold_items(self):\n",
    "    #    super(ColdStartHybridData, self)._reindex_cold_items()\n",
    "    #   self._verify_cold_items()\n",
    "\n",
    "    #def _sample_holdout(self, test_split):\n",
    "    #    holdout = super(ColdStartHybridData, self)._sample_holdout(test_split)\n",
    "    #    holdout = self._validate_cold_items(holdout)\n",
    "    #    return holdout\n",
    "        \n",
    "    \n",
    "    @property\n",
    "    def features_weight(self):\n",
    "        return self._side_similarity_weight\n",
    "\n",
    "    @features_weight.setter\n",
    "    def features_weight(self, new_val):\n",
    "        if new_val != self._side_similarity_weight:\n",
    "            self._side_similarity_weight = new_val\n",
    "            self._notify('on_sim_weight_change')\n",
    "    \n",
    "    @property\n",
    "    def item_similarity(self):\n",
    "        itemid = self.fields.itemid\n",
    "        return self.get_similarity(itemid)\n",
    "    \n",
    "    @property\n",
    "    def user_similarity(self):\n",
    "        userid = self.fields.userid\n",
    "        return self.get_similarity(userid)\n",
    "    \n",
    "    def get_similarity(self, etnity):\n",
    "        similarity = self._similarity.get(entity, None)\n",
    "        if similarity is None:\n",
    "            if self._sim_mat[entity] is None:\n",
    "                self._similarity[entity] = None\n",
    "            else:\n",
    "                print 'Updating {} similarity'.format(entity)\n",
    "                side_similarity = self._get_side_similarity(entity)\n",
    "                full_similarity = self._build_total_similarity(side_similarity, inplace=True)\n",
    "                self._similarity[entity] = full_similarity\n",
    "        return self._similarity[entity]\n",
    "    \n",
    "    def _get_side_similarity(self, entity):\n",
    "        # makes conversion of indices:\n",
    "        # from data index to similarity matrix index\n",
    "        entity_type = self.fields._fields[self.fields.index(entity)]\n",
    "        index_data = getattr(self.index, entity_type)\n",
    "        try:\n",
    "            ext_idx = index_data.training['old'].values\n",
    "        except AttributeError:\n",
    "            ext_idx = index_data['old'].values\n",
    "        \n",
    "        sim_idx = self._sim_idx[entity]\n",
    "        int_idx = sim_idx.loc[ext_idx].values\n",
    "        #TODO avoid chained indexing - need to handle sparse and dense cases\n",
    "        sim_mat = self._sim_mat[entity][:, int_idx][int_idx, :]\n",
    "        return sim_mat\n",
    "\n",
    "    def _build_total_similarity(self, side_similarity, inplace=False):\n",
    "        side_weight = self._side_similarity_weight\n",
    "\n",
    "        if inplace:\n",
    "            side_similarity *= side_weight\n",
    "        else:\n",
    "            side_similarity = side_weight * side_similarity\n",
    "\n",
    "        if sp.sparse.issparse(side_similarity):\n",
    "            side_similarity.setdiag(1)\n",
    "        else:\n",
    "            np.fill_diagonal(side_similarity, 1)\n",
    "        return side_similarity\n",
    "\n",
    "    def _clean_similarity(self):\n",
    "        self._similarity = {entity:None for entity in self._similarity.keys()}    \n",
    "        \n",
    " \n",
    "    def _clean_cold_similarity(self):\n",
    "        self._user_cold_item_similarity = None\n",
    "        self._cold_items_similarity = None\n",
    "\n",
    "    #@property\n",
    "    #def cold_items_similarity(self):\n",
    "    #    itemid = self.fields.itemid\n",
    "    #    \n",
    "    #    if self._sim_mat[itemid] is None:\n",
    "    #        self._cold_items_similarity = None\n",
    "    #    elif self._cold_items_similarity is None:\n",
    "    #        print 'Updating cold-start {} similarity'.format(itemid)\n",
    "    #        item_index = self.index.itemid\n",
    "    #        trn_idx = item_index.training.old.values\n",
    "    #        cold_items_index = item_index.cold_start\n",
    "    #        cld_idx = cold_items_index.old\n",
    "    #        \n",
    "    #        sim_idx = self._sim_idx[itemid]\n",
    "    #        col_idx = sim_idx.loc[trn_idx].values\n",
    "    #        row_idx = sim_idx.loc[cld_idx].values\n",
    "\n",
    "    #        self._cold_items_similarity = self._sim_mat[itemid][:, col_idx][row_idx, :]\n",
    "    #    return self._cold_items_similarity\n",
    "    \n",
    "    @property\n",
    "    def user_cold_item_similarity(self):\n",
    "        userid = self.fields.userid\n",
    "        itemid = self.fields.itemid\n",
    "        itemid_cold = '{}_cold'.format(itemid)\n",
    "        sim_mat = self._sim_mat[itemid]\n",
    "        \n",
    "        if sim_mat is None:\n",
    "            self._user_cold_item_similarity = None\n",
    "        elif self._user_cold_item_similarity is None:\n",
    "            userid = self.fields.userid\n",
    "            print 'Updating {}-based cold-start {} similarity'.format(userid, itemid)\n",
    "            \n",
    "            sim_idx = self._sim_idx[itemid]\n",
    "            seen_item_index = self.index.itemid.training\n",
    "            similarity_matrix = sim_mat[:, sim_idx.loc[seen_item_index.old].values]\n",
    "            \n",
    "            holdout = self.test.evalset\n",
    "            cold_item_index = self.index.itemid.cold_start\n",
    "            useridx = np.r_[0, np.cumsum(np.diff(holdout[userid].values)>0)]\n",
    "            itemidx = holdout[itemid_cold].map(cold_item_index.set_index('new').old)\n",
    "\n",
    "            shape = (useridx.max() + 1, similarity_matrix.shape[0])\n",
    "            data = np.ones_like(useridx)\n",
    "            indicator_matrix = coo_matrix((data, (useridx, sim_idx.loc[itemidx].values)), shape=shape)\n",
    "            \n",
    "            self._user_cold_item_similarity = indicator_matrix.dot(similarity_matrix)\n",
    "            has_meta = self._user_cold_item_similarity.getnnz(axis=1)>0\n",
    "            if not has_meta.all():\n",
    "                self._user_cold_item_similarity = self._user_cold_item_similarity[has_meta, :]\n",
    "                holdout.loc[:, 'has_meta'] = np.repeat(has_meta, holdout[userid]\n",
    "                                                                   .value_counts(sort=False)\n",
    "                                                                   .sort_index().values)\n",
    "        return self._user_cold_item_similarity\n",
    "\n",
    "    cold_items_similarity = user_cold_item_similarity\n",
    "    \n",
    "    def _validate_cold_items(self, holdout):\n",
    "        raise TypeError\n",
    "        itemid = self.fields.itemid\n",
    "        itemid_cold = '{}_cold'.format(itemid)\n",
    "        sim_idx = self._sim_idx[itemid]\n",
    "        \n",
    "        trn_idx = self._data[itemid].drop(holdout.index).drop_duplicates().values\n",
    "        col_idx = sim_idx.loc[trn_idx].values\n",
    "        \n",
    "        cld_idx = holdout[itemid_cold].drop_duplicates().values\n",
    "        row_idx = sim_idx.loc[cld_idx].values\n",
    "        \n",
    "        cold_items_similarity = self._sim_mat[itemid][:, col_idx][row_idx, :]\n",
    "\n",
    "        has_no_meta = cold_items_similarity.getnnz(axis=1) == 0\n",
    "        if has_no_meta.any():\n",
    "            no_meta_mask = holdout[itemid_cold].isin(cld_idx[has_no_meta])\n",
    "            holdout = holdout.drop(holdout.index[no_meta_mask])\n",
    "            if self.verbose:\n",
    "                msg = '{} out of {} cold-start items were skipped. Reason: have no similarity information.'\n",
    "                print msg.format(has_no_meta.sum(), len(has_no_meta))\n",
    "        return holdout\n",
    "\n",
    "    def _verify_cold_items(self):\n",
    "        raise TypeError\n",
    "        itemid = self.fields.itemid\n",
    "        sim_idx = self._sim_idx[itemid]\n",
    "        cold_items_index = self.index.itemid.cold_start\n",
    "        holdout = self.test.evalset\n",
    "        \n",
    "        trn_idx = self.index.itemid.training.old.values\n",
    "        col_idx = sim_idx.loc[trn_idx].values\n",
    "        \n",
    "        cld_idx = cold_items_index.old.values\n",
    "        row_idx = sim_idx.loc[cld_idx].values\n",
    "        \n",
    "        cold_items_similarity = self._sim_mat[itemid][:, col_idx][row_idx, :]\n",
    "        \n",
    "        has_no_meta = cold_items_similarity.getnnz(axis=1) == 0\n",
    "        if has_no_meta.any():\n",
    "            cold_items_index.loc[:, 'no_meta'] = has_no_meta\n",
    "            no_meta = cold_items_index.set_index('old')['no_meta']\n",
    "\n",
    "            itemid_cold = '{}_cold'.format(itemid)\n",
    "            no_meta_mask = holdout.loc[:, itemid_cold].map(no_meta)\n",
    "            holdout.drop(holdout.index[no_meta_mask], inplace=True)\n",
    "            if self.verbose:\n",
    "                msg = '{} out of {} cold-start items were skipped. Reason: have no similarity information.'\n",
    "                print msg.format(has_no_meta.sum(), len(has_no_meta))\n",
    "        else:\n",
    "            self._cold_items_similarity = cold_items_similarity"
   ]
  },
  {
   "cell_type": "code",
   "execution_count": 10,
   "metadata": {
    "code_folding": [
     0,
     21,
     38,
     41,
     76,
     79,
     89
    ],
    "collapsed": true
   },
   "outputs": [],
   "source": [
    "class HybridSVDColdStart(SVDModel):\n",
    "    def __init__(self, *args, **kwargs):\n",
    "        super(HybridSVDColdStart, self).__init__(*args, **kwargs)\n",
    "        self.method = 'HybridSVD'\n",
    "        entities = self.data.fields.userid, self.data.fields.itemid\n",
    "        self._cholesky = {entity:None for entity in entities}\n",
    "        self._sparse_mode = True\n",
    "        self.filter_seen = False # there are no seen items in cold-start recommendations\n",
    "\n",
    "    def _on_change(self):\n",
    "        super(HybridSVDColdStart, self)._on_change()\n",
    "        self._clean_cholesky()\n",
    "\n",
    "    @property\n",
    "    def cholesky_factor(self):\n",
    "        entity = self.data._entity_context\n",
    "        cholesky = self._cholesky.get(entity, None)\n",
    "        if cholesky is None:\n",
    "            self._update_cholesky()\n",
    "        return self._cholesky[entity]\n",
    "\n",
    "    def _update_cholesky(self):\n",
    "        full_similarity = self.data.similarity\n",
    "        entity = self.data._entity_context\n",
    "        if full_similarity is None:\n",
    "            self._cholesky[entity] = None\n",
    "        else:\n",
    "            if self._sparse_mode:\n",
    "                cholesky = cholesky_sparse\n",
    "                mode = 'sparse'\n",
    "            else:\n",
    "                full_similarity = full_similarity.toarray()\n",
    "                cholesky = cholesky_dense\n",
    "                mode = 'dense'\n",
    "\n",
    "            print 'Performing {} Cholesky decomposition for {} similarity'.format(mode, entity)\n",
    "            self._cholesky[entity] = cholesky(full_similarity)\n",
    "\n",
    "    def _clean_cholesky(self):\n",
    "        self._cholesky = {entity:None for entity in self._cholesky.keys()} \n",
    "\n",
    "    def build(self):\n",
    "        entity_context = self.data.entity_context\n",
    "        userid = self.data.fields.userid\n",
    "        itemid = self.data.fields.itemid\n",
    "        \n",
    "        with entity_context(userid):\n",
    "            chol_users = self.cholesky_factor\n",
    "        with entity_context(itemid):\n",
    "            chol_items = self.cholesky_factor\n",
    "\n",
    "        svd_matrix = self.get_training_matrix(dtype=np.float64)\n",
    "\n",
    "        if self._sparse_mode:\n",
    "            cholesky_factor = cholesky_factor_sparse\n",
    "            solve_triangular = solve_triangular_sparse\n",
    "        else:\n",
    "            cholesky_factor = cholesky_factor_dense\n",
    "            solve_triangular = solve_triangular_dense\n",
    "\n",
    "        if chol_items is not None:\n",
    "            cholesky_items = cholesky_factor(chol_items)\n",
    "            svd_matrix = svd_matrix.dot(cholesky_items)\n",
    "\n",
    "        if chol_users is not None:\n",
    "            cholesky_users = cholesky_factor(chol_users)\n",
    "            svd_matrix = cholesky_users.T.dot(svd_matrix)\n",
    "\n",
    "        super(HybridSVDColdStart, self).build(operator=svd_matrix)\n",
    "\n",
    "        if chol_items is not None:\n",
    "            v = self._items_factors\n",
    "            vs = cholesky_items.dot(v)\n",
    "            vi = solve_triangular(chol_items, v)\n",
    "            self._projector = (vs, vi)\n",
    "\n",
    "    def slice_recommendations(self, test_data, shape, start, stop):\n",
    "        raise NotImplementedError\n",
    "\n",
    "    def get_recommendations(self):\n",
    "        vs, vi = self._projector\n",
    "        similarity_matrix = self.data.cold_items_similarity\n",
    "        \n",
    "        scores = similarity_matrix.dot(vs).dot(vi.T)\n",
    "        if sp.sparse.issparse(scores):\n",
    "            assert scores.format == 'csr'\n",
    "        top_similar_items = self.get_topk_items(scores)\n",
    "        return top_similar_items\n",
    "\n",
    "    def get_similar_items(self, p):\n",
    "        vs, vi = self._projector\n",
    "        assert p.shape[0] == 1\n",
    "        similarity_scores = p.dot(vs).dot(vi.T).squeeze()\n",
    "        top_similar_items = self.topsort(similarity_scores, self.topk)\n",
    "        return top_similar_items"
   ]
  },
  {
   "cell_type": "code",
   "execution_count": 11,
   "metadata": {
    "code_folding": [
     0
    ],
    "collapsed": true
   },
   "outputs": [],
   "source": [
    "class TopItemsColdStart(RecommenderModel):\n",
    "    def __init__(self, *args, **kwargs):\n",
    "        super(TopItemsColdStart, self).__init__(*args, **kwargs)\n",
    "        self.method = 'mostpopular'\n",
    "        self.filter_seen = False # there are no seen items in cold-start recommendations\n",
    "\n",
    "    def build(self):\n",
    "        itemid = self.data.fields.itemid\n",
    "        self.item_scores = self.data.training[itemid].value_counts(ascending=False)\n",
    "\n",
    "    def get_recommendations(self):\n",
    "        topk = self.topk\n",
    "        similarity_matrix = self.data.cold_items_similarity\n",
    "        top_items = self.item_scores.index[:topk].values\n",
    "        top_items_array = np.lib.stride_tricks.as_strided(top_items,\n",
    "                                                          (similarity_matrix.shape[0], topk),\n",
    "                                                          (0, top_items.itemsize))\n",
    "        return top_items_array\n",
    "\n",
    "    def get_similar_items(self, p):\n",
    "        return self.item_scores.index[:self.topk]"
   ]
  },
  {
   "cell_type": "code",
   "execution_count": 12,
   "metadata": {
    "code_folding": [
     0
    ],
    "collapsed": true
   },
   "outputs": [],
   "source": [
    "class RandomColdStart(RecommenderModel):\n",
    "    def __init__(self, *args, **kwargs):\n",
    "        super(RandomColdStart, self).__init__(*args, **kwargs)\n",
    "        self.method = 'random'\n",
    "        self.filter_seen = False # there are no seen items in cold-start recommendations\n",
    "\n",
    "    def build(self):\n",
    "        self.all_items = self.data.index.itemid.training.new.values\n",
    "\n",
    "    def get_recommendations(self):\n",
    "        similarity_matrix = self.data.cold_items_similarity\n",
    "        items_matrix = np.lib.stride_tricks.as_strided(self.all_items,\n",
    "                                                       (similarity_matrix.shape[0], len(self.all_items)),\n",
    "                                                       (0, self.all_items.itemsize))\n",
    "        random_items = np.apply_along_axis(np.random.choice, 1, items_matrix, self.topk, replace=False)\n",
    "        return random_items\n",
    "\n",
    "    def get_similar_items(self, p):\n",
    "        return np.random.choice(self.all_items, self.topk, replace=False)"
   ]
  },
  {
   "cell_type": "code",
   "execution_count": 13,
   "metadata": {
    "code_folding": [
     0
    ],
    "collapsed": true
   },
   "outputs": [],
   "source": [
    "class ContentBasedColdStart(RecommenderModel):\n",
    "    def __init__(self, *args, **kwargs):\n",
    "        super(ContentBasedColdStart, self).__init__(*args, **kwargs)\n",
    "        self.method = 'CB'\n",
    "        self.filter_seen = False # there are no seen items in cold-start recommendations\n",
    "\n",
    "    def build(self):\n",
    "        pass\n",
    "\n",
    "    def get_recommendations(self):\n",
    "        similarity_scores = self.data.cold_items_similarity.tocsr()\n",
    "        top_similar_items = self.get_topk_items(similarity_scores)\n",
    "        return top_similar_items"
   ]
  },
  {
   "cell_type": "code",
   "execution_count": 14,
   "metadata": {
    "collapsed": true
   },
   "outputs": [],
   "source": [
    "fp = \"/home/evfro/hybrid_svd/BX-CSV-Dump.zip\""
   ]
  },
  {
   "cell_type": "code",
   "execution_count": 15,
   "metadata": {
    "collapsed": true
   },
   "outputs": [],
   "source": [
    "ratings, users, books = get_bx_data(fp, get_books=True, get_users=True)"
   ]
  },
  {
   "cell_type": "raw",
   "metadata": {},
   "source": [
    "print_frames((ratings.head(), users.head(), books.head()))"
   ]
  },
  {
   "cell_type": "raw",
   "metadata": {},
   "source": [
    "ratings['rating'].value_counts().sort_index().plot.bar()"
   ]
  },
  {
   "cell_type": "code",
   "execution_count": 17,
   "metadata": {
    "collapsed": true
   },
   "outputs": [],
   "source": [
    "implicit_data = ratings.query('rating==0').assign(rating=1)\n",
    "valid_users = implicit_data.userid.value_counts().loc[lambda x: x<2000].index\n",
    "implicit_data = implicit_data.query('userid in @valid_users')"
   ]
  },
  {
   "cell_type": "code",
   "execution_count": 18,
   "metadata": {
    "collapsed": true
   },
   "outputs": [],
   "source": [
    "valid_books = implicit_data.isbn.value_counts().loc[lambda x: x>1].index"
   ]
  },
  {
   "cell_type": "code",
   "execution_count": 19,
   "metadata": {
    "collapsed": true
   },
   "outputs": [],
   "source": [
    "bx_data = implicit_data.query('isbn in @valid_books')"
   ]
  },
  {
   "cell_type": "code",
   "execution_count": 20,
   "metadata": {
    "collapsed": true
   },
   "outputs": [],
   "source": [
    "books = (books[books.isbn.isin(bx_data.isbn.unique())]\n",
    "         .set_index('isbn')\n",
    "         .applymap(lambda x: [x,]))\n",
    "\n",
    "missing_isbn = bx_data.isbn.drop_duplicates().loc[lambda x: ~x.isin(books.index)].values\n",
    "\n",
    "books = books.append(pd.DataFrame(index=missing_isbn), ignore_index=False)\n",
    "books.loc[missing_isbn, :] = books.loc[missing_isbn, :].applymap(lambda x: [])\n",
    "books.index.name = 'isbn'"
   ]
  },
  {
   "cell_type": "code",
   "execution_count": null,
   "metadata": {
    "collapsed": true
   },
   "outputs": [],
   "source": []
  },
  {
   "cell_type": "code",
   "execution_count": 21,
   "metadata": {
    "collapsed": true
   },
   "outputs": [],
   "source": [
    "jw = 'jaccard-weighted'\n",
    "jd = 'jaccard'\n",
    "cs = 'cosine'\n",
    "tc = 'tfidf-cosine'\n",
    "\n",
    "sim_type = {'author':jd}\n",
    "item_similarity = combine_similarity_data(books[sim_type.keys()], similarity_type=sim_type, weights=None)"
   ]
  },
  {
   "cell_type": "code",
   "execution_count": 22,
   "metadata": {
    "collapsed": true
   },
   "outputs": [],
   "source": [
    "similarities = {'userid': None, 'isbn': item_similarity}\n",
    "sim_indices = {'userid': None, 'isbn': books.index}"
   ]
  },
  {
   "cell_type": "code",
   "execution_count": null,
   "metadata": {
    "collapsed": true
   },
   "outputs": [],
   "source": []
  },
  {
   "cell_type": "code",
   "execution_count": 63,
   "metadata": {
    "collapsed": true
   },
   "outputs": [],
   "source": [
    "seed = 13\n",
    "data_model = ColdStartHybridData(similarities, sim_indices,\n",
    "                                 bx_data, 'userid', 'isbn', 'rating',\n",
    "                                 #random_state=np.random.RandomState(seed)\n",
    "                                 seed=seed)"
   ]
  },
  {
   "cell_type": "code",
   "execution_count": 64,
   "metadata": {
    "collapsed": true
   },
   "outputs": [],
   "source": [
    "data_model.seed = seed\n",
    "data_model.test_fold = 1\n",
    "data_model.test_sample = None\n",
    "data_model.features_weight = 0.999"
   ]
  },
  {
   "cell_type": "code",
   "execution_count": 65,
   "metadata": {},
   "outputs": [
    {
     "name": "stdout",
     "output_type": "stream",
     "text": [
      "Preparing data...\n",
      "5969 unique userid's within 6293 holdout interactions were filtered. Reason: not in the training data.\n"
     ]
    }
   ],
   "source": [
    "data_model.prepare()"
   ]
  },
  {
   "cell_type": "raw",
   "metadata": {},
   "source": [
    "cold_no_meta = data_model.cold_items_similarity.getnnz(axis=1) == 0"
   ]
  },
  {
   "cell_type": "raw",
   "metadata": {},
   "source": [
    "data_model.index.itemid.cold_start['no_meta'] = cold_no_meta"
   ]
  },
  {
   "cell_type": "raw",
   "metadata": {},
   "source": [
    "def clear_no_meta(df, idx_label):\n",
    "    item_index = data_model.index.itemid.cold_start\n",
    "    itemid_cold = '{}_cold'.format(itemid)\n",
    "    \n",
    "    sel = df[itemid_cold].map(item_index.set_index(idx_label)['no_meta'])\n",
    "    df.drop(sel.index[sel], inplace=True)"
   ]
  },
  {
   "cell_type": "raw",
   "metadata": {},
   "source": [
    "# clear_no_meta(data_model.test.testset, 'new')\n",
    "# clear_no_meta(data_model.test.evalset, 'old')\n",
    "clear_no_meta(data_model.test.evalset, 'new')"
   ]
  },
  {
   "cell_type": "raw",
   "metadata": {
    "collapsed": true
   },
   "source": [
    "def truncate_cold_similarity():\n",
    "    idx_sel = ~data_model.index.itemid.cold_start['no_meta'].values\n",
    "    return data_model.cold_items_similarity[idx_sel, :]"
   ]
  },
  {
   "cell_type": "raw",
   "metadata": {},
   "source": [
    "data_model._cold_items_similarity = truncate_cold_similarity()"
   ]
  },
  {
   "cell_type": "raw",
   "metadata": {},
   "source": [
    "def filter_cold_similarity():\n",
    "    idx_sel = data_model.cold_items_similarity.getnnz(axis=1) > 0\n",
    "    return data_model.cold_items_similarity[idx_sel, :]"
   ]
  },
  {
   "cell_type": "raw",
   "metadata": {},
   "source": [
    "data_model._cold_items_similarity = filter_cold_similarity()\n",
    "data_model._cold_items_similarity"
   ]
  },
  {
   "cell_type": "code",
   "execution_count": 66,
   "metadata": {},
   "outputs": [
    {
     "data": {
      "text/plain": [
       "14463"
      ]
     },
     "execution_count": 66,
     "metadata": {},
     "output_type": "execute_result"
    }
   ],
   "source": [
    "data_model.test.evalset.userid.nunique()"
   ]
  },
  {
   "cell_type": "code",
   "execution_count": 67,
   "metadata": {},
   "outputs": [
    {
     "name": "stdout",
     "output_type": "stream",
     "text": [
      "Updating userid-based cold-start isbn similarity\n"
     ]
    },
    {
     "data": {
      "text/plain": [
       "<12761x71945 sparse matrix of type '<type 'numpy.float64'>'\n",
       "\twith 1633179 stored elements in Compressed Sparse Row format>"
      ]
     },
     "execution_count": 67,
     "metadata": {},
     "output_type": "execute_result"
    }
   ],
   "source": [
    "data_model.user_cold_item_similarity"
   ]
  },
  {
   "cell_type": "code",
   "execution_count": 69,
   "metadata": {
    "collapsed": true
   },
   "outputs": [],
   "source": [
    "cbcs = ContentBasedColdStart(data_model)\n",
    "cbcs.build()"
   ]
  },
  {
   "cell_type": "code",
   "execution_count": 71,
   "metadata": {},
   "outputs": [
    {
     "data": {
      "text/plain": [
       "0.00047018258757150694"
      ]
     },
     "execution_count": 71,
     "metadata": {},
     "output_type": "execute_result"
    }
   ],
   "source": [
    "cb_hits = evaluate_hits(data_model.test.evalset.loc[lambda x: x['has_meta']], 'userid', 'isbn_cold', cbcs.recommendations)\n",
    "cb_hr = cb_hits.getnnz(axis=1).mean()\n",
    "cb_hr"
   ]
  },
  {
   "cell_type": "code",
   "execution_count": 101,
   "metadata": {},
   "outputs": [
    {
     "data": {
      "text/plain": [
       "1.2876539045370214"
      ]
     },
     "execution_count": 101,
     "metadata": {},
     "output_type": "execute_result"
    }
   ],
   "source": [
    "cb_hits = evaluate_hits(data_model.test.testset, 'isbn_cold', 'isbn', cbcs.recommendations)\n",
    "cb_hr = cb_hits.getnnz(axis=1).mean()\n",
    "cb_hr"
   ]
  },
  {
   "cell_type": "code",
   "execution_count": 226,
   "metadata": {},
   "outputs": [
    {
     "data": {
      "text/html": [
       "<table style=\"border: none\">\n",
       "    <tr style=\"border: none\"><td style=\"border: none\"> <div>\n",
       "<table border=\"1\" class=\"dataframe\">\n",
       "  <thead>\n",
       "    <tr style=\"text-align: right;\">\n",
       "      <th></th>\n",
       "      <th>userid</th>\n",
       "      <th>isbn</th>\n",
       "      <th>rating</th>\n",
       "    </tr>\n",
       "  </thead>\n",
       "  <tbody>\n",
       "    <tr>\n",
       "      <th>10</th>\n",
       "      <td>1</td>\n",
       "      <td>24966</td>\n",
       "      <td>1</td>\n",
       "    </tr>\n",
       "    <tr>\n",
       "      <th>11</th>\n",
       "      <td>1</td>\n",
       "      <td>30142</td>\n",
       "      <td>1</td>\n",
       "    </tr>\n",
       "    <tr>\n",
       "      <th>13</th>\n",
       "      <td>1</td>\n",
       "      <td>38333</td>\n",
       "      <td>1</td>\n",
       "    </tr>\n",
       "    <tr>\n",
       "      <th>14</th>\n",
       "      <td>1</td>\n",
       "      <td>51585</td>\n",
       "      <td>1</td>\n",
       "    </tr>\n",
       "    <tr>\n",
       "      <th>15</th>\n",
       "      <td>1</td>\n",
       "      <td>51595</td>\n",
       "      <td>1</td>\n",
       "    </tr>\n",
       "    <tr>\n",
       "      <th>17</th>\n",
       "      <td>2</td>\n",
       "      <td>31867</td>\n",
       "      <td>1</td>\n",
       "    </tr>\n",
       "    <tr>\n",
       "      <th>22</th>\n",
       "      <td>2</td>\n",
       "      <td>62125</td>\n",
       "      <td>1</td>\n",
       "    </tr>\n",
       "    <tr>\n",
       "      <th>63</th>\n",
       "      <td>7</td>\n",
       "      <td>4256</td>\n",
       "      <td>1</td>\n",
       "    </tr>\n",
       "    <tr>\n",
       "      <th>104</th>\n",
       "      <td>11</td>\n",
       "      <td>42074</td>\n",
       "      <td>1</td>\n",
       "    </tr>\n",
       "    <tr>\n",
       "      <th>102</th>\n",
       "      <td>11</td>\n",
       "      <td>2892</td>\n",
       "      <td>1</td>\n",
       "    </tr>\n",
       "    <tr>\n",
       "      <th>100</th>\n",
       "      <td>11</td>\n",
       "      <td>2844</td>\n",
       "      <td>1</td>\n",
       "    </tr>\n",
       "    <tr>\n",
       "      <th>101</th>\n",
       "      <td>11</td>\n",
       "      <td>2845</td>\n",
       "      <td>1</td>\n",
       "    </tr>\n",
       "    <tr>\n",
       "      <th>107</th>\n",
       "      <td>13</td>\n",
       "      <td>3529</td>\n",
       "      <td>1</td>\n",
       "    </tr>\n",
       "    <tr>\n",
       "      <th>110</th>\n",
       "      <td>14</td>\n",
       "      <td>70825</td>\n",
       "      <td>1</td>\n",
       "    </tr>\n",
       "    <tr>\n",
       "      <th>160</th>\n",
       "      <td>18</td>\n",
       "      <td>65888</td>\n",
       "      <td>1</td>\n",
       "    </tr>\n",
       "    <tr>\n",
       "      <th>162</th>\n",
       "      <td>18</td>\n",
       "      <td>66116</td>\n",
       "      <td>1</td>\n",
       "    </tr>\n",
       "    <tr>\n",
       "      <th>157</th>\n",
       "      <td>18</td>\n",
       "      <td>65598</td>\n",
       "      <td>1</td>\n",
       "    </tr>\n",
       "    <tr>\n",
       "      <th>159</th>\n",
       "      <td>18</td>\n",
       "      <td>65818</td>\n",
       "      <td>1</td>\n",
       "    </tr>\n",
       "    <tr>\n",
       "      <th>153</th>\n",
       "      <td>18</td>\n",
       "      <td>65051</td>\n",
       "      <td>1</td>\n",
       "    </tr>\n",
       "    <tr>\n",
       "      <th>152</th>\n",
       "      <td>18</td>\n",
       "      <td>65034</td>\n",
       "      <td>1</td>\n",
       "    </tr>\n",
       "    <tr>\n",
       "      <th>151</th>\n",
       "      <td>18</td>\n",
       "      <td>65029</td>\n",
       "      <td>1</td>\n",
       "    </tr>\n",
       "    <tr>\n",
       "      <th>154</th>\n",
       "      <td>18</td>\n",
       "      <td>65213</td>\n",
       "      <td>1</td>\n",
       "    </tr>\n",
       "    <tr>\n",
       "      <th>173</th>\n",
       "      <td>23</td>\n",
       "      <td>28927</td>\n",
       "      <td>1</td>\n",
       "    </tr>\n",
       "    <tr>\n",
       "      <th>175</th>\n",
       "      <td>23</td>\n",
       "      <td>66450</td>\n",
       "      <td>1</td>\n",
       "    </tr>\n",
       "    <tr>\n",
       "      <th>191</th>\n",
       "      <td>23</td>\n",
       "      <td>67222</td>\n",
       "      <td>1</td>\n",
       "    </tr>\n",
       "    <tr>\n",
       "      <th>201</th>\n",
       "      <td>23</td>\n",
       "      <td>67978</td>\n",
       "      <td>1</td>\n",
       "    </tr>\n",
       "    <tr>\n",
       "      <th>204</th>\n",
       "      <td>23</td>\n",
       "      <td>68153</td>\n",
       "      <td>1</td>\n",
       "    </tr>\n",
       "    <tr>\n",
       "      <th>219</th>\n",
       "      <td>23</td>\n",
       "      <td>68723</td>\n",
       "      <td>1</td>\n",
       "    </tr>\n",
       "    <tr>\n",
       "      <th>235</th>\n",
       "      <td>24</td>\n",
       "      <td>68509</td>\n",
       "      <td>1</td>\n",
       "    </tr>\n",
       "    <tr>\n",
       "      <th>234</th>\n",
       "      <td>24</td>\n",
       "      <td>68164</td>\n",
       "      <td>1</td>\n",
       "    </tr>\n",
       "    <tr>\n",
       "      <th>...</th>\n",
       "      <td>...</td>\n",
       "      <td>...</td>\n",
       "      <td>...</td>\n",
       "    </tr>\n",
       "    <tr>\n",
       "      <th>1149666</th>\n",
       "      <td>45312</td>\n",
       "      <td>5405</td>\n",
       "      <td>1</td>\n",
       "    </tr>\n",
       "    <tr>\n",
       "      <th>1149667</th>\n",
       "      <td>45312</td>\n",
       "      <td>5521</td>\n",
       "      <td>1</td>\n",
       "    </tr>\n",
       "    <tr>\n",
       "      <th>1149668</th>\n",
       "      <td>45312</td>\n",
       "      <td>5726</td>\n",
       "      <td>1</td>\n",
       "    </tr>\n",
       "    <tr>\n",
       "      <th>1149696</th>\n",
       "      <td>45312</td>\n",
       "      <td>29477</td>\n",
       "      <td>1</td>\n",
       "    </tr>\n",
       "    <tr>\n",
       "      <th>1149673</th>\n",
       "      <td>45312</td>\n",
       "      <td>12688</td>\n",
       "      <td>1</td>\n",
       "    </tr>\n",
       "    <tr>\n",
       "      <th>1149676</th>\n",
       "      <td>45312</td>\n",
       "      <td>16531</td>\n",
       "      <td>1</td>\n",
       "    </tr>\n",
       "    <tr>\n",
       "      <th>1149672</th>\n",
       "      <td>45312</td>\n",
       "      <td>10034</td>\n",
       "      <td>1</td>\n",
       "    </tr>\n",
       "    <tr>\n",
       "      <th>1149681</th>\n",
       "      <td>45312</td>\n",
       "      <td>20978</td>\n",
       "      <td>1</td>\n",
       "    </tr>\n",
       "    <tr>\n",
       "      <th>1149694</th>\n",
       "      <td>45312</td>\n",
       "      <td>29156</td>\n",
       "      <td>1</td>\n",
       "    </tr>\n",
       "    <tr>\n",
       "      <th>1149677</th>\n",
       "      <td>45312</td>\n",
       "      <td>19234</td>\n",
       "      <td>1</td>\n",
       "    </tr>\n",
       "    <tr>\n",
       "      <th>1149692</th>\n",
       "      <td>45312</td>\n",
       "      <td>27380</td>\n",
       "      <td>1</td>\n",
       "    </tr>\n",
       "    <tr>\n",
       "      <th>1149691</th>\n",
       "      <td>45312</td>\n",
       "      <td>27194</td>\n",
       "      <td>1</td>\n",
       "    </tr>\n",
       "    <tr>\n",
       "      <th>1149693</th>\n",
       "      <td>45312</td>\n",
       "      <td>28942</td>\n",
       "      <td>1</td>\n",
       "    </tr>\n",
       "    <tr>\n",
       "      <th>1149687</th>\n",
       "      <td>45312</td>\n",
       "      <td>24183</td>\n",
       "      <td>1</td>\n",
       "    </tr>\n",
       "    <tr>\n",
       "      <th>1149686</th>\n",
       "      <td>45312</td>\n",
       "      <td>24137</td>\n",
       "      <td>1</td>\n",
       "    </tr>\n",
       "    <tr>\n",
       "      <th>1149683</th>\n",
       "      <td>45312</td>\n",
       "      <td>22287</td>\n",
       "      <td>1</td>\n",
       "    </tr>\n",
       "    <tr>\n",
       "      <th>1149682</th>\n",
       "      <td>45312</td>\n",
       "      <td>20993</td>\n",
       "      <td>1</td>\n",
       "    </tr>\n",
       "    <tr>\n",
       "      <th>1149688</th>\n",
       "      <td>45312</td>\n",
       "      <td>25141</td>\n",
       "      <td>1</td>\n",
       "    </tr>\n",
       "    <tr>\n",
       "      <th>1149751</th>\n",
       "      <td>45313</td>\n",
       "      <td>27712</td>\n",
       "      <td>1</td>\n",
       "    </tr>\n",
       "    <tr>\n",
       "      <th>1149755</th>\n",
       "      <td>45313</td>\n",
       "      <td>40430</td>\n",
       "      <td>1</td>\n",
       "    </tr>\n",
       "    <tr>\n",
       "      <th>1149756</th>\n",
       "      <td>45313</td>\n",
       "      <td>40706</td>\n",
       "      <td>1</td>\n",
       "    </tr>\n",
       "    <tr>\n",
       "      <th>1149767</th>\n",
       "      <td>45315</td>\n",
       "      <td>28808</td>\n",
       "      <td>1</td>\n",
       "    </tr>\n",
       "    <tr>\n",
       "      <th>1149769</th>\n",
       "      <td>45315</td>\n",
       "      <td>39723</td>\n",
       "      <td>1</td>\n",
       "    </tr>\n",
       "    <tr>\n",
       "      <th>1149766</th>\n",
       "      <td>45315</td>\n",
       "      <td>28147</td>\n",
       "      <td>1</td>\n",
       "    </tr>\n",
       "    <tr>\n",
       "      <th>1149772</th>\n",
       "      <td>45315</td>\n",
       "      <td>52703</td>\n",
       "      <td>1</td>\n",
       "    </tr>\n",
       "    <tr>\n",
       "      <th>1149763</th>\n",
       "      <td>45315</td>\n",
       "      <td>23770</td>\n",
       "      <td>1</td>\n",
       "    </tr>\n",
       "    <tr>\n",
       "      <th>1149760</th>\n",
       "      <td>45315</td>\n",
       "      <td>9544</td>\n",
       "      <td>1</td>\n",
       "    </tr>\n",
       "    <tr>\n",
       "      <th>1149759</th>\n",
       "      <td>45315</td>\n",
       "      <td>7077</td>\n",
       "      <td>1</td>\n",
       "    </tr>\n",
       "    <tr>\n",
       "      <th>1149764</th>\n",
       "      <td>45315</td>\n",
       "      <td>24671</td>\n",
       "      <td>1</td>\n",
       "    </tr>\n",
       "    <tr>\n",
       "      <th>1149774</th>\n",
       "      <td>45315</td>\n",
       "      <td>57266</td>\n",
       "      <td>1</td>\n",
       "    </tr>\n",
       "  </tbody>\n",
       "</table>\n",
       "<p>359374 rows × 3 columns</p>\n",
       "</div> </td>\n",
       "<td style=\"border: none\"> <div>\n",
       "<table border=\"1\" class=\"dataframe\">\n",
       "  <thead>\n",
       "    <tr style=\"text-align: right;\">\n",
       "      <th></th>\n",
       "      <th>userid</th>\n",
       "      <th>isbn_cold</th>\n",
       "      <th>rating</th>\n",
       "    </tr>\n",
       "  </thead>\n",
       "  <tbody>\n",
       "    <tr>\n",
       "      <th>12</th>\n",
       "      <td>1</td>\n",
       "      <td>0</td>\n",
       "      <td>1</td>\n",
       "    </tr>\n",
       "    <tr>\n",
       "      <th>18</th>\n",
       "      <td>2</td>\n",
       "      <td>1</td>\n",
       "      <td>1</td>\n",
       "    </tr>\n",
       "    <tr>\n",
       "      <th>67</th>\n",
       "      <td>7</td>\n",
       "      <td>2</td>\n",
       "      <td>1</td>\n",
       "    </tr>\n",
       "    <tr>\n",
       "      <th>103</th>\n",
       "      <td>11</td>\n",
       "      <td>3</td>\n",
       "      <td>1</td>\n",
       "    </tr>\n",
       "    <tr>\n",
       "      <th>108</th>\n",
       "      <td>13</td>\n",
       "      <td>4</td>\n",
       "      <td>1</td>\n",
       "    </tr>\n",
       "    <tr>\n",
       "      <th>111</th>\n",
       "      <td>14</td>\n",
       "      <td>5</td>\n",
       "      <td>1</td>\n",
       "    </tr>\n",
       "    <tr>\n",
       "      <th>150</th>\n",
       "      <td>18</td>\n",
       "      <td>6</td>\n",
       "      <td>1</td>\n",
       "    </tr>\n",
       "    <tr>\n",
       "      <th>155</th>\n",
       "      <td>18</td>\n",
       "      <td>7</td>\n",
       "      <td>1</td>\n",
       "    </tr>\n",
       "    <tr>\n",
       "      <th>209</th>\n",
       "      <td>23</td>\n",
       "      <td>8</td>\n",
       "      <td>1</td>\n",
       "    </tr>\n",
       "    <tr>\n",
       "      <th>220</th>\n",
       "      <td>23</td>\n",
       "      <td>9</td>\n",
       "      <td>1</td>\n",
       "    </tr>\n",
       "    <tr>\n",
       "      <th>231</th>\n",
       "      <td>24</td>\n",
       "      <td>12</td>\n",
       "      <td>1</td>\n",
       "    </tr>\n",
       "    <tr>\n",
       "      <th>224</th>\n",
       "      <td>24</td>\n",
       "      <td>10</td>\n",
       "      <td>1</td>\n",
       "    </tr>\n",
       "    <tr>\n",
       "      <th>227</th>\n",
       "      <td>24</td>\n",
       "      <td>11</td>\n",
       "      <td>1</td>\n",
       "    </tr>\n",
       "    <tr>\n",
       "      <th>248</th>\n",
       "      <td>26</td>\n",
       "      <td>13</td>\n",
       "      <td>1</td>\n",
       "    </tr>\n",
       "    <tr>\n",
       "      <th>249</th>\n",
       "      <td>26</td>\n",
       "      <td>14</td>\n",
       "      <td>1</td>\n",
       "    </tr>\n",
       "    <tr>\n",
       "      <th>257</th>\n",
       "      <td>26</td>\n",
       "      <td>15</td>\n",
       "      <td>1</td>\n",
       "    </tr>\n",
       "    <tr>\n",
       "      <th>260</th>\n",
       "      <td>26</td>\n",
       "      <td>16</td>\n",
       "      <td>1</td>\n",
       "    </tr>\n",
       "    <tr>\n",
       "      <th>261</th>\n",
       "      <td>26</td>\n",
       "      <td>17</td>\n",
       "      <td>1</td>\n",
       "    </tr>\n",
       "    <tr>\n",
       "      <th>286</th>\n",
       "      <td>27</td>\n",
       "      <td>18</td>\n",
       "      <td>1</td>\n",
       "    </tr>\n",
       "    <tr>\n",
       "      <th>313</th>\n",
       "      <td>29</td>\n",
       "      <td>19</td>\n",
       "      <td>1</td>\n",
       "    </tr>\n",
       "    <tr>\n",
       "      <th>350</th>\n",
       "      <td>31</td>\n",
       "      <td>23</td>\n",
       "      <td>1</td>\n",
       "    </tr>\n",
       "    <tr>\n",
       "      <th>348</th>\n",
       "      <td>31</td>\n",
       "      <td>22</td>\n",
       "      <td>1</td>\n",
       "    </tr>\n",
       "    <tr>\n",
       "      <th>339</th>\n",
       "      <td>31</td>\n",
       "      <td>20</td>\n",
       "      <td>1</td>\n",
       "    </tr>\n",
       "    <tr>\n",
       "      <th>346</th>\n",
       "      <td>31</td>\n",
       "      <td>21</td>\n",
       "      <td>1</td>\n",
       "    </tr>\n",
       "    <tr>\n",
       "      <th>458</th>\n",
       "      <td>38</td>\n",
       "      <td>32</td>\n",
       "      <td>1</td>\n",
       "    </tr>\n",
       "    <tr>\n",
       "      <th>414</th>\n",
       "      <td>38</td>\n",
       "      <td>24</td>\n",
       "      <td>1</td>\n",
       "    </tr>\n",
       "    <tr>\n",
       "      <th>419</th>\n",
       "      <td>38</td>\n",
       "      <td>25</td>\n",
       "      <td>1</td>\n",
       "    </tr>\n",
       "    <tr>\n",
       "      <th>422</th>\n",
       "      <td>38</td>\n",
       "      <td>26</td>\n",
       "      <td>1</td>\n",
       "    </tr>\n",
       "    <tr>\n",
       "      <th>427</th>\n",
       "      <td>38</td>\n",
       "      <td>27</td>\n",
       "      <td>1</td>\n",
       "    </tr>\n",
       "    <tr>\n",
       "      <th>432</th>\n",
       "      <td>38</td>\n",
       "      <td>28</td>\n",
       "      <td>1</td>\n",
       "    </tr>\n",
       "    <tr>\n",
       "      <th>...</th>\n",
       "      <td>...</td>\n",
       "      <td>...</td>\n",
       "      <td>...</td>\n",
       "    </tr>\n",
       "    <tr>\n",
       "      <th>1149636</th>\n",
       "      <td>45309</td>\n",
       "      <td>11949</td>\n",
       "      <td>1</td>\n",
       "    </tr>\n",
       "    <tr>\n",
       "      <th>1149631</th>\n",
       "      <td>45309</td>\n",
       "      <td>16503</td>\n",
       "      <td>1</td>\n",
       "    </tr>\n",
       "    <tr>\n",
       "      <th>1149622</th>\n",
       "      <td>45309</td>\n",
       "      <td>11111</td>\n",
       "      <td>1</td>\n",
       "    </tr>\n",
       "    <tr>\n",
       "      <th>1149610</th>\n",
       "      <td>45309</td>\n",
       "      <td>15250</td>\n",
       "      <td>1</td>\n",
       "    </tr>\n",
       "    <tr>\n",
       "      <th>1149608</th>\n",
       "      <td>45309</td>\n",
       "      <td>17830</td>\n",
       "      <td>1</td>\n",
       "    </tr>\n",
       "    <tr>\n",
       "      <th>1149603</th>\n",
       "      <td>45309</td>\n",
       "      <td>7886</td>\n",
       "      <td>1</td>\n",
       "    </tr>\n",
       "    <tr>\n",
       "      <th>1149599</th>\n",
       "      <td>45309</td>\n",
       "      <td>2444</td>\n",
       "      <td>1</td>\n",
       "    </tr>\n",
       "    <tr>\n",
       "      <th>1149577</th>\n",
       "      <td>45309</td>\n",
       "      <td>1489</td>\n",
       "      <td>1</td>\n",
       "    </tr>\n",
       "    <tr>\n",
       "      <th>1149450</th>\n",
       "      <td>45309</td>\n",
       "      <td>14854</td>\n",
       "      <td>1</td>\n",
       "    </tr>\n",
       "    <tr>\n",
       "      <th>1149559</th>\n",
       "      <td>45309</td>\n",
       "      <td>5274</td>\n",
       "      <td>1</td>\n",
       "    </tr>\n",
       "    <tr>\n",
       "      <th>1149538</th>\n",
       "      <td>45309</td>\n",
       "      <td>17866</td>\n",
       "      <td>1</td>\n",
       "    </tr>\n",
       "    <tr>\n",
       "      <th>1149535</th>\n",
       "      <td>45309</td>\n",
       "      <td>446</td>\n",
       "      <td>1</td>\n",
       "    </tr>\n",
       "    <tr>\n",
       "      <th>1149518</th>\n",
       "      <td>45309</td>\n",
       "      <td>580</td>\n",
       "      <td>1</td>\n",
       "    </tr>\n",
       "    <tr>\n",
       "      <th>1149474</th>\n",
       "      <td>45309</td>\n",
       "      <td>1594</td>\n",
       "      <td>1</td>\n",
       "    </tr>\n",
       "    <tr>\n",
       "      <th>1149460</th>\n",
       "      <td>45309</td>\n",
       "      <td>1396</td>\n",
       "      <td>1</td>\n",
       "    </tr>\n",
       "    <tr>\n",
       "      <th>1149452</th>\n",
       "      <td>45309</td>\n",
       "      <td>6121</td>\n",
       "      <td>1</td>\n",
       "    </tr>\n",
       "    <tr>\n",
       "      <th>1149565</th>\n",
       "      <td>45309</td>\n",
       "      <td>12131</td>\n",
       "      <td>1</td>\n",
       "    </tr>\n",
       "    <tr>\n",
       "      <th>1149736</th>\n",
       "      <td>45312</td>\n",
       "      <td>8351</td>\n",
       "      <td>1</td>\n",
       "    </tr>\n",
       "    <tr>\n",
       "      <th>1149663</th>\n",
       "      <td>45312</td>\n",
       "      <td>6123</td>\n",
       "      <td>1</td>\n",
       "    </tr>\n",
       "    <tr>\n",
       "      <th>1149664</th>\n",
       "      <td>45312</td>\n",
       "      <td>4878</td>\n",
       "      <td>1</td>\n",
       "    </tr>\n",
       "    <tr>\n",
       "      <th>1149706</th>\n",
       "      <td>45312</td>\n",
       "      <td>1612</td>\n",
       "      <td>1</td>\n",
       "    </tr>\n",
       "    <tr>\n",
       "      <th>1149725</th>\n",
       "      <td>45312</td>\n",
       "      <td>3485</td>\n",
       "      <td>1</td>\n",
       "    </tr>\n",
       "    <tr>\n",
       "      <th>1149726</th>\n",
       "      <td>45312</td>\n",
       "      <td>140</td>\n",
       "      <td>1</td>\n",
       "    </tr>\n",
       "    <tr>\n",
       "      <th>1149727</th>\n",
       "      <td>45312</td>\n",
       "      <td>11731</td>\n",
       "      <td>1</td>\n",
       "    </tr>\n",
       "    <tr>\n",
       "      <th>1149750</th>\n",
       "      <td>45313</td>\n",
       "      <td>4402</td>\n",
       "      <td>1</td>\n",
       "    </tr>\n",
       "    <tr>\n",
       "      <th>1149752</th>\n",
       "      <td>45313</td>\n",
       "      <td>229</td>\n",
       "      <td>1</td>\n",
       "    </tr>\n",
       "    <tr>\n",
       "      <th>1149749</th>\n",
       "      <td>45313</td>\n",
       "      <td>840</td>\n",
       "      <td>1</td>\n",
       "    </tr>\n",
       "    <tr>\n",
       "      <th>1149753</th>\n",
       "      <td>45313</td>\n",
       "      <td>1724</td>\n",
       "      <td>1</td>\n",
       "    </tr>\n",
       "    <tr>\n",
       "      <th>1149765</th>\n",
       "      <td>45315</td>\n",
       "      <td>10090</td>\n",
       "      <td>1</td>\n",
       "    </tr>\n",
       "    <tr>\n",
       "      <th>1149768</th>\n",
       "      <td>45315</td>\n",
       "      <td>3723</td>\n",
       "      <td>1</td>\n",
       "    </tr>\n",
       "  </tbody>\n",
       "</table>\n",
       "<p>97920 rows × 3 columns</p>\n",
       "</div> </td>\n",
       "    </tr>\n",
       "    </table>"
      ],
      "text/plain": [
       "<IPython.core.display.HTML object>"
      ]
     },
     "execution_count": 226,
     "metadata": {},
     "output_type": "execute_result"
    }
   ],
   "source": [
    "print_frames((data_model.test.testset, data_model.test.evalset))"
   ]
  },
  {
   "cell_type": "code",
   "execution_count": 108,
   "metadata": {
    "collapsed": true
   },
   "outputs": [],
   "source": [
    "assert not data_model.test.testset.isbn_cold.isin(data_model.index.itemid.cold_start.loc[lambda x: x.no_meta, 'new']).max()"
   ]
  },
  {
   "cell_type": "code",
   "execution_count": null,
   "metadata": {
    "collapsed": true
   },
   "outputs": [],
   "source": []
  },
  {
   "cell_type": "code",
   "execution_count": 113,
   "metadata": {
    "code_folding": [
     0,
     2
    ],
    "collapsed": true
   },
   "outputs": [],
   "source": [
    "def convert_index_inner(data, entity, index):\n",
    "    pass\n",
    "def convert_index_outer(data, entity, index):\n",
    "    pass"
   ]
  },
  {
   "cell_type": "raw",
   "metadata": {
    "code_folding": []
   },
   "source": [
    "def user_based_similarity():\n",
    "    userid = data_model.fields.userid\n",
    "    itemid_seen = data_model.fields.itemid\n",
    "    itemid_cold = '{}_cold'.format(itemid_seen)\n",
    "    test_data = data_model.test.testset.sort_values(userid)\n",
    "    sim_idx = data_model._sim_idx[itemid_seen]\n",
    "    cold_item_index = data_model.index.itemid.cold_start\n",
    "    seen_item_index = data_model.index.itemid.training\n",
    "    \n",
    "    useridx = np.r_[0, np.cumsum(np.diff(test_data[userid].values)>0)]\n",
    "    itemidx_seen = test_data[itemid_seen].map(seen_item_index.set_index('new').old).map(sim_idx)\n",
    "    #itemidx_cold = test_data[itemid_cold].map(cold_item_index.set_index('new').old)\n",
    "    \n",
    "    similarity_matrix = data_model._sim_mat[itemid_seen][:, sim_idx.loc[seen_item_index.old].values]\n",
    "    \n",
    "    shape = (useridx.max()+1, similarity_matrix.shape[0])\n",
    "    indicator_matrix = coo_matrix((np.ones_like(useridx), (useridx, itemidx_seen.values)), shape=shape)\n",
    "    cold_similarity = indicator_matrix.dot(similarity_matrix)\n",
    "    return cold_similarity[cold_similarity.getnnz(axis=1)>0, :]"
   ]
  },
  {
   "cell_type": "raw",
   "metadata": {
    "collapsed": true
   },
   "source": [
    "data_model._cold_items_similarity = user_based_similarity()"
   ]
  },
  {
   "cell_type": "raw",
   "metadata": {},
   "source": [
    "data_model._cold_items_similarity"
   ]
  },
  {
   "cell_type": "raw",
   "metadata": {},
   "source": [
    "assert not (data_model.test.testset['isbn_cold']\n",
    "            .map(data_model.index.itemid.cold_start.set_index('new').old)\n",
    "            .isin(data_model.index.itemid.training.old).any())\n",
    "assert (data_model.test.testset['isbn']\n",
    "        .isin(data_model.index.itemid.training.new).all())\n",
    "\n",
    "assert (data_model.test.testset['isbn_cold']\n",
    "            .map(data_model.index.itemid.cold_start.set_index('new').old)\n",
    "            .isin(data_model.test.evalset['isbn_cold'].unique()).all())\n",
    "assert (data_model.test.evalset['isbn_cold']\n",
    "            .map(data_model.index.itemid.cold_start.set_index('old').new)\n",
    "            .isin(data_model.test.testset['isbn_cold'].unique()).all())"
   ]
  },
  {
   "cell_type": "code",
   "execution_count": 145,
   "metadata": {
    "collapsed": true
   },
   "outputs": [],
   "source": [
    "assert data_model.test.testset.isbn_cold.nunique() == data_model.test.evalset.isbn_cold.nunique()\n",
    "assert not (np.diff(data_model.test.testset.isbn_cold.values)<0).any()"
   ]
  },
  {
   "cell_type": "raw",
   "metadata": {},
   "source": [
    "valid_items = data_model.index.itemid.cold_start.loc[lambda x: ~x['no_meta'], 'new']\n",
    "data_model.test.testset.query('isbn_cold in @valid_items', inplace=True)"
   ]
  },
  {
   "cell_type": "code",
   "execution_count": 72,
   "metadata": {
    "collapsed": true
   },
   "outputs": [],
   "source": [
    "hsvd = HybridSVDColdStart(data_model)"
   ]
  },
  {
   "cell_type": "code",
   "execution_count": 83,
   "metadata": {},
   "outputs": [
    {
     "name": "stdout",
     "output_type": "stream",
     "text": [
      "HybridSVD training time: 252.962176085s\n"
     ]
    }
   ],
   "source": [
    "hsvd.rank = 1000\n",
    "hsvd.build()"
   ]
  },
  {
   "cell_type": "code",
   "execution_count": 74,
   "metadata": {
    "collapsed": true
   },
   "outputs": [],
   "source": [
    "hsvd_hits = evaluate_hits(data_model.test.evalset.loc[lambda x: x['has_meta']], 'userid', 'isbn_cold', hsvd.recommendations)"
   ]
  },
  {
   "cell_type": "code",
   "execution_count": 75,
   "metadata": {},
   "outputs": [
    {
     "data": {
      "text/plain": [
       "0.0010970927043335162"
      ]
     },
     "execution_count": 75,
     "metadata": {},
     "output_type": "execute_result"
    }
   ],
   "source": [
    "hsvd_hits.getnnz(axis=1).mean()"
   ]
  },
  {
   "cell_type": "code",
   "execution_count": null,
   "metadata": {
    "collapsed": true
   },
   "outputs": [],
   "source": []
  },
  {
   "cell_type": "raw",
   "metadata": {},
   "source": [
    "hsvd_hits = evaluate_hits(data_model.test.testset, 'isbn_cold', 'isbn', hsvd.recommendations)"
   ]
  },
  {
   "cell_type": "raw",
   "metadata": {},
   "source": [
    "hsvd_hits.getnnz(axis=1).mean()"
   ]
  },
  {
   "cell_type": "code",
   "execution_count": null,
   "metadata": {
    "collapsed": true
   },
   "outputs": [],
   "source": []
  },
  {
   "cell_type": "code",
   "execution_count": 76,
   "metadata": {
    "collapsed": true
   },
   "outputs": [],
   "source": [
    "mpop = TopItemsColdStart(data_model)\n",
    "mpop.build()"
   ]
  },
  {
   "cell_type": "code",
   "execution_count": 77,
   "metadata": {},
   "outputs": [
    {
     "data": {
      "text/plain": [
       "0.0011754564689287674"
      ]
     },
     "execution_count": 77,
     "metadata": {},
     "output_type": "execute_result"
    }
   ],
   "source": [
    "mpop_hits = evaluate_hits(data_model.test.evalset.loc[lambda x: x['has_meta']], 'userid', 'isbn_cold', mpop.recommendations)\n",
    "mplr_hr = mpop_hits.getnnz(axis=1).mean()\n",
    "mplr_hr"
   ]
  },
  {
   "cell_type": "code",
   "execution_count": null,
   "metadata": {
    "collapsed": true
   },
   "outputs": [],
   "source": []
  },
  {
   "cell_type": "code",
   "execution_count": 45,
   "metadata": {},
   "outputs": [
    {
     "data": {
      "text/plain": [
       "4.6830831506156185"
      ]
     },
     "execution_count": 45,
     "metadata": {},
     "output_type": "execute_result"
    }
   ],
   "source": [
    "mpop_hits = evaluate_hits(data_model.test.testset, 'isbn_cold', 'isbn', mpop.recommendations)\n",
    "mplr_hr = mpop_hits.getnnz(axis=1).mean()\n",
    "mplr_hr"
   ]
  },
  {
   "cell_type": "code",
   "execution_count": null,
   "metadata": {
    "collapsed": true
   },
   "outputs": [],
   "source": []
  },
  {
   "cell_type": "raw",
   "metadata": {},
   "source": [
    "rndm = RandomColdStart(data_model)\n",
    "rndm.build()"
   ]
  },
  {
   "cell_type": "raw",
   "metadata": {},
   "source": [
    "rndm_hits = evaluate_hits(data_model.test.testset, 'isbn_cold', 'isbn', rndm.recommendations)\n",
    "rand_hr = rndm_hits.getnnz(axis=1).mean()\n",
    "rand_hr"
   ]
  },
  {
   "cell_type": "code",
   "execution_count": null,
   "metadata": {
    "collapsed": true
   },
   "outputs": [],
   "source": []
  },
  {
   "cell_type": "code",
   "execution_count": 84,
   "metadata": {},
   "outputs": [
    {
     "name": "stdout",
     "output_type": "stream",
     "text": [
      "\n"
     ]
    }
   ],
   "source": [
    "svd_rank_results = defaultdict(list)\n",
    "#psvd_f = psvd._items_factors.copy()\n",
    "hsvd_p = tuple([f.copy() for f in hsvd._projector])\n",
    "max_rank = hsvd_p[0].shape[1]\n",
    "ranks = np.array([1, 2, 3, 4, 5, 6, 8, 10, 12, 14, 17, 20, 25, 50, 75, 100, 150, 200, 300, 500, 750, 1000, 1250, 1500, 2000, 2500, 3000, 3200])\n",
    "for r in tqdm_notebook(ranks[ranks<=max_rank], desc='rank'):\n",
    "    try:\n",
    "        #psvd._items_factors = psvd._items_factors[:, :r]\n",
    "        hsvd._projector = tuple([f[:, :r] for f in hsvd._projector])\n",
    "\n",
    "        #psvd._recommendations = None\n",
    "        hsvd._recommendations = None\n",
    "        \n",
    "        #svd_rank_results[psvd.method].append(evaluate_hits(data_model.test.testset, 'isbn_cold', 'isbn', psvd.recommendations).getnnz(axis=1).mean())\n",
    "        svd_rank_results[hsvd.method].append(evaluate_hits(data_model.test.evalset.loc[lambda x: x['has_meta']], 'userid', 'isbn_cold', hsvd.recommendations).getnnz(axis=1).mean())\n",
    "        #svd_rank_results[hsvd.method].append(evaluate_hits(data_model.test.testset, 'isbn_cold', 'isbn', hsvd.recommendations).getnnz(axis=1).mean())\n",
    "    finally:\n",
    "        #psvd._items_factors = psvd_f\n",
    "        hsvd._projector = hsvd_p"
   ]
  },
  {
   "cell_type": "code",
   "execution_count": null,
   "metadata": {
    "collapsed": true
   },
   "outputs": [],
   "source": []
  },
  {
   "cell_type": "code",
   "execution_count": 87,
   "metadata": {},
   "outputs": [
    {
     "data": {
      "text/plain": [
       "<matplotlib.legend.Legend at 0x7f0be1cc0890>"
      ]
     },
     "execution_count": 87,
     "metadata": {},
     "output_type": "execute_result"
    },
    {
     "data": {
      "image/png": "[encoded data removed]",
      "text/plain": [
       "<matplotlib.figure.Figure at 0x7f0be1ee2b50>"
      ]
     },
     "metadata": {},
     "output_type": "display_data"
    }
   ],
   "source": [
    "ax = pd.DataFrame(svd_rank_results, index=ranks[ranks<=max_rank]).plot(logx=True)\n",
    "ax.hlines(mplr_hr, 0, 3200, linestyles='--', label=mpop.method)\n",
    "ax.hlines(cb_hr, 0, 3200, linestyles='-', label=cbcs.method)\n",
    "#ax.hlines(rand_hr, 0, 3200, linestyles=':', label=rndm.method)\n",
    "ax.set_xlim(0, 3200)\n",
    "ax.set_ylim(0, None)\n",
    "ax.legend()"
   ]
  },
  {
   "cell_type": "raw",
   "metadata": {},
   "source": [
    "fold_results = defaultdict(list)"
   ]
  },
  {
   "cell_type": "raw",
   "metadata": {},
   "source": [
    "fold_results[data_model.test_fold].append((mplr_hr, svd_rank_results))"
   ]
  },
  {
   "cell_type": "code",
   "execution_count": null,
   "metadata": {
    "collapsed": true
   },
   "outputs": [],
   "source": []
  },
  {
   "cell_type": "raw",
   "metadata": {},
   "source": [
    "fold_res = {}"
   ]
  },
  {
   "cell_type": "code",
   "execution_count": 289,
   "metadata": {
    "collapsed": true
   },
   "outputs": [],
   "source": [
    "fold_res[data_model.test_fold] = (fold_results[data_model.test_fold][0][0], svd_rank_results)"
   ]
  },
  {
   "cell_type": "code",
   "execution_count": 290,
   "metadata": {
    "collapsed": true
   },
   "outputs": [],
   "source": [
    "mean_mplr_res = np.mean([v[0] for k, v in fold_res.iteritems()])\n",
    "mean_hsvd_res = np.mean(np.array([v[1][hsvd.method]\n",
    "                                  for k, v in fold_res.iteritems()]), axis=0)"
   ]
  },
  {
   "cell_type": "code",
   "execution_count": 293,
   "metadata": {},
   "outputs": [
    {
     "data": {
      "text/plain": [
       "<matplotlib.legend.Legend at 0x7ff8d483b490>"
      ]
     },
     "execution_count": 293,
     "metadata": {},
     "output_type": "execute_result"
    },
    {
     "data": {
      "image/png": "[encoded data removed]",
      "text/plain": [
       "<matplotlib.figure.Figure at 0x7ff8c48f9e50>"
      ]
     },
     "metadata": {},
     "output_type": "display_data"
    }
   ],
   "source": [
    "ax = pd.DataFrame(mean_hsvd_res, index=ranks).plot(logx=True)\n",
    "ax.hlines(mean_mplr_res, 0, 3200, linestyles='--', label=mpop.method)\n",
    "#ax.hlines(rand_hr, 0, 3200, linestyles=':', label=rndm.method)\n",
    "ax.set_xlim(0, 3200)\n",
    "ax.set_ylim(0, None)\n",
    "ax.legend()"
   ]
  },
  {
   "cell_type": "code",
   "execution_count": null,
   "metadata": {
    "collapsed": true
   },
   "outputs": [],
   "source": []
  },
  {
   "cell_type": "code",
   "execution_count": null,
   "metadata": {
    "collapsed": true
   },
   "outputs": [],
   "source": []
  },
  {
   "cell_type": "code",
   "execution_count": 200,
   "metadata": {
    "collapsed": true
   },
   "outputs": [],
   "source": [
    "mean_mplr_results = np.mean([v[0][0] for k, v in fold_results.iteritems()])\n",
    "mean_hsvd_results = np.mean(np.array([v[0][1][hsvd.method]\n",
    "                                      for k, v in fold_results.iteritems()]), axis=0)"
   ]
  },
  {
   "cell_type": "code",
   "execution_count": 204,
   "metadata": {},
   "outputs": [
    {
     "data": {
      "text/plain": [
       "<matplotlib.legend.Legend at 0x7ff8ec36c9d0>"
      ]
     },
     "execution_count": 204,
     "metadata": {},
     "output_type": "execute_result"
    },
    {
     "data": {
      "image/png": "[encoded data removed]",
      "text/plain": [
       "<matplotlib.figure.Figure at 0x7ff8ec36c850>"
      ]
     },
     "metadata": {},
     "output_type": "display_data"
    }
   ],
   "source": [
    "ax = pd.DataFrame(mean_hsvd_results, index=ranks[ranks<=max_rank]).plot(logx=True)\n",
    "ax.hlines(mean_mplr_results, 0, 3200, linestyles='--', label=mpop.method)\n",
    "#ax.hlines(rand_hr, 0, 3200, linestyles=':', label=rndm.method)\n",
    "ax.set_xlim(0, 3200)\n",
    "ax.set_ylim(0, 0.06)\n",
    "ax.legend()"
   ]
  },
  {
   "cell_type": "code",
   "execution_count": 223,
   "metadata": {},
   "outputs": [
    {
     "data": {
      "text/plain": [
       "<matplotlib.legend.Legend at 0x7ff90bec19d0>"
      ]
     },
     "execution_count": 223,
     "metadata": {},
     "output_type": "execute_result"
    },
    {
     "data": {
      "image/png": "[encoded data removed]",
      "text/plain": [
       "<matplotlib.figure.Figure at 0x7ff90c036d50>"
      ]
     },
     "metadata": {},
     "output_type": "display_data"
    }
   ],
   "source": [
    "fold_data = fold_results[3][0]\n",
    "ax = pd.DataFrame(fold_data[1], index=ranks[ranks<=100]).plot(logx=True)\n",
    "ax.hlines(fold_data[0], 0, 3200, linestyles='--', label=mpop.method)\n",
    "#ax.hlines(rand_hr, 0, 3200, linestyles=':', label=rndm.method)\n",
    "ax.set_xlim(0, 3200)\n",
    "ax.legend()"
   ]
  },
  {
   "cell_type": "code",
   "execution_count": 203,
   "metadata": {},
   "outputs": [
    {
     "data": {
      "text/plain": [
       "0.013765957073823566"
      ]
     },
     "execution_count": 203,
     "metadata": {},
     "output_type": "execute_result"
    }
   ],
   "source": [
    "np.std([v[0][0] for k, v in fold_results.iteritems()])"
   ]
  },
  {
   "cell_type": "code",
   "execution_count": null,
   "metadata": {
    "collapsed": true
   },
   "outputs": [],
   "source": []
  },
  {
   "cell_type": "code",
   "execution_count": null,
   "metadata": {
    "collapsed": true
   },
   "outputs": [],
   "source": []
  },
  {
   "cell_type": "code",
   "execution_count": 433,
   "metadata": {},
   "outputs": [
    {
     "data": {
      "text/plain": [
       "<matplotlib.legend.Legend at 0x7fa45d65c210>"
      ]
     },
     "execution_count": 433,
     "metadata": {},
     "output_type": "execute_result"
    },
    {
     "data": {
      "image/png": "[encoded data removed]",
      "text/plain": [
       "<matplotlib.figure.Figure at 0x7fa45d25b8d0>"
      ]
     },
     "metadata": {},
     "output_type": "display_data"
    }
   ],
   "source": [
    "ax = pd.DataFrame(svd_rank_results, index=ranks).plot(logx=True)\n",
    "ax.hlines(mplr_hr, min(ranks), max(ranks), linestyles='--', label=mpop.method)\n",
    "ax.hlines(rand_hr, min(ranks), max(ranks), linestyles=':', label=rndm.method)\n",
    "ax.legend()"
   ]
  },
  {
   "cell_type": "code",
   "execution_count": 82,
   "metadata": {},
   "outputs": [
    {
     "data": {
      "text/plain": [
       "6      0.001411\n",
       "12     0.001097\n",
       "10     0.001097\n",
       "8      0.000940\n",
       "14     0.000862\n",
       "2      0.000862\n",
       "100    0.000784\n",
       "75     0.000784\n",
       "25     0.000705\n",
       "17     0.000705\n",
       "5      0.000705\n",
       "3      0.000705\n",
       "50     0.000549\n",
       "20     0.000549\n",
       "4      0.000470\n",
       "1      0.000313\n",
       "dtype: float64"
      ]
     },
     "execution_count": 82,
     "metadata": {},
     "output_type": "execute_result"
    }
   ],
   "source": [
    "pd.Series(data=svd_rank_results[hsvd.method], index=ranks[ranks<=max_rank]).sort_values(ascending=False)"
   ]
  }
 ],
 "metadata": {
  "kernelspec": {
   "display_name": "Python 2",
   "language": "python",
   "name": "python2"
  },
  "language_info": {
   "codemirror_mode": {
    "name": "ipython",
    "version": 2
   },
   "file_extension": ".py",
   "mimetype": "text/x-python",
   "name": "python",
   "nbconvert_exporter": "python",
   "pygments_lexer": "ipython2",
   "version": "2.7.12"
  },
  "toc": {
   "colors": {
    "hover_highlight": "#DAA520",
    "navigate_num": "#000000",
    "navigate_text": "#333333",
    "running_highlight": "#FF0000",
    "selected_highlight": "#FFD700",
    "sidebar_border": "#EEEEEE",
    "wrapper_background": "#FFFFFF"
   },
   "moveMenuLeft": true,
   "nav_menu": {
    "height": "12px",
    "width": "252px"
   },
   "navigate_menu": true,
   "number_sections": true,
   "sideBar": true,
   "threshold": 4,
   "toc_cell": false,
   "toc_section_display": "block",
   "toc_window_display": false,
   "widenNotebook": false
  }
 },
 "nbformat": 4,
 "nbformat_minor": 1
}
